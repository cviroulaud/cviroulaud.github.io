{
 "cells": [
  {
   "cell_type": "markdown",
   "metadata": {
    "slideshow": {
     "slide_type": "slide"
    }
   },
   "source": [
    "# Fonction native *sorted*"
   ]
  },
  {
   "cell_type": "markdown",
   "metadata": {
    "slideshow": {
     "slide_type": "slide"
    }
   },
   "source": [
    "## 1. Problématique"
   ]
  },
  {
   "cell_type": "markdown",
   "metadata": {
    "slideshow": {
     "slide_type": "fragment"
    }
   },
   "source": [
    "Comparons les performances du tri par insertion à celles de la fonction native *sorted*."
   ]
  },
  {
   "cell_type": "code",
   "execution_count": 1,
   "metadata": {
    "slideshow": {
     "slide_type": "slide"
    }
   },
   "outputs": [],
   "source": [
    "from time import time\n",
    "\n",
    "def duree_tri(fonction, t: tuple)->tuple:\n",
    "    deb = time()\n",
    "    fonction(list(t))\n",
    "    fin = time()\n",
    "    return (fonction.__name__, fin-deb)\n",
    "\n",
    "def tri_insertion(tab):\n",
    "    taille = len(tab)\n",
    "    for i in range(1,taille):\n",
    "        en_cours = tab[i]\n",
    "        j = i-1\n",
    "        while j >= 0 and tab[j] > en_cours:\n",
    "            tab[j+1] = tab[j]\n",
    "            j -= 1\n",
    "        tab[j+1] = en_cours\n",
    "    return tab"
   ]
  },
  {
   "cell_type": "code",
   "execution_count": 2,
   "metadata": {
    "slideshow": {
     "slide_type": "fragment"
    }
   },
   "outputs": [
    {
     "name": "stdout",
     "output_type": "stream",
     "text": [
      "('tri_insertion', 4.343232870101929)\n"
     ]
    }
   ],
   "source": [
    "from random import randint\n",
    "\n",
    "l = tuple(randint(0,100) for _ in range(10000))\n",
    "print(duree_tri(tri_insertion, l))"
   ]
  },
  {
   "cell_type": "code",
   "execution_count": 3,
   "metadata": {
    "slideshow": {
     "slide_type": "fragment"
    }
   },
   "outputs": [
    {
     "name": "stdout",
     "output_type": "stream",
     "text": [
      "('sorted', 0.0029120445251464844)\n"
     ]
    }
   ],
   "source": [
    "print(duree_tri(sorted, l))"
   ]
  },
  {
   "cell_type": "markdown",
   "metadata": {
    "slideshow": {
     "slide_type": "slide"
    }
   },
   "source": [
    "### Quel algorithme de tri est implémenté dans la fonction *sorted*?"
   ]
  },
  {
   "cell_type": "markdown",
   "metadata": {
    "slideshow": {
     "slide_type": "slide"
    }
   },
   "source": [
    "## 2. Nouvelle approche"
   ]
  },
  {
   "cell_type": "markdown",
   "metadata": {
    "slideshow": {
     "slide_type": "slide"
    }
   },
   "source": [
    "<table>\n",
    "    <tr>\n",
    "        <td>8</td><td>5</td><td>4</td><td>7</td><td>9</td><td>6</td><td>3</td>\n",
    "    </tr>\n",
    "</table>\n",
    "    "
   ]
  },
  {
   "cell_type": "markdown",
   "metadata": {
    "slideshow": {
     "slide_type": "fragment"
    }
   },
   "source": [
    "<table>\n",
    "    <tr>\n",
    "        <td>8</td><td>5</td><td>4</td><td>7</td><td class=\"vide\"> </td><td>9</td><td>6</td><td>3</td>\n",
    "    </tr>\n",
    "</table>\n",
    "    "
   ]
  },
  {
   "cell_type": "markdown",
   "metadata": {
    "slideshow": {
     "slide_type": "fragment"
    }
   },
   "source": [
    "<table>\n",
    "    <tr>\n",
    "        <td>8</td><td>5</td><td class=\"vide\"> </td><td>4</td><td>7</td><td class=\"vide\"> </td><td>9</td><td>6</td><td class=\"vide\"> </td><td>3</td>\n",
    "    </tr>\n",
    "</table>\n",
    "    "
   ]
  },
  {
   "cell_type": "markdown",
   "metadata": {
    "slideshow": {
     "slide_type": "fragment"
    }
   },
   "source": [
    "<table>\n",
    "    <tr>\n",
    "        <td>8</td><td class=\"vide\"> </td><td>5</td><td class=\"vide\"> </td><td>4</td><td class=\"vide\"> </td><td>7</td><td class=\"vide\"> </td><td>9</td><td class=\"vide\"> </td><td>6</td><td class=\"vide\"> </td><td>3</td>\n",
    "    </tr>\n",
    "</table>\n",
    "    "
   ]
  },
  {
   "cell_type": "markdown",
   "metadata": {
    "slideshow": {
     "slide_type": "slide"
    }
   },
   "source": [
    "<table>\n",
    "    <tr>\n",
    "        <td>8</td><td class=\"vide\"> </td><td>5</td><td class=\"vide\"> </td><td>4</td><td class=\"vide\"> </td><td>7</td><td class=\"vide\"> </td><td>9</td><td class=\"vide\"> </td><td>6</td><td class=\"vide\"> </td><td>3</td>\n",
    "    </tr>\n",
    "</table>\n",
    "    "
   ]
  },
  {
   "cell_type": "markdown",
   "metadata": {
    "slideshow": {
     "slide_type": "fragment"
    }
   },
   "source": [
    "<table>\n",
    "    <tr>\n",
    "        <td>5</td><td>8</td><td class=\"vide\"> </td><td>4</td><td>7</td><td class=\"vide\"> </td><td>6</td><td>9</td><td class=\"vide\"> </td><td>3</td>\n",
    "    </tr>\n",
    "</table>\n",
    "    "
   ]
  },
  {
   "cell_type": "markdown",
   "metadata": {
    "slideshow": {
     "slide_type": "fragment"
    }
   },
   "source": [
    "<table>\n",
    "    <tr>\n",
    "        <td>4</td><td>5</td><td>7</td><td>8</td><td class=\"vide\"> </td><td>3</td><td>6</td><td>9</td>\n",
    "    </tr>\n",
    "</table>\n",
    "    "
   ]
  },
  {
   "cell_type": "markdown",
   "metadata": {
    "slideshow": {
     "slide_type": "fragment"
    }
   },
   "source": [
    "<table>\n",
    "    <tr>\n",
    "        <td>3</td><td>4</td><td>5</td><td>6</td><td>7</td><td>8</td><td>9</td>\n",
    "    </tr>\n",
    "</table>\n",
    "    "
   ]
  },
  {
   "cell_type": "code",
   "execution_count": null,
   "metadata": {},
   "outputs": [],
   "source": []
  }
 ],
 "metadata": {
  "celltoolbar": "Slideshow",
  "kernelspec": {
   "display_name": "Python 3",
   "language": "python",
   "name": "python3"
  },
  "language_info": {
   "codemirror_mode": {
    "name": "ipython",
    "version": 3
   },
   "file_extension": ".py",
   "mimetype": "text/x-python",
   "name": "python",
   "nbconvert_exporter": "python",
   "pygments_lexer": "ipython3",
   "version": "3.8.1"
  }
 },
 "nbformat": 4,
 "nbformat_minor": 4
}
