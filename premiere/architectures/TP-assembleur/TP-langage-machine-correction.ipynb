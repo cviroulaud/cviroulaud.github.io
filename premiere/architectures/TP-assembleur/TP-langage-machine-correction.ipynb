{
 "cells": [
  {
   "cell_type": "markdown",
   "metadata": {
    "slideshow": {
     "slide_type": "slide"
    }
   },
   "source": [
    "# Activité 3: Addition"
   ]
  },
  {
   "cell_type": "code",
   "execution_count": null,
   "metadata": {
    "slideshow": {
     "slide_type": "fragment"
    }
   },
   "outputs": [],
   "source": [
    "      LDR R0,16\n",
    "      ADD R1,R0,#49\n",
    "      STR R1,20\n",
    "      HALT"
   ]
  },
  {
   "cell_type": "markdown",
   "metadata": {
    "slideshow": {
     "slide_type": "slide"
    }
   },
   "source": [
    "# Activité 4: Programme mystère"
   ]
  },
  {
   "cell_type": "code",
   "execution_count": null,
   "metadata": {
    "slideshow": {
     "slide_type": "fragment"
    }
   },
   "outputs": [],
   "source": [
    "          LDR R0,.InputNum    // Copie d'une entrée clavier dans R0\n",
    "          MOV R1,#10          // Charge 10 dans R1\n",
    "          CMP R0,R1           // Compare RO et R1\n",
    "          BNE NOTEGAL         // S'il n'y a pas égalité, aller au label NOTEGAL\n",
    "          MOV R2,#GAGNE       // Copie du texte GAGNE dans R2\n",
    "          STR R2,.WriteString // Affiche R2 dans la sortie\n",
    "          B SUITE             // Aller au label SUITE\n",
    "    NOTEGAL:\n",
    "          MOV R2,#PERDU\n",
    "          STR R2,.WriteString\n",
    "    SUITE:\n",
    "          HALT\n",
    "    GAGNE:.ASCIZ \"Bien joué!\"\n",
    "    PERDU: .ASCIZ \"Perdu!\""
   ]
  },
  {
   "cell_type": "markdown",
   "metadata": {
    "slideshow": {
     "slide_type": "slide"
    }
   },
   "source": [
    "# Activité 5: Moyenne"
   ]
  },
  {
   "cell_type": "code",
   "execution_count": null,
   "metadata": {
    "slideshow": {
     "slide_type": "fragment"
    }
   },
   "outputs": [],
   "source": [
    "      MOV R0,#0\n",
    "loop:\n",
    "      LDR R1,.InputNum\n",
    "      ADD R2,R2,R1\n",
    "      ADD R0,R0,#1\n",
    "      CMP R0,#8\n",
    "      BNE loop\n",
    "      LSR R2,R2,#3\n",
    "      STR R2,.WriteUnsignedNum\n",
    "      HALT"
   ]
  }
 ],
 "metadata": {
  "celltoolbar": "Slideshow",
  "kernelspec": {
   "display_name": "Python 3",
   "language": "python",
   "name": "python3"
  },
  "language_info": {
   "codemirror_mode": {
    "name": "ipython",
    "version": 3
   },
   "file_extension": ".py",
   "mimetype": "text/x-python",
   "name": "python",
   "nbconvert_exporter": "python",
   "pygments_lexer": "ipython3",
   "version": "3.8.1"
  }
 },
 "nbformat": 4,
 "nbformat_minor": 4
}
