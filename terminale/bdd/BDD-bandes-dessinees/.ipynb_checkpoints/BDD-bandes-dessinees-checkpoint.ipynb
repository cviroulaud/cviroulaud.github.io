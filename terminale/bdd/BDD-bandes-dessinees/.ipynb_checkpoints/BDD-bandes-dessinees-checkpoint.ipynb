{
 "cells": [
  {
   "cell_type": "markdown",
   "metadata": {
    "slideshow": {
     "slide_type": "slide"
    }
   },
   "source": [
    "# Base de données des bandes dessinées"
   ]
  },
  {
   "cell_type": "markdown",
   "metadata": {
    "slideshow": {
     "slide_type": "fragment"
    }
   },
   "source": [
    "## 1. Problématique\n",
    "<div align=\"middle\"><h3>Comment formaliser le modèle relationnel?</h3></div>"
   ]
  },
  {
   "cell_type": "markdown",
   "metadata": {
    "slideshow": {
     "slide_type": "slide"
    }
   },
   "source": [
    "## 2. Organisation"
   ]
  },
  {
   "cell_type": "markdown",
   "metadata": {
    "slideshow": {
     "slide_type": "slide"
    }
   },
   "source": [
    "### 2.1 Un logiciel\n",
    "- **Système de Gestion de Base de Données (SGBD)**: logiciel permettant de manipuler les données d'une base de données."
   ]
  },
  {
   "cell_type": "markdown",
   "metadata": {
    "slideshow": {
     "slide_type": "fragment"
    }
   },
   "source": [
    "- modèle client-serveur"
   ]
  },
  {
   "cell_type": "markdown",
   "metadata": {
    "slideshow": {
     "slide_type": "fragment"
    }
   },
   "source": [
    "- SGBDR"
   ]
  },
  {
   "cell_type": "markdown",
   "metadata": {
    "slideshow": {
     "slide_type": "fragment"
    }
   },
   "source": [
    "<div align=\"middle\">\n",
    "    <table>\n",
    "        <tr style=\"background:#fff;\">\n",
    "            <td><img src=\"ressources/mysql.png\" width=120px></td>\n",
    "            <td><img src=\"ressources/oracle.png\" width=120px></td>\n",
    "            <td><img src=\"ressources/postgresql.png\" width=120px></td>\n",
    "            <td><img src=\"ressources/maria.png\" width=120px></td>\n",
    "            <td><img src=\"ressources/sqlite.png\" width=120px></td>\n",
    "        </tr>\n",
    "    </table>\n",
    "</div>"
   ]
  },
  {
   "cell_type": "markdown",
   "metadata": {
    "slideshow": {
     "slide_type": "slide"
    }
   },
   "source": [
    "## Contexte historique\n",
    "<div align=\"middle\">\n",
    "<a href=\"https://cdn.knightlab.com/libs/timeline3/latest/embed/index.html?source=1JeinB6XHpOQkQH7Zaaku3slAZJDl0CTpWBreSzzO808&font=Default&lang=fr&initial_zoom=2&height=650\" target=_blank><img src=\"../../../retour.png\"></a>\n",
    "</div>"
   ]
  },
  {
   "cell_type": "markdown",
   "metadata": {
    "slideshow": {
     "slide_type": "slide"
    }
   },
   "source": [
    "<div align=\"middle\"><img src=\"ressources/modeles.png\" width=500px></div>"
   ]
  },
  {
   "cell_type": "markdown",
   "metadata": {
    "slideshow": {
     "slide_type": "slide"
    }
   },
   "source": [
    "### 2.2 Un langage\n",
    "Le **SQL (Structured Query Language)** permet de faire des **requêtes** au SGBD."
   ]
  },
  {
   "cell_type": "markdown",
   "metadata": {
    "slideshow": {
     "slide_type": "fragment"
    }
   },
   "source": [
    "<div align=\"middle\"><img src=\"ressources/requete-http.png\" width=600px></div>"
   ]
  },
  {
   "cell_type": "markdown",
   "metadata": {
    "slideshow": {
     "slide_type": "slide"
    }
   },
   "source": [
    "### 2.3 Application\n",
    "Utilisation de SQLite\n",
    "#### Activité 1\n",
    "- Télécharger et extraire la version portable de *DB Browser for SQLite* depuis le site officiel https://sqlitebrowser.org/dl/\n",
    "- Télécharger et extraire la base \\emph{bd-init.zip} depuis le site https://cviroulaud.github.io\n",
    "- Ouvrir la base avec le browser.\n",
    "- Se concentrer d'abord sur l'onglet *Parcourir les données* et observer les tables existantes."
   ]
  },
  {
   "cell_type": "markdown",
   "metadata": {
    "slideshow": {
     "slide_type": "slide"
    }
   },
   "source": [
    "## 3. Contraintes d'intégrité"
   ]
  },
  {
   "cell_type": "markdown",
   "metadata": {
    "slideshow": {
     "slide_type": "slide"
    }
   },
   "source": [
    "### 3.1 Contrainte de domaine\n",
    "Aux domaines abstraits du modèle relationnel correspondent les types de données du langage SQL.\n",
    "<div align=\"middle\">\n",
    "    <table>\n",
    "        <tr>\n",
    "            <td>Nom du type</td>\n",
    "            <td>Description</td>\n",
    "        </tr>\n",
    "        <tr>\n",
    "            <td>SMALLINT</td>\n",
    "            <td>Entier 16 bits signé</td>\n",
    "        </tr>\n",
    "        <tr>\n",
    "            <td>INTEGER</td>\n",
    "            <td>Entier 32 bits signé</td>\n",
    "        </tr>\n",
    "        <tr>\n",
    "            <td>BIGINT</td>\n",
    "            <td>Entier 64 bits signé</td>\n",
    "        </tr>\n",
    "        <tr>\n",
    "            <td>REAL</td>\n",
    "            <td>Flottant 32 bits</td>\n",
    "        </tr>\n",
    "        <tr>\n",
    "            <td>CHAR(n)</td>\n",
    "            <td>Chaîne de n caractères exactement</td>\n",
    "        </tr>\n",
    "        <tr>\n",
    "            <td>VARCHAR(n)</td>\n",
    "            <td>Chaîne d'au plus n caractères</td>\n",
    "        </tr>\n",
    "        <tr>\n",
    "            <td>TEXT</td>\n",
    "            <td>Chaîne de taille quelconque</td>\n",
    "        </tr>\n",
    "        <tr>\n",
    "            <td>DATE</td>\n",
    "            <td>Date au format AAAA-MM-JJ</td>\n",
    "        </tr>\n",
    "        <tr>\n",
    "            <td>TIME</td>\n",
    "            <td>Heure au format hh:mm:ss</td>\n",
    "        </tr>\n",
    "        <tr>\n",
    "            <td>TIMESTAMP</td>\n",
    "            <td>Instant au format AAAA-MM-JJ hh:mm:ss</td>\n",
    "        </tr>\n",
    "    </table>\n",
    "</div>"
   ]
  },
  {
   "cell_type": "markdown",
   "metadata": {
    "slideshow": {
     "slide_type": "slide"
    }
   },
   "source": [
    "#### Activité 2\n",
    "- Quelle est la valeur maximale que peut prendre un SMALLINT?\n",
    "- Quelle sa taille en mémoire?\n",
    "- Dans le browser, se rendre dans l'onglet *Structure de la base de données*.\n",
    "- Dérouler la table *Auteurs* et repérer les types de chaque attribut."
   ]
  },
  {
   "cell_type": "markdown",
   "metadata": {
    "slideshow": {
     "slide_type": "fragment"
    }
   },
   "source": [
    "<div align=\"middle\"><h3>16 bits = 2 octets et entiers compris entre $-2^{15}$ et $2^{15}-1$</h3></div>"
   ]
  },
  {
   "cell_type": "markdown",
   "metadata": {
    "slideshow": {
     "slide_type": "slide"
    }
   },
   "source": [
    "### 3.2 Contrainte d'entité\n",
    "Chaque entité est identifiée de manière unique grâce à la *clé primaire*.\n",
    "#### Activité 3\n",
    "- Dans le schéma de la table *Auteurs* comment identifie-t-on la clé primaire?\n",
    "- Quel est le rôle du mot clé *AUTOINCREMENT*?"
   ]
  },
  {
   "cell_type": "markdown",
   "metadata": {
    "slideshow": {
     "slide_type": "fragment"
    }
   },
   "source": [
    "<div align=\"middle\"><img src=\"ressources/schema-auteurs.png\" width=1000px></div>"
   ]
  },
  {
   "cell_type": "markdown",
   "metadata": {
    "slideshow": {
     "slide_type": "slide"
    }
   },
   "source": [
    "### 3.3 Contrainte de référence\n",
    "Afin de garantir la cohérence des données lors de modifications, on utilise une **clé étrangère**.\n",
    "#### Activité 4\n",
    "- Dérouler la table *Bandes_dessinees*.\n",
    "- Rappeler les attributs qui sont des clés étrangères.\n",
    "- Glisser la souris sur le schéma de cette table. Quels mots clés sont utilisés pour créer une clé étrangère?"
   ]
  },
  {
   "cell_type": "markdown",
   "metadata": {
    "slideshow": {
     "slide_type": "slide"
    }
   },
   "source": [
    "<div align=\"middle\"><img src=\"ressources/foreign.png\" width=600></div>"
   ]
  },
  {
   "cell_type": "markdown",
   "metadata": {
    "slideshow": {
     "slide_type": "slide"
    }
   },
   "source": [
    "### 3.4 Compléter la base de données\n",
    "Afin de pouvoir gérer les emprunts de bandes dessinées, il faut créer les tables Emprunteurs et Emprunts.\n",
    "#### Activité 6\n",
    "Depuis l'onglet Exécuter le SQL, créer ces deux tables, en prenant modèle sur les schémas des relations existantes."
   ]
  },
  {
   "cell_type": "markdown",
   "metadata": {
    "slideshow": {
     "slide_type": "slide"
    }
   },
   "source": [
    "<div align=\"middle\"><img src=\"ressources/table_emprunteurs.png\" width=600></div>"
   ]
  },
  {
   "cell_type": "markdown",
   "metadata": {
    "slideshow": {
     "slide_type": "slide"
    }
   },
   "source": [
    "<div align=\"middle\"><img src=\"ressources/table_emprunts.png\" width=800></div>"
   ]
  }
 ],
 "metadata": {
  "celltoolbar": "Slideshow",
  "kernelspec": {
   "display_name": "Python 3",
   "language": "python",
   "name": "python3"
  },
  "language_info": {
   "codemirror_mode": {
    "name": "ipython",
    "version": 3
   },
   "file_extension": ".py",
   "mimetype": "text/x-python",
   "name": "python",
   "nbconvert_exporter": "python",
   "pygments_lexer": "ipython3",
   "version": "3.8.1"
  },
  "latex_envs": {
   "LaTeX_envs_menu_present": true,
   "autoclose": false,
   "autocomplete": true,
   "bibliofile": "biblio.bib",
   "cite_by": "apalike",
   "current_citInitial": 1,
   "eqLabelWithNumbers": true,
   "eqNumInitial": 1,
   "hotkeys": {
    "equation": "Ctrl-E",
    "itemize": "Ctrl-I"
   },
   "labels_anchors": false,
   "latex_user_defs": false,
   "report_style_numbering": true,
   "user_envs_cfg": false
  }
 },
 "nbformat": 4,
 "nbformat_minor": 4
}
