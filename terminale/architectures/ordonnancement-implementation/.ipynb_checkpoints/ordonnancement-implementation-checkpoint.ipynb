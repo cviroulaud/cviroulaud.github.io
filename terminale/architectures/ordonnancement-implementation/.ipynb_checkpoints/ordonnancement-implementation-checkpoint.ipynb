{
 "cells": [
  {
   "cell_type": "markdown",
   "metadata": {
    "slideshow": {
     "slide_type": "slide"
    }
   },
   "source": [
    "# Ordonnancement et structures de données associées"
   ]
  },
  {
   "cell_type": "markdown",
   "metadata": {
    "slideshow": {
     "slide_type": "fragment"
    }
   },
   "source": [
    "## 1. Problématique\n",
    "Le processeur peut adopter plusieurs stratégies pour exécuter l'enchaînement des processus."
   ]
  },
  {
   "cell_type": "markdown",
   "metadata": {
    "slideshow": {
     "slide_type": "fragment"
    }
   },
   "source": [
    "<div align=\"middle\"><h3>Quelles structures de données adopter pour implémenter les algorithmes d'ordonnancement?</h3></div>"
   ]
  },
  {
   "cell_type": "markdown",
   "metadata": {
    "slideshow": {
     "slide_type": "slide"
    }
   },
   "source": [
    "# 2. Des structures héritées de la liste chaînée"
   ]
  },
  {
   "cell_type": "markdown",
   "metadata": {
    "slideshow": {
     "slide_type": "slide"
    }
   },
   "source": [
    "## 2.1 Pile"
   ]
  },
  {
   "cell_type": "markdown",
   "metadata": {
    "slideshow": {
     "slide_type": "fragment"
    }
   },
   "source": [
    "<div align=\"middle\"><img src=\"ressources/lifo.png\" height=150px></div>"
   ]
  },
  {
   "cell_type": "markdown",
   "metadata": {},
   "source": [
    "### Last In First Out"
   ]
  },
  {
   "cell_type": "markdown",
   "metadata": {
    "slideshow": {
     "slide_type": "slide"
    }
   },
   "source": [
    "### Interface\n",
    "- creer_pile()$\\;\\rightarrow\\;$Pile(): crée une pile vide\n",
    "- empiler(e: T)$\\;\\rightarrow\\;$None: ajoute un élément e au sommet de la pile.\n",
    "- depiler()$\\;\\rightarrow\\;$T: retire et renvoie l'élément du sommet de la pile."
   ]
  },
  {
   "cell_type": "markdown",
   "metadata": {
    "slideshow": {
     "slide_type": "fragment"
    }
   },
   "source": [
    "### Activité 1\n",
    "- Créer la classe **Nœud** similaire à la classe *Maillon* déjà utilisée pour créer une liste chaînée. Elle possédera les attributs *donnees* et *precedant*.\n",
    "- Créer une classe **Pile**. Elle possédera un attribut *dernier* initialisé à *None*.\n",
    "- Créer les méthodes proposées dans l'interface."
   ]
  },
  {
   "cell_type": "code",
   "execution_count": 10,
   "metadata": {
    "slideshow": {
     "slide_type": "slide"
    }
   },
   "outputs": [],
   "source": [
    "class Noeud:\n",
    "    def __init__(self,e,s):\n",
    "        self.donnees = e\n",
    "        self.successeur = s\n",
    "\n",
    "class Pile:\n",
    "    def __init__(self):\n",
    "        self.dernier = None\n",
    "\n",
    "    def est_vide(self):\n",
    "        return self.dernier is None\n",
    "\n",
    "    def empiler(self,e):\n",
    "        self.dernier = Noeud(e,self.dernier)\n",
    "\n",
    "    def depiler(self):\n",
    "        if not self.est_vide():\n",
    "            res = self.dernier.donnees\n",
    "            self.dernier = self.dernier.successeur\n",
    "            return res\n",
    "    \n",
    "    def __str__(self):\n",
    "        affiche = \"\"\n",
    "        last = self.dernier\n",
    "        while last is not None:\n",
    "            affiche += str(last.donnees) +\"\\n\"\n",
    "            last = last.successeur\n",
    "        return affiche"
   ]
  },
  {
   "cell_type": "code",
   "execution_count": 11,
   "metadata": {
    "slideshow": {
     "slide_type": "slide"
    }
   },
   "outputs": [
    {
     "name": "stdout",
     "output_type": "stream",
     "text": [
      "4\n",
      "9\n",
      "3\n",
      "\n",
      "dépile: 4\n",
      "9\n",
      "3\n",
      "\n"
     ]
    }
   ],
   "source": [
    "p = Pile()\n",
    "p.empiler(3)\n",
    "p.empiler(9)\n",
    "p.empiler(4)\n",
    "print(p)\n",
    "print(\"dépile:\",p.depiler())\n",
    "print(p)"
   ]
  },
  {
   "cell_type": "markdown",
   "metadata": {
    "slideshow": {
     "slide_type": "slide"
    }
   },
   "source": [
    "## 2.2 File"
   ]
  },
  {
   "cell_type": "markdown",
   "metadata": {
    "slideshow": {
     "slide_type": "fragment"
    }
   },
   "source": [
    "<div align=\"middle\"><img src=\"ressources/fifo.png\" height=150px></div>"
   ]
  },
  {
   "cell_type": "markdown",
   "metadata": {},
   "source": [
    "### First In First Out"
   ]
  },
  {
   "cell_type": "markdown",
   "metadata": {
    "slideshow": {
     "slide_type": "slide"
    }
   },
   "source": [
    "### Interface\n",
    "- creer_file()$\\;\\rightarrow\\;$File(): crée une file vide\n",
    "- enfiler(e: T)$\\;\\rightarrow\\;$None: ajoute un élément e à l'arrière de la file.\n",
    "- defiler()$\\;\\rightarrow\\;$T: retire et renvoie l'élément de l'avant de la file."
   ]
  },
  {
   "cell_type": "markdown",
   "metadata": {
    "slideshow": {
     "slide_type": "fragment"
    }
   },
   "source": [
    "### Activité 2\n",
    "- Récupérer la classe **Nœud**.\n",
    "- Créer une classe **File**. Elle possédera deux attributs *premier* et *dernier* initialisés à *None*.\n",
    "- Créer les méthodes proposées dans l'interface."
   ]
  },
  {
   "cell_type": "code",
   "execution_count": 12,
   "metadata": {
    "slideshow": {
     "slide_type": "slide"
    }
   },
   "outputs": [],
   "source": [
    "class File():\n",
    "    def __init__(self):\n",
    "        self.premier = None\n",
    "        self.dernier = None\n",
    "\n",
    "    def est_vide(self):\n",
    "        return self.premier == None\n",
    "\n",
    "    def enfiler(self,e):\n",
    "        if self.est_vide():\n",
    "            # 1 seul élément: le premier est le dernier également\n",
    "            self.premier = Noeud(e,None)\n",
    "            self.dernier = self.premier\n",
    "        else:\n",
    "            nouveau = Noeud(e,None)\n",
    "            # le dernier devient avant-dernier\n",
    "            self.dernier.successeur = nouveau\n",
    "            # le nouveau devient dernier\n",
    "            self.dernier = nouveau\n",
    "\n",
    "    def defiler(self):\n",
    "        if not self.est_vide():\n",
    "            res = self.premier.donnees\n",
    "            self.premier = self.premier.successeur\n",
    "            return res\n",
    "\n",
    "    def __str__(self):\n",
    "        c = self.premier\n",
    "        s = ''\n",
    "        while not c is None:\n",
    "            s = s + \" \"+str(c.donnees)\n",
    "            c = c.successeur\n",
    "        return '\\u2BA4' + s[:] + '\\u2BA0'"
   ]
  },
  {
   "cell_type": "code",
   "execution_count": 13,
   "metadata": {
    "slideshow": {
     "slide_type": "slide"
    }
   },
   "outputs": [
    {
     "name": "stdout",
     "output_type": "stream",
     "text": [
      "⮤ 3⮠\n",
      "⮤ 3 6⮠\n",
      "⮤ 3 6 3⮠\n",
      "⮤ 3 6 3 3⮠\n",
      "⮤ 3 6 3 3 1⮠\n",
      "⮤ 3 6 3 3 1 3⮠\n",
      "⮤ 6 3 3 1 3⮠\n",
      "⮤ 3 3 1 3⮠\n",
      "⮤ 3 1 3⮠\n",
      "⮤ 1 3⮠\n",
      "⮤ 3⮠\n",
      "⮤⮠\n"
     ]
    }
   ],
   "source": [
    "from random import randint\n",
    "\n",
    "a = File()\n",
    "for i in range(6):\n",
    "    a.enfiler(randint(1, 6))\n",
    "    print(a)\n",
    "\n",
    "for i in range(6):\n",
    "    a.defiler()\n",
    "    print(a)\n"
   ]
  },
  {
   "cell_type": "markdown",
   "metadata": {
    "slideshow": {
     "slide_type": "slide"
    }
   },
   "source": [
    "## 3. Ordonnancement"
   ]
  },
  {
   "cell_type": "markdown",
   "metadata": {},
   "source": [
    "### Activité 3\n",
    "- Rappeler le principe du *First Come First Served*. Quelle structure semble adaptée à cet algorithme?\n",
    "- Même question pour le *Round Robin*."
   ]
  },
  {
   "cell_type": "markdown",
   "metadata": {
    "slideshow": {
     "slide_type": "notes"
    }
   },
   "source": [
    "FIFO pour les 2. Linux offre trois politiques d’ordonnancement (les 3 cités). Un système de priorité est également\n",
    "mis en place. Par défaut, un processus est associé à la politique de temps partagé. Seul root peut\n",
    "associer un processus à une des classes d’ordonnancement en temps réel."
   ]
  }
 ],
 "metadata": {
  "celltoolbar": "Slideshow",
  "kernelspec": {
   "display_name": "Python 3",
   "language": "python",
   "name": "python3"
  },
  "language_info": {
   "codemirror_mode": {
    "name": "ipython",
    "version": 3
   },
   "file_extension": ".py",
   "mimetype": "text/x-python",
   "name": "python",
   "nbconvert_exporter": "python",
   "pygments_lexer": "ipython3",
   "version": "3.8.1"
  },
  "latex_envs": {
   "LaTeX_envs_menu_present": true,
   "autoclose": false,
   "autocomplete": true,
   "bibliofile": "biblio.bib",
   "cite_by": "apalike",
   "current_citInitial": 1,
   "eqLabelWithNumbers": true,
   "eqNumInitial": 1,
   "hotkeys": {
    "equation": "Ctrl-E",
    "itemize": "Ctrl-I"
   },
   "labels_anchors": false,
   "latex_user_defs": false,
   "report_style_numbering": true,
   "user_envs_cfg": false
  }
 },
 "nbformat": 4,
 "nbformat_minor": 4
}
