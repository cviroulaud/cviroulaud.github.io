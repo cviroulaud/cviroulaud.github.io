{
 "cells": [
  {
   "cell_type": "markdown",
   "metadata": {
    "slideshow": {
     "slide_type": "slide"
    }
   },
   "source": [
    "# Tri par tas"
   ]
  },
  {
   "cell_type": "markdown",
   "metadata": {
    "slideshow": {
     "slide_type": "slide"
    }
   },
   "source": [
    "## 1. Problématique"
   ]
  },
  {
   "cell_type": "markdown",
   "metadata": {},
   "source": [
    "<div align=\"middle\"><h3>Peut-on trier un tableau efficacement en utilisant les propriétés des arbres binaires?</h3></div>"
   ]
  },
  {
   "cell_type": "markdown",
   "metadata": {
    "slideshow": {
     "slide_type": "slide"
    }
   },
   "source": [
    "## 2. Un tas\n",
    "### 2.1 Définition\n",
    "Arbre partiellement ordonné\n",
    "<div align=\"middle\"><img src=\"ressources/apo.png\" width=500px></div>"
   ]
  },
  {
   "cell_type": "code",
   "execution_count": null,
   "metadata": {
    "slideshow": {
     "slide_type": "fragment"
    }
   },
   "outputs": [],
   "source": [
    "tas = [17, 12, 6, 10, 9, 4, 1, 2, 1, 5, 3]"
   ]
  },
  {
   "cell_type": "markdown",
   "metadata": {
    "slideshow": {
     "slide_type": "slide"
    }
   },
   "source": [
    "Convention habituelle:\n",
    "- l'indice de la racine est 0,\n",
    "- l’indice du fils gauche est 2 ∗ i + 1,\n",
    "- l’indice du fils droit est 2 ∗ i + 2."
   ]
  },
  {
   "cell_type": "markdown",
   "metadata": {
    "slideshow": {
     "slide_type": "fragment"
    }
   },
   "source": [
    "#### Activité 1\n",
    "- Écrire la fonction **echanger(t: list, i1: int, i2: int)$\\;\\rightarrow\\;$None** qui inverse les éléments d'indice i1 et i2 du tableau t."
   ]
  },
  {
   "cell_type": "code",
   "execution_count": 1,
   "metadata": {
    "slideshow": {
     "slide_type": "fragment"
    }
   },
   "outputs": [],
   "source": [
    "def echanger(t: list, i1: int, i2: int)->None:\n",
    "    \"\"\"\n",
    "    inverse les deux valeurs du tableau\n",
    "    \"\"\"\n",
    "    t[i1], t[i2] = t[i2], t[i1]"
   ]
  },
  {
   "cell_type": "markdown",
   "metadata": {
    "slideshow": {
     "slide_type": "slide"
    }
   },
   "source": [
    "### 2.2 Tamiser un élément du tableau\n",
    "<div align=\"middle\"><img src=\"ressources/tamis0.png\" width=500px></div>"
   ]
  },
  {
   "cell_type": "markdown",
   "metadata": {
    "slideshow": {
     "slide_type": "slide"
    }
   },
   "source": [
    "<div align=\"middle\"><img src=\"ressources/tamis1.png\" width=400px></div>"
   ]
  },
  {
   "cell_type": "markdown",
   "metadata": {
    "slideshow": {
     "slide_type": "slide"
    }
   },
   "source": [
    "<div align=\"middle\"><img src=\"ressources/tamis2.png\" width=500px></div>"
   ]
  },
  {
   "cell_type": "markdown",
   "metadata": {
    "slideshow": {
     "slide_type": "slide"
    }
   },
   "source": [
    "<div align=\"middle\"><img src=\"ressources/apo.png\" width=500px></div>"
   ]
  },
  {
   "cell_type": "markdown",
   "metadata": {
    "slideshow": {
     "slide_type": "slide"
    }
   },
   "source": [
    "#### Activité 2\n",
    "- Écrire la fonction récursive **tamiser(t: list, i\\_pere: int)$\\;\\rightarrow\\;$None** qui positionne correctement le nœud d'indice i_pere.\n",
    "- Tester avec le tableau associé à la figure.\n",
    "- Modifier la signature de la fonction tel que **tamiser(t: list, i_pere: int, i_max: int)$\\;\\rightarrow\\;$None** afin qu'elle ne tamise que jusqu'à l'indice i_max (inclus) et non plus jusqu'à la fin du tableau. Cette propriété nous sera utile lors du tri."
   ]
  },
  {
   "cell_type": "code",
   "execution_count": 14,
   "metadata": {
    "slideshow": {
     "slide_type": "slide"
    }
   },
   "outputs": [],
   "source": [
    "def tamiser(t: list, i_pere: int)->None:\n",
    "    \"\"\"\n",
    "    tamise le tableau pour retrouver un tas\n",
    "    \"\"\"\n",
    "    i_gauche = 2*i_pere + 1\n",
    "    i_droit = 2*i_pere + 2\n",
    "    i_fils_max = i_gauche\n",
    "    # i_pere n'est pas une feuille\n",
    "    if i_fils_max < len(t)-1:\n",
    "        # récupère l'indice du plus grand fils\n",
    "        if t[i_gauche] < t[i_droit]:\n",
    "            i_fils_max = i_droit\n",
    "\n",
    "    if i_fils_max <= len(t)-1:\n",
    "        # tamise récursivement\n",
    "        if t[i_fils_max] > t[i_pere]:\n",
    "            echanger(t, i_pere, i_fils_max)\n",
    "            tamiser(t, i_fils_max)"
   ]
  },
  {
   "cell_type": "markdown",
   "metadata": {
    "slideshow": {
     "slide_type": "notes"
    }
   },
   "source": [
    "- premier if < donc dans le cas limite, i_droit = i_max --> on ne dépasse pas la taille du tableau\n",
    "- second if <= car si i_fils_max = i_droit on doit pouvoir faire la comparaison avec le dernier"
   ]
  },
  {
   "cell_type": "code",
   "execution_count": 15,
   "metadata": {
    "slideshow": {
     "slide_type": "fragment"
    }
   },
   "outputs": [
    {
     "data": {
      "text/plain": [
       "[17, 12, 6, 10, 9, 4, 1, 2, 1, 5, 3]"
      ]
     },
     "execution_count": 15,
     "metadata": {},
     "output_type": "execute_result"
    }
   ],
   "source": [
    "tas = [9, 17, 6, 10, 12, 4 ,1 , 2, 1, 5, 3]\n",
    "tamiser(tas,0)\n",
    "tas"
   ]
  },
  {
   "cell_type": "code",
   "execution_count": 16,
   "metadata": {
    "slideshow": {
     "slide_type": "slide"
    }
   },
   "outputs": [],
   "source": [
    "def tamiser(t: list, i_pere: int, i_max: int)->None:\n",
    "    \"\"\"\n",
    "    tamise le tableau pour retrouver un tas\n",
    "    \"\"\"\n",
    "    i_gauche = 2*i_pere + 1\n",
    "    i_droit = 2*i_pere + 2\n",
    "    i_fils_max = i_gauche\n",
    "    # i_pere n'est pas une feuille\n",
    "    # ou ne dépasse pas les éléments déjà triés\n",
    "    if i_fils_max < i_max:\n",
    "        # récupère l'indice du plus grand fils\n",
    "        if t[i_gauche] < t[i_droit]:\n",
    "            i_fils_max = i_droit\n",
    "\n",
    "    if i_fils_max <= i_max:\n",
    "        # tamise récursivement\n",
    "        if t[i_fils_max] > t[i_pere]:\n",
    "            echanger(t, i_pere, i_fils_max)\n",
    "            tamiser(t, i_fils_max, i_max)"
   ]
  },
  {
   "cell_type": "markdown",
   "metadata": {
    "slideshow": {
     "slide_type": "slide"
    }
   },
   "source": [
    "### 2.3 Entasser un tableau\n",
    "En tamisant chaque élément du tableau, on obtient un tas. Une bonne approche est de commencer par le bas de l'arbre."
   ]
  },
  {
   "cell_type": "markdown",
   "metadata": {
    "slideshow": {
     "slide_type": "fragment"
    }
   },
   "source": [
    "#### Activité 3\n",
    "Écrire la fonction **entasser(t: list)$\\;\\rightarrow\\;$None** qui transforme le tableau t en tas, en tamisant chaque nœud (qui n'est pas une feuille)."
   ]
  },
  {
   "cell_type": "code",
   "execution_count": 6,
   "metadata": {
    "slideshow": {
     "slide_type": "slide"
    }
   },
   "outputs": [],
   "source": [
    "def entasser(t: list)->None:\n",
    "    \"\"\"\n",
    "    transforme le tableau en tas\n",
    "    en commençant par la fin\n",
    "    \"\"\"\n",
    "    # indice du dernier noeud qui n'est pas une feuille\n",
    "    i = len(t)//2 - 1\n",
    "    while i >= 0:\n",
    "        tamiser(t, i, len(t)-1)\n",
    "        i -= 1"
   ]
  },
  {
   "cell_type": "markdown",
   "metadata": {
    "slideshow": {
     "slide_type": "slide"
    }
   },
   "source": [
    "## 3. Principe du tri par tas\n",
    "Dans un tas la racine contient la plus grande valeur."
   ]
  },
  {
   "cell_type": "markdown",
   "metadata": {},
   "source": [
    "<div align=\"middle\"><img src=\"ressources/tri1.png\" width=500px></div>"
   ]
  },
  {
   "cell_type": "markdown",
   "metadata": {
    "slideshow": {
     "slide_type": "slide"
    }
   },
   "source": [
    "<div align=\"middle\"><img src=\"ressources/tri2.png\" width=500px></div>"
   ]
  },
  {
   "cell_type": "markdown",
   "metadata": {
    "slideshow": {
     "slide_type": "slide"
    }
   },
   "source": [
    "<div align=\"middle\"><img src=\"ressources/tri3.png\" width=500px></div>"
   ]
  },
  {
   "cell_type": "markdown",
   "metadata": {
    "slideshow": {
     "slide_type": "slide"
    }
   },
   "source": [
    "#### Activité 4\n",
    "- Écrire la fonction **tri_par_tas(t: list)$\\;\\rightarrow\\;$None** qui implémente l'algorithme ci-après:\n",
    "    - Entasser le tableau.\n",
    "    - Initialiser indice_dernier.\n",
    "    - Tant que indice_dernier <= 0\n",
    "        - Échanger le premier élément avec l'élément d'indice indice_dernier.\n",
    "        - Tamiser le tableau de la racine jusqu'à l'élément d'indice indice_dernier.\n",
    "        - Décrémenter indice_dernier."
   ]
  },
  {
   "cell_type": "code",
   "execution_count": 7,
   "metadata": {
    "slideshow": {
     "slide_type": "slide"
    }
   },
   "outputs": [],
   "source": [
    "def tri_par_tas(t: list)->None:\n",
    "    \"\"\"\n",
    "    tri (en place) le tableau\n",
    "    \"\"\"\n",
    "    entasser(t)\n",
    "    dernier = len(t) - 1\n",
    "    while dernier >= 0:\n",
    "        echanger(t, 0, dernier)\n",
    "        tamiser(t, 0, dernier-1)\n",
    "        dernier -= 1"
   ]
  },
  {
   "cell_type": "code",
   "execution_count": 20,
   "metadata": {
    "slideshow": {
     "slide_type": "fragment"
    }
   },
   "outputs": [
    {
     "name": "stdout",
     "output_type": "stream",
     "text": [
      "[1, 4, 9, 10, 14, 18, 19, 19, 22, 23, 23, 25, 25, 25, 27, 30, 39, 41, 42, 43, 43, 44, 45, 48, 48, 48, 49, 53, 53, 55, 57, 57, 60, 60, 61, 61, 62, 72, 74, 74, 75, 77, 81, 85, 89, 90, 91, 91, 98, 98]\n"
     ]
    }
   ],
   "source": [
    "from random import randint\n",
    "tab = [randint(0,100) for _ in range(50)]\n",
    "tri_par_tas(tab)\n",
    "print(tab)"
   ]
  },
  {
   "cell_type": "markdown",
   "metadata": {
    "slideshow": {
     "slide_type": "fragment"
    }
   },
   "source": [
    "Ce tri a une complexité temporelle en $O(n.log(n))$"
   ]
  }
 ],
 "metadata": {
  "celltoolbar": "Slideshow",
  "kernelspec": {
   "display_name": "Python 3",
   "language": "python",
   "name": "python3"
  },
  "language_info": {
   "codemirror_mode": {
    "name": "ipython",
    "version": 3
   },
   "file_extension": ".py",
   "mimetype": "text/x-python",
   "name": "python",
   "nbconvert_exporter": "python",
   "pygments_lexer": "ipython3",
   "version": "3.8.6"
  },
  "latex_envs": {
   "LaTeX_envs_menu_present": true,
   "autoclose": false,
   "autocomplete": true,
   "bibliofile": "biblio.bib",
   "cite_by": "apalike",
   "current_citInitial": 1,
   "eqLabelWithNumbers": true,
   "eqNumInitial": 1,
   "hotkeys": {
    "equation": "Ctrl-E",
    "itemize": "Ctrl-I"
   },
   "labels_anchors": false,
   "latex_user_defs": false,
   "report_style_numbering": true,
   "user_envs_cfg": false
  }
 },
 "nbformat": 4,
 "nbformat_minor": 4
}
