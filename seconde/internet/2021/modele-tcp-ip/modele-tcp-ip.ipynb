{
 "cells": [
  {
   "cell_type": "markdown",
   "metadata": {
    "slideshow": {
     "slide_type": "slide"
    }
   },
   "source": [
    "# Modèle TCP/IP"
   ]
  },
  {
   "cell_type": "markdown",
   "metadata": {
    "slideshow": {
     "slide_type": "fragment"
    }
   },
   "source": [
    "Il est construit autour de 4 couches."
   ]
  },
  {
   "cell_type": "markdown",
   "metadata": {
    "slideshow": {
     "slide_type": "fragment"
    }
   },
   "source": [
    "Chaque couche est définie par un ou plusieurs protocoles."
   ]
  },
  {
   "cell_type": "markdown",
   "metadata": {},
   "source": [
    "**Un protocole est un ensemble de règles qui permettent d'établir une connexion entre deux objets sur un réseau.**"
   ]
  },
  {
   "cell_type": "markdown",
   "metadata": {
    "slideshow": {
     "slide_type": "slide"
    }
   },
   "source": [
    "<table class=\"couche\">\n",
    "    <tr>\n",
    "        <td>COUCHE RÉSEAU</td>\n",
    "        <td>Définit la forme dont les données sont physiquement transmises quelque soit le réseau (onde, impulsion électrique, lumière)</td>\n",
    "    </tr>\n",
    "</table>"
   ]
  },
  {
   "cell_type": "markdown",
   "metadata": {
    "slideshow": {
     "slide_type": "slide"
    }
   },
   "source": [
    "<table class=\"couche\">\n",
    "    <tr>\n",
    "        <td>COUCHE IP</td>\n",
    "        <td>Gère les chemins possibles à travers le réseau et achemine le message de l'expéditeur au destinataire.</td>\n",
    "    </tr>\n",
    "    <tr>\n",
    "        <td>COUCHE RÉSEAU</td>\n",
    "        <td>Définit la forme dont les données sont physiquement transmises quelque soit le réseau (onde, impulsion électrique, lumière)</td>\n",
    "    </tr>\n",
    "</table>"
   ]
  },
  {
   "cell_type": "markdown",
   "metadata": {
    "slideshow": {
     "slide_type": "slide"
    }
   },
   "source": [
    "<table class=\"couche\">\n",
    "    <tr>\n",
    "        <td>COUCHE TCP</td>\n",
    "        <td>S'assure de la bonne transmission des données. Découpe les messages en paquets.</td>\n",
    "    </tr>\n",
    "    <tr>\n",
    "        <td>COUCHE IP</td>\n",
    "        <td>Gère les chemins possibles à travers le réseau et achemine le message de l'expéditeur au destinataire.</td>\n",
    "    </tr>\n",
    "    <tr>\n",
    "        <td>COUCHE RÉSEAU</td>\n",
    "        <td>Définit la forme dont les données sont physiquement transmises quelque soit le réseau (onde, impulsion électrique, lumière)</td>\n",
    "    </tr>\n",
    "</table>"
   ]
  },
  {
   "cell_type": "markdown",
   "metadata": {
    "slideshow": {
     "slide_type": "slide"
    }
   },
   "source": [
    "<table class=\"couche\">\n",
    "    <tr>\n",
    "        <td>COUCHE APPLICATION</td>\n",
    "        <td>Utilise les données dans les divers logiciels qui les demandent (navigateur, client mail...).</td>\n",
    "    </tr>\n",
    "    <tr>\n",
    "        <td>COUCHE TCP</td>\n",
    "        <td>S'assure de la bonne transmission des données. Découpe les messages en paquets.</td>\n",
    "    </tr>\n",
    "    <tr>\n",
    "        <td>COUCHE IP</td>\n",
    "        <td>Gère les chemins possibles à travers le réseau et achemine le message de l'expéditeur au destinataire.</td>\n",
    "    </tr>\n",
    "    <tr>\n",
    "        <td>COUCHE RÉSEAU</td>\n",
    "        <td>Définit la forme dont les données sont physiquement transmises quelque soit le réseau (onde, impulsion électrique, lumière)</td>\n",
    "    </tr>\n",
    "</table>"
   ]
  }
 ],
 "metadata": {
  "celltoolbar": "Slideshow",
  "kernelspec": {
   "display_name": "Python 3",
   "language": "python",
   "name": "python3"
  },
  "language_info": {
   "codemirror_mode": {
    "name": "ipython",
    "version": 3
   },
   "file_extension": ".py",
   "mimetype": "text/x-python",
   "name": "python",
   "nbconvert_exporter": "python",
   "pygments_lexer": "ipython3",
   "version": "3.8.1"
  },
  "latex_envs": {
   "LaTeX_envs_menu_present": true,
   "autoclose": false,
   "autocomplete": true,
   "bibliofile": "biblio.bib",
   "cite_by": "apalike",
   "current_citInitial": 1,
   "eqLabelWithNumbers": true,
   "eqNumInitial": 1,
   "hotkeys": {
    "equation": "Ctrl-E",
    "itemize": "Ctrl-I"
   },
   "labels_anchors": false,
   "latex_user_defs": false,
   "report_style_numbering": true,
   "user_envs_cfg": false
  }
 },
 "nbformat": 4,
 "nbformat_minor": 4
}
