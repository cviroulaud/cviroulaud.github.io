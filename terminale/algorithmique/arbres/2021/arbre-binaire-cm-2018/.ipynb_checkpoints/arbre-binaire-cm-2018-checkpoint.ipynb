{
 "cells": [
  {
   "cell_type": "markdown",
   "metadata": {
    "slideshow": {
     "slide_type": "slide"
    }
   },
   "source": [
    "# Coupe du monde 2018"
   ]
  },
  {
   "cell_type": "markdown",
   "metadata": {
    "slideshow": {
     "slide_type": "slide"
    }
   },
   "source": [
    "## 1. Problématique\n",
    "Pour stocker le tableau des phases finales le site web *lateam.fr* utilise une structure simple de données."
   ]
  },
  {
   "cell_type": "markdown",
   "metadata": {},
   "source": [
    "<div align=\"middle\"><img src=\"ressources/cdm.png\" width=600px></div>"
   ]
  },
  {
   "cell_type": "markdown",
   "metadata": {
    "slideshow": {
     "slide_type": "slide"
    }
   },
   "source": [
    "<div align=\"middle\"><h3>Comment représenter un arbre binaire en mémoire en utilisant une structure de données native?</h3></div>"
   ]
  },
  {
   "cell_type": "markdown",
   "metadata": {
    "slideshow": {
     "slide_type": "slide"
    }
   },
   "source": [
    "## 2. Propriété des indices"
   ]
  },
  {
   "cell_type": "markdown",
   "metadata": {},
   "source": [
    "<div align=\"middle\"><img src=\"ressources/arbre.png\" width=600px></div>"
   ]
  },
  {
   "cell_type": "markdown",
   "metadata": {
    "slideshow": {
     "slide_type": "fragment"
    }
   },
   "source": [
    "Chaque nœud *i*:\n",
    "- fils gauche: *2×i+1*\n",
    "- fils droit: *2×i+2*"
   ]
  },
  {
   "cell_type": "markdown",
   "metadata": {
    "slideshow": {
     "slide_type": "slide"
    }
   },
   "source": [
    "<div align=\"middle\"><img src=\"ressources/arbre2.png\" width=600px></div>"
   ]
  },
  {
   "cell_type": "markdown",
   "metadata": {
    "slideshow": {
     "slide_type": "-"
    }
   },
   "source": [
    "Si la numération commence à 1, chaque nœud *i*:\n",
    "- fils gauche: *2×i*\n",
    "- fils droit: *2×i+1*"
   ]
  },
  {
   "cell_type": "markdown",
   "metadata": {
    "slideshow": {
     "slide_type": "slide"
    }
   },
   "source": [
    "<div align=\"middle\"><img src=\"ressources/tab.png\" width=600px></div>"
   ]
  },
  {
   "cell_type": "markdown",
   "metadata": {
    "slideshow": {
     "slide_type": "slide"
    }
   },
   "source": [
    "#### Activité 1\n",
    "- Télécharger le fichier *cdm2018.zip* sur le site https://cviroulaud.github.io\n",
    "- Ouvrir le fichier *cdm2018.json* et vérifier à la main que le tableau représente bien l'arbre binaire des phases finales de la coupe du Monde 2018.\n",
    "- Importer le json dans un programme Python.\n",
    "- Écrire la fonction **affichage\\_BFS(tab: list)$\\;\\rightarrow\\;$None** qui affiche les éléments de *tab* dans l'ordre d'un parcours en largeur de l'arbre binaire correspondant."
   ]
  },
  {
   "cell_type": "code",
   "execution_count": 7,
   "metadata": {
    "slideshow": {
     "slide_type": "slide"
    }
   },
   "outputs": [],
   "source": [
    "import json\n",
    "from scripts.structures import File\n",
    "\n",
    "f = open(\"scripts/cdm2018.json\")\n",
    "tab_cdm = json.load(f)\n",
    "f.close()"
   ]
  },
  {
   "cell_type": "code",
   "execution_count": 8,
   "metadata": {
    "slideshow": {
     "slide_type": "slide"
    }
   },
   "outputs": [],
   "source": [
    "def affichage_BFS(tab: list)->None:\n",
    "    \"\"\"\n",
    "    affiche l'arbre avec un parcours en largeur\n",
    "    \"\"\"\n",
    "    f = File()\n",
    "    f.enfiler(0)\n",
    "    niveau = 0\n",
    "    while not f.est_vide():\n",
    "        en_cours = f.defiler()\n",
    "        if en_cours < len(tab):\n",
    "            \n",
    "            #crée le décalage entre les différentes phases\n",
    "            if en_cours == 2**niveau-1:\n",
    "                niveau += 1\n",
    "                print()\n",
    "                \n",
    "            print(tab[en_cours], end=\" \")\n",
    "            f.enfiler(2*en_cours+1)\n",
    "            f.enfiler(2*en_cours+2)"
   ]
  },
  {
   "cell_type": "code",
   "execution_count": 9,
   "metadata": {
    "slideshow": {
     "slide_type": "slide"
    }
   },
   "outputs": [
    {
     "name": "stdout",
     "output_type": "stream",
     "text": [
      "\n",
      "France \n",
      "France Croatie \n",
      "France Belgique Croatie Angleterre \n",
      "France Uruguay Brésil Belgique Russie Croatie Suède Angleterre \n",
      "France Argentine Uruguay Portugal Brésil Mexique Belgique Japon Espagne Russie Croatie Danemark Suède Suisse Colombie Angleterre "
     ]
    }
   ],
   "source": [
    "affichage_BFS(tab_cdm)"
   ]
  }
 ],
 "metadata": {
  "celltoolbar": "Slideshow",
  "kernelspec": {
   "display_name": "Python 3",
   "language": "python",
   "name": "python3"
  },
  "language_info": {
   "codemirror_mode": {
    "name": "ipython",
    "version": 3
   },
   "file_extension": ".py",
   "mimetype": "text/x-python",
   "name": "python",
   "nbconvert_exporter": "python",
   "pygments_lexer": "ipython3",
   "version": "3.8.6"
  },
  "latex_envs": {
   "LaTeX_envs_menu_present": true,
   "autoclose": false,
   "autocomplete": true,
   "bibliofile": "biblio.bib",
   "cite_by": "apalike",
   "current_citInitial": 1,
   "eqLabelWithNumbers": true,
   "eqNumInitial": 1,
   "hotkeys": {
    "equation": "Ctrl-E",
    "itemize": "Ctrl-I"
   },
   "labels_anchors": false,
   "latex_user_defs": false,
   "report_style_numbering": true,
   "user_envs_cfg": false
  }
 },
 "nbformat": 4,
 "nbformat_minor": 4
}
