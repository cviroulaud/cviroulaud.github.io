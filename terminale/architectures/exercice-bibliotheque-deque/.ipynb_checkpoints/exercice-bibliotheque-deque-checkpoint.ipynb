{
 "cells": [
  {
   "cell_type": "markdown",
   "metadata": {
    "slideshow": {
     "slide_type": "slide"
    }
   },
   "source": [
    "# Deque"
   ]
  },
  {
   "cell_type": "markdown",
   "metadata": {
    "slideshow": {
     "slide_type": "slide"
    }
   },
   "source": [
    "En utilisant la classe **Pile** de l'exercice 1, mesurer les durées d'exécution pour:\n",
    "- empiler 100000 éléments\n",
    "- dépiler 100000 éléments"
   ]
  },
  {
   "cell_type": "code",
   "execution_count": 1,
   "metadata": {
    "slideshow": {
     "slide_type": "fragment"
    }
   },
   "outputs": [],
   "source": [
    "class Pile:\n",
    "    def __init__(self):\n",
    "        self.donnees = []\n",
    "\n",
    "    def est_vide(self):\n",
    "        return self.donnees == []\n",
    "\n",
    "    def empiler(self, e):\n",
    "        self.donnees.append(e)\n",
    "\n",
    "    def depiler(self):\n",
    "        if not self.est_vide():\n",
    "            return self.donnees.pop()"
   ]
  },
  {
   "cell_type": "code",
   "execution_count": 2,
   "metadata": {
    "slideshow": {
     "slide_type": "slide"
    }
   },
   "outputs": [],
   "source": [
    "from time import time\n",
    "\n",
    "NB = 100000"
   ]
  },
  {
   "cell_type": "code",
   "execution_count": 3,
   "metadata": {
    "slideshow": {
     "slide_type": "fragment"
    }
   },
   "outputs": [
    {
     "name": "stdout",
     "output_type": "stream",
     "text": [
      "empiler  0.028696775436401367\n",
      "dépiler  0.03665590286254883\n"
     ]
    }
   ],
   "source": [
    "p = Pile()\n",
    "deb = time()\n",
    "for i in range(NB):\n",
    "    p.empiler(i)\n",
    "fin = time()\n",
    "print(\"empiler \",fin-deb)\n",
    "\n",
    "deb = time()\n",
    "for i in range(NB):\n",
    "    p.depiler()\n",
    "fin = time()\n",
    "print(\"dépiler \",fin-deb)"
   ]
  },
  {
   "cell_type": "markdown",
   "metadata": {
    "slideshow": {
     "slide_type": "slide"
    }
   },
   "source": [
    "Réaliser les mêmes mesures pour la classe **File**"
   ]
  },
  {
   "cell_type": "code",
   "execution_count": 4,
   "metadata": {
    "slideshow": {
     "slide_type": "fragment"
    }
   },
   "outputs": [],
   "source": [
    "class File:\n",
    "    def __init__(self):\n",
    "        self.donnees = []\n",
    "\n",
    "    def est_vide(self):\n",
    "        return self.donnees == []\n",
    "\n",
    "    def enfiler(self, e):\n",
    "        self.donnees.append(e)\n",
    "\n",
    "    def defiler(self):\n",
    "        if not self.donnees == []:\n",
    "            return self.donnees.pop(0)"
   ]
  },
  {
   "cell_type": "code",
   "execution_count": 5,
   "metadata": {
    "slideshow": {
     "slide_type": "slide"
    }
   },
   "outputs": [
    {
     "name": "stdout",
     "output_type": "stream",
     "text": [
      "enfiler  0.026788711547851562\n",
      "défiler  2.163115978240967\n"
     ]
    }
   ],
   "source": [
    "f = File()\n",
    "deb = time()\n",
    "for i in range(NB):\n",
    "    f.enfiler(i)\n",
    "fin = time()\n",
    "print(\"enfiler \",fin-deb)\n",
    "\n",
    "deb = time()\n",
    "for i in range(NB):\n",
    "    f.defiler()\n",
    "fin = time()\n",
    "print(\"défiler \",fin-deb)"
   ]
  },
  {
   "cell_type": "markdown",
   "metadata": {
    "slideshow": {
     "slide_type": "slide"
    }
   },
   "source": [
    "<div align=\"middle\"><h2>Python propose des outils optimisés dans la bibliothèque collections</h2></div>\n",
    "<div align=\"middle\"><h2><a href=\"https://docs.python.org/fr/3/library/collections.html#collections\" target=\"_blank\">documentation Python</a></h2></div>"
   ]
  },
  {
   "cell_type": "markdown",
   "metadata": {
    "slideshow": {
     "slide_type": "slide"
    }
   },
   "source": [
    "Créer la classe File2 en utilisant une **deque** puis effectuer les mesures de durées d'exécution."
   ]
  },
  {
   "cell_type": "code",
   "execution_count": 7,
   "metadata": {
    "slideshow": {
     "slide_type": "fragment"
    }
   },
   "outputs": [],
   "source": [
    "from collections import deque\n",
    "\n",
    "class File2:\n",
    "    def __init__(self):\n",
    "        self.donnees = deque()\n",
    "\n",
    "    def est_vide(self):\n",
    "        return len(self.donnees) == 0\n",
    "\n",
    "    def enfiler(self, e):\n",
    "        self.donnees.append(e)\n",
    "\n",
    "    def defiler(self):\n",
    "        if not self.est_vide():\n",
    "            return self.donnees.popleft()"
   ]
  },
  {
   "cell_type": "code",
   "execution_count": 8,
   "metadata": {
    "slideshow": {
     "slide_type": "slide"
    }
   },
   "outputs": [
    {
     "name": "stdout",
     "output_type": "stream",
     "text": [
      "enfiler  0.03352689743041992\n",
      "défiler  0.040267229080200195\n"
     ]
    }
   ],
   "source": [
    "# Le code est exactement le même: l'implémentation de la classe est transparente pour l'utilisateur\n",
    "f = File2()\n",
    "deb = time()\n",
    "for i in range(NB):\n",
    "    f.enfiler(i)\n",
    "fin = time()\n",
    "print(\"enfiler \",fin-deb)\n",
    "\n",
    "deb = time()\n",
    "for i in range(NB):\n",
    "    f.defiler()\n",
    "fin = time()\n",
    "print(\"défiler \",fin-deb)\n"
   ]
  },
  {
   "cell_type": "code",
   "execution_count": 25,
   "metadata": {
    "slideshow": {
     "slide_type": "slide"
    }
   },
   "outputs": [
    {
     "name": "stdout",
     "output_type": "stream",
     "text": [
      "enfiler  0.010284900665283203\n",
      "défiler  0.014644145965576172\n",
      "\n",
      "enfiler  0.016280174255371094\n",
      "défiler  0.024196624755859375\n"
     ]
    }
   ],
   "source": [
    "# On peut l'utiliser directement\n",
    "f = deque()\n",
    "deb = time()\n",
    "for i in range(NB):\n",
    "    f.append(i)\n",
    "fin = time()\n",
    "print(\"enfiler \",fin-deb)\n",
    "\n",
    "deb = time()\n",
    "for i in range(NB):\n",
    "        f.popleft()\n",
    "fin = time()\n",
    "print(\"défiler \",fin-deb)\n",
    "\n",
    "print()\n",
    "\n",
    "deb = time()\n",
    "for i in range(NB):\n",
    "    f.append(i)\n",
    "fin = time()\n",
    "print(\"enfiler \",fin-deb)\n",
    "\n",
    "deb = time()\n",
    "for i in range(NB):\n",
    "    # avec gestion de la file vide\n",
    "    if len(f) > 0:\n",
    "        f.popleft()\n",
    "fin = time()\n",
    "print(\"défiler \",fin-deb)"
   ]
  },
  {
   "cell_type": "markdown",
   "metadata": {
    "slideshow": {
     "slide_type": "slide"
    }
   },
   "source": [
    "<div align=\"middle\"><h2><a href=\"https://docs.python.org/fr/3/library/queue.html\" target=\"_blank\">Et encore: le module queue</a></h2></div>"
   ]
  }
 ],
 "metadata": {
  "celltoolbar": "Slideshow",
  "kernelspec": {
   "display_name": "Python 3",
   "language": "python",
   "name": "python3"
  },
  "language_info": {
   "codemirror_mode": {
    "name": "ipython",
    "version": 3
   },
   "file_extension": ".py",
   "mimetype": "text/x-python",
   "name": "python",
   "nbconvert_exporter": "python",
   "pygments_lexer": "ipython3",
   "version": "3.8.1"
  },
  "latex_envs": {
   "LaTeX_envs_menu_present": true,
   "autoclose": false,
   "autocomplete": true,
   "bibliofile": "biblio.bib",
   "cite_by": "apalike",
   "current_citInitial": 1,
   "eqLabelWithNumbers": true,
   "eqNumInitial": 1,
   "hotkeys": {
    "equation": "Ctrl-E",
    "itemize": "Ctrl-I"
   },
   "labels_anchors": false,
   "latex_user_defs": false,
   "report_style_numbering": true,
   "user_envs_cfg": false
  }
 },
 "nbformat": 4,
 "nbformat_minor": 4
}
