{
 "cells": [
  {
   "cell_type": "markdown",
   "metadata": {
    "slideshow": {
     "slide_type": "slide"
    }
   },
   "source": [
    "# Notation polonaise - arbre binaire"
   ]
  },
  {
   "cell_type": "markdown",
   "metadata": {
    "slideshow": {
     "slide_type": "slide"
    }
   },
   "source": [
    "# 1. Problématique"
   ]
  },
  {
   "cell_type": "markdown",
   "metadata": {},
   "source": [
    "Expression mathématique courante\n",
    "$$2~×~(3+4)$$"
   ]
  },
  {
   "cell_type": "markdown",
   "metadata": {
    "slideshow": {
     "slide_type": "fragment"
    }
   },
   "source": [
    "- 1920 le mathématicien Jan Łukasiewicz présente la *notation polonaise*.\n",
    "$$×~2+3~4$$"
   ]
  },
  {
   "cell_type": "markdown",
   "metadata": {
    "slideshow": {
     "slide_type": "fragment"
    }
   },
   "source": [
    "- années 50 Charles L. Hamblin adapte la *notation polonaise inversée*.\n",
    "$$2~3~4~+~×$$"
   ]
  },
  {
   "cell_type": "markdown",
   "metadata": {
    "slideshow": {
     "slide_type": "fragment"
    }
   },
   "source": [
    "- 1972 Hewlett-Packard sort une calculatrice financière en notation polonaise inversée. "
   ]
  },
  {
   "cell_type": "markdown",
   "metadata": {
    "slideshow": {
     "slide_type": "-"
    }
   },
   "source": [
    "<div align=\"middle\"><h3>Quelle représentation en mémoire permet de réaliser un calcul en notation polonaise inversée?</h3></div>"
   ]
  },
  {
   "cell_type": "markdown",
   "metadata": {
    "slideshow": {
     "slide_type": "slide"
    }
   },
   "source": [
    "# 2. Arbre binaire\n",
    "## 2.1 Définition"
   ]
  },
  {
   "cell_type": "markdown",
   "metadata": {},
   "source": [
    "<div align=\"middle\"><h3>Un arbre binaire est une structure arborescente où chaque nœud possède au plus deux fils. L'ordre des nœuds-fils est pris en compte: on parle alors de fils gauche et droite</h3></div>"
   ]
  },
  {
   "cell_type": "markdown",
   "metadata": {
    "slideshow": {
     "slide_type": "fragment"
    }
   },
   "source": [
    "<div align=\"middle\"><img src=\"ressources/noeuds.png\" width=200px></div>"
   ]
  },
  {
   "cell_type": "markdown",
   "metadata": {
    "slideshow": {
     "slide_type": "notes"
    }
   },
   "source": [
    "- sous-arbre gauche et droit\n",
    "- nœud interne = qui a au moins 1 enfant (pas les feuilles donc)"
   ]
  },
  {
   "cell_type": "markdown",
   "metadata": {},
   "source": [
    "<div align=\"middle\"><img src=\"ressources/arbres.png\" width=700px></div>"
   ]
  },
  {
   "cell_type": "markdown",
   "metadata": {
    "slideshow": {
     "slide_type": "slide"
    }
   },
   "source": [
    "Un arbre binaire est:\n",
    "- **équilibré** si pour chaque nœud interne, les *sous-arbres gauche et droite* ont une hauteur qui diffère au plus de 1,\n",
    "- **complet** si tous les niveaux sont remplis sauf éventuellement le dernier; les feuilles sont alors *tassées à gauche*,\n",
    "- **parfait** si tous les niveaux sont remplis."
   ]
  },
  {
   "cell_type": "markdown",
   "metadata": {
    "slideshow": {
     "slide_type": "slide"
    }
   },
   "source": [
    "<div align=\"middle\"><img src=\"ressources/ab1.png\" width=600px></div>"
   ]
  },
  {
   "cell_type": "markdown",
   "metadata": {
    "slideshow": {
     "slide_type": "fragment"
    }
   },
   "source": [
    "### Arbre binaire équilibré mais non complet"
   ]
  },
  {
   "cell_type": "markdown",
   "metadata": {
    "slideshow": {
     "slide_type": "slide"
    }
   },
   "source": [
    "<div align=\"middle\"><img src=\"ressources/ab2.png\" width=600px></div>"
   ]
  },
  {
   "cell_type": "markdown",
   "metadata": {
    "slideshow": {
     "slide_type": "fragment"
    }
   },
   "source": [
    "### Arbre binaire non équilibré"
   ]
  },
  {
   "cell_type": "markdown",
   "metadata": {
    "slideshow": {
     "slide_type": "slide"
    }
   },
   "source": [
    "<div align=\"middle\"><img src=\"ressources/ab3.png\" width=600px></div>"
   ]
  },
  {
   "cell_type": "markdown",
   "metadata": {
    "slideshow": {
     "slide_type": "fragment"
    }
   },
   "source": [
    "### Arbre binaire complet"
   ]
  },
  {
   "cell_type": "markdown",
   "metadata": {
    "slideshow": {
     "slide_type": "slide"
    }
   },
   "source": [
    "<div align=\"middle\"><img src=\"ressources/ab4.png\" width=600px></div>"
   ]
  },
  {
   "cell_type": "markdown",
   "metadata": {
    "slideshow": {
     "slide_type": "fragment"
    }
   },
   "source": [
    "### Arbre binaire parfait"
   ]
  },
  {
   "cell_type": "markdown",
   "metadata": {
    "slideshow": {
     "slide_type": "slide"
    }
   },
   "source": [
    "### 2.2 Hauteur\n",
    "Les définitions de la **taille** et de la **hauteur** sont les mêmes que pour une structure arborescente (avec les mêmes variations selon la littérature)."
   ]
  },
  {
   "cell_type": "markdown",
   "metadata": {
    "slideshow": {
     "slide_type": "fragment"
    }
   },
   "source": [
    "Dans un arbre binaire, la taille N et la hauteur h sont liées par les inégalités:\n",
    "\n",
    "$$h+1 \\leqslant N \\leqslant 2^{h+1}-1$$"
   ]
  },
  {
   "cell_type": "markdown",
   "metadata": {
    "slideshow": {
     "slide_type": "slide"
    }
   },
   "source": [
    "#### Démonstration"
   ]
  },
  {
   "cell_type": "markdown",
   "metadata": {
    "slideshow": {
     "slide_type": "notes"
    }
   },
   "source": [
    "Un arbre de N nœuds \"gauche\"; 1 nœud par niveau au minimum donc hauteur N-1"
   ]
  },
  {
   "cell_type": "markdown",
   "metadata": {},
   "source": [
    "<div align=\"middle\"><img src=\"ressources/ab5.png\" width=250px></div>"
   ]
  },
  {
   "cell_type": "markdown",
   "metadata": {
    "slideshow": {
     "slide_type": "fragment"
    }
   },
   "source": [
    "$$h+1 \\leqslant N$$"
   ]
  },
  {
   "cell_type": "markdown",
   "metadata": {
    "slideshow": {
     "slide_type": "slide"
    }
   },
   "source": [
    "<div align=\"middle\"><img src=\"ressources/ab4.png\" width=600px></div>"
   ]
  },
  {
   "cell_type": "markdown",
   "metadata": {
    "slideshow": {
     "slide_type": "fragment"
    }
   },
   "source": [
    "#### Calcul du nombre de feuilles (par récurrence)\n",
    "- $h=0~alors~f=2^0$"
   ]
  },
  {
   "cell_type": "markdown",
   "metadata": {
    "slideshow": {
     "slide_type": "fragment"
    }
   },
   "source": [
    "- Supposons vrai pour h quelconque: $f_{h}=2^h$"
   ]
  },
  {
   "cell_type": "markdown",
   "metadata": {
    "slideshow": {
     "slide_type": "fragment"
    }
   },
   "source": [
    "- Vérifions pour $h+1$:"
   ]
  },
  {
   "cell_type": "markdown",
   "metadata": {
    "slideshow": {
     "slide_type": "fragment"
    }
   },
   "source": [
    "pour $x$ nœud père il y a $2x$ fils\n",
    "$$f_{h+1} = 2×f_{h}$$\n",
    "$$f_{h+1} = 2×2^h$$\n",
    "$$f_{h+1} = 2^{h+1}$$\n",
    "Pour un arbre binaire parfait de hauteur h il y a $2^h$ feuilles."
   ]
  },
  {
   "cell_type": "markdown",
   "metadata": {
    "slideshow": {
     "slide_type": "slide"
    }
   },
   "source": [
    "#### Calcul du nombre de nœuds d'un arbre binaire parfait\n",
    "- niveau 0: $2^0=1$ nœuds\n",
    "- niveau 1: $2^1=2$ nœuds\n",
    "- ...\n",
    "- niveau h: $2^h$ nœuds"
   ]
  },
  {
   "cell_type": "markdown",
   "metadata": {
    "slideshow": {
     "slide_type": "fragment"
    }
   },
   "source": [
    "Somme des premiers termes d'une suite géométrique:\n",
    "$$\\sum_{k=0}^{h}{2^k}=u_0×\\dfrac{1-q^{h+1}}{1-q}$$"
   ]
  },
  {
   "cell_type": "markdown",
   "metadata": {
    "slideshow": {
     "slide_type": "fragment"
    }
   },
   "source": [
    "$$\\sum_{k=0}^{h}{2^k}=1×\\dfrac{1-2^{h+1}}{1-2}$$"
   ]
  },
  {
   "cell_type": "markdown",
   "metadata": {
    "slideshow": {
     "slide_type": "fragment"
    }
   },
   "source": [
    "$$\\sum_{k=0}^{n}{2^k}=2^{h+1}-1$$"
   ]
  },
  {
   "cell_type": "markdown",
   "metadata": {
    "slideshow": {
     "slide_type": "slide"
    }
   },
   "source": [
    "Dans un arbre binaire, la taille N et la hauteur h sont liées par les inégalités:\n",
    "\n",
    "$$h+1 \\leqslant N \\leqslant 2^{h+1}-1$$"
   ]
  },
  {
   "cell_type": "markdown",
   "metadata": {
    "slideshow": {
     "slide_type": "fragment"
    }
   },
   "source": [
    "Si on définit la hauteur comme le nombre de nœuds maximum entre la racine et une feuille, on a:\n",
    "$$h \\leqslant N \\leqslant 2^{h}-1$$"
   ]
  },
  {
   "cell_type": "markdown",
   "metadata": {
    "slideshow": {
     "slide_type": "slide"
    }
   },
   "source": [
    "## 3. Représentation d'une expression mathématique\n",
    "Une expression mathématique applique une opération sur deux opérandes. Un arbre binaire permet donc de représenter n'importe quelle opération."
   ]
  },
  {
   "cell_type": "markdown",
   "metadata": {},
   "source": [
    "<div align=\"middle\"><img src=\"ressources/npi.png\" width=400px></div>"
   ]
  },
  {
   "cell_type": "markdown",
   "metadata": {
    "slideshow": {
     "slide_type": "slide"
    }
   },
   "source": [
    "## 4. Représentation d'un arbre binaire en Python\n",
    "### 4.1 Structure"
   ]
  },
  {
   "cell_type": "code",
   "execution_count": 2,
   "metadata": {},
   "outputs": [],
   "source": [
    "class Noeud:\n",
    "\n",
    "    def __init__(self, v, g, d):\n",
    "        self.valeur = v\n",
    "        self.gauche = g\n",
    "        self.droite = d"
   ]
  },
  {
   "cell_type": "markdown",
   "metadata": {
    "slideshow": {
     "slide_type": "fragment"
    }
   },
   "source": [
    "Un arbre vide est représenté par None"
   ]
  },
  {
   "cell_type": "markdown",
   "metadata": {
    "slideshow": {
     "slide_type": "slide"
    }
   },
   "source": [
    "#### Activité 1\n",
    "- Construire la variable *arbre* qui représente l'expression mathématique.\n",
    "- Écrire la fonction *récursive* **taille(a: Noeud)$\\;\\rightarrow\\;$int** qui renvoie le nombre de nœuds de l'arbre.\n",
    "- Écrire la fonction *récursive* **hauteur(a: Noeud)$\\;\\rightarrow\\;$int** qui renvoie la hauteur de l'arbre."
   ]
  },
  {
   "cell_type": "code",
   "execution_count": 8,
   "metadata": {
    "slideshow": {
     "slide_type": "slide"
    }
   },
   "outputs": [],
   "source": [
    "arbre = Noeud(\"×\",\n",
    "              Noeud(2, None, None),\n",
    "              Noeud(\"+\",\n",
    "                    Noeud(3, None, None),\n",
    "                    Noeud(4, None, None)))"
   ]
  },
  {
   "cell_type": "code",
   "execution_count": 4,
   "metadata": {
    "slideshow": {
     "slide_type": "slide"
    }
   },
   "outputs": [],
   "source": [
    "def taille(a: Noeud)->int:\n",
    "    \"\"\"renvoie le nombre de noeuds de l'arbre a\"\"\"\n",
    "    if a is None:\n",
    "        return 0\n",
    "    else:\n",
    "        return 1 + taille(a.gauche) + taille(a.droite)"
   ]
  },
  {
   "cell_type": "code",
   "execution_count": 5,
   "metadata": {},
   "outputs": [
    {
     "data": {
      "text/plain": [
       "5"
      ]
     },
     "execution_count": 5,
     "metadata": {},
     "output_type": "execute_result"
    }
   ],
   "source": [
    "taille(arbre)"
   ]
  },
  {
   "cell_type": "code",
   "execution_count": 6,
   "metadata": {
    "slideshow": {
     "slide_type": "slide"
    }
   },
   "outputs": [],
   "source": [
    "def hauteur(a: Noeud)->int:\n",
    "    \"\"\"hauteur max de l'arbre a\"\"\"\n",
    "    if a is None:\n",
    "        return 0\n",
    "    else:\n",
    "        return 1 + max(hauteur(a.gauche), hauteur(a.droite))"
   ]
  },
  {
   "cell_type": "code",
   "execution_count": 7,
   "metadata": {},
   "outputs": [
    {
     "data": {
      "text/plain": [
       "3"
      ]
     },
     "execution_count": 7,
     "metadata": {},
     "output_type": "execute_result"
    }
   ],
   "source": [
    "hauteur(arbre)"
   ]
  },
  {
   "cell_type": "markdown",
   "metadata": {
    "slideshow": {
     "slide_type": "slide"
    }
   },
   "source": [
    "## 4. Parcours en profondeur d'un arbre binaire\n",
    "3 possibilités dans l'affichage du nœud traversé"
   ]
  },
  {
   "cell_type": "markdown",
   "metadata": {
    "slideshow": {
     "slide_type": "slide"
    }
   },
   "source": [
    "<div align=\"middle\"><img src=\"ressources/arbre-seul.png\" width=400px></div>"
   ]
  },
  {
   "cell_type": "code",
   "execution_count": null,
   "metadata": {},
   "outputs": [],
   "source": [
    "parcours préfixe(arbre)\n",
    "\taffiche(valeur)\n",
    "\tparcours préfixe(sous-arbre gauche)\n",
    "\tparcours préfixe(sous-arbre droit)"
   ]
  },
  {
   "cell_type": "markdown",
   "metadata": {
    "slideshow": {
     "slide_type": "fragment"
    }
   },
   "source": [
    "A B D E C F"
   ]
  },
  {
   "cell_type": "markdown",
   "metadata": {
    "slideshow": {
     "slide_type": "slide"
    }
   },
   "source": [
    "<div align=\"middle\"><img src=\"ressources/arbre-seul.png\" width=400px></div>"
   ]
  },
  {
   "cell_type": "code",
   "execution_count": null,
   "metadata": {},
   "outputs": [],
   "source": [
    "parcours infixe(arbre)\n",
    "\tparcours infixe(sous-arbre gauche)\n",
    "\taffiche(valeur)\n",
    "\tparcours infixe(sous-arbre droit)"
   ]
  },
  {
   "cell_type": "markdown",
   "metadata": {
    "slideshow": {
     "slide_type": "fragment"
    }
   },
   "source": [
    "D B E A F C"
   ]
  },
  {
   "cell_type": "markdown",
   "metadata": {
    "slideshow": {
     "slide_type": "slide"
    }
   },
   "source": [
    "<div align=\"middle\"><img src=\"ressources/arbre-seul.png\" width=400px></div>"
   ]
  },
  {
   "cell_type": "code",
   "execution_count": null,
   "metadata": {},
   "outputs": [],
   "source": [
    "parcours postfixe(arbre)\n",
    "\tparcours postfixe(sous-arbre gauche)\n",
    "\tparcours postfixe(sous-arbre droit)\n",
    "\taffiche(valeur)"
   ]
  },
  {
   "cell_type": "markdown",
   "metadata": {
    "slideshow": {
     "slide_type": "fragment"
    }
   },
   "source": [
    "D E B F C A"
   ]
  },
  {
   "cell_type": "markdown",
   "metadata": {
    "slideshow": {
     "slide_type": "slide"
    }
   },
   "source": [
    "<div align=\"middle\"><img src=\"ressources/npi.png\" width=300px></div>\n",
    "Réaliser les trois parcours à la main"
   ]
  },
  {
   "cell_type": "markdown",
   "metadata": {
    "slideshow": {
     "slide_type": "fragment"
    }
   },
   "source": [
    "préfixe: × 2 + 3 4 (notation polonaise)"
   ]
  },
  {
   "cell_type": "markdown",
   "metadata": {
    "slideshow": {
     "slide_type": "fragment"
    }
   },
   "source": [
    "infixe: 2 × 3 + 4 (écriture usuelle; les parenthèses sont indispensables)"
   ]
  },
  {
   "cell_type": "markdown",
   "metadata": {
    "slideshow": {
     "slide_type": "fragment"
    }
   },
   "source": [
    "postfixe: 2 3 4 + × (notation polonaise inversée)"
   ]
  },
  {
   "cell_type": "markdown",
   "metadata": {
    "slideshow": {
     "slide_type": "notes"
    }
   },
   "source": [
    "2nde écriture pour NPI $$3~4~+~2~×$$"
   ]
  },
  {
   "cell_type": "markdown",
   "metadata": {
    "slideshow": {
     "slide_type": "slide"
    }
   },
   "source": [
    "#### Activité 1\n",
    "- Écrire les trois fonctions *récursives* de parcours qui affichent (*print*} directement la valeur du nœud traversé.\n",
    "- Adapter ces fonctions pour renvoyer un tableau ordonné des nœuds traversés.\n",
    "- Quel parcours implémente la notation polonaise inverse?"
   ]
  },
  {
   "cell_type": "code",
   "execution_count": 10,
   "metadata": {
    "slideshow": {
     "slide_type": "slide"
    }
   },
   "outputs": [],
   "source": [
    "def prefixe(a: Noeud)->None:\n",
    "    if a is None:\n",
    "        return\n",
    "    print(a.valeur, end=\" \")\n",
    "    prefixe(a.gauche)\n",
    "    prefixe(a.droite)"
   ]
  },
  {
   "cell_type": "code",
   "execution_count": 11,
   "metadata": {
    "slideshow": {
     "slide_type": "fragment"
    }
   },
   "outputs": [
    {
     "name": "stdout",
     "output_type": "stream",
     "text": [
      "× 2 + 3 4 "
     ]
    }
   ],
   "source": [
    "prefixe(arbre) # notation polonaise"
   ]
  },
  {
   "cell_type": "code",
   "execution_count": 12,
   "metadata": {
    "slideshow": {
     "slide_type": "slide"
    }
   },
   "outputs": [],
   "source": [
    "def infixe(a: Noeud)->None:\n",
    "    if a is None:\n",
    "        return\n",
    "    infixe(a.gauche)\n",
    "    print(a.valeur, end=\" \")\n",
    "    infixe(a.droite)"
   ]
  },
  {
   "cell_type": "code",
   "execution_count": 13,
   "metadata": {
    "slideshow": {
     "slide_type": "fragment"
    }
   },
   "outputs": [
    {
     "name": "stdout",
     "output_type": "stream",
     "text": [
      "2 × 3 + 4 "
     ]
    }
   ],
   "source": [
    "infixe(arbre) # notation usuelle"
   ]
  },
  {
   "cell_type": "code",
   "execution_count": 14,
   "metadata": {
    "slideshow": {
     "slide_type": "slide"
    }
   },
   "outputs": [],
   "source": [
    "def postfixe(a: Noeud)->None:\n",
    "    if a is None:\n",
    "        return\n",
    "    postfixe(a.gauche)\n",
    "    postfixe(a.droite)\n",
    "    print(a.valeur, end=\" \")"
   ]
  },
  {
   "cell_type": "code",
   "execution_count": 15,
   "metadata": {
    "slideshow": {
     "slide_type": "fragment"
    }
   },
   "outputs": [
    {
     "name": "stdout",
     "output_type": "stream",
     "text": [
      "2 3 4 + × "
     ]
    }
   ],
   "source": [
    "postfixe(arbre) # notation polonaise inversée"
   ]
  },
  {
   "cell_type": "code",
   "execution_count": 16,
   "metadata": {
    "slideshow": {
     "slide_type": "slide"
    }
   },
   "outputs": [],
   "source": [
    "def prefixe2(a: Noeud, parcours: list)->list:\n",
    "    if a is None:\n",
    "        return\n",
    "    parcours.append(a.valeur)\n",
    "    prefixe2(a.gauche, parcours)\n",
    "    prefixe2(a.droite, parcours)\n",
    "    return parcours"
   ]
  },
  {
   "cell_type": "code",
   "execution_count": 17,
   "metadata": {},
   "outputs": [
    {
     "data": {
      "text/plain": [
       "['×', 2, '+', 3, 4]"
      ]
     },
     "execution_count": 17,
     "metadata": {},
     "output_type": "execute_result"
    }
   ],
   "source": [
    "prefixe2(arbre, [])"
   ]
  }
 ],
 "metadata": {
  "celltoolbar": "Slideshow",
  "kernelspec": {
   "display_name": "Python 3",
   "language": "python",
   "name": "python3"
  },
  "language_info": {
   "codemirror_mode": {
    "name": "ipython",
    "version": 3
   },
   "file_extension": ".py",
   "mimetype": "text/x-python",
   "name": "python",
   "nbconvert_exporter": "python",
   "pygments_lexer": "ipython3",
   "version": "3.8.6"
  },
  "latex_envs": {
   "LaTeX_envs_menu_present": true,
   "autoclose": false,
   "autocomplete": true,
   "bibliofile": "biblio.bib",
   "cite_by": "apalike",
   "current_citInitial": 1,
   "eqLabelWithNumbers": true,
   "eqNumInitial": 1,
   "hotkeys": {
    "equation": "Ctrl-E",
    "itemize": "Ctrl-I"
   },
   "labels_anchors": false,
   "latex_user_defs": false,
   "report_style_numbering": true,
   "user_envs_cfg": false
  }
 },
 "nbformat": 4,
 "nbformat_minor": 4
}
