{
 "cells": [
  {
   "cell_type": "markdown",
   "metadata": {
    "slideshow": {
     "slide_type": "slide"
    }
   },
   "source": [
    "# Arbre binaire de recherche"
   ]
  },
  {
   "cell_type": "markdown",
   "metadata": {
    "slideshow": {
     "slide_type": "slide"
    }
   },
   "source": [
    "## 1. Problématique"
   ]
  },
  {
   "cell_type": "markdown",
   "metadata": {
    "slideshow": {
     "slide_type": "fragment"
    }
   },
   "source": [
    "Les arbres binaires, les tas imposent des contraintes aux structures arborescentes. Il en résulte des objets avec des propriétés très utiles. Par exemple, la complexité du tri par tas est $O(n) = n.log(n)$."
   ]
  },
  {
   "cell_type": "markdown",
   "metadata": {
    "slideshow": {
     "slide_type": "fragment"
    }
   },
   "source": [
    "### Comment obtenir une méthode de recherche efficace avec les arbres?"
   ]
  },
  {
   "cell_type": "markdown",
   "metadata": {
    "slideshow": {
     "slide_type": "slide"
    }
   },
   "source": [
    "## 2. Arbre binaire de recherche\n",
    "### 2.1 Définition\n",
    "<div align=\"middle\"><img src=\"ressources/arb.png\"></div>"
   ]
  },
  {
   "cell_type": "markdown",
   "metadata": {
    "slideshow": {
     "slide_type": "fragment"
    }
   },
   "source": [
    "#### Chaque valeur n'apparait qu'une fois dans l'arbre."
   ]
  },
  {
   "cell_type": "markdown",
   "metadata": {
    "slideshow": {
     "slide_type": "slide"
    }
   },
   "source": [
    "#### Activité 1\n",
    "- Placer les valeurs 23, 27, 55, 59 dans l'ABR.\n",
    "- Où se trouve la plus grande valeur? La plus petite?\n",
    "- Effectuer un parcours infixe de l'arbre. Que remarque-t-on?"
   ]
  },
  {
   "cell_type": "markdown",
   "metadata": {
    "slideshow": {
     "slide_type": "slide"
    }
   },
   "source": [
    "<div align=\"middle\"><img src=\"ressources/activite1.png\"></div>"
   ]
  },
  {
   "cell_type": "markdown",
   "metadata": {
    "slideshow": {
     "slide_type": "fragment"
    }
   },
   "source": [
    "- la plus petite est à gauche, la plus grande à droite\n",
    "- parcours infixe: 8 20 21 23 25 26 27 28 33 35 40 54 55 56 58 60 65"
   ]
  },
  {
   "cell_type": "markdown",
   "metadata": {
    "slideshow": {
     "slide_type": "slide"
    }
   },
   "source": [
    "### 2.2 Propriété\n",
    "$$h+1 \\leq n \\leq 2^{h+1}-1$$"
   ]
  },
  {
   "cell_type": "markdown",
   "metadata": {
    "slideshow": {
     "slide_type": "fragment"
    }
   },
   "source": [
    "$$ \\lfloor \\log_2 n  \\rfloor \\leq h$$\n",
    "Démonstration rapide:"
   ]
  },
  {
   "cell_type": "markdown",
   "metadata": {
    "slideshow": {
     "slide_type": "fragment"
    }
   },
   "source": [
    "$$n+1 \\leq 2^{h+1}$$"
   ]
  },
  {
   "cell_type": "markdown",
   "metadata": {
    "slideshow": {
     "slide_type": "fragment"
    }
   },
   "source": [
    "$$\\log_2{(n+1)} \\leq h+1$$"
   ]
  },
  {
   "cell_type": "markdown",
   "metadata": {
    "slideshow": {
     "slide_type": "fragment"
    }
   },
   "source": [
    "$$\\log_2{(n+1)} - 1\\leq h$$"
   ]
  },
  {
   "cell_type": "markdown",
   "metadata": {
    "slideshow": {
     "slide_type": "fragment"
    }
   },
   "source": [
    "$$ \\lfloor \\log_2 n  \\rfloor \\leq h$$"
   ]
  },
  {
   "cell_type": "code",
   "execution_count": null,
   "metadata": {
    "slideshow": {
     "slide_type": "slide"
    }
   },
   "outputs": [],
   "source": [
    "tab = [33, 25, 56, 20, 28, 40, 60, 8, 21, 26, 35, 58, 65]"
   ]
  },
  {
   "cell_type": "markdown",
   "metadata": {},
   "source": [
    "<div align=\"middle\"><img src=\"ressources/arb.png\" width=\"700px\"></div>"
   ]
  },
  {
   "cell_type": "markdown",
   "metadata": {
    "slideshow": {
     "slide_type": "slide"
    }
   },
   "source": [
    "#### Activité 2\n",
    "- Quelle la complexité temporelle dans le pire des cas de la recherche d'un élément dans le tableau?\n",
    "- Que devient cette complexité pour l'ABR?"
   ]
  },
  {
   "cell_type": "markdown",
   "metadata": {
    "slideshow": {
     "slide_type": "fragment"
    }
   },
   "source": [
    "Dans un tableau la complexité est en $O(n)$"
   ]
  },
  {
   "cell_type": "markdown",
   "metadata": {
    "slideshow": {
     "slide_type": "fragment"
    }
   },
   "source": [
    "Dans un ABR on parcourt au maximum une hauteur h et $ \\lfloor \\log_2 n  \\rfloor \\leq h$ donc la complexité est en $O(\\log_2(n))$"
   ]
  },
  {
   "cell_type": "markdown",
   "metadata": {
    "slideshow": {
     "slide_type": "fragment"
    }
   },
   "source": [
    "#### Il faut que l'arbre soit équilibré."
   ]
  },
  {
   "cell_type": "markdown",
   "metadata": {
    "slideshow": {
     "slide_type": "slide"
    }
   },
   "source": [
    "## 3 Implémentation\n",
    "#### Activité 3\n",
    "- Créer la classe Noeud qui possède trois attributs:\n",
    "    - valeur un entier,\n",
    "    - gauche un Noeud,\n",
    "    - droit un Noeud.\n",
    "- Le constructeur acceptera trois paramètres (v: int, g = None, d = None).\n",
    "- Écrire la méthode **inserer(self, v: int)$\\;\\rightarrow\\;$None** qui crée récursivement le nœud contenant la valeur v dans le sous-arbre gauche ou droit du nœud.\n",
    "- Écrire la méthode **rechercher(self, v: int)$\\;\\rightarrow\\;$bool** qui renvoie True si la valeur v est dans le nœud ou dans un de ses sous-arbres.\n",
    "- Créer la classe ABR et son constructeur qui possédera un attribut racine initialisé à None.\n",
    "- Écrire la méthode **est\\_vide(self)$\\;\\rightarrow\\;$bool** qui renvoie True si l'arbre est vide.\n",
    "- Écrire la méthode **inserer(self, v: int)$\\;\\rightarrow\\;$None** qui:\n",
    "    - crée un nœud contenant v si l'arbre est vide,\n",
    "    - appelle la méthode inserer du nœud racine sinon.\n",
    "- Écrire la méthode **rechercher(self, v: int)$\\;\\rightarrow\\;$None** qui renvoie True si v est présent dans l'arbre."
   ]
  },
  {
   "cell_type": "code",
   "execution_count": null,
   "metadata": {
    "slideshow": {
     "slide_type": "slide"
    }
   },
   "outputs": [],
   "source": [
    "class Noeud:\n",
    "\n",
    "    def __init__(self, v, g=None, d=None):\n",
    "        self.valeur = v\n",
    "        self.gauche = g\n",
    "        self.droite = d"
   ]
  },
  {
   "cell_type": "code",
   "execution_count": null,
   "metadata": {
    "slideshow": {
     "slide_type": "slide"
    }
   },
   "outputs": [],
   "source": [
    "    def inserer(self, v: int) -> None:\n",
    "        \"\"\"\n",
    "        crée un Noeud dans le sous-arbre gauche ou droit\n",
    "        \"\"\"\n",
    "        if v < self.valeur:\n",
    "            if self.gauche is None:\n",
    "                self.gauche = Noeud(v)\n",
    "            else:\n",
    "                self.gauche.inserer(v)\n",
    "        elif v > self.valeur:  # permet de ne pas ajouter une valeur déjà présente\n",
    "            if self.droite is None:\n",
    "                self.droite = Noeud(v)\n",
    "            else:\n",
    "                self.droite.inserer(v)"
   ]
  },
  {
   "cell_type": "code",
   "execution_count": null,
   "metadata": {
    "slideshow": {
     "slide_type": "slide"
    }
   },
   "outputs": [],
   "source": [
    "    def rechercher(self, v: int) -> bool:\n",
    "        \"\"\"\n",
    "        recherche v dans les sous-arbre gauche ou droit\n",
    "        \"\"\"\n",
    "        if v == self.valeur:\n",
    "            return True\n",
    "        elif v < self.valeur:\n",
    "            if self.gauche is None:\n",
    "                return False\n",
    "            else:\n",
    "                return self.gauche.rechercher(v)\n",
    "        elif v > self.valeur:\n",
    "            if self.droite is None:\n",
    "                return False\n",
    "            else:\n",
    "                return self.droite.rechercher(v)"
   ]
  },
  {
   "cell_type": "code",
   "execution_count": null,
   "metadata": {
    "slideshow": {
     "slide_type": "slide"
    }
   },
   "outputs": [],
   "source": [
    "class ABR:\n",
    "\n",
    "    def __init__(self):\n",
    "        self.racine = None"
   ]
  },
  {
   "cell_type": "code",
   "execution_count": null,
   "metadata": {
    "slideshow": {
     "slide_type": "fragment"
    }
   },
   "outputs": [],
   "source": [
    "    def est_vide(self) -> bool:\n",
    "        return self.racine is None"
   ]
  },
  {
   "cell_type": "code",
   "execution_count": null,
   "metadata": {
    "slideshow": {
     "slide_type": "slide"
    }
   },
   "outputs": [],
   "source": [
    "    def inserer(self, v: int) -> None:\n",
    "        \"\"\"\n",
    "        insère v dans l'ABR\n",
    "        en appelant la méthode inserer de Noeud\n",
    "        \"\"\"\n",
    "        if self.est_vide():\n",
    "            # création de la racine\n",
    "            self.racine = Noeud(v)\n",
    "        else:\n",
    "            # appel de la méthode inserer de Noeud\n",
    "            self.racine.inserer(v)"
   ]
  },
  {
   "cell_type": "code",
   "execution_count": null,
   "metadata": {
    "slideshow": {
     "slide_type": "slide"
    }
   },
   "outputs": [],
   "source": [
    "    def rechercher(self, v: int) -> bool:\n",
    "        \"\"\"\n",
    "        recherche v dans l'ABR\n",
    "        en appelant la méthode rechercher de Noeud\n",
    "        \"\"\"\n",
    "        if self.est_vide():\n",
    "            return False\n",
    "        else:\n",
    "            return self.racine.rechercher(v)"
   ]
  }
 ],
 "metadata": {
  "celltoolbar": "Slideshow",
  "kernelspec": {
   "display_name": "Python 3",
   "language": "python",
   "name": "python3"
  },
  "language_info": {
   "codemirror_mode": {
    "name": "ipython",
    "version": 3
   },
   "file_extension": ".py",
   "mimetype": "text/x-python",
   "name": "python",
   "nbconvert_exporter": "python",
   "pygments_lexer": "ipython3",
   "version": "3.8.6"
  },
  "latex_envs": {
   "LaTeX_envs_menu_present": true,
   "autoclose": false,
   "autocomplete": true,
   "bibliofile": "biblio.bib",
   "cite_by": "apalike",
   "current_citInitial": 1,
   "eqLabelWithNumbers": true,
   "eqNumInitial": 1,
   "hotkeys": {
    "equation": "Ctrl-E",
    "itemize": "Ctrl-I"
   },
   "labels_anchors": false,
   "latex_user_defs": false,
   "report_style_numbering": true,
   "user_envs_cfg": false
  }
 },
 "nbformat": 4,
 "nbformat_minor": 2
}
