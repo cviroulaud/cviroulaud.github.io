{
 "cells": [
  {
   "cell_type": "markdown",
   "metadata": {
    "slideshow": {
     "slide_type": "slide"
    }
   },
   "source": [
    "# Fonction native *sorted*"
   ]
  },
  {
   "cell_type": "markdown",
   "metadata": {
    "slideshow": {
     "slide_type": "slide"
    }
   },
   "source": [
    "## 1. Problématique"
   ]
  },
  {
   "cell_type": "markdown",
   "metadata": {
    "slideshow": {
     "slide_type": "fragment"
    }
   },
   "source": [
    "Comparons les performances du tri par insertion à celles de la fonction native *sorted*."
   ]
  },
  {
   "cell_type": "code",
   "execution_count": 1,
   "metadata": {
    "slideshow": {
     "slide_type": "slide"
    }
   },
   "outputs": [],
   "source": [
    "from time import time\n",
    "\n",
    "def duree_tri(fonction, t: tuple)->tuple:\n",
    "    deb = time()\n",
    "    fonction(list(t))\n",
    "    fin = time()\n",
    "    return (fonction.__name__, fin-deb)\n",
    "\n",
    "def tri_insertion(tab):\n",
    "    taille = len(tab)\n",
    "    for i in range(1,taille):\n",
    "        en_cours = tab[i]\n",
    "        j = i-1\n",
    "        while j >= 0 and tab[j] > en_cours:\n",
    "            tab[j+1] = tab[j]\n",
    "            j -= 1\n",
    "        tab[j+1] = en_cours\n",
    "    return tab"
   ]
  },
  {
   "cell_type": "code",
   "execution_count": 2,
   "metadata": {
    "slideshow": {
     "slide_type": "fragment"
    }
   },
   "outputs": [
    {
     "name": "stdout",
     "output_type": "stream",
     "text": [
      "('tri_insertion', 5.1087799072265625)\n"
     ]
    }
   ],
   "source": [
    "from random import randint\n",
    "\n",
    "l = tuple(randint(0,100) for _ in range(10000))\n",
    "print(duree_tri(tri_insertion, l))"
   ]
  },
  {
   "cell_type": "code",
   "execution_count": 3,
   "metadata": {
    "slideshow": {
     "slide_type": "fragment"
    }
   },
   "outputs": [
    {
     "name": "stdout",
     "output_type": "stream",
     "text": [
      "('sorted', 0.0018515586853027344)\n"
     ]
    }
   ],
   "source": [
    "print(duree_tri(sorted, l))"
   ]
  },
  {
   "cell_type": "markdown",
   "metadata": {
    "slideshow": {
     "slide_type": "slide"
    }
   },
   "source": [
    "### Quel algorithme de tri est implémenté dans la fonction *sorted*?"
   ]
  },
  {
   "cell_type": "markdown",
   "metadata": {
    "slideshow": {
     "slide_type": "slide"
    }
   },
   "source": [
    "## 2. Nouvelle approche"
   ]
  },
  {
   "cell_type": "markdown",
   "metadata": {
    "slideshow": {
     "slide_type": "slide"
    }
   },
   "source": [
    "### 2.1 Résoudre de petits problèmes...\n",
    "Une liste de un élément est triée."
   ]
  },
  {
   "cell_type": "markdown",
   "metadata": {
    "slideshow": {
     "slide_type": "slide"
    }
   },
   "source": [
    "<table>\n",
    "    <tr>\n",
    "        <td>8</td><td class=\"vide\"> </td><td>5</td><td class=\"vide\"> </td><td>4</td><td class=\"vide\"> </td><td>7</td><td class=\"vide\"> </td><td>9</td><td class=\"vide\"> </td><td>6</td><td class=\"vide\"> </td><td>3</td>\n",
    "    </tr>\n",
    "</table>\n",
    "    "
   ]
  },
  {
   "cell_type": "markdown",
   "metadata": {
    "slideshow": {
     "slide_type": "fragment"
    }
   },
   "source": [
    "fusionner(liste gauche, liste droite)\n",
    "<table>\n",
    "    <tr>\n",
    "        <td>5</td><td>8</td><td class=\"vide\"> </td><td>4</td><td>7</td><td class=\"vide\"> </td><td>6</td><td>9</td><td class=\"vide\"> </td><td>3</td>\n",
    "    </tr>\n",
    "</table>\n",
    "    "
   ]
  },
  {
   "cell_type": "markdown",
   "metadata": {
    "slideshow": {
     "slide_type": "fragment"
    }
   },
   "source": [
    "fusionner(liste gauche, liste droite)\n",
    "<table>\n",
    "    <tr>\n",
    "        <td>4</td><td>5</td><td>7</td><td>8</td><td class=\"vide\"> </td><td>3</td><td>6</td><td>9</td>\n",
    "    </tr>\n",
    "</table>\n",
    "    "
   ]
  },
  {
   "cell_type": "markdown",
   "metadata": {
    "slideshow": {
     "slide_type": "fragment"
    }
   },
   "source": [
    "fusionner(liste gauche, liste droite)\n",
    "<table>\n",
    "    <tr>\n",
    "        <td>3</td><td>4</td><td>5</td><td>6</td><td>7</td><td>8</td><td>9</td>\n",
    "    </tr>\n",
    "</table>\n",
    "    "
   ]
  },
  {
   "cell_type": "markdown",
   "metadata": {
    "slideshow": {
     "slide_type": "slide"
    }
   },
   "source": [
    "### 2.2 ... Pour solutionner de gros problèmes\n",
    "Décomposons un gros problèmes en petits."
   ]
  },
  {
   "cell_type": "markdown",
   "metadata": {
    "slideshow": {
     "slide_type": "slide"
    }
   },
   "source": [
    "<table>\n",
    "    <tr>\n",
    "        <td>8</td><td>5</td><td>4</td><td>7</td><td>9</td><td>6</td><td>3</td>\n",
    "    </tr>\n",
    "</table>\n",
    "    "
   ]
  },
  {
   "cell_type": "markdown",
   "metadata": {
    "slideshow": {
     "slide_type": "fragment"
    }
   },
   "source": [
    "décomposer en deux listes et recommencer sur ces deux listes\n",
    "<table>\n",
    "    <tr>\n",
    "        <td>8</td><td>5</td><td>4</td><td>7</td><td class=\"vide\"> </td><td>9</td><td>6</td><td>3</td>\n",
    "    </tr>\n",
    "</table>    "
   ]
  },
  {
   "cell_type": "markdown",
   "metadata": {
    "slideshow": {
     "slide_type": "fragment"
    }
   },
   "source": [
    "décomposer en deux listes et recommencer sur ces deux listes\n",
    "<table>\n",
    "    <tr>\n",
    "        <td>8</td><td>5</td><td class=\"vide\"> </td><td>4</td><td>7</td><td class=\"vide\"> </td><td>9</td><td>6</td><td class=\"vide\"> </td><td>3</td>\n",
    "    </tr>\n",
    "</table>\n",
    "    "
   ]
  },
  {
   "cell_type": "markdown",
   "metadata": {
    "slideshow": {
     "slide_type": "fragment"
    }
   },
   "source": [
    "décomposer en deux listes et recommencer sur ces deux listes\n",
    "<table>\n",
    "    <tr>\n",
    "        <td>8</td><td class=\"vide\"> </td><td>5</td><td class=\"vide\"> </td><td>4</td><td class=\"vide\"> </td><td>7</td><td class=\"vide\"> </td><td>9</td><td class=\"vide\"> </td><td>6</td><td class=\"vide\"> </td><td>3</td>\n",
    "    </tr>\n",
    "</table>\n",
    "    "
   ]
  },
  {
   "cell_type": "markdown",
   "metadata": {
    "slideshow": {
     "slide_type": "slide"
    }
   },
   "source": [
    "### 2.3 Diviser pour régner: un algorithme récursif\n",
    "- On appelle récursivement la fonction de tri pour décomposer en sous-listes.\n",
    "- On fusionne les sous-listes en remontant la pile d'appel.\n",
    "\n",
    "\n",
    "$$\n",
    "tri(liste) = \\left\\{\n",
    "    \\begin{array}{ll}\n",
    "        liste & \\mbox{si la taille de liste} \\leq 1 \\\\\n",
    "        fusionner(\\mbox{tri(liste gauche), tri(liste droite))} & \\mbox{sinon }\n",
    "    \\end{array}\n",
    "\\right.\n",
    "$$"
   ]
  },
  {
   "cell_type": "markdown",
   "metadata": {
    "slideshow": {
     "slide_type": "notes"
    }
   },
   "source": [
    "idée de ce tri reviendrait à von Neumann"
   ]
  },
  {
   "cell_type": "markdown",
   "metadata": {
    "slideshow": {
     "slide_type": "slide"
    }
   },
   "source": [
    "### 2.4 L'étape de fusion\n",
    "\n",
    "**Activité 1:** Écrire une fonction $fusionner(gauche: list, droite: list)\\;\\rightarrow\\;list$ qui renvoie une liste triée composée des éléments de *gauche* et *droite* déjà triées."
   ]
  },
  {
   "cell_type": "markdown",
   "metadata": {
    "slideshow": {
     "slide_type": "notes"
    }
   },
   "source": [
    "les deux listes ne sont pas forcément de la même longueur"
   ]
  },
  {
   "cell_type": "markdown",
   "metadata": {
    "slideshow": {
     "slide_type": "fragment"
    }
   },
   "source": [
    "Correction"
   ]
  },
  {
   "cell_type": "code",
   "execution_count": 4,
   "metadata": {
    "slideshow": {
     "slide_type": "slide"
    }
   },
   "outputs": [],
   "source": [
    "def fusionner(gauche: list, droite: list)-> list:\n",
    "    res = []\n",
    "    i,j = 0,0\n",
    "    while i < len(gauche) and j < len(droite):\n",
    "        if droite[j] <= gauche[i]:\n",
    "            res.append(droite[j])\n",
    "            j += 1\n",
    "        else:\n",
    "            res.append(gauche[i])\n",
    "            i += 1\n",
    "            \n",
    "    #ajout de la fin de liste restante\n",
    "    if i == len(gauche):\n",
    "        res.extend(droite[j:])\n",
    "    if j == len(droite):\n",
    "        res.extend(gauche[i:])\n",
    "    return res"
   ]
  },
  {
   "cell_type": "code",
   "execution_count": 5,
   "metadata": {
    "slideshow": {
     "slide_type": "fragment"
    }
   },
   "outputs": [
    {
     "data": {
      "text/plain": [
       "[1, 2, 3, 4, 6, 8, 9, 15]"
      ]
     },
     "execution_count": 5,
     "metadata": {},
     "output_type": "execute_result"
    }
   ],
   "source": [
    "gauche = [3,4,8,15]\n",
    "droite = [1,2,6,9]\n",
    "fusionner(gauche,droite)"
   ]
  },
  {
   "cell_type": "code",
   "execution_count": 6,
   "metadata": {
    "slideshow": {
     "slide_type": "slide"
    }
   },
   "outputs": [],
   "source": [
    "def fusionner2(gauche: list,droite: list)->list:\n",
    "    res = []\n",
    "    while gauche and droite:\n",
    "        if gauche[0] <= droite[0]:\n",
    "            res.append(gauche.pop(0))\n",
    "        else:\n",
    "            res.append(droite.pop(0))\n",
    "            \n",
    "    #ajout de la fin de liste restante\n",
    "    if gauche:\n",
    "        res.extend(gauche)\n",
    "    if droite:\n",
    "        res.extend(droite)\n",
    "    return res"
   ]
  },
  {
   "cell_type": "code",
   "execution_count": 7,
   "metadata": {
    "slideshow": {
     "slide_type": "fragment"
    }
   },
   "outputs": [
    {
     "data": {
      "text/plain": [
       "[1, 2, 3, 4, 6, 8, 9, 15]"
      ]
     },
     "execution_count": 7,
     "metadata": {},
     "output_type": "execute_result"
    }
   ],
   "source": [
    "gauche = [3,4,8,15]\n",
    "droite = [1,2,6,9]\n",
    "fusionner2(gauche,droite)"
   ]
  },
  {
   "cell_type": "markdown",
   "metadata": {
    "slideshow": {
     "slide_type": "slide"
    }
   },
   "source": [
    "### 2.5 Le code complet du tri fusion\n",
    "\n",
    "#### Activité 2\n",
    "$$\n",
    "tri(liste) = \\left\\{\n",
    "    \\begin{array}{ll}\n",
    "        liste & \\mbox{si la taille de liste} \\leq 1 \\\\\n",
    "        fusionner(\\mbox{tri(liste gauche), tri(liste droite))} & \\mbox{sinon }\n",
    "    \\end{array}\n",
    "\\right.\n",
    "$$\n"
   ]
  },
  {
   "cell_type": "markdown",
   "metadata": {
    "slideshow": {
     "slide_type": "fragment"
    }
   },
   "source": [
    "Correction"
   ]
  },
  {
   "cell_type": "code",
   "execution_count": 8,
   "metadata": {
    "slideshow": {
     "slide_type": "slide"
    }
   },
   "outputs": [],
   "source": [
    "def tri_fusion(tab):\n",
    "    taille = len(tab)\n",
    "    if taille <= 1:\n",
    "        return tab\n",
    "    else:\n",
    "        milieu = taille//2\n",
    "        return fusionner(tri_fusion(tab[:milieu]), tri_fusion(tab[milieu:]))"
   ]
  },
  {
   "cell_type": "markdown",
   "metadata": {
    "slideshow": {
     "slide_type": "slide"
    }
   },
   "source": [
    "## 3. Performances du tri fusion"
   ]
  },
  {
   "cell_type": "markdown",
   "metadata": {
    "slideshow": {
     "slide_type": "skip"
    }
   },
   "source": [
    "### 3.1 Comparaison"
   ]
  },
  {
   "cell_type": "code",
   "execution_count": 9,
   "metadata": {
    "slideshow": {
     "slide_type": "fragment"
    }
   },
   "outputs": [
    {
     "name": "stdout",
     "output_type": "stream",
     "text": [
      "('tri_fusion', 0.12418222427368164)\n",
      "('sorted', 0.001750946044921875)\n"
     ]
    }
   ],
   "source": [
    "l = tuple(randint(0,100) for _ in range(10000))\n",
    "print(duree_tri(tri_fusion, l))\n",
    "print(duree_tri(sorted, l))"
   ]
  },
  {
   "cell_type": "markdown",
   "metadata": {
    "slideshow": {
     "slide_type": "fragment"
    }
   },
   "source": [
    "- On gagne un facteur 100 par rapport au tri par insertion.\n",
    "- Il y a encore un facteur 10 par rapport à la fonction native."
   ]
  },
  {
   "cell_type": "markdown",
   "metadata": {
    "slideshow": {
     "slide_type": "slide"
    }
   },
   "source": [
    "## 3.2 Complexité"
   ]
  },
  {
   "cell_type": "markdown",
   "metadata": {
    "slideshow": {
     "slide_type": "fragment"
    }
   },
   "source": [
    "### 3.2.1 Découper en sous-listes\n",
    "$$\\dfrac{n}{2^a}=1$$"
   ]
  },
  {
   "cell_type": "markdown",
   "metadata": {
    "slideshow": {
     "slide_type": "fragment"
    }
   },
   "source": [
    "Le logarithme base 2 noté $log_2$ se définit: $log_2(2^x)=x$."
   ]
  },
  {
   "cell_type": "markdown",
   "metadata": {
    "slideshow": {
     "slide_type": "fragment"
    }
   },
   "source": [
    "#### Activité 4: Déterminer la valeur de a"
   ]
  },
  {
   "cell_type": "markdown",
   "metadata": {
    "slideshow": {
     "slide_type": "fragment"
    }
   },
   "source": [
    "La complexité de la fonction *tri_fusion* est en $O(log_2(n))$"
   ]
  },
  {
   "cell_type": "markdown",
   "metadata": {
    "slideshow": {
     "slide_type": "slide"
    }
   },
   "source": [
    "### 3.2.2 Fusionner deux listes"
   ]
  },
  {
   "cell_type": "code",
   "execution_count": 10,
   "metadata": {
    "slideshow": {
     "slide_type": "fragment"
    }
   },
   "outputs": [],
   "source": [
    "def fusionner(gauche: list, droite: list)-> list:\n",
    "    res = []\n",
    "    i,j = 0,0\n",
    "        \n",
    "    # Chaque liste n'est parcourue qu'une seule fois\n",
    "    # Le parcours est en O(n)\n",
    "    \n",
    "    while i < len(gauche) and j < len(droite):\n",
    "        if droite[j] <= gauche[i]:\n",
    "            res.append(droite[j])\n",
    "            j += 1\n",
    "        else:\n",
    "            res.append(gauche[i])\n",
    "            i += 1\n",
    "            \n",
    "    #ajout de la fin de liste restante\n",
    "    if i == len(gauche):\n",
    "        res.extend(droite[j:])\n",
    "    if j == len(droite):\n",
    "        res.extend(gauche[i:])\n",
    "    return res"
   ]
  },
  {
   "cell_type": "markdown",
   "metadata": {
    "slideshow": {
     "slide_type": "slide"
    }
   },
   "source": [
    "<div align=\"middle\"><img src=\"ressources/fusion.png\" height=500px></div>"
   ]
  },
  {
   "cell_type": "markdown",
   "metadata": {
    "slideshow": {
     "slide_type": "slide"
    }
   },
   "source": [
    "### 3.2.3 Complexité du tri fusion\n",
    "La complexité du tri fusion est en $O(n×log_2(n))$."
   ]
  },
  {
   "cell_type": "code",
   "execution_count": 21,
   "metadata": {
    "slideshow": {
     "slide_type": "slide"
    }
   },
   "outputs": [],
   "source": [
    "import matplotlib.pyplot as plt\n",
    "\n",
    "def evolution_duree(fonction,cadre):\n",
    "    nb_elements=[10,100,250,500,750,1000,1500,2000,3000,3500,5000,7500,10000,13000,16000,24000] \n",
    "    temps = []\n",
    "    #calculs des durées\n",
    "    for nb in nb_elements:\n",
    "        tab = [randint(0,100) for _ in range(nb)]\n",
    "        temps.append(duree_tri(fonction,tab)[1]) \n",
    "        \n",
    "    #création du graphe\n",
    "    p = plt.subplot(1,2,cadre)\n",
    "    plt.plot(nb_elements,temps)\n",
    "    \n",
    "    #habillage\n",
    "    plt.title(fonction.__name__)\n",
    "    p.xaxis.set_tick_params(labelsize=16)\n",
    "    p.yaxis.set_tick_params(labelsize=16)\n",
    "    plt.grid()\n",
    "\n",
    "def affichage():\n",
    "    plt.figure(figsize=(20,10))\n",
    "    evolution_duree(tri_insertion,1)\n",
    "    evolution_duree(tri_fusion,2)\n",
    "    plt.show()"
   ]
  },
  {
   "cell_type": "code",
   "execution_count": 22,
   "metadata": {
    "slideshow": {
     "slide_type": "slide"
    }
   },
   "outputs": [
    {
     "data": {
      "image/png": "[encoded data removed]",
      "text/plain": [
       "<Figure size 1440x720 with 2 Axes>"
      ]
     },
     "metadata": {
      "needs_background": "light"
     },
     "output_type": "display_data"
    }
   ],
   "source": [
    "affichage()"
   ]
  },
  {
   "cell_type": "markdown",
   "metadata": {
    "slideshow": {
     "slide_type": "slide"
    }
   },
   "source": [
    "### 3.3 Stabilité\n",
    "Un algorithme de tri **stable** maintient l'ordre relatif des clés égales de l'entrée."
   ]
  },
  {
   "cell_type": "markdown",
   "metadata": {
    "slideshow": {
     "slide_type": "fragment"
    }
   },
   "source": [
    "**Entrée:** (1, 2) (9, 7) (3, 4) (8, 6) (9, 3)"
   ]
  },
  {
   "cell_type": "markdown",
   "metadata": {
    "slideshow": {
     "slide_type": "fragment"
    }
   },
   "source": [
    "**Sortie stable:** (1, 2) (3, 4) (8, 6) (9, 7) (9, 3)"
   ]
  },
  {
   "cell_type": "markdown",
   "metadata": {
    "slideshow": {
     "slide_type": "fragment"
    }
   },
   "source": [
    "**Sortie instable:** (1, 2) (3, 4) (8, 6) (9, 3) (9, 7)"
   ]
  },
  {
   "cell_type": "markdown",
   "metadata": {
    "slideshow": {
     "slide_type": "slide"
    }
   },
   "source": [
    "## 4. La fonction native *sorted*\n",
    "Elle implémente l'algorithme **Timsort** mis au point par Tim Peters en 2002. C'est un algorithme hybride de plusieurs tris.\n",
    "#### Activité 6: Réaliser une présentation de l'algorithme Timsort\n",
    "Le format de retour peut-être un pdf ou un jupyter."
   ]
  }
 ],
 "metadata": {
  "celltoolbar": "Slideshow",
  "kernelspec": {
   "display_name": "Python 3",
   "language": "python",
   "name": "python3"
  },
  "language_info": {
   "codemirror_mode": {
    "name": "ipython",
    "version": 3
   },
   "file_extension": ".py",
   "mimetype": "text/x-python",
   "name": "python",
   "nbconvert_exporter": "python",
   "pygments_lexer": "ipython3",
   "version": "3.8.1"
  },
  "latex_envs": {
   "LaTeX_envs_menu_present": true,
   "autoclose": false,
   "autocomplete": true,
   "bibliofile": "biblio.bib",
   "cite_by": "apalike",
   "current_citInitial": 1,
   "eqLabelWithNumbers": true,
   "eqNumInitial": 1,
   "hotkeys": {
    "equation": "Ctrl-E",
    "itemize": "Ctrl-I"
   },
   "labels_anchors": false,
   "latex_user_defs": false,
   "report_style_numbering": true,
   "user_envs_cfg": false
  }
 },
 "nbformat": 4,
 "nbformat_minor": 4
}
