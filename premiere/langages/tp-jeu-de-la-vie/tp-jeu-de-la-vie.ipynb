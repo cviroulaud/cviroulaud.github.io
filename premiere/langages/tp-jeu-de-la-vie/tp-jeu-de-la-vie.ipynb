{
 "cells": [
  {
   "cell_type": "markdown",
   "metadata": {
    "slideshow": {
     "slide_type": "slide"
    }
   },
   "source": [
    "# Jeu de la vie"
   ]
  },
  {
   "cell_type": "markdown",
   "metadata": {
    "slideshow": {
     "slide_type": "fragment"
    }
   },
   "source": [
    "## 1. Présentation\n",
    "- une cellule morte possédant exactement trois voisines vivantes devient vivante (elle naît),\n",
    "- une cellule vivante possédant deux ou trois voisines vivantes le reste, sinon elle meurt."
   ]
  },
  {
   "cell_type": "markdown",
   "metadata": {
    "slideshow": {
     "slide_type": "slide"
    }
   },
   "source": [
    "<div align=\"middle\"><img src=\"ressources/fig1.png\"></div>"
   ]
  },
  {
   "cell_type": "markdown",
   "metadata": {
    "slideshow": {
     "slide_type": "slide"
    }
   },
   "source": [
    "<div align=\"middle\"><img src=\"ressources/fig2.png\"></div>"
   ]
  },
  {
   "cell_type": "markdown",
   "metadata": {
    "slideshow": {
     "slide_type": "slide"
    }
   },
   "source": [
    "<div align=\"middle\"><img src=\"ressources/fig3.png\"></div>"
   ]
  },
  {
   "cell_type": "markdown",
   "metadata": {
    "slideshow": {
     "slide_type": "slide"
    }
   },
   "source": [
    "## 2. Outils graphiques\n",
    "#### Activité 1"
   ]
  },
  {
   "cell_type": "code",
   "execution_count": null,
   "metadata": {
    "slideshow": {
     "slide_type": "fragment"
    }
   },
   "outputs": [],
   "source": [
    "from tkinter import *\n",
    "\n",
    "TAILLE = 8 #dimension d'une cellule,\n",
    "CELLULES = 200 #nombre de cellules en largeur et en hauteur.\n",
    "\n",
    "fenetre = Tk()\n",
    "fenetre.title(\"Jeu de la vie\")\n",
    "canevas = Canvas(fenetre, width = 100, height = 100)\n",
    "canevas.pack()\n",
    "\n",
    "# ligne à placer en fin de programme\n",
    "fenetre.mainloop()"
   ]
  },
  {
   "cell_type": "markdown",
   "metadata": {
    "slideshow": {
     "slide_type": "slide"
    }
   },
   "source": [
    "## 3. Préparation\n",
    "### 3.1 Créer la grille\n",
    "#### Activité 2"
   ]
  },
  {
   "cell_type": "code",
   "execution_count": null,
   "metadata": {
    "slideshow": {
     "slide_type": "fragment"
    }
   },
   "outputs": [],
   "source": [
    "grille = [[False for _ in range(CELLULES)] for _ in range(CELLULES)]"
   ]
  },
  {
   "cell_type": "markdown",
   "metadata": {
    "slideshow": {
     "slide_type": "slide"
    }
   },
   "source": [
    "### 3.2 Initialiser la grille\n",
    "#### Activité 3"
   ]
  },
  {
   "cell_type": "code",
   "execution_count": null,
   "metadata": {
    "slideshow": {
     "slide_type": "fragment"
    }
   },
   "outputs": [],
   "source": [
    "def aleatoire(g: list, n: int)->None:\n",
    "    \"\"\"\n",
    "    place n cellules au hasard\n",
    "\n",
    "    Parameters\n",
    "    ----------\n",
    "    g : list\n",
    "        la grille.\n",
    "    n : int\n",
    "        le nombre de cellules à placer.\n",
    "\n",
    "    Returns\n",
    "    -------\n",
    "    None\n",
    "\n",
    "    \"\"\"\n",
    "    for _ in range(n):\n",
    "        x,y = randint(0,199), randint(0,199)\n",
    "        g[x][y] = True"
   ]
  },
  {
   "cell_type": "markdown",
   "metadata": {
    "slideshow": {
     "slide_type": "slide"
    }
   },
   "source": [
    "### 3.3 Compter les voisins"
   ]
  },
  {
   "cell_type": "markdown",
   "metadata": {},
   "source": [
    "<div align=\"middle\"><img src=\"ressources/coord.png\" width=400px></div>"
   ]
  },
  {
   "cell_type": "markdown",
   "metadata": {
    "slideshow": {
     "slide_type": "fragment"
    }
   },
   "source": [
    "#### Activité 4"
   ]
  },
  {
   "cell_type": "code",
   "execution_count": null,
   "metadata": {
    "slideshow": {
     "slide_type": "slide"
    }
   },
   "outputs": [],
   "source": [
    "def compter_voisins(g: list, cel: tuple)->int:\n",
    "    \"\"\"\n",
    "    Compte les voisines vivantes de la cellule centrale\n",
    "    \n",
    "    Parameters\n",
    "    ----------\n",
    "    g : list\n",
    "        la grille.\n",
    "    cel : tuple\n",
    "        les coordonnées (x,y) de la cellule à tester\n",
    "\n",
    "    Returns\n",
    "    -------\n",
    "    int\n",
    "        le nombre de cellules voisines vivantes\n",
    "    \"\"\"\n",
    "    nb = 0\n",
    "    delta = ((-1,-1), (-1,0), (-1,1), (0,-1), (0,1), (1,-1), (1,0), (1,1))\n",
    "    for decalage in delta:\n",
    "        ligne, colonne = cel[0]+decalage[0], cel[1]+decalage[1]\n",
    "        if ligne >= 0 and ligne < CELLULES and colonne >= 0 and colonne < CELLULES:\n",
    "            if g[ligne][colonne]:\n",
    "                nb += 1\n",
    "    return nb"
   ]
  },
  {
   "cell_type": "markdown",
   "metadata": {
    "slideshow": {
     "slide_type": "slide"
    }
   },
   "source": [
    "## 4. Créer le jeu\n",
    "### 4.1 Le cycle\n",
    "#### Activité 5\n",
    "- Télécharger le dossier compressé jeu-de-la-vie.zip sur le site https://cviroulaud.github.io et le décompresser.\n",
    "- Ouvrir le fichier jeu-de-la-vie-eleve.py .\n",
    "- Compléter la fonction **cycle (f, c, g: list)$\\;\\rightarrow\\;$None** qui réalise un cycle des cellules."
   ]
  },
  {
   "cell_type": "code",
   "execution_count": null,
   "metadata": {
    "slideshow": {
     "slide_type": "slide"
    }
   },
   "outputs": [],
   "source": [
    "def cycle(f, c, g: list)->None:\n",
    "    # crée une nouvelle grille de cellules mortes\n",
    "    nouvelle = # À COMPLÉTER\n",
    "\n",
    "    for i in range(CELLULES):\n",
    "        for j in range(CELLULES):\n",
    "            # compte les voisins de la cellule (i,j)\n",
    "            nb_voisins = # À COMPLÉTER\n",
    "\n",
    "            # respecte les règles du jeu\n",
    "            # À COMPLÉTER\n",
    "\n",
    "    # la grille est actualisée\n",
    "    g = nouvelle\n",
    "\n",
    "    # affichage de la grille\n",
    "    affichage(f, c, g)\n",
    "\n",
    "    # nouveau cycle: la méthode after rappelle la fonction cycle toutes les 100ms\n",
    "    f.after(100, cycle, f, c, g)"
   ]
  },
  {
   "cell_type": "code",
   "execution_count": null,
   "metadata": {
    "slideshow": {
     "slide_type": "slide"
    }
   },
   "outputs": [],
   "source": [
    "def affichage(f, c, g: list)->None:\n",
    "    \"\"\"\n",
    "    gestion de l'affichage\n",
    "    \"\"\"\n",
    "    c.delete(\"all\")\n",
    "    for i in range(CELLULES):\n",
    "        for j in range(CELLULES):\n",
    "            if g[i][j]:\n",
    "                c.create_oval(TAILLE*(j),\n",
    "                                    TAILLE*(i),\n",
    "                                    TAILLE*(j+1),\n",
    "                                    TAILLE*(i+1),\n",
    "                                    fill=\"blue\")"
   ]
  },
  {
   "cell_type": "code",
   "execution_count": null,
   "metadata": {
    "slideshow": {
     "slide_type": "slide"
    }
   },
   "outputs": [],
   "source": [
    "def cycle(f, c, g: list)->None:\n",
    "    # crée une nouvelle grille de cellules mortes\n",
    "    nouvelle = [[False for _ in range(CELLULES)] for _ in range(CELLULES)]\n",
    "\n",
    "    for i in range(CELLULES):\n",
    "        for j in range(CELLULES):\n",
    "            # compte les voisins de la cellule (i,j)\n",
    "            nb_voisins = compter_voisins(g, (i, j))\n",
    "\n",
    "            # respecte les règles du jeu\n",
    "            if not g[i][j]: # une cellule morte\n",
    "                if nb_voisins == 3: # devient vivante\n",
    "                    nouvelle[i][j] = True\n",
    "            else: # une cellule vivante\n",
    "                if nb_voisins == 2 or nb_voisins == 3: # le reste\n",
    "                    nouvelle[i][j] = True\n",
    "\n",
    "    # la grille est actualisée\n",
    "    g = nouvelle\n",
    "\n",
    "    # affichage de la grille\n",
    "    affichage(f, c, g)\n",
    "\n",
    "    # nouveau cycle: la méthode after rappelle la fonction cycle toutes les 100ms\n",
    "    f.after(100, cycle, f, c, g)"
   ]
  },
  {
   "cell_type": "markdown",
   "metadata": {
    "slideshow": {
     "slide_type": "slide"
    }
   },
   "source": [
    "### 4.2 Jouer\n",
    "#### Activité 6"
   ]
  },
  {
   "cell_type": "code",
   "execution_count": null,
   "metadata": {
    "slideshow": {
     "slide_type": "fragment"
    }
   },
   "outputs": [],
   "source": [
    "from tkinter import *\n",
    "\n",
    "fenetre = Tk()\n",
    "fenetre.title(\"Jeu de la vie\")\n",
    "canevas = Canvas(fenetre, width = CELLULES*TAILLE, height = CELLULES*TAILLE)\n",
    "canevas.pack()\n",
    "\n",
    "grille = [[False for _ in range(CELLULES)] for _ in range(CELLULES)]\n",
    "\n",
    "aleatoire(grille, 3000)\n",
    "\n",
    "cycle(fenetre, canevas, grille)\n",
    "\n",
    "fenetre.mainloop()"
   ]
  },
  {
   "cell_type": "markdown",
   "metadata": {
    "slideshow": {
     "slide_type": "slide"
    }
   },
   "source": [
    "### 4.3 Structures prédéfinies\n",
    "#### Activité 7"
   ]
  },
  {
   "cell_type": "code",
   "execution_count": null,
   "metadata": {
    "slideshow": {
     "slide_type": "slide"
    }
   },
   "outputs": [],
   "source": [
    "# dans le programme principal\n",
    "grille = [[False for _ in range(CELLULES)] for _ in range(CELLULES)]\n",
    "\n",
    "#aleatoire(grille, 3000)\n",
    "canon(grille)"
   ]
  }
 ],
 "metadata": {
  "celltoolbar": "Slideshow",
  "kernelspec": {
   "display_name": "Python 3",
   "language": "python",
   "name": "python3"
  },
  "language_info": {
   "codemirror_mode": {
    "name": "ipython",
    "version": 3
   },
   "file_extension": ".py",
   "mimetype": "text/x-python",
   "name": "python",
   "nbconvert_exporter": "python",
   "pygments_lexer": "ipython3",
   "version": "3.8.6"
  },
  "latex_envs": {
   "LaTeX_envs_menu_present": true,
   "autoclose": false,
   "autocomplete": true,
   "bibliofile": "biblio.bib",
   "cite_by": "apalike",
   "current_citInitial": 1,
   "eqLabelWithNumbers": true,
   "eqNumInitial": 1,
   "hotkeys": {
    "equation": "Ctrl-E",
    "itemize": "Ctrl-I"
   },
   "labels_anchors": false,
   "latex_user_defs": false,
   "report_style_numbering": true,
   "user_envs_cfg": false
  }
 },
 "nbformat": 4,
 "nbformat_minor": 4
}
