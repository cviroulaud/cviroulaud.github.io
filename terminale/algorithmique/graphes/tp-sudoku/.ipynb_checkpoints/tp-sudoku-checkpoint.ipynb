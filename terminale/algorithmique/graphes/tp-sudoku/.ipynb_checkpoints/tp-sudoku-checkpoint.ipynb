{
 "cells": [
  {
   "cell_type": "markdown",
   "metadata": {
    "slideshow": {
     "slide_type": "slide"
    }
   },
   "source": [
    "# Sudoku"
   ]
  },
  {
   "cell_type": "markdown",
   "metadata": {
    "slideshow": {
     "slide_type": "fragment"
    }
   },
   "source": [
    "## 1. Problématique"
   ]
  },
  {
   "cell_type": "markdown",
   "metadata": {},
   "source": [
    "<div align=\"middle\"><h3>Peut-on créer un programme pour construire une grille complète et correcte?</h3></div>"
   ]
  },
  {
   "cell_type": "markdown",
   "metadata": {
    "slideshow": {
     "slide_type": "slide"
    }
   },
   "source": [
    "## 2. Modélisation"
   ]
  },
  {
   "cell_type": "markdown",
   "metadata": {},
   "source": [
    "<div align=\"middle\"><img src=\"ressources/grille4x4.png\" width=400px></div>"
   ]
  },
  {
   "cell_type": "markdown",
   "metadata": {
    "slideshow": {
     "slide_type": "slide"
    }
   },
   "source": [
    "<div align=\"middle\"><img src=\"ressources/graphe4x4.png\" width=400px></div>"
   ]
  },
  {
   "cell_type": "markdown",
   "metadata": {
    "slideshow": {
     "slide_type": "slide"
    }
   },
   "source": [
    "## 3. Implémentation"
   ]
  },
  {
   "cell_type": "markdown",
   "metadata": {
    "slideshow": {
     "slide_type": "fragment"
    }
   },
   "source": [
    "### 3.1 Classe Sudoku"
   ]
  },
  {
   "cell_type": "markdown",
   "metadata": {},
   "source": [
    "#### Activité 1\n",
    "- Écrire la classe *Sudoku* et son constructeur. Elle possédera trois attributs à initialiser:\n",
    "    - **taille: int** 4 pour un petit Sudoku,\n",
    "    - **grille: list** à construire en fonction de la figure,\n",
    "    - **graphe**: Graphe"
   ]
  },
  {
   "cell_type": "code",
   "execution_count": null,
   "metadata": {
    "slideshow": {
     "slide_type": "slide"
    }
   },
   "outputs": [],
   "source": [
    "class Sudoku:\n",
    "\n",
    "    def __init__(self, taille):\n",
    "        self.taille = taille\n",
    "        self.grille = [[0 for _ in range(self.taille)] for _ in range(self.taille)]\n",
    "        self.graphe = Graphe()"
   ]
  },
  {
   "cell_type": "markdown",
   "metadata": {
    "slideshow": {
     "slide_type": "slide"
    }
   },
   "source": [
    "### 3.2 Créer le graphe"
   ]
  },
  {
   "cell_type": "markdown",
   "metadata": {},
   "source": [
    "#### Activité 2\n",
    "Écrire la méthode **creer_graphe(self)$\\;\\rightarrow\\;$None** qui construit le graphe."
   ]
  },
  {
   "cell_type": "code",
   "execution_count": null,
   "metadata": {
    "slideshow": {
     "slide_type": "slide"
    }
   },
   "outputs": [],
   "source": [
    "    def creer_graphe(self):\n",
    "        \"\"\"\n",
    "        Initialise le graphe des cases liées\n",
    "        \"\"\"\n",
    "        # création des sommets\n",
    "        for x in range(self.taille):\n",
    "            for y in range(self.taille):\n",
    "                self.graphe.ajouter_sommet((x,y))"
   ]
  },
  {
   "cell_type": "code",
   "execution_count": null,
   "metadata": {
    "slideshow": {
     "slide_type": "slide"
    }
   },
   "outputs": [],
   "source": [
    "        # arêtes verticales\n",
    "        for x in range(self.taille):\n",
    "            for y in range(self.taille-1):\n",
    "                for k in range(y+1, self.taille):\n",
    "                    self.graphe.ajouter_arete((x,y),(x,k))\n",
    "\n",
    "        # arêtes horizontales\n",
    "        for y in range(self.taille):\n",
    "            for x in range(self.taille-1):\n",
    "                for k in range(x+1, self.taille):\n",
    "                    self.graphe.ajouter_arete((x,y),(k,y))"
   ]
  },
  {
   "cell_type": "code",
   "execution_count": null,
   "metadata": {
    "slideshow": {
     "slide_type": "slide"
    }
   },
   "outputs": [],
   "source": [
    "        # blocs\n",
    "        nb_blocs = int(sqrt(self.taille))\n",
    "        \n",
    "        # il y a (nb_blocs*nb_blocs) blocs\n",
    "        for i in range(nb_blocs):\n",
    "            for j in range(nb_blocs):\n",
    "                \n",
    "                # pour chaque case\n",
    "                for y in range(nb_blocs):\n",
    "                    for x in range(nb_blocs):\n",
    "                        \n",
    "                        # vers chaque case\n",
    "                        for lig in range(nb_blocs):\n",
    "                            for col in range(nb_blocs):\n",
    "                                \n",
    "                                if not((x,y) == (col,lig)):\n",
    "                                    \"\"\"\n",
    "                                    on ne crée pas d'arête vers lui-même\n",
    "                                    par contre on ne gère pas les éventuels doublons:\n",
    "                                    l'ensemble (set) dans ajouter_arete le fait pour nous\n",
    "                                    \"\"\"\n",
    "                                    self.graphe.ajouter_arete(\n",
    "                                        (j*nb_blocs + x  , i*nb_blocs + y),\n",
    "                                        (j*nb_blocs + col, i*nb_blocs + lig)\n",
    "                                        )"
   ]
  },
  {
   "cell_type": "markdown",
   "metadata": {
    "slideshow": {
     "slide_type": "slide"
    }
   },
   "source": [
    "### 3.3 Méthodes utiles"
   ]
  },
  {
   "cell_type": "markdown",
   "metadata": {},
   "source": [
    "#### Activité 3\n",
    "Écrire la méthode **case_suivante(self, s: tuple)$\\;\\rightarrow\\;$tuple** qui renvoie les coordonnées, sous forme d'un tuple, de la case suivant celle de coordonnées s."
   ]
  },
  {
   "cell_type": "code",
   "execution_count": null,
   "metadata": {
    "slideshow": {
     "slide_type": "slide"
    }
   },
   "outputs": [],
   "source": [
    "    def case_suivante(self, s: tuple)->tuple:\n",
    "        \"\"\"\n",
    "        retourne la prochaine case à visiter\n",
    "\n",
    "        Parameters\n",
    "        ----------\n",
    "        s : tuple\n",
    "            le sommet actuel.\n",
    "\n",
    "        Returns\n",
    "        -------\n",
    "        tuple\n",
    "            le prochain sommet.\n",
    "        \"\"\"\n",
    "        x,y = s[0],s[1]\n",
    "        if y == (self.taille - 1): # dernière colonne\n",
    "            x += 1\n",
    "            y = 0\n",
    "        else:\n",
    "            y += 1\n",
    "        return (x,y)"
   ]
  },
  {
   "cell_type": "markdown",
   "metadata": {
    "slideshow": {
     "slide_type": "slide"
    }
   },
   "source": [
    "#### Activité 4\n",
    "Écrire la méthode **est_possible(self, s: tuple, choix: int)$\\;\\rightarrow\\;$bool** qui renvoie *True* si le chiffre *choix* n'est pas déjà positionné dans une case *adjacente* au sommet s."
   ]
  },
  {
   "cell_type": "code",
   "execution_count": null,
   "metadata": {
    "slideshow": {
     "slide_type": "slide"
    }
   },
   "outputs": [],
   "source": [
    "    def est_possible(self, s: tuple, choix: int)->bool:\n",
    "        \"\"\"\n",
    "        vérifie si choix n'est pas déjà utilisé\n",
    "\n",
    "        Parameters\n",
    "        ----------\n",
    "        choix : int\n",
    "            la valeur à tester.\n",
    "\n",
    "        Returns\n",
    "        -------\n",
    "        bool\n",
    "        \"\"\"\n",
    "        for v in self.graphe.get_adjacents(s):\n",
    "            if choix == self.grille[v[0]][v[1]]:\n",
    "                return False\n",
    "        return True"
   ]
  },
  {
   "cell_type": "markdown",
   "metadata": {
    "slideshow": {
     "slide_type": "slide"
    }
   },
   "source": [
    "### 3.4 Remplir la grille"
   ]
  },
  {
   "cell_type": "markdown",
   "metadata": {},
   "source": [
    "Algorithme:\n",
    "- Si nous sortons de la grille, elle a été correctement remplie: renvoyer True.\n",
    "- Sinon, pour chaque chiffre:\n",
    "     - S'il peut être positionné:\n",
    "         - Le placer dans la grille.\n",
    "         - Remplir récursivement la case suivante et remonter True dans la pile d'appel si le placement est correct.\n",
    "- # Tous les chiffres ont été testés et aucun ne fonctionne: \n",
    "- Réinitialiser la valeur de la case.\n",
    "- Remonter False dans la pile d'appel."
   ]
  },
  {
   "cell_type": "markdown",
   "metadata": {
    "slideshow": {
     "slide_type": "slide"
    }
   },
   "source": [
    "<div align=\"middle\"><img src=\"ressources/algo01.png\" width=300px></div>"
   ]
  },
  {
   "cell_type": "markdown",
   "metadata": {},
   "source": [
    "- On sélectionne et place 3.\n",
    "- On effectue un appel récursif sur la case suivante."
   ]
  },
  {
   "cell_type": "markdown",
   "metadata": {
    "slideshow": {
     "slide_type": "slide"
    }
   },
   "source": [
    "<div align=\"middle\"><img src=\"ressources/algo02.png\" width=300px></div>"
   ]
  },
  {
   "cell_type": "markdown",
   "metadata": {},
   "source": [
    "- On teste 1 et 3: ils ne sont pas positionnables."
   ]
  },
  {
   "cell_type": "markdown",
   "metadata": {
    "slideshow": {
     "slide_type": "slide"
    }
   },
   "source": [
    "<div align=\"middle\"><img src=\"ressources/algo03.png\" width=300px></div>"
   ]
  },
  {
   "cell_type": "markdown",
   "metadata": {},
   "source": [
    "- On sélectionne et place 4.\n",
    "- On effectue un appel récursif sur la case suivante."
   ]
  },
  {
   "cell_type": "markdown",
   "metadata": {
    "slideshow": {
     "slide_type": "slide"
    }
   },
   "source": [
    "<div align=\"middle\"><img src=\"ressources/algo04.png\" width=300px></div>"
   ]
  },
  {
   "cell_type": "markdown",
   "metadata": {
    "slideshow": {
     "slide_type": "-"
    }
   },
   "source": [
    "- On teste toutes les valeurs: aucune n'est possible.\n",
    "- (On efface cette case.)\n",
    "- On renvoie False: la valeur placée n'est pas correcte."
   ]
  },
  {
   "cell_type": "markdown",
   "metadata": {
    "slideshow": {
     "slide_type": "slide"
    }
   },
   "source": [
    "<div align=\"middle\"><img src=\"ressources/algo05.png\" width=300px></div>"
   ]
  },
  {
   "cell_type": "markdown",
   "metadata": {
    "slideshow": {
     "slide_type": "-"
    }
   },
   "source": [
    "- On sélectionne et place 2.\n",
    "- On effectue un appel récursif sur la case suivante."
   ]
  },
  {
   "cell_type": "markdown",
   "metadata": {
    "slideshow": {
     "slide_type": "slide"
    }
   },
   "source": [
    "<div align=\"middle\"><img src=\"ressources/algo06.png\" width=300px></div>"
   ]
  },
  {
   "cell_type": "markdown",
   "metadata": {
    "slideshow": {
     "slide_type": "-"
    }
   },
   "source": [
    "- On teste toutes les valeurs: aucune n'est possible.\n",
    "- (On efface cette case.)\n",
    "- On renvoie False: la valeur placée n'est pas correcte."
   ]
  },
  {
   "cell_type": "markdown",
   "metadata": {
    "slideshow": {
     "slide_type": "slide"
    }
   },
   "source": [
    "<div align=\"middle\"><img src=\"ressources/algo07.png\" width=300px></div>"
   ]
  },
  {
   "cell_type": "markdown",
   "metadata": {
    "slideshow": {
     "slide_type": "-"
    }
   },
   "source": [
    "- Toutes les valeurs ont été testées: aucune n'est possible.\n",
    "- On efface cette case.\n",
    "- On renvoie False: la valeur placée n'est pas correcte."
   ]
  },
  {
   "cell_type": "markdown",
   "metadata": {
    "slideshow": {
     "slide_type": "slide"
    }
   },
   "source": [
    "#### Activité 5\n",
    "Écrire la méthode **remplir_rec(self, s: tuple = (0,0))$\\;\\rightarrow\\;$None** qui implémente cet algorithme."
   ]
  },
  {
   "cell_type": "code",
   "execution_count": null,
   "metadata": {
    "slideshow": {
     "slide_type": "slide"
    }
   },
   "outputs": [],
   "source": [
    "def remplir_rec(self, s: tuple = (0,0)):\n",
    "        # si on a tout rempli = on sort du tableau\n",
    "        if s[0] == self.taille:\n",
    "            return True\n",
    "\n",
    "        # On ajoute un peu d'aléatoire dans le choix\n",
    "        choix = list(range(1,self.taille+1))\n",
    "        shuffle(choix)\n",
    "        # test des valeurs possibles\n",
    "        for val in choix:\n",
    "            # regarde si choix n'est pas déjà dans les voisins\n",
    "            if self.est_possible(s, val):\n",
    "                self.grille[s[0]][s[1]] = val\n",
    "                if self.remplir_rec(self.case_suivante(s)):\n",
    "                    return True\n",
    "\n",
    "        # Tous les chiffres ont été testés et aucun ne fonctionne\n",
    "        # on réinitialise alors la case\n",
    "        self.grille[s[0]][s[1]] = 0\n",
    "        return False"
   ]
  },
  {
   "cell_type": "markdown",
   "metadata": {
    "slideshow": {
     "slide_type": "slide"
    }
   },
   "source": [
    "## 4. Affichage\n",
    "#### Activité 6\n",
    "Écrire la méthode **afficher(self)$\\;\\rightarrow\\;$None** qui utilise la bibliothèque *tkinter* pour réaliser un affichage de la grille."
   ]
  },
  {
   "cell_type": "code",
   "execution_count": null,
   "metadata": {
    "slideshow": {
     "slide_type": "slide"
    }
   },
   "outputs": [],
   "source": [
    "def afficher(self):\n",
    "        taille_case = 100\n",
    "        self.fenetre = Tk()\n",
    "        self.fenetre.title('Sudoku')\n",
    "        self.canevas = Canvas(self.fenetre,width=taille_case*self.taille,\n",
    "                                          height=taille_case*self.taille)\n",
    "        self.canevas.pack()"
   ]
  },
  {
   "cell_type": "code",
   "execution_count": null,
   "metadata": {
    "slideshow": {
     "slide_type": "slide"
    }
   },
   "outputs": [],
   "source": [
    "    for l in range(self.taille):\n",
    "            for c in range(self.taille):"
   ]
  },
  {
   "cell_type": "code",
   "execution_count": null,
   "metadata": {
    "slideshow": {
     "slide_type": "slide"
    }
   },
   "outputs": [],
   "source": [
    "                # ligne verticale\n",
    "                if c%sqrt(self.taille) == 0:\n",
    "                    trait_vert = 3\n",
    "                else:\n",
    "                    trait_vert = 1\n",
    "\n",
    "                self.canevas.create_line(taille_case*c,\n",
    "                                     0,\n",
    "                                     taille_case*c,\n",
    "                                     taille_case*self.taille,\n",
    "                                     width=trait_vert)"
   ]
  },
  {
   "cell_type": "code",
   "execution_count": null,
   "metadata": {
    "slideshow": {
     "slide_type": "slide"
    }
   },
   "outputs": [],
   "source": [
    "                # ligne horizontale\n",
    "                if l%sqrt(self.taille) == 0:\n",
    "                    trait_hori = 3\n",
    "                else:\n",
    "                    trait_hori = 1\n",
    "                self.canevas.create_line(0,\n",
    "                                         taille_case*l,\n",
    "                                         taille_case*self.taille,\n",
    "                                         taille_case*l,\n",
    "                                         width=trait_hori)"
   ]
  },
  {
   "cell_type": "code",
   "execution_count": null,
   "metadata": {
    "slideshow": {
     "slide_type": "slide"
    }
   },
   "outputs": [],
   "source": [
    "                # chiffre\n",
    "                self.canevas.create_text(taille_case*c + taille_case//2,\n",
    "                                         taille_case*l + taille_case//2,\n",
    "                                         text=str(self.grille[l][c]),\n",
    "                                         font=\"Arial \"+str(taille_case//2))"
   ]
  },
  {
   "cell_type": "code",
   "execution_count": null,
   "metadata": {
    "slideshow": {
     "slide_type": "fragment"
    }
   },
   "outputs": [],
   "source": [
    "        self.fenetre.mainloop()"
   ]
  }
 ],
 "metadata": {
  "celltoolbar": "Slideshow",
  "kernelspec": {
   "display_name": "Python 3",
   "language": "python",
   "name": "python3"
  },
  "language_info": {
   "codemirror_mode": {
    "name": "ipython",
    "version": 3
   },
   "file_extension": ".py",
   "mimetype": "text/x-python",
   "name": "python",
   "nbconvert_exporter": "python",
   "pygments_lexer": "ipython3",
   "version": "3.8.1"
  },
  "latex_envs": {
   "LaTeX_envs_menu_present": true,
   "autoclose": false,
   "autocomplete": true,
   "bibliofile": "biblio.bib",
   "cite_by": "apalike",
   "current_citInitial": 1,
   "eqLabelWithNumbers": true,
   "eqNumInitial": 1,
   "hotkeys": {
    "equation": "Ctrl-E",
    "itemize": "Ctrl-I"
   },
   "labels_anchors": false,
   "latex_user_defs": false,
   "report_style_numbering": true,
   "user_envs_cfg": false
  }
 },
 "nbformat": 4,
 "nbformat_minor": 4
}
