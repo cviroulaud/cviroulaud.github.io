{
 "cells": [
  {
   "cell_type": "markdown",
   "metadata": {
    "slideshow": {
     "slide_type": "slide"
    }
   },
   "source": [
    "# Rotation d'une image"
   ]
  },
  {
   "cell_type": "markdown",
   "metadata": {
    "slideshow": {
     "slide_type": "fragment"
    }
   },
   "source": [
    "## 1. Problématique\n",
    "\n",
    "**Construire un algorithme de rotation d'une image en appliquant le principe de diviser pour régner.**"
   ]
  },
  {
   "cell_type": "markdown",
   "metadata": {
    "slideshow": {
     "slide_type": "slide"
    }
   },
   "source": [
    "## 2. Principe\n",
    "**Activité 1** Quelles étapes?"
   ]
  },
  {
   "cell_type": "markdown",
   "metadata": {},
   "source": [
    "<div align=\"middle\"><img src=\"ressources/carre0.png\" width=50px></div>"
   ]
  },
  {
   "cell_type": "markdown",
   "metadata": {
    "slideshow": {
     "slide_type": "fragment"
    }
   },
   "source": [
    "<table>\n",
    "    <tr>\n",
    "        <td>\n",
    "            <div align=\"middle\"><img src=\"ressources/carre1.png\" width=100px></div>\n",
    "        </td>\n",
    "        <td>\n",
    "            $\\rightarrow$\n",
    "        </td>\n",
    "        <td>\n",
    "            <div align=\"middle\"><img src=\"ressources/carre1-rot.png\" width=100px></div>\n",
    "        </td>\n",
    "    </tr>\n",
    "</table>"
   ]
  },
  {
   "cell_type": "markdown",
   "metadata": {
    "slideshow": {
     "slide_type": "slide"
    }
   },
   "source": [
    "<table>\n",
    "    <tr>\n",
    "        <td>\n",
    "            <div align=\"middle\"><img src=\"ressources/carre2.png\" width=200px></div>\n",
    "        </td>\n",
    "        <td>\n",
    "            $\\rightarrow$\n",
    "        </td>\n",
    "        <td>\n",
    "            <div align=\"middle\"><img src=\"ressources/carre2-int.png\" width=200px></div>\n",
    "        </td>\n",
    "        <td>\n",
    "            $\\rightarrow$\n",
    "        </td>\n",
    "        <td>\n",
    "            <div align=\"middle\"><img src=\"ressources/carre2-rot.png\" width=200px></div>\n",
    "        </td>\n",
    "    </tr>\n",
    "</table>"
   ]
  },
  {
   "cell_type": "markdown",
   "metadata": {
    "slideshow": {
     "slide_type": "slide"
    }
   },
   "source": [
    "- Si la *taille t* est égal à 1, ne rien faire.\n",
    "- Sinon effectuer récursivement la *rotation* des quatre parties de la portion carrée comprise entre (x,y) et (x+t, y+t)\n",
    "- Effectuer la rotation des pixels."
   ]
  },
  {
   "cell_type": "markdown",
   "metadata": {
    "slideshow": {
     "slide_type": "slide"
    }
   },
   "source": [
    "## 3. Algorithme de rotation\n",
    "**Activité 2** Charger et afficher une image carrée."
   ]
  },
  {
   "cell_type": "code",
   "execution_count": 3,
   "metadata": {
    "slideshow": {
     "slide_type": "fragment"
    }
   },
   "outputs": [],
   "source": [
    "from PIL import Image\n",
    "\n",
    "im = Image.open(\"ressources/angry.png\")\n",
    "im.show()"
   ]
  },
  {
   "cell_type": "markdown",
   "metadata": {
    "slideshow": {
     "slide_type": "slide"
    }
   },
   "source": [
    "**Activité 3** Application de *Diviser pour régner*\n",
    "\n",
    "Correction"
   ]
  },
  {
   "cell_type": "code",
   "execution_count": null,
   "metadata": {
    "slideshow": {
     "slide_type": "slide"
    }
   },
   "outputs": [],
   "source": [
    "def rotation_auxiliaire(px: object, x: int, y: int, t: int)->None:\n",
    "    if t == 1:\n",
    "        # on ne fait rien: inutile de tourner 1 pixel carré\n",
    "        return\n",
    "    else:\n",
    "        t //= 2\n",
    "        rotation_auxiliaire(px, x, y, t)\n",
    "        rotation_auxiliaire(px, x+t, y, t)\n",
    "        rotation_auxiliaire(px, x, y+t, t)\n",
    "        rotation_auxiliaire(px, x+t, y+t, t)\n",
    "    \n",
    "    # déplacement des pixels ou blocs de pixels\n",
    "    for x1 in range(x, x+t):\n",
    "        for y1 in range(y, y+t):\n",
    "            px[x1,y1+t], px[x1+t,y1+t], px[x1+t,y1  ], px[x1  ,y1] = \\\n",
    "            px[x1,y1  ], px[x1  ,y1+t], px[x1+t,y1+t], px[x1+t,y1]\n",
    "\n",
    "def rotation(px: object, taille: int)->None:\n",
    "    rotation_auxiliaire(px, 0, 0, taille)"
   ]
  },
  {
   "cell_type": "markdown",
   "metadata": {
    "slideshow": {
     "slide_type": "slide"
    }
   },
   "source": [
    "## 4. Créer une bibliothèque\n",
    "#### Activité 4: Adapter une classe\n",
    "\n",
    "Une correction dans ce fichier: [mod_rotation](scripts/mod_rotation.py)"
   ]
  }
 ],
 "metadata": {
  "celltoolbar": "Slideshow",
  "kernelspec": {
   "display_name": "Python 3",
   "language": "python",
   "name": "python3"
  },
  "language_info": {
   "codemirror_mode": {
    "name": "ipython",
    "version": 3
   },
   "file_extension": ".py",
   "mimetype": "text/x-python",
   "name": "python",
   "nbconvert_exporter": "python",
   "pygments_lexer": "ipython3",
   "version": "3.8.1"
  },
  "latex_envs": {
   "LaTeX_envs_menu_present": true,
   "autoclose": false,
   "autocomplete": true,
   "bibliofile": "biblio.bib",
   "cite_by": "apalike",
   "current_citInitial": 1,
   "eqLabelWithNumbers": true,
   "eqNumInitial": 1,
   "hotkeys": {
    "equation": "Ctrl-E",
    "itemize": "Ctrl-I"
   },
   "labels_anchors": false,
   "latex_user_defs": false,
   "report_style_numbering": true,
   "user_envs_cfg": false
  }
 },
 "nbformat": 4,
 "nbformat_minor": 4
}
