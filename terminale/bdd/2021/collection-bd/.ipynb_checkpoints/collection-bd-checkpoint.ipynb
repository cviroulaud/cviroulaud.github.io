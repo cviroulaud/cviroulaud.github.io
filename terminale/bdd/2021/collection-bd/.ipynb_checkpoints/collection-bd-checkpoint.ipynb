{
 "cells": [
  {
   "cell_type": "markdown",
   "metadata": {
    "slideshow": {
     "slide_type": "slide"
    }
   },
   "source": [
    "# Collection de bandes dessinées"
   ]
  },
  {
   "cell_type": "markdown",
   "metadata": {
    "slideshow": {
     "slide_type": "slide"
    }
   },
   "source": [
    "## 1. Problématique\n",
    "Le professeur possède une collection importante de bandes dessinées et qu'il complète régulièrement."
   ]
  },
  {
   "cell_type": "markdown",
   "metadata": {},
   "source": [
    "<div align=\"middle\"><img src=\"ressources/biblio.jpg\" width = 250px></div>"
   ]
  },
  {
   "cell_type": "markdown",
   "metadata": {
    "slideshow": {
     "slide_type": "fragment"
    }
   },
   "source": [
    "<div align=\"middle\"><h3>Quelle solution peut-on mettre en place pour gérer efficacement la collection de bandes dessinées?</h3></div>"
   ]
  },
  {
   "cell_type": "markdown",
   "metadata": {
    "slideshow": {
     "slide_type": "slide"
    }
   },
   "source": [
    "## 2. Première approche\n",
    "Utilisation d'un tableur pour stocker les informations."
   ]
  },
  {
   "cell_type": "markdown",
   "metadata": {},
   "source": [
    "<img src=\"ressources/approche-1.png\">"
   ]
  },
  {
   "cell_type": "markdown",
   "metadata": {
    "slideshow": {
     "slide_type": "slide"
    }
   },
   "source": [
    "<img src=\"ressources/approche-1.2.png\">"
   ]
  },
  {
   "cell_type": "markdown",
   "metadata": {
    "slideshow": {
     "slide_type": "slide"
    }
   },
   "source": [
    "#### Activité 1\n",
    "Établir les limites de cette approche."
   ]
  },
  {
   "cell_type": "markdown",
   "metadata": {
    "slideshow": {
     "slide_type": "slide"
    }
   },
   "source": [
    "- Un tableur ne gère qu'un nombre limité de lignes et de colonnes: <a href=\"https://www.numerama.com/politique/653217-16-000-anglais-malades-du-covid-ont-ete-oublies-a-cause-dune-feuille-excel-trop-pleine.html\" target=\"_blank\">Malades du covid oubliés</a>"
   ]
  },
  {
   "cell_type": "markdown",
   "metadata": {
    "slideshow": {
     "slide_type": "fragment"
    }
   },
   "source": [
    "- Modification efficace?"
   ]
  },
  {
   "cell_type": "markdown",
   "metadata": {
    "slideshow": {
     "slide_type": "fragment"
    }
   },
   "source": [
    "- Informations supplémentaires sur l'emprunteur\n",
    "\n",
    "<img src=\"ressources/approche-1.3.png\">"
   ]
  },
  {
   "cell_type": "markdown",
   "metadata": {
    "slideshow": {
     "slide_type": "slide"
    }
   },
   "source": [
    "## 3. Modèle de données\n",
    "### 3.1 Modèle relationnel"
   ]
  },
  {
   "cell_type": "markdown",
   "metadata": {
    "slideshow": {
     "slide_type": "slide"
    }
   },
   "source": [
    "#### Entité\n",
    "<div align=\"middle\"><h3>(Captain Biceps, L'invincible, 1, 2723445771, Humour, Zep, Tébo, Glénat, 2004-04-01)</h3></div>"
   ]
  },
  {
   "cell_type": "markdown",
   "metadata": {
    "slideshow": {
     "slide_type": "slide"
    }
   },
   "source": [
    "#### Relation (table)\n",
    "<div align=\"middle\"><h3>(Captain Biceps, L'invincible, 1, 2723445771, Humour, Zep, Tébo, Glénat, 2004-04-01),</h3></div>\n",
    "<div align=\"middle\"><h3>(Caravane, Mila, 1, 2756004073, Aventure, Milhiet Olivier, Milhiet Olivier, Delcourt, 2008-04-02),</h3></div>\n",
    "<div align=\"middle\"><h3>(Kick-Ass, Le premier vrai super-héros, 1, 2809409994, Comics, Millar Mark, Romita Jr John, Panini Comics, 2010-03-17)</h3></div>"
   ]
  },
  {
   "cell_type": "markdown",
   "metadata": {
    "slideshow": {
     "slide_type": "slide"
    }
   },
   "source": [
    "#### Attributs\n",
    "<div align=\"middle\"><h3>(serie, titre, tome, isbn, genre, scenariste, dessinateur, editeur, date_parution)</h3></div>"
   ]
  },
  {
   "cell_type": "markdown",
   "metadata": {
    "slideshow": {
     "slide_type": "slide"
    }
   },
   "source": [
    "#### Schéma de la relation bandes_dessinees\n",
    "<div align=\"middle\"><img src=\"ressources/sch_bd.png\" width = 300px></div>"
   ]
  },
  {
   "cell_type": "markdown",
   "metadata": {
    "slideshow": {
     "slide_type": "slide"
    }
   },
   "source": [
    "#### Activité 2\n",
    "- Sur le même modèle définir la relation des emprunteurs."
   ]
  },
  {
   "cell_type": "markdown",
   "metadata": {
    "slideshow": {
     "slide_type": "slide"
    }
   },
   "source": [
    "#### Schéma de la relation emprunteurs\n",
    "<div align=\"middle\">\n",
    "    <img src=\"ressources/sch_emprunteur.png\" width = 400px>\n",
    "        </div>\n",
    "    "
   ]
  },
  {
   "cell_type": "markdown",
   "metadata": {
    "slideshow": {
     "slide_type": "notes"
    }
   },
   "source": [
    "<img src=\"ressources/sch_emprunteur_2.png\" width = 200px>\n",
    "\n",
    "autre possibilité proposée; l'écrire au tableau: pertinent? (réponse en fin)"
   ]
  },
  {
   "cell_type": "markdown",
   "metadata": {},
   "source": [
    "#### Emprunteurs(prenom *String*, nom *String*, naissance *Date*)"
   ]
  },
  {
   "cell_type": "markdown",
   "metadata": {
    "slideshow": {
     "slide_type": "fragment"
    }
   },
   "source": [
    "<div align=\"middle\"><h3>La relation ne nous permet pas de gérer les emprunts.</h3></div>"
   ]
  },
  {
   "cell_type": "markdown",
   "metadata": {
    "slideshow": {
     "slide_type": "slide"
    }
   },
   "source": [
    "- Quelle solution mettre en place?\n",
    "<div align=\"middle\">\n",
    "    <table>\n",
    "        <tr style=\"background:#fff;\">\n",
    "            <td><img src=\"ressources/sch_bd.png\" width = 300px></td>\n",
    "            <td><img src=\"ressources/sch_emprunteur.png\" width = 300px></td>\n",
    "        </tr>\n",
    "    </table>\n",
    "</div>"
   ]
  },
  {
   "cell_type": "markdown",
   "metadata": {
    "slideshow": {
     "slide_type": "notes"
    }
   },
   "source": [
    "noter les solutions élèves au tableau $\\rightarrow$ tables Emprunts\n",
    "\n",
    "questionnement:\n",
    "- si noms emprunteurs communs (dans Emprunteurs)? $\\rightarrow$ contrainte d'entité\n",
    "- comment s'assurer qu'on n'a pas mis 2 fois le même emprunt dans la table (par erreur)? $\\rightarrow$ contrainte d'entité (isbn = clé primaire Emprunts)\n",
    "- si on retire un emprunteur (n'est plus mon ami)? il risque d'y avoir des bd non rendues $\\rightarrow$ contrainte de référence"
   ]
  },
  {
   "cell_type": "markdown",
   "metadata": {
    "slideshow": {
     "slide_type": "slide"
    }
   },
   "source": [
    "### 3.2 Contraintes d'intégrité\n",
    "Garantir la cohérence des données"
   ]
  },
  {
   "cell_type": "markdown",
   "metadata": {
    "slideshow": {
     "slide_type": "slide"
    }
   },
   "source": [
    "#### 3.2.1 Contrainte de domaine\n",
    "Le domaine de définition des attributs"
   ]
  },
  {
   "cell_type": "markdown",
   "metadata": {},
   "source": [
    "#### Activité 3\n",
    "Ajouter l'attribut *telephone* dans la relation *Emprunteurs*. Quel domaine de définition semble le plus approprié?"
   ]
  },
  {
   "cell_type": "markdown",
   "metadata": {
    "slideshow": {
     "slide_type": "fragment"
    }
   },
   "source": [
    "<div align=\"middle\"><img src=\"ressources/sch_emprunteur_telephone.png\" width = 300px></div>\n"
   ]
  },
  {
   "cell_type": "markdown",
   "metadata": {
    "slideshow": {
     "slide_type": "slide"
    }
   },
   "source": [
    "#### 3.2.2 Contrainte d'entité\n",
    "Chaque entité d'une relation est *unique*.\n",
    "#### Activité  4\n",
    "Dans la relation *Bandes\\_dessinees*, y-a-t-il un attribut qui garantit cette contrainte?"
   ]
  },
  {
   "cell_type": "markdown",
   "metadata": {
    "slideshow": {
     "slide_type": "slide"
    }
   },
   "source": [
    "<div align=\"middle\"><img src=\"ressources/cle_bd.png\" width = 300px></div>\n",
    "\n",
    "On souligne la **clé primaire** dans le schéma de la relation."
   ]
  },
  {
   "cell_type": "markdown",
   "metadata": {
    "slideshow": {
     "slide_type": "slide"
    }
   },
   "source": [
    "#### Activité 5\n",
    "- Dans la relation *Emprunteurs* l'attribut nom permet-il de garantir cette contrainte?\n",
    "- Quelle solution peut-on mettre en place?"
   ]
  },
  {
   "cell_type": "markdown",
   "metadata": {
    "slideshow": {
     "slide_type": "fragment"
    }
   },
   "source": [
    "<div align=\"middle\"><img src=\"ressources/cle_emprunteurs_1.png\" width = 300px></div>\n"
   ]
  },
  {
   "cell_type": "markdown",
   "metadata": {
    "slideshow": {
     "slide_type": "notes"
    }
   },
   "source": [
    "Il existe plusieurs Christophe Viroulaud"
   ]
  },
  {
   "cell_type": "markdown",
   "metadata": {
    "slideshow": {
     "slide_type": "slide"
    }
   },
   "source": [
    "<div align=\"middle\"><img src=\"ressources/cle_emprunteurs_2.png\" width = 300px></div>\n"
   ]
  },
  {
   "cell_type": "markdown",
   "metadata": {
    "slideshow": {
     "slide_type": "fragment"
    }
   },
   "source": [
    "#### Emprunteurs(<ins>id Integer</ins>, prenom *String*, nom *String*, naissance *Date*)"
   ]
  },
  {
   "cell_type": "markdown",
   "metadata": {
    "slideshow": {
     "slide_type": "slide"
    }
   },
   "source": [
    "#### 3.2.3 Contrainte de référence\n",
    "#### Activité 6\n",
    "- Écrire à nouveau la relation Emprunts en utilisant les clés primaires des autres relations.\n",
    "- Définir une clé primaire pour cette relation."
   ]
  },
  {
   "cell_type": "markdown",
   "metadata": {
    "slideshow": {
     "slide_type": "fragment"
    }
   },
   "source": [
    "#### clés étrangères\n",
    "<div align=\"middle\"><h3>Emprunts(<span style=\"border-bottom: 3px dotted;\">isbn Integer</span> , <span style=\"border-bottom: 3px dotted;\">id_emprunteur Integer</span>)</h3></div>"
   ]
  },
  {
   "cell_type": "markdown",
   "metadata": {
    "slideshow": {
     "slide_type": "notes"
    }
   },
   "source": [
    "isbn est également clé primaire (on pourrait créer un autre attribut mais inutile ici"
   ]
  },
  {
   "cell_type": "markdown",
   "metadata": {
    "slideshow": {
     "slide_type": "fragment"
    }
   },
   "source": [
    "<div align=\"middle\"><h3>Emprunts(<ins><span style=\"border-bottom: 3px dotted;\">isbn Integer</span></ins> , <span style=\"border-bottom: 3px dotted;\">id_emprunteur Integer</span>)</h3></div>"
   ]
  },
  {
   "cell_type": "markdown",
   "metadata": {
    "slideshow": {
     "slide_type": "slide"
    }
   },
   "source": [
    "<div align=\"middle\"><img src=\"ressources/cle_etrangere.png\" width = 600px></div>"
   ]
  },
  {
   "cell_type": "markdown",
   "metadata": {
    "slideshow": {
     "slide_type": "slide"
    }
   },
   "source": [
    "Une clé étrangère est une référence à une clé primaire d'une autre relation. Elle garantit:\n",
    "- que la valeur de l'attribut crée dans la relation existe dans la relation liée,\n",
    "- qu'on ne peut supprimer une entité si elle est liée à une autre relation."
   ]
  },
  {
   "cell_type": "markdown",
   "metadata": {
    "slideshow": {
     "slide_type": "slide"
    }
   },
   "source": [
    "## 4. Base de données\n",
    "L'ensemble des relations constitue une base de données."
   ]
  },
  {
   "cell_type": "markdown",
   "metadata": {
    "slideshow": {
     "slide_type": "slide"
    }
   },
   "source": [
    "<div align=\"middle\"><img src=\"ressources/cle_etrangere.png\" width = 600px></div>"
   ]
  },
  {
   "cell_type": "markdown",
   "metadata": {
    "slideshow": {
     "slide_type": "slide"
    }
   },
   "source": [
    "#### Activité 7\n",
    "Cette construction peut être améliorée. En effet, un même éditeur publie de nombreuses bandes dessinées.\n",
    "- Modifier la base de données pour prendre en compte cette observation.\n",
    "- D'autres attributs de la relation *Bandes_dessinees* répondent au même constat. Proposer une nouvelle version de la base de données."
   ]
  },
  {
   "cell_type": "markdown",
   "metadata": {
    "slideshow": {
     "slide_type": "slide"
    }
   },
   "source": [
    "<img src=\"ressources/bdd_finale.png\" width = 800px>"
   ]
  }
 ],
 "metadata": {
  "celltoolbar": "Slideshow",
  "kernelspec": {
   "display_name": "Python 3",
   "language": "python",
   "name": "python3"
  },
  "language_info": {
   "codemirror_mode": {
    "name": "ipython",
    "version": 3
   },
   "file_extension": ".py",
   "mimetype": "text/x-python",
   "name": "python",
   "nbconvert_exporter": "python",
   "pygments_lexer": "ipython3",
   "version": "3.8.1"
  },
  "latex_envs": {
   "LaTeX_envs_menu_present": true,
   "autoclose": false,
   "autocomplete": true,
   "bibliofile": "biblio.bib",
   "cite_by": "apalike",
   "current_citInitial": 1,
   "eqLabelWithNumbers": true,
   "eqNumInitial": 1,
   "hotkeys": {
    "equation": "Ctrl-E",
    "itemize": "Ctrl-I"
   },
   "labels_anchors": false,
   "latex_user_defs": false,
   "report_style_numbering": true,
   "user_envs_cfg": false
  }
 },
 "nbformat": 4,
 "nbformat_minor": 4
}
