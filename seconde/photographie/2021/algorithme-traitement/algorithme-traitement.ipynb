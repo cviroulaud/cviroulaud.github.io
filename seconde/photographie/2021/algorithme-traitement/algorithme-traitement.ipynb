{
 "cells": [
  {
   "cell_type": "markdown",
   "metadata": {
    "slideshow": {
     "slide_type": "slide"
    }
   },
   "source": [
    "# Algorithme de traitement d'une image"
   ]
  },
  {
   "cell_type": "markdown",
   "metadata": {
    "slideshow": {
     "slide_type": "slide"
    }
   },
   "source": [
    "## 1. Problématique"
   ]
  },
  {
   "cell_type": "markdown",
   "metadata": {},
   "source": [
    "<table><tr>\n",
    "    <td><img src=\"ressources/maisons-colorees.png\" width=\"250px\"></td>\n",
    "    <td><img src=\"ressources/maisons-colorees-NB.png\" width=\"250px\"></td>\n",
    "    </tr></table>"
   ]
  },
  {
   "cell_type": "markdown",
   "metadata": {
    "slideshow": {
     "slide_type": "fragment"
    }
   },
   "source": [
    "<div align=\"middle\"><h3>Quelles sont les étapes pour construire un programme informatique?</h3></div>"
   ]
  },
  {
   "cell_type": "markdown",
   "metadata": {
    "slideshow": {
     "slide_type": "slide"
    }
   },
   "source": [
    "## 2. Déterminer les étapes: l'algorithme"
   ]
  },
  {
   "cell_type": "markdown",
   "metadata": {},
   "source": [
    "### 2.1 Découper en étapes simples"
   ]
  },
  {
   "cell_type": "markdown",
   "metadata": {
    "slideshow": {
     "slide_type": "fragment"
    }
   },
   "source": [
    "- **Première étape:** stocker l'image en mémoire.\n",
    "<div align=\"middle\"><img src=\"ressources/maisons-colorees.png\" width=\"150px\"></div>"
   ]
  },
  {
   "cell_type": "markdown",
   "metadata": {
    "slideshow": {
     "slide_type": "fragment"
    }
   },
   "source": [
    "- **Deuxième étape:** Modifier chaque pixel."
   ]
  },
  {
   "cell_type": "markdown",
   "metadata": {
    "slideshow": {
     "slide_type": "fragment"
    }
   },
   "source": [
    "- **Troisième étape:** Enregistrer la nouvelle image.\n",
    "<div align=\"middle\"><img src=\"ressources/maisons-colorees-NB.png\" width=\"150px\"></div>"
   ]
  },
  {
   "cell_type": "markdown",
   "metadata": {
    "slideshow": {
     "slide_type": "slide"
    }
   },
   "source": [
    "### 2.2 Détailler les étapes critiques\n",
    "Une image est une grille composée de pixels. Pour transformer l'image couleur, en noir et blanc, il faut effectuer une opération sur chaque pixel.\n",
    "<table><tr>\n",
    "    <td><img src=\"ressources/grille.png\" width=\"200px\"></td>\n",
    "    <td><img src=\"ressources/licorne.png\" width=\"200px\"></td>\n",
    "    </tr></table>"
   ]
  },
  {
   "cell_type": "markdown",
   "metadata": {
    "slideshow": {
     "slide_type": "fragment"
    }
   },
   "source": [
    "#### Deuxième étape\n",
    "- Parcourir la grille ligne par ligne.\n",
    "     - Parcourir la ligne colonne par colonne.\n",
    "         - Récupérer les couleurs du pixel.\n",
    "         - Le transformer en noir et blanc."
   ]
  },
  {
   "cell_type": "markdown",
   "metadata": {
    "slideshow": {
     "slide_type": "notes"
    }
   },
   "source": [
    "Pour transformer un pixel coloré en noir ou blanc, on peut définir plusieurs stratégies. "
   ]
  },
  {
   "cell_type": "markdown",
   "metadata": {
    "slideshow": {
     "slide_type": "slide"
    }
   },
   "source": [
    "## 3. Coder l'algorithme: le programme"
   ]
  },
  {
   "cell_type": "markdown",
   "metadata": {},
   "source": [
    "#### Activité 1\n",
    "- Télécharger le fichier *traitement-image.zip* sur le site https://cviroulaud.github.io\n",
    "- Extraire le dossier traitement-image.\n",
    "- Ouvrir le logiciel *Spyder*.\n",
    "- Depuis le logiciel ouvrir le fichier *noir-blanc.py*\n",
    "- Observer le programme et repérer les trois étapes de l'algorithme.\n",
    "- Comment fait-on le choix de transformer le pixel en noir ou blanc?\n",
    "- Exécuter le programme.\n",
    "- Modifier le programme pour que l'image obtenue soit plus sombre. Recommencer pour qu'elle soit plus claire."
   ]
  },
  {
   "cell_type": "code",
   "execution_count": null,
   "metadata": {
    "slideshow": {
     "slide_type": "slide"
    }
   },
   "outputs": [],
   "source": [
    "# Première étape: stocker l'image\n",
    "from PIL import Image\n",
    "mon_image = Image.open(\"maisons-colorees.bmp\")\n",
    "colonne, ligne = mon_image.size"
   ]
  },
  {
   "cell_type": "code",
   "execution_count": null,
   "metadata": {
    "slideshow": {
     "slide_type": "slide"
    }
   },
   "outputs": [],
   "source": [
    "# Deuxième étape: parcourir la grille pour modifier chaque pixel\n",
    "for y in range(ligne):\n",
    "    for x in range(colonne):\n",
    "        # récupérer le pixel\n",
    "        pixel = mon_image.getpixel((x,y))\n",
    "\n",
    "        moyenne = (pixel[0] + pixel[1] + pixel[2]) // 3\n",
    "        # si la moyenne des couleurs RVB est inférieure à un seuil\n",
    "        if moyenne < 128:\n",
    "            # le pixel sera noir\n",
    "            r = 0\n",
    "            v = 0\n",
    "            b = 0\n",
    "        else:\n",
    "            # le pixel sera blanc\n",
    "            r = 255\n",
    "            v = 255\n",
    "            b = 255\n",
    "\n",
    "        # on replace le nouveau pixel\n",
    "        mon_image.putpixel((x,y), (r,v,b))"
   ]
  },
  {
   "cell_type": "code",
   "execution_count": null,
   "metadata": {
    "slideshow": {
     "slide_type": "slide"
    }
   },
   "outputs": [],
   "source": [
    "# Troisième étape: enregistrer l'image\n",
    "mon_image.save(\"maisons-colorees-NB.bmp\")\n",
    "mon_image.show()"
   ]
  },
  {
   "cell_type": "markdown",
   "metadata": {},
   "source": [
    "<div align=\"middle\"><img src=\"ressources/maisons-colorees-NB.png\" width=\"250px\"></div>"
   ]
  },
  {
   "cell_type": "code",
   "execution_count": null,
   "metadata": {
    "slideshow": {
     "slide_type": "slide"
    }
   },
   "outputs": [],
   "source": [
    "# Deuxième étape: parcourir la grille pour modifier chaque pixel\n",
    "for y in range(ligne):\n",
    "    for x in range(colonne):\n",
    "        # récupérer le pixel\n",
    "        pixel = mon_image.getpixel((x,y))\n",
    "\n",
    "        moyenne = (pixel[0] + pixel[1] + pixel[2]) // 3\n",
    "        # si la moyenne des couleurs RVB est inférieure à un seuil\n",
    "        if moyenne < 200:\n",
    "            # le pixel sera noir\n",
    "            r = 0\n",
    "            v = 0\n",
    "            b = 0\n",
    "        else:\n",
    "            # le pixel sera blanc\n",
    "            r = 255\n",
    "            v = 255\n",
    "            b = 255\n",
    "\n",
    "        # on replace le nouveau pixel\n",
    "        mon_image.putpixel((x,y), (r,v,b))"
   ]
  },
  {
   "cell_type": "markdown",
   "metadata": {},
   "source": [
    "<div align=\"middle\"><img src=\"ressources/maisons-colorees-sombre.jpg\" width=\"150px\"></div>"
   ]
  },
  {
   "cell_type": "code",
   "execution_count": null,
   "metadata": {
    "slideshow": {
     "slide_type": "slide"
    }
   },
   "outputs": [],
   "source": [
    "# Deuxième étape: parcourir la grille pour modifier chaque pixel\n",
    "for y in range(ligne):\n",
    "    for x in range(colonne):\n",
    "        # récupérer le pixel\n",
    "        pixel = mon_image.getpixel((x,y))\n",
    "\n",
    "        moyenne = (pixel[0] + pixel[1] + pixel[2]) // 3\n",
    "        # si la moyenne des couleurs RVB est inférieure à un seuil\n",
    "        if moyenne < 50:\n",
    "            # le pixel sera noir\n",
    "            r = 0\n",
    "            v = 0\n",
    "            b = 0\n",
    "        else:\n",
    "            # le pixel sera blanc\n",
    "            r = 255\n",
    "            v = 255\n",
    "            b = 255\n",
    "\n",
    "        # on replace le nouveau pixel\n",
    "        mon_image.putpixel((x,y), (r,v,b))"
   ]
  },
  {
   "cell_type": "markdown",
   "metadata": {},
   "source": [
    "<div align=\"middle\"><img src=\"ressources/maisons-colorees-clair.jpg\" width=\"150px\"></div>"
   ]
  },
  {
   "cell_type": "markdown",
   "metadata": {
    "slideshow": {
     "slide_type": "slide"
    }
   },
   "source": [
    "## 4. Créer d'autres algorithmes"
   ]
  },
  {
   "cell_type": "markdown",
   "metadata": {},
   "source": [
    "#### Activité 2\n",
    "- Dans les cours précédents, retrouver comment obtenir la couleur grise.\n",
    "- Enregistrer le programme précédent sous le nom *niveaux-gris.py* .\n",
    "- Modifier le programme pour que l'image obtenue soit en nuances de gris.\n",
    "- Enregistrer le programme précédent sous le nom \\emph{niveaux-rouge.py} .\n",
    "- Modifier le programme pour que l'image obtenue ne contienne que les composantes rouges de chaque pixel."
   ]
  },
  {
   "cell_type": "code",
   "execution_count": null,
   "metadata": {
    "slideshow": {
     "slide_type": "slide"
    }
   },
   "outputs": [],
   "source": [
    "for y in range(ligne):\n",
    "    for x in range(colonne):\n",
    "        # récupérer le pixel\n",
    "        pixel = mon_image.getpixel((x,y))\n",
    "\n",
    "        moyenne = (pixel[0] + pixel[1] + pixel[2]) // 3\n",
    "\n",
    "        # on replace le nouveau pixel\n",
    "        mon_image.putpixel((x,y), (moyenne, moyenne, moyenne))"
   ]
  },
  {
   "cell_type": "markdown",
   "metadata": {},
   "source": [
    "<div align=\"middle\"><img src=\"ressources/maisons-colorees-gris.jpg\" width=\"200px\"></div>"
   ]
  },
  {
   "cell_type": "code",
   "execution_count": null,
   "metadata": {
    "slideshow": {
     "slide_type": "slide"
    }
   },
   "outputs": [],
   "source": [
    "for y in range(ligne):\n",
    "    for x in range(colonne):\n",
    "        # récupérer le pixel\n",
    "        pixel = mon_image.getpixel((x,y))\n",
    "\n",
    "        # on replace le nouveau pixel\n",
    "        mon_image.putpixel((x,y), (pixel[0], 0, 0))"
   ]
  },
  {
   "cell_type": "markdown",
   "metadata": {},
   "source": [
    "<div align=\"middle\"><img src=\"ressources/maisons-colorees-rouge.jpg\" width=\"200px\"></div>"
   ]
  }
 ],
 "metadata": {
  "celltoolbar": "Slideshow",
  "kernelspec": {
   "display_name": "Python 3",
   "language": "python",
   "name": "python3"
  },
  "language_info": {
   "codemirror_mode": {
    "name": "ipython",
    "version": 3
   },
   "file_extension": ".py",
   "mimetype": "text/x-python",
   "name": "python",
   "nbconvert_exporter": "python",
   "pygments_lexer": "ipython3",
   "version": "3.8.6"
  },
  "latex_envs": {
   "LaTeX_envs_menu_present": true,
   "autoclose": false,
   "autocomplete": true,
   "bibliofile": "biblio.bib",
   "cite_by": "apalike",
   "current_citInitial": 1,
   "eqLabelWithNumbers": true,
   "eqNumInitial": 1,
   "hotkeys": {
    "equation": "Ctrl-E",
    "itemize": "Ctrl-I"
   },
   "labels_anchors": false,
   "latex_user_defs": false,
   "report_style_numbering": true,
   "user_envs_cfg": false
  }
 },
 "nbformat": 4,
 "nbformat_minor": 4
}
