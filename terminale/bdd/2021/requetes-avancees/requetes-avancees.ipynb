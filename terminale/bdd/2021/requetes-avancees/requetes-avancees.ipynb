{
 "cells": [
  {
   "cell_type": "markdown",
   "metadata": {
    "slideshow": {
     "slide_type": "slide"
    }
   },
   "source": [
    "# Requêtes avancées"
   ]
  },
  {
   "cell_type": "markdown",
   "metadata": {
    "slideshow": {
     "slide_type": "fragment"
    }
   },
   "source": [
    "## 1. Problématique"
   ]
  },
  {
   "cell_type": "markdown",
   "metadata": {},
   "source": [
    "<div align=\"middle\"><h3>Comment mettre en relation plusieurs tables?</h3></div>"
   ]
  },
  {
   "cell_type": "markdown",
   "metadata": {
    "slideshow": {
     "slide_type": "notes"
    }
   },
   "source": [
    "et faire des calculs sur les données?"
   ]
  },
  {
   "cell_type": "markdown",
   "metadata": {
    "slideshow": {
     "slide_type": "slide"
    }
   },
   "source": [
    "## 2. Fonctions d'agrégation\n",
    "La plupart des fonctions d'agrégation vont permettre de faire des statistiques sur les données."
   ]
  },
  {
   "cell_type": "code",
   "execution_count": null,
   "metadata": {
    "slideshow": {
     "slide_type": "fragment"
    }
   },
   "outputs": [],
   "source": [
    "SELECT COUNT(*) FROM Bandes_dessinees WHERE serie = \"Aya de Yopougon\";"
   ]
  },
  {
   "cell_type": "markdown",
   "metadata": {},
   "source": [
    "Il y a 5 livres dans la série Aya de Yopougon. On compte ici toutes les lignes."
   ]
  },
  {
   "cell_type": "code",
   "execution_count": null,
   "metadata": {
    "slideshow": {
     "slide_type": "fragment"
    }
   },
   "outputs": [],
   "source": [
    "SELECT COUNT(titre) FROM Bandes_dessinees WHERE serie = \"Aya de Yopougon\";"
   ]
  },
  {
   "cell_type": "markdown",
   "metadata": {},
   "source": [
    "On compte ici les lignes qui n'ont pas *NULL* pour l'attribut *titre*."
   ]
  },
  {
   "cell_type": "markdown",
   "metadata": {
    "slideshow": {
     "slide_type": "slide"
    }
   },
   "source": [
    "- SUM()\n",
    "- AVG()\n",
    "- MAX()\n",
    "- MIN()"
   ]
  },
  {
   "cell_type": "markdown",
   "metadata": {
    "slideshow": {
     "slide_type": "slide"
    }
   },
   "source": [
    "#### Activité 1\n",
    "- Tester la requête précédente.\n",
    "- Compter le nombre total de bandes dessinées.\n",
    "- Tester la requête suivante. Que renvoie-t-elle?"
   ]
  },
  {
   "cell_type": "code",
   "execution_count": null,
   "metadata": {},
   "outputs": [],
   "source": [
    "SELECT COUNT(DISTINCT id_dessinateur) FROM Bandes_dessinees;"
   ]
  },
  {
   "cell_type": "code",
   "execution_count": null,
   "metadata": {
    "slideshow": {
     "slide_type": "slide"
    }
   },
   "outputs": [],
   "source": [
    "SELECT COUNT(*) FROM Bandes_dessinees;"
   ]
  },
  {
   "cell_type": "markdown",
   "metadata": {},
   "source": [
    "Il y a 422 bandes dessinées."
   ]
  },
  {
   "cell_type": "code",
   "execution_count": null,
   "metadata": {
    "slideshow": {
     "slide_type": "slide"
    }
   },
   "outputs": [],
   "source": [
    "SELECT COUNT(DISTINCT id_dessinateur) FROM Bandes_dessinees;"
   ]
  },
  {
   "cell_type": "markdown",
   "metadata": {},
   "source": [
    "Le mot clé **DISTINCT** permet de ne pas prendre en compte les doublons. Il y a donc 155 dessinateurs différents."
   ]
  },
  {
   "cell_type": "markdown",
   "metadata": {
    "slideshow": {
     "slide_type": "slide"
    }
   },
   "source": [
    "## 3. Mettre des tables en relation\n",
    "### 3.1 Sous-requêtes"
   ]
  },
  {
   "cell_type": "code",
   "execution_count": null,
   "metadata": {
    "slideshow": {
     "slide_type": "fragment"
    }
   },
   "outputs": [],
   "source": [
    "SELECT titre FROM Bandes_dessinees WHERE id_genre = 13;"
   ]
  },
  {
   "cell_type": "code",
   "execution_count": null,
   "metadata": {
    "slideshow": {
     "slide_type": "fragment"
    }
   },
   "outputs": [],
   "source": [
    "SELECT id FROM Genres WHERE genre = \"Jeunesse\";"
   ]
  },
  {
   "cell_type": "code",
   "execution_count": null,
   "metadata": {
    "slideshow": {
     "slide_type": "fragment"
    }
   },
   "outputs": [],
   "source": [
    "SELECT titre FROM Bandes_dessinees \n",
    "       WHERE id_genre = (SELECT id FROM Genres WHERE genre = \"Jeunesse\");"
   ]
  },
  {
   "cell_type": "markdown",
   "metadata": {
    "slideshow": {
     "slide_type": "slide"
    }
   },
   "source": [
    "#### Activité 2\n",
    "- Tester la requête précédente.\n",
    "- Sélectionner les titres de livres dessinés par Joann Sfar.\n",
    "- Compter les titres publiés par l'éditeur Delcourt.\n",
    "- Que renvoie la requête suivante?"
   ]
  },
  {
   "cell_type": "code",
   "execution_count": null,
   "metadata": {},
   "outputs": [],
   "source": [
    "SELECT titre FROM Bandes_dessinees \n",
    "        WHERE isbn IN (SELECT isbn FROM Emprunts WHERE id_emprunteurs = 1);"
   ]
  },
  {
   "cell_type": "code",
   "execution_count": null,
   "metadata": {
    "slideshow": {
     "slide_type": "slide"
    }
   },
   "outputs": [],
   "source": [
    "SELECT titre FROM Bandes_dessinees \n",
    "        WHERE id_dessinateur = (SELECT id FROM Auteurs WHERE nom = \"Sfar\" AND prenom = \"Joann\");"
   ]
  },
  {
   "cell_type": "markdown",
   "metadata": {},
   "source": [
    "<div align=\"middle\"><img src=\"ressources/sousrequete.png\" witdh=\"200px\"></div>"
   ]
  },
  {
   "cell_type": "code",
   "execution_count": null,
   "metadata": {
    "slideshow": {
     "slide_type": "slide"
    }
   },
   "outputs": [],
   "source": [
    "SELECT COUNT(titre) FROM Bandes_dessinees \n",
    "    WHERE id_editeur = (SELECT id FROM Editeurs WHERE editeur = \"Delcourt\");"
   ]
  },
  {
   "cell_type": "markdown",
   "metadata": {},
   "source": [
    "Delcourt a édité 99 bandes dessinées."
   ]
  },
  {
   "cell_type": "code",
   "execution_count": null,
   "metadata": {
    "slideshow": {
     "slide_type": "slide"
    }
   },
   "outputs": [],
   "source": [
    "SELECT titre FROM Bandes_dessinees \n",
    "        WHERE isbn IN (SELECT isbn FROM Emprunts WHERE id_emprunteurs = 1);"
   ]
  },
  {
   "cell_type": "markdown",
   "metadata": {},
   "source": [
    "Il faut noter l'utilisation du mot clé **IN**.\n",
    "<div align=\"middle\"><img src=\"ressources/isbn.png\" witdh=\"200px\"></div>"
   ]
  },
  {
   "cell_type": "markdown",
   "metadata": {},
   "source": [
    "La liste des livres empruntés par l'utilisateur d'id 1."
   ]
  },
  {
   "cell_type": "markdown",
   "metadata": {
    "slideshow": {
     "slide_type": "slide"
    }
   },
   "source": [
    "On peut enchaîner les sous-requêtes."
   ]
  },
  {
   "cell_type": "code",
   "execution_count": null,
   "metadata": {
    "slideshow": {
     "slide_type": "-"
    }
   },
   "outputs": [],
   "source": [
    "SELECT titre FROM Bandes_dessinees \n",
    "WHERE isbn IN (SELECT isbn FROM Emprunts \n",
    "WHERE id_emprunteurs = (SELECT id FROM Emprunteurs WHERE nom = \"Dupont\")\n",
    ");"
   ]
  },
  {
   "cell_type": "markdown",
   "metadata": {
    "slideshow": {
     "slide_type": "notes"
    }
   },
   "source": [
    "même requête qu'avant mais on va chercher l'id de Dupont"
   ]
  },
  {
   "cell_type": "markdown",
   "metadata": {
    "slideshow": {
     "slide_type": "slide"
    }
   },
   "source": [
    "### 3.2 Jointures\n",
    "Une jointure permet de mettre en relation des données de plusieurs tables."
   ]
  },
  {
   "cell_type": "markdown",
   "metadata": {},
   "source": [
    "<div align=\"middle\"><img src=\"ressources/jointure1.png\" witdh=\"800px\"></div>"
   ]
  },
  {
   "cell_type": "markdown",
   "metadata": {
    "slideshow": {
     "slide_type": "slide"
    }
   },
   "source": [
    "Création d'une table virtuelle où on peut récupérer des données.\n",
    "<div align=\"middle\"><img src=\"ressources/jointure2.png\" witdh=\"800px\"></div>"
   ]
  },
  {
   "cell_type": "code",
   "execution_count": null,
   "metadata": {
    "slideshow": {
     "slide_type": "fragment"
    }
   },
   "outputs": [],
   "source": [
    "SELECT Emprunteurs.nom, Emprunts.isbn FROM Emprunts \n",
    "JOIN Emprunteurs ON Emprunts.id_emprunteurs = Emprunteurs.id;"
   ]
  },
  {
   "cell_type": "code",
   "execution_count": null,
   "metadata": {
    "slideshow": {
     "slide_type": "slide"
    }
   },
   "outputs": [],
   "source": [
    "SELECT Emprunteurs.nom, Emprunts.isbn FROM Emprunts \n",
    "JOIN Emprunteurs ON Emprunts.id_emprunteurs = Emprunteurs.id;"
   ]
  },
  {
   "cell_type": "code",
   "execution_count": null,
   "metadata": {
    "slideshow": {
     "slide_type": "-"
    }
   },
   "outputs": [],
   "source": [
    "SELECT nom, isbn FROM Emprunts \n",
    "JOIN Emprunteurs ON Emprunts.id_emprunteurs = Emprunteurs.id;"
   ]
  },
  {
   "cell_type": "markdown",
   "metadata": {},
   "source": [
    "Précision dans le nommage des attributs"
   ]
  },
  {
   "cell_type": "markdown",
   "metadata": {
    "slideshow": {
     "slide_type": "slide"
    }
   },
   "source": [
    "#### Activité 3\n",
    "- Tester la requête précédente.\n",
    "- Modifier la requête pour ne renvoyer que les ISBN empruntés par Dupont.\n",
    "- Il est possible d'effectuer une jointure avec plus de deux tables. Modifier la requête précédente pour renvoyer le *titre* des bandes dessinées empruntées par Dupont.\n",
    "- Le mot clé *ORDER BY* permet de classer les résultats selon le critère donné. Classer les résultats de la requête précédente par ordre de titre."
   ]
  },
  {
   "cell_type": "code",
   "execution_count": null,
   "metadata": {},
   "outputs": [],
   "source": [
    "SELECT editeur FROM Editeurs \n",
    "WHERE editeur LIKE \"G%\"\n",
    "ORDER BY editeur;"
   ]
  },
  {
   "cell_type": "code",
   "execution_count": null,
   "metadata": {
    "slideshow": {
     "slide_type": "slide"
    }
   },
   "outputs": [],
   "source": [
    "SELECT Emprunteurs.nom, Emprunts.isbn FROM Emprunts \n",
    "JOIN Emprunteurs ON Emprunts.id_emprunteurs = Emprunteurs.id\n",
    "WHERE Emprunteurs.nom = \"Dupont\";"
   ]
  },
  {
   "cell_type": "markdown",
   "metadata": {},
   "source": [
    "<div align=\"middle\"><img src=\"ressources/activite3-1.png\" witdh=\"150px\"></div>"
   ]
  },
  {
   "cell_type": "code",
   "execution_count": null,
   "metadata": {
    "slideshow": {
     "slide_type": "slide"
    }
   },
   "outputs": [],
   "source": [
    "SELECT Emprunteurs.nom, Bandes_dessinees.titre FROM Emprunts \n",
    "JOIN Emprunteurs ON Emprunts.id_emprunteurs = Emprunteurs.id\n",
    "JOIN Bandes_dessinees ON Emprunts.isbn = Bandes_dessinees.isbn\n",
    "WHERE id = 1;"
   ]
  },
  {
   "cell_type": "markdown",
   "metadata": {},
   "source": [
    "<div align=\"middle\"><img src=\"ressources/activite3-2.png\" witdh=\"200px\"></div>"
   ]
  },
  {
   "cell_type": "code",
   "execution_count": null,
   "metadata": {
    "slideshow": {
     "slide_type": "slide"
    }
   },
   "outputs": [],
   "source": [
    "SELECT Emprunteurs.nom, Bandes_dessinees.titre FROM Emprunts \n",
    "JOIN Emprunteurs ON Emprunts.id_emprunteurs = Emprunteurs.id\n",
    "JOIN Bandes_dessinees ON Emprunts.isbn = Bandes_dessinees.isbn\n",
    "WHERE id = 1\n",
    "ORDER BY titre;"
   ]
  },
  {
   "cell_type": "markdown",
   "metadata": {},
   "source": [
    "<div align=\"middle\"><img src=\"ressources/activite3-3.png\" witdh=\"200px\"></div>"
   ]
  }
 ],
 "metadata": {
  "celltoolbar": "Slideshow",
  "kernelspec": {
   "display_name": "Python 3",
   "language": "python",
   "name": "python3"
  },
  "language_info": {
   "codemirror_mode": {
    "name": "ipython",
    "version": 3
   },
   "file_extension": ".py",
   "mimetype": "text/x-python",
   "name": "python",
   "nbconvert_exporter": "python",
   "pygments_lexer": "ipython3",
   "version": "3.8.6"
  },
  "latex_envs": {
   "LaTeX_envs_menu_present": true,
   "autoclose": false,
   "autocomplete": true,
   "bibliofile": "biblio.bib",
   "cite_by": "apalike",
   "current_citInitial": 1,
   "eqLabelWithNumbers": true,
   "eqNumInitial": 1,
   "hotkeys": {
    "equation": "Ctrl-E",
    "itemize": "Ctrl-I"
   },
   "labels_anchors": false,
   "latex_user_defs": false,
   "report_style_numbering": true,
   "user_envs_cfg": false
  }
 },
 "nbformat": 4,
 "nbformat_minor": 4
}
