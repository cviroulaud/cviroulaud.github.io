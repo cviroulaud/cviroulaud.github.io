{
 "cells": [
  {
   "cell_type": "markdown",
   "metadata": {
    "slideshow": {
     "slide_type": "slide"
    }
   },
   "source": [
    "# Paradigme fonctionnel"
   ]
  },
  {
   "cell_type": "markdown",
   "metadata": {
    "slideshow": {
     "slide_type": "fragment"
    }
   },
   "source": [
    "## Objectif: Découvrir un nouveau paradigme de programmation"
   ]
  },
  {
   "cell_type": "markdown",
   "metadata": {
    "slideshow": {
     "slide_type": "slide"
    }
   },
   "source": [
    "## 1. Problématique"
   ]
  },
  {
   "cell_type": "markdown",
   "metadata": {
    "slideshow": {
     "slide_type": "fragment"
    }
   },
   "source": [
    "**Le tri**: Une fonctionnalité très utilisée en programmation."
   ]
  },
  {
   "cell_type": "markdown",
   "metadata": {
    "slideshow": {
     "slide_type": "fragment"
    }
   },
   "source": [
    "Tous les algorithmes ont-ils la même efficacité?"
   ]
  },
  {
   "cell_type": "markdown",
   "metadata": {
    "slideshow": {
     "slide_type": "fragment"
    }
   },
   "source": [
    "**Peut-on concevoir un outil de comparaison des algorithmes de tri?**"
   ]
  },
  {
   "cell_type": "markdown",
   "metadata": {
    "slideshow": {
     "slide_type": "slide"
    }
   },
   "source": [
    "## 2. Algorithmes de tri"
   ]
  },
  {
   "cell_type": "markdown",
   "metadata": {
    "slideshow": {
     "slide_type": "slide"
    }
   },
   "source": [
    "### 2.1 Tri par sélection\n",
    "\n",
    "En partant du début du tableau et pour chaque élément de rang *n*:\n",
    "- Rechercher la plus petite valeur et la permuter avec l'élément de rang *n*."
   ]
  },
  {
   "cell_type": "markdown",
   "metadata": {
    "slideshow": {
     "slide_type": "fragment"
    }
   },
   "source": [
    "<div align=\"middle\"><img src=\"ressources/selection.gif\" width=300px></div>"
   ]
  },
  {
   "cell_type": "markdown",
   "metadata": {
    "slideshow": {
     "slide_type": "slide"
    }
   },
   "source": [
    "### 2.2 Tri par insertion\n",
    "\n",
    "En partant du début du tableau et pour chaque élément de rang *n*:\n",
    "- Mémoriser l'élément de rang *n*.\n",
    "- En partant de l'élément *n-1*, décaler vers la droite les éléments qui sont plus grands que celui mémorisé.\n",
    "- Placer dans le trou l'élément mémorisé."
   ]
  },
  {
   "cell_type": "markdown",
   "metadata": {
    "slideshow": {
     "slide_type": "fragment"
    }
   },
   "source": [
    "<div align=\"middle\"><img src=\"ressources/insertion.gif\" width=300px></div>"
   ]
  },
  {
   "cell_type": "markdown",
   "metadata": {
    "slideshow": {
     "slide_type": "slide"
    }
   },
   "source": [
    "### 2.3 Tri à bulles\n",
    "\n",
    "En partant du début du tableau et pour chaque élément de rang *n*:\n",
    "- Parcourir le tableau en comparant chaque élément avec son successeur.\n",
    "- Si ce dernier est le plus petit des deux, les permuter."
   ]
  },
  {
   "cell_type": "markdown",
   "metadata": {
    "slideshow": {
     "slide_type": "fragment"
    }
   },
   "source": [
    "<div align=\"middle\"><img src=\"ressources/bulle.gif\" width=300px></div>"
   ]
  },
  {
   "cell_type": "markdown",
   "metadata": {
    "slideshow": {
     "slide_type": "slide"
    }
   },
   "source": [
    "## 3. Notion de complexité"
   ]
  },
  {
   "cell_type": "code",
   "execution_count": 1,
   "metadata": {
    "slideshow": {
     "slide_type": "fragment"
    }
   },
   "outputs": [],
   "source": [
    "def tri_selection(tab):\n",
    "    taille = len(tab)\n",
    "    for i in range(taille):\n",
    "        rang_mini = i\n",
    "        for j in range (i+1,taille):\n",
    "            if tab[j] < tab[rang_mini]:\n",
    "                rang_mini = j\n",
    "        tab[i],tab[rang_mini] = tab[rang_mini],tab[i]\n",
    "    return tab"
   ]
  },
  {
   "cell_type": "code",
   "execution_count": 2,
   "metadata": {
    "slideshow": {
     "slide_type": "fragment"
    }
   },
   "outputs": [
    {
     "name": "stdout",
     "output_type": "stream",
     "text": [
      "[4, 18, 81, 37, 9, 6, 7, 82, 10, 33, 1, 9, 23, 9, 92, 4, 30, 19, 36, 38]\n",
      "[1, 4, 4, 6, 7, 9, 9, 9, 10, 18, 19, 23, 30, 33, 36, 37, 38, 81, 82, 92]\n"
     ]
    }
   ],
   "source": [
    "from random import randint\n",
    "tab = [randint(0, 100) for _ in range(20)]\n",
    "print(tab)\n",
    "print(tri_selection(tab))"
   ]
  },
  {
   "cell_type": "markdown",
   "metadata": {
    "slideshow": {
     "slide_type": "fragment"
    }
   },
   "source": [
    "#### La **complexité en temps** du tri par sélection est en $O(n^2)$."
   ]
  },
  {
   "cell_type": "markdown",
   "metadata": {
    "slideshow": {
     "slide_type": "slide"
    }
   },
   "source": [
    "#### Activité 2: Déterminer la complexité en temps des algorithmes de tri à bulles et tri par insertion."
   ]
  },
  {
   "cell_type": "markdown",
   "metadata": {
    "slideshow": {
     "slide_type": "slide"
    }
   },
   "source": [
    "#### Activité 2: Correction tri à bulles"
   ]
  },
  {
   "cell_type": "code",
   "execution_count": 3,
   "metadata": {
    "slideshow": {
     "slide_type": "fragment"
    }
   },
   "outputs": [],
   "source": [
    "def tri_bulles(tab):\n",
    "    taille = len(tab)\n",
    "    for passage in range(taille):\n",
    "        for j in range(1,taille - passage):\n",
    "            if tab[j] < tab[j-1]:\n",
    "                tab[j],tab[j-1] = tab[j-1],tab[j]\n",
    "    return tab"
   ]
  },
  {
   "cell_type": "markdown",
   "metadata": {
    "slideshow": {
     "slide_type": "fragment"
    }
   },
   "source": [
    "#### La **complexité en temps** du tri à bulles est en $O(n^2)$."
   ]
  },
  {
   "cell_type": "markdown",
   "metadata": {
    "slideshow": {
     "slide_type": "slide"
    }
   },
   "source": [
    "Une amélioration du tri à bulles"
   ]
  },
  {
   "cell_type": "code",
   "execution_count": 4,
   "metadata": {
    "slideshow": {
     "slide_type": "fragment"
    }
   },
   "outputs": [],
   "source": [
    "def tri_bulles_optimise(tab):\n",
    "    taille = len(tab)\n",
    "    permutation = True\n",
    "    passage = 0\n",
    "    while permutation == True:\n",
    "        permutation = False\n",
    "        for j in range(1, taille - passage):\n",
    "            if tab[j] < tab[j-1]:\n",
    "                permutation = True\n",
    "                tab[j],tab[j-1] = tab[j-1],tab[j]\n",
    "        passage = passage + 1\n",
    "    return tab"
   ]
  },
  {
   "cell_type": "markdown",
   "metadata": {
    "slideshow": {
     "slide_type": "fragment"
    }
   },
   "source": [
    "- Si le tableau est déjà trié **la complexité dans le meilleur des cas** est en $O(n)$.\n",
    "- Si le tableau est trié à l'envers **la complexité dans le pire des cas** est en $O(n^2)$.\n",
    "- **La complexité en moyenne** est en $O(n^2)$."
   ]
  },
  {
   "cell_type": "markdown",
   "metadata": {
    "slideshow": {
     "slide_type": "slide"
    }
   },
   "source": [
    "#### Activité 2: Correction tri par insertion"
   ]
  },
  {
   "cell_type": "code",
   "execution_count": 5,
   "metadata": {
    "slideshow": {
     "slide_type": "fragment"
    }
   },
   "outputs": [],
   "source": [
    "def tri_insertion(tab):\n",
    "    taille = len(tab)\n",
    "    for i in range(1,taille):\n",
    "        en_cours = tab[i]\n",
    "        j = i-1\n",
    "        while j >= 0 and tab[j] > en_cours:\n",
    "            tab[j+1] = tab[j]\n",
    "            j -= 1\n",
    "        tab[j+1] = en_cours\n",
    "    return tab"
   ]
  },
  {
   "cell_type": "markdown",
   "metadata": {
    "slideshow": {
     "slide_type": "fragment"
    }
   },
   "source": [
    "Étudions dans le meilleur et le pire des cas."
   ]
  },
  {
   "cell_type": "markdown",
   "metadata": {
    "slideshow": {
     "slide_type": "fragment"
    }
   },
   "source": [
    "- Si le tableau est déjà trié **la complexité dans le meilleur des cas** est en $O(n)$.\n",
    "- Si le tableau est trié à l'envers **la complexité dans le pire des cas** est en $O(n^2)$.\n",
    "- **La complexité en moyenne** est en $O(n^2)$."
   ]
  },
  {
   "cell_type": "markdown",
   "metadata": {
    "slideshow": {
     "slide_type": "slide"
    }
   },
   "source": [
    "## 4. Comparaison des temps d'exécution"
   ]
  },
  {
   "cell_type": "markdown",
   "metadata": {
    "slideshow": {
     "slide_type": "fragment"
    }
   },
   "source": [
    "### 4.1 Contexte"
   ]
  },
  {
   "cell_type": "markdown",
   "metadata": {
    "slideshow": {
     "slide_type": "fragment"
    }
   },
   "source": [
    "Des fonctions avec un schéma identique:\n",
    "- acceptent une liste en entrée,\n",
    "- renvoient la liste triée en sortie."
   ]
  },
  {
   "cell_type": "markdown",
   "metadata": {
    "slideshow": {
     "slide_type": "fragment"
    }
   },
   "source": [
    "Une bibliothèque Python pour mesurer le temps:"
   ]
  },
  {
   "cell_type": "code",
   "execution_count": 6,
   "metadata": {},
   "outputs": [],
   "source": [
    "from time import time"
   ]
  },
  {
   "cell_type": "markdown",
   "metadata": {
    "slideshow": {
     "slide_type": "slide"
    }
   },
   "source": [
    "### 4.2 Paradigme fonctionnel\n",
    "Une fonction est une donnée comme une autre."
   ]
  },
  {
   "cell_type": "markdown",
   "metadata": {
    "slideshow": {
     "slide_type": "fragment"
    }
   },
   "source": [
    "## Contexte historique\n",
    "<div align=\"middle\">\n",
    "<a href=\"https://cdn.knightlab.com/libs/timeline3/latest/embed/index.html?source=1VuqokRaePyHE5qWm3uZrQM6wbRUHuGUgruzKgna7Fzc&font=Default&lang=fr&initial_zoom=2&height=650\" target=_blank><img src=\"../../../../retour.png\"></a></div>"
   ]
  },
  {
   "cell_type": "markdown",
   "metadata": {
    "slideshow": {
     "slide_type": "slide"
    }
   },
   "source": [
    "### Activité 3: \n",
    "Implémenter une fonction **duree_tri(fonction, tab: list) $\\rightarrow$ float** qui mesure la durée que met *fonction* pour trier la liste *tab* et renvoie cette durée."
   ]
  },
  {
   "cell_type": "code",
   "execution_count": 7,
   "metadata": {
    "slideshow": {
     "slide_type": "slide"
    }
   },
   "outputs": [],
   "source": [
    "from time import time\n",
    "\n",
    "def duree_tri(fonction, tab: list)->float:\n",
    "    deb = time()\n",
    "    tab = fonction(tab)\n",
    "    fin = time()\n",
    "    return fin-deb"
   ]
  },
  {
   "cell_type": "markdown",
   "metadata": {
    "slideshow": {
     "slide_type": "fragment"
    }
   },
   "source": [
    "Une version améliorée:"
   ]
  },
  {
   "cell_type": "code",
   "execution_count": 8,
   "metadata": {
    "slideshow": {
     "slide_type": "-"
    }
   },
   "outputs": [],
   "source": [
    "def duree_tri(fonction, tab: list)->tuple:\n",
    "    deb = time()\n",
    "    tab = fonction(tab)\n",
    "    fin = time()\n",
    "    return (fonction.__name__, fin-deb)"
   ]
  },
  {
   "cell_type": "markdown",
   "metadata": {
    "slideshow": {
     "slide_type": "slide"
    }
   },
   "source": [
    "### 4.3 Paradigme fonctionnel: données immuables"
   ]
  },
  {
   "cell_type": "markdown",
   "metadata": {
    "slideshow": {
     "slide_type": "fragment"
    }
   },
   "source": [
    "Le paradigme fonctionnel veut s'affranchir des **effets de bord**."
   ]
  },
  {
   "cell_type": "markdown",
   "metadata": {
    "slideshow": {
     "slide_type": "slide"
    }
   },
   "source": [
    "### Activité 4"
   ]
  },
  {
   "cell_type": "code",
   "execution_count": 9,
   "metadata": {},
   "outputs": [],
   "source": [
    "notes = [7,12,8,5,19,10,7,6,1,15,13,8]\n",
    "\n",
    "def majoration(bonus: int):\n",
    "    for i in range(len(notes)):\n",
    "        if notes[i] <= 8:\n",
    "            notes[i] += bonus"
   ]
  },
  {
   "cell_type": "code",
   "execution_count": 10,
   "metadata": {
    "slideshow": {
     "slide_type": "fragment"
    }
   },
   "outputs": [
    {
     "data": {
      "text/plain": [
       "[9, 12, 10, 10, 19, 10, 9, 11, 6, 15, 13, 10]"
      ]
     },
     "execution_count": 10,
     "metadata": {},
     "output_type": "execute_result"
    }
   ],
   "source": [
    "majoration(2)\n",
    "majoration(3)\n",
    "notes"
   ]
  },
  {
   "cell_type": "markdown",
   "metadata": {
    "slideshow": {
     "slide_type": "slide"
    }
   },
   "source": [
    "Les **tuples** pour  s'affranchir des effets de bord."
   ]
  },
  {
   "cell_type": "markdown",
   "metadata": {
    "slideshow": {
     "slide_type": "fragment"
    }
   },
   "source": [
    "### Activité 5\n",
    "1. Construire (en compréhension) un tuple **tab_immuable** de 1000 entiers compris entre 0 et 100."
   ]
  },
  {
   "cell_type": "markdown",
   "metadata": {
    "slideshow": {
     "slide_type": "fragment"
    }
   },
   "source": [
    "Correction avec 10 éléments:"
   ]
  },
  {
   "cell_type": "code",
   "execution_count": 11,
   "metadata": {
    "slideshow": {
     "slide_type": "fragment"
    }
   },
   "outputs": [
    {
     "data": {
      "text/plain": [
       "(88, 100, 50, 94, 54, 33, 92, 54, 72, 92)"
      ]
     },
     "execution_count": 11,
     "metadata": {},
     "output_type": "execute_result"
    }
   ],
   "source": [
    "from random import randint\n",
    "l1 = tuple(randint(0,100) for _ in range(10))\n",
    "l1"
   ]
  },
  {
   "cell_type": "markdown",
   "metadata": {
    "slideshow": {
     "slide_type": "slide"
    }
   },
   "source": [
    "2. Implémenter une fonction **duree_tri_fonctionnel(fonction, tab: tuple) $\\rightarrow$ float** qui mesure la durée que met *fonction* pour trier *tab* et renvoie cette durée."
   ]
  },
  {
   "cell_type": "markdown",
   "metadata": {},
   "source": [
    "Correction améliorée avec 10 éléments:"
   ]
  },
  {
   "cell_type": "code",
   "execution_count": 18,
   "metadata": {
    "slideshow": {
     "slide_type": "fragment"
    }
   },
   "outputs": [],
   "source": [
    "def duree_tri_fonctionnel(fonction, tab: tuple)->tuple:\n",
    "    deb = time()\n",
    "    tab = fonction(list(tab))\n",
    "    fin = time()\n",
    "    return (fonction.__name__, fin-deb, tuple(tab))"
   ]
  },
  {
   "cell_type": "code",
   "execution_count": 19,
   "metadata": {
    "slideshow": {
     "slide_type": "fragment"
    }
   },
   "outputs": [
    {
     "name": "stdout",
     "output_type": "stream",
     "text": [
      "('tri_selection', 2.2649765014648438e-05, (33, 50, 54, 54, 72, 88, 92, 92, 94, 100))\n"
     ]
    },
    {
     "data": {
      "text/plain": [
       "(88, 100, 50, 94, 54, 33, 92, 54, 72, 92)"
      ]
     },
     "execution_count": 19,
     "metadata": {},
     "output_type": "execute_result"
    }
   ],
   "source": [
    "print(duree_tri_fonctionnel(tri_selection,l1))\n",
    "l1"
   ]
  },
  {
   "cell_type": "markdown",
   "metadata": {
    "slideshow": {
     "slide_type": "slide"
    }
   },
   "source": [
    "## 4.4 Évolution du temps d'exécution"
   ]
  },
  {
   "cell_type": "markdown",
   "metadata": {
    "slideshow": {
     "slide_type": "fragment"
    }
   },
   "source": [
    "### Activité 6\n",
    "1. Réaliser une représentation graphique de la durée d'exécution d'un des tris étudiés, pour des tailles de listes variant de 10 à 5000 items. Il est conseillé d'utiliser au moins 10 listes pour avoir un résultat significatif."
   ]
  },
  {
   "cell_type": "markdown",
   "metadata": {
    "slideshow": {
     "slide_type": "fragment"
    }
   },
   "source": [
    "Correction avec le tri par sélection:"
   ]
  },
  {
   "cell_type": "code",
   "execution_count": 20,
   "metadata": {
    "slideshow": {
     "slide_type": "slide"
    }
   },
   "outputs": [
    {
     "data": {
      "image/png": "[encoded data removed]",
      "text/plain": [
       "<Figure size 432x288 with 1 Axes>"
      ]
     },
     "metadata": {
      "needs_background": "light"
     },
     "output_type": "display_data"
    }
   ],
   "source": [
    "import matplotlib.pyplot as plt\n",
    "\n",
    "nb_elements=[10,100,250,500,750,1000,1500,2000,3000,4000,5000]\n",
    "temps = []\n",
    "for nb in nb_elements:\n",
    "    tab = [randint(0,100) for _ in range(nb)]\n",
    "    temps.append(duree_tri(tri_selection,tab)[1])\n",
    "\n",
    "plt.plot(nb_elements,temps)\n",
    "plt.title(\"tri par sélection\")\n",
    "\n",
    "plt.grid()\n",
    "plt.show()"
   ]
  },
  {
   "cell_type": "markdown",
   "metadata": {
    "slideshow": {
     "slide_type": "slide"
    }
   },
   "source": [
    "On trouve une parabole caractéristique d'une fonction carré. La complexité du tri par sélection est en $O(n^2)$."
   ]
  }
 ],
 "metadata": {
  "celltoolbar": "Slideshow",
  "kernelspec": {
   "display_name": "Python 3",
   "language": "python",
   "name": "python3"
  },
  "language_info": {
   "codemirror_mode": {
    "name": "ipython",
    "version": 3
   },
   "file_extension": ".py",
   "mimetype": "text/x-python",
   "name": "python",
   "nbconvert_exporter": "python",
   "pygments_lexer": "ipython3",
   "version": "3.8.1"
  }
 },
 "nbformat": 4,
 "nbformat_minor": 4
}
