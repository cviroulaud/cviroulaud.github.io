{
 "cells": [
  {
   "cell_type": "markdown",
   "metadata": {
    "slideshow": {
     "slide_type": "slide"
    }
   },
   "source": [
    "# Fonction native *sorted*"
   ]
  },
  {
   "cell_type": "markdown",
   "metadata": {
    "slideshow": {
     "slide_type": "slide"
    }
   },
   "source": [
    "## 1. Problématique"
   ]
  },
  {
   "cell_type": "markdown",
   "metadata": {
    "slideshow": {
     "slide_type": "fragment"
    }
   },
   "source": [
    "Comparons les performances du tri par insertion à celles de la fonction native *sorted*."
   ]
  },
  {
   "cell_type": "code",
   "execution_count": 1,
   "metadata": {
    "slideshow": {
     "slide_type": "slide"
    }
   },
   "outputs": [],
   "source": [
    "from time import time\n",
    "\n",
    "def duree_tri(fonction, t: tuple)->tuple:\n",
    "    deb = time()\n",
    "    fonction(list(t))\n",
    "    fin = time()\n",
    "    return (fonction.__name__, fin-deb)\n",
    "\n",
    "def tri_insertion(tab):\n",
    "    taille = len(tab)\n",
    "    for i in range(1,taille):\n",
    "        en_cours = tab[i]\n",
    "        j = i-1\n",
    "        while j >= 0 and tab[j] > en_cours:\n",
    "            tab[j+1] = tab[j]\n",
    "            j -= 1\n",
    "        tab[j+1] = en_cours\n",
    "    return tab"
   ]
  },
  {
   "cell_type": "code",
   "execution_count": 2,
   "metadata": {
    "slideshow": {
     "slide_type": "fragment"
    }
   },
   "outputs": [
    {
     "name": "stdout",
     "output_type": "stream",
     "text": [
      "('tri_insertion', 4.343232870101929)\n"
     ]
    }
   ],
   "source": [
    "from random import randint\n",
    "\n",
    "l = tuple(randint(0,100) for _ in range(10000))\n",
    "print(duree_tri(tri_insertion, l))"
   ]
  },
  {
   "cell_type": "code",
   "execution_count": 3,
   "metadata": {
    "slideshow": {
     "slide_type": "fragment"
    }
   },
   "outputs": [
    {
     "name": "stdout",
     "output_type": "stream",
     "text": [
      "('sorted', 0.0029120445251464844)\n"
     ]
    }
   ],
   "source": [
    "print(duree_tri(sorted, l))"
   ]
  },
  {
   "cell_type": "markdown",
   "metadata": {
    "slideshow": {
     "slide_type": "slide"
    }
   },
   "source": [
    "### Quel algorithme de tri est implémenté dans la fonction *sorted*?"
   ]
  },
  {
   "cell_type": "markdown",
   "metadata": {
    "slideshow": {
     "slide_type": "slide"
    }
   },
   "source": [
    "## 2. Nouvelle approche"
   ]
  },
  {
   "cell_type": "markdown",
   "metadata": {
    "slideshow": {
     "slide_type": "slide"
    }
   },
   "source": [
    "### 2.1 Résoudre de petits problèmes...\n",
    "Une liste de un élément est triée."
   ]
  },
  {
   "cell_type": "markdown",
   "metadata": {
    "slideshow": {
     "slide_type": "slide"
    }
   },
   "source": [
    "<table>\n",
    "    <tr>\n",
    "        <td>8</td><td class=\"vide\"> </td><td>5</td><td class=\"vide\"> </td><td>4</td><td class=\"vide\"> </td><td>7</td><td class=\"vide\"> </td><td>9</td><td class=\"vide\"> </td><td>6</td><td class=\"vide\"> </td><td>3</td>\n",
    "    </tr>\n",
    "</table>\n",
    "    "
   ]
  },
  {
   "cell_type": "markdown",
   "metadata": {
    "slideshow": {
     "slide_type": "fragment"
    }
   },
   "source": [
    "fusionner(liste gauche, liste droite)\n",
    "<table>\n",
    "    <tr>\n",
    "        <td>5</td><td>8</td><td class=\"vide\"> </td><td>4</td><td>7</td><td class=\"vide\"> </td><td>6</td><td>9</td><td class=\"vide\"> </td><td>3</td>\n",
    "    </tr>\n",
    "</table>\n",
    "    "
   ]
  },
  {
   "cell_type": "markdown",
   "metadata": {
    "slideshow": {
     "slide_type": "fragment"
    }
   },
   "source": [
    "fusionner(liste gauche, liste droite)\n",
    "<table>\n",
    "    <tr>\n",
    "        <td>4</td><td>5</td><td>7</td><td>8</td><td class=\"vide\"> </td><td>3</td><td>6</td><td>9</td>\n",
    "    </tr>\n",
    "</table>\n",
    "    "
   ]
  },
  {
   "cell_type": "markdown",
   "metadata": {
    "slideshow": {
     "slide_type": "fragment"
    }
   },
   "source": [
    "fusionner(liste gauche, liste droite)\n",
    "<table>\n",
    "    <tr>\n",
    "        <td>3</td><td>4</td><td>5</td><td>6</td><td>7</td><td>8</td><td>9</td>\n",
    "    </tr>\n",
    "</table>\n",
    "    "
   ]
  },
  {
   "cell_type": "markdown",
   "metadata": {
    "slideshow": {
     "slide_type": "slide"
    }
   },
   "source": [
    "### 2.2 ... Pour solutionner de gros problèmes\n",
    "Décomposons un gros problèmes en petits."
   ]
  },
  {
   "cell_type": "markdown",
   "metadata": {
    "slideshow": {
     "slide_type": "slide"
    }
   },
   "source": [
    "<table>\n",
    "    <tr>\n",
    "        <td>8</td><td>5</td><td>4</td><td>7</td><td>9</td><td>6</td><td>3</td>\n",
    "    </tr>\n",
    "</table>\n",
    "    "
   ]
  },
  {
   "cell_type": "markdown",
   "metadata": {
    "slideshow": {
     "slide_type": "fragment"
    }
   },
   "source": [
    "décomposer en deux listes et recommencer sur ces deux listes\n",
    "<table>\n",
    "    <tr>\n",
    "        <td>8</td><td>5</td><td>4</td><td>7</td><td class=\"vide\"> </td><td>9</td><td>6</td><td>3</td>\n",
    "    </tr>\n",
    "</table>    "
   ]
  },
  {
   "cell_type": "markdown",
   "metadata": {
    "slideshow": {
     "slide_type": "fragment"
    }
   },
   "source": [
    "décomposer en deux listes et recommencer sur ces deux listes\n",
    "<table>\n",
    "    <tr>\n",
    "        <td>8</td><td>5</td><td class=\"vide\"> </td><td>4</td><td>7</td><td class=\"vide\"> </td><td>9</td><td>6</td><td class=\"vide\"> </td><td>3</td>\n",
    "    </tr>\n",
    "</table>\n",
    "    "
   ]
  },
  {
   "cell_type": "markdown",
   "metadata": {
    "slideshow": {
     "slide_type": "fragment"
    }
   },
   "source": [
    "décomposer en deux listes et recommencer sur ces deux listes\n",
    "<table>\n",
    "    <tr>\n",
    "        <td>8</td><td class=\"vide\"> </td><td>5</td><td class=\"vide\"> </td><td>4</td><td class=\"vide\"> </td><td>7</td><td class=\"vide\"> </td><td>9</td><td class=\"vide\"> </td><td>6</td><td class=\"vide\"> </td><td>3</td>\n",
    "    </tr>\n",
    "</table>\n",
    "    "
   ]
  },
  {
   "cell_type": "markdown",
   "metadata": {
    "slideshow": {
     "slide_type": "slide"
    }
   },
   "source": [
    "### 2.3 Diviser pour régner: un algorithme récursif\n",
    "- On appelle récursivement la fonction de tri pour décomposer en sous-listes.\n",
    "- On fusionne les sous-listes en remontant la pile d'appel.\n",
    "\n",
    "\n",
    "$$\n",
    "tri(liste) = \\left\\{\n",
    "    \\begin{array}{ll}\n",
    "        liste & \\mbox{si la taille de liste} \\leq 1 \\\\\n",
    "        fusionner(\\mbox{tri(liste gauche), tri(liste droite))} & \\mbox{sinon }\n",
    "    \\end{array}\n",
    "\\right.\n",
    "$$"
   ]
  },
  {
   "cell_type": "markdown",
   "metadata": {
    "slideshow": {
     "slide_type": "slide"
    }
   },
   "source": [
    "### 2.4 L'étape de fusion\n",
    "\n",
    "**Activité 1:** Écrire une fonction $fusionner(gauche: list, droite: list)\\;\\rightarrow\\;list$ qui renvoie une liste triée composée des éléments de *gauche* et *droite* déjà triées."
   ]
  },
  {
   "cell_type": "markdown",
   "metadata": {
    "slideshow": {
     "slide_type": "fragment"
    }
   },
   "source": [
    "Correction"
   ]
  },
  {
   "cell_type": "code",
   "execution_count": 6,
   "metadata": {
    "slideshow": {
     "slide_type": "slide"
    }
   },
   "outputs": [],
   "source": [
    "def fusionner(gauche: list, droite: list)-> list:\n",
    "    res = []\n",
    "    i,j = 0,0\n",
    "    while i < len(gauche) and j < len(droite):\n",
    "        if droite[j] < gauche[i]:\n",
    "            res.append(droite[j])\n",
    "            j += 1\n",
    "        else:\n",
    "            res.append(gauche[i])\n",
    "            i += 1\n",
    "            \n",
    "    #ajout de la fin de liste restante\n",
    "    if i == len(gauche):\n",
    "        res.extend(droite[j:])\n",
    "    if j == len(droite):\n",
    "        res.extend(gauche[i:])\n",
    "    return res"
   ]
  },
  {
   "cell_type": "code",
   "execution_count": 8,
   "metadata": {
    "slideshow": {
     "slide_type": "fragment"
    }
   },
   "outputs": [
    {
     "data": {
      "text/plain": [
       "[1, 2, 3, 4, 6, 8, 9, 15]"
      ]
     },
     "execution_count": 8,
     "metadata": {},
     "output_type": "execute_result"
    }
   ],
   "source": [
    "gauche = [3,4,8,15]\n",
    "droite = [1,2,6,9]\n",
    "fusionner(gauche,droite)"
   ]
  },
  {
   "cell_type": "code",
   "execution_count": 9,
   "metadata": {
    "slideshow": {
     "slide_type": "slide"
    }
   },
   "outputs": [],
   "source": [
    "def fusionner2(gauche: list,droite: list)->list:\n",
    "    res = []\n",
    "    while gauche and droite:\n",
    "        if gauche[0] < droite[0]:\n",
    "            res.append(gauche.pop(0))\n",
    "        else:\n",
    "            res.append(droite.pop(0))\n",
    "            \n",
    "    #ajout de la fin de liste restante\n",
    "    if gauche:\n",
    "        res.extend(gauche)\n",
    "    if droite:\n",
    "        res.extend(droite)\n",
    "    return res"
   ]
  },
  {
   "cell_type": "code",
   "execution_count": 10,
   "metadata": {
    "slideshow": {
     "slide_type": "fragment"
    }
   },
   "outputs": [
    {
     "data": {
      "text/plain": [
       "[1, 2, 3, 4, 6, 8, 9, 15]"
      ]
     },
     "execution_count": 10,
     "metadata": {},
     "output_type": "execute_result"
    }
   ],
   "source": [
    "gauche = [3,4,8,15]\n",
    "droite = [1,2,6,9]\n",
    "fusionner2(gauche,droite)"
   ]
  },
  {
   "cell_type": "markdown",
   "metadata": {
    "slideshow": {
     "slide_type": "slide"
    }
   },
   "source": [
    "### 2.5 Le code complet du tri fusion\n",
    "\n",
    "$$\n",
    "tri(liste) = \\left\\{\n",
    "    \\begin{array}{ll}\n",
    "        liste & \\mbox{si la taille de liste} \\leq 1 \\\\\n",
    "        fusionner(\\mbox{tri(liste gauche), tri(liste droite))} & \\mbox{sinon }\n",
    "    \\end{array}\n",
    "\\right.\n",
    "$$"
   ]
  },
  {
   "cell_type": "code",
   "execution_count": 11,
   "metadata": {
    "slideshow": {
     "slide_type": "fragment"
    }
   },
   "outputs": [],
   "source": [
    "def tri_fusion(tab):\n",
    "    taille = len(tab)\n",
    "    if taille <= 1:\n",
    "        return tab\n",
    "    else:\n",
    "        milieu = taille//2\n",
    "        gauche = tri_fusion(tab[:milieu])\n",
    "        droite = tri_fusion(tab[milieu:])\n",
    "        return fusionner(gauche,droite)"
   ]
  }
 ],
 "metadata": {
  "celltoolbar": "Slideshow",
  "kernelspec": {
   "display_name": "Python 3",
   "language": "python",
   "name": "python3"
  },
  "language_info": {
   "codemirror_mode": {
    "name": "ipython",
    "version": 3
   },
   "file_extension": ".py",
   "mimetype": "text/x-python",
   "name": "python",
   "nbconvert_exporter": "python",
   "pygments_lexer": "ipython3",
   "version": "3.8.1"
  }
 },
 "nbformat": 4,
 "nbformat_minor": 4
}
