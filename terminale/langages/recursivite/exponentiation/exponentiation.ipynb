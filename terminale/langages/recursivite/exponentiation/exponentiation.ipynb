{
 "cells": [
  {
   "cell_type": "markdown",
   "metadata": {
    "slideshow": {
     "slide_type": "slide"
    }
   },
   "source": [
    "# Récursivité"
   ]
  },
  {
   "cell_type": "markdown",
   "metadata": {
    "slideshow": {
     "slide_type": "slide"
    }
   },
   "source": [
    "## 1. Problématique\n",
    "\n",
    "$$a^n=\\underbrace{a ×....× a}_{n fois}\\qquad et\\ a^0=1$$\n",
    "\n",
    "#### Comment calculer la puissance d'un nombre de manière optimisée?"
   ]
  },
  {
   "cell_type": "markdown",
   "metadata": {
    "slideshow": {
     "slide_type": "slide"
    }
   },
   "source": [
    "## 2. Étude la fonction native\n",
    "\n",
    "### 2.1 Fonctions  Python \"built-in\""
   ]
  },
  {
   "cell_type": "code",
   "execution_count": 1,
   "metadata": {
    "slideshow": {
     "slide_type": "fragment"
    }
   },
   "outputs": [],
   "source": [
    "def puissance_star(x:int,n:int)->int:\n",
    "    return x**n"
   ]
  },
  {
   "cell_type": "code",
   "execution_count": 2,
   "metadata": {
    "slideshow": {
     "slide_type": "fragment"
    }
   },
   "outputs": [],
   "source": [
    "def puissance_builtin(x:int,n:int)->int:\n",
    "    return pow(x,n)"
   ]
  },
  {
   "cell_type": "code",
   "execution_count": 3,
   "metadata": {
    "slideshow": {
     "slide_type": "fragment"
    }
   },
   "outputs": [
    {
     "data": {
      "text/plain": [
       "35184372088832"
      ]
     },
     "execution_count": 3,
     "metadata": {},
     "output_type": "execute_result"
    }
   ],
   "source": [
    "puissance_star(8,15)"
   ]
  },
  {
   "cell_type": "code",
   "execution_count": 4,
   "metadata": {
    "slideshow": {
     "slide_type": "fragment"
    }
   },
   "outputs": [
    {
     "data": {
      "text/plain": [
       "35184372088832"
      ]
     },
     "execution_count": 4,
     "metadata": {},
     "output_type": "execute_result"
    }
   ],
   "source": [
    "puissance_builtin(8,15)"
   ]
  },
  {
   "cell_type": "markdown",
   "metadata": {
    "slideshow": {
     "slide_type": "slide"
    }
   },
   "source": [
    "### 2.2 Tester un programme"
   ]
  },
  {
   "cell_type": "markdown",
   "metadata": {
    "slideshow": {
     "slide_type": "fragment"
    }
   },
   "source": [
    "#### 2.2.1 Préconditions\n",
    "\n",
    "Nous nous limitons au cas positif."
   ]
  },
  {
   "cell_type": "markdown",
   "metadata": {
    "slideshow": {
     "slide_type": "fragment"
    }
   },
   "source": [
    "#### Activité\n",
    "\n",
    "- Mettre en place un test qui lèvera une *AssertionError* si l'exposant est négatif."
   ]
  },
  {
   "cell_type": "code",
   "execution_count": 5,
   "metadata": {
    "slideshow": {
     "slide_type": "slide"
    }
   },
   "outputs": [],
   "source": [
    "def puissance_star(x:int,n:int)->int:\n",
    "    assert n>0, \"L'exposant doit être positif.\"\n",
    "    return x**n"
   ]
  },
  {
   "cell_type": "code",
   "execution_count": 6,
   "metadata": {
    "slideshow": {
     "slide_type": "fragment"
    }
   },
   "outputs": [
    {
     "ename": "AssertionError",
     "evalue": "L'exposant doit être positif.",
     "output_type": "error",
     "traceback": [
      "\u001b[0;31m---------------------------------------------------------------------------\u001b[0m",
      "\u001b[0;31mAssertionError\u001b[0m                            Traceback (most recent call last)",
      "\u001b[0;32m<ipython-input-6-719183b3f84a>\u001b[0m in \u001b[0;36m<module>\u001b[0;34m\u001b[0m\n\u001b[0;32m----> 1\u001b[0;31m \u001b[0mpuissance_star\u001b[0m\u001b[0;34m(\u001b[0m\u001b[0;36m2\u001b[0m\u001b[0;34m,\u001b[0m\u001b[0;34m-\u001b[0m\u001b[0;36m9\u001b[0m\u001b[0;34m)\u001b[0m\u001b[0;34m\u001b[0m\u001b[0;34m\u001b[0m\u001b[0m\n\u001b[0m",
      "\u001b[0;32m<ipython-input-5-e0903e75bc79>\u001b[0m in \u001b[0;36mpuissance_star\u001b[0;34m(x, n)\u001b[0m\n\u001b[1;32m      1\u001b[0m \u001b[0;32mdef\u001b[0m \u001b[0mpuissance_star\u001b[0m\u001b[0;34m(\u001b[0m\u001b[0mx\u001b[0m\u001b[0;34m:\u001b[0m\u001b[0mint\u001b[0m\u001b[0;34m,\u001b[0m\u001b[0mn\u001b[0m\u001b[0;34m:\u001b[0m\u001b[0mint\u001b[0m\u001b[0;34m)\u001b[0m\u001b[0;34m->\u001b[0m\u001b[0mint\u001b[0m\u001b[0;34m:\u001b[0m\u001b[0;34m\u001b[0m\u001b[0;34m\u001b[0m\u001b[0m\n\u001b[0;32m----> 2\u001b[0;31m     \u001b[0;32massert\u001b[0m \u001b[0mn\u001b[0m\u001b[0;34m>\u001b[0m\u001b[0;36m0\u001b[0m\u001b[0;34m,\u001b[0m \u001b[0;34m\"L'exposant doit être positif.\"\u001b[0m\u001b[0;34m\u001b[0m\u001b[0;34m\u001b[0m\u001b[0m\n\u001b[0m\u001b[1;32m      3\u001b[0m     \u001b[0;32mreturn\u001b[0m \u001b[0mx\u001b[0m\u001b[0;34m**\u001b[0m\u001b[0mn\u001b[0m\u001b[0;34m\u001b[0m\u001b[0;34m\u001b[0m\u001b[0m\n",
      "\u001b[0;31mAssertionError\u001b[0m: L'exposant doit être positif."
     ]
    }
   ],
   "source": [
    "puissance_star(2,-9)"
   ]
  },
  {
   "cell_type": "markdown",
   "metadata": {
    "slideshow": {
     "slide_type": "slide"
    }
   },
   "source": [
    "#### 2.2.2 Mettre en place des tests"
   ]
  },
  {
   "cell_type": "code",
   "execution_count": 7,
   "metadata": {
    "slideshow": {
     "slide_type": "fragment"
    }
   },
   "outputs": [
    {
     "name": "stdout",
     "output_type": "stream",
     "text": [
      "Trying:\n",
      "    puissance_star(2,8)\n",
      "Expecting:\n",
      "    256\n",
      "ok\n",
      "Trying:\n",
      "    puissance_star(2,9)\n",
      "Expecting:\n",
      "    512\n",
      "ok\n",
      "2 items had no tests:\n",
      "    __main__\n",
      "    __main__.puissance_builtin\n",
      "1 items passed all tests:\n",
      "   2 tests in __main__.puissance_star\n",
      "2 tests in 3 items.\n",
      "2 passed and 0 failed.\n",
      "Test passed.\n"
     ]
    },
    {
     "data": {
      "text/plain": [
       "TestResults(failed=0, attempted=2)"
      ]
     },
     "execution_count": 7,
     "metadata": {},
     "output_type": "execute_result"
    }
   ],
   "source": [
    "import doctest\n",
    "\n",
    "def puissance_star(x:int,n:int)->int:\n",
    "    \"\"\"\n",
    "    >>> puissance_star(2,8)\n",
    "    256\n",
    "    >>> puissance_star(2,9)\n",
    "    512\n",
    "    \"\"\"\n",
    "    return x**n\n",
    "\n",
    "doctest.testmod(verbose=True)"
   ]
  },
  {
   "cell_type": "markdown",
   "metadata": {
    "slideshow": {
     "slide_type": "slide"
    }
   },
   "source": [
    "### 2.3 Temps d'exécution"
   ]
  },
  {
   "cell_type": "code",
   "execution_count": 9,
   "metadata": {
    "slideshow": {
     "slide_type": "fragment"
    }
   },
   "outputs": [
    {
     "name": "stdout",
     "output_type": "stream",
     "text": [
      "opérande ** 0.005665779113769531\n",
      "fonction pow() 0.004601955413818359\n"
     ]
    }
   ],
   "source": [
    "from time import time\n",
    "\n",
    "debut=time()\n",
    "puissance_star(2701,19406)\n",
    "fin=time()\n",
    "print(\"opérande **\",fin-debut)\n",
    "\n",
    "debut=time()\n",
    "puissance_builtin(2701,19406)\n",
    "fin=time()\n",
    "print(\"fonction pow()\",fin-debut)"
   ]
  },
  {
   "cell_type": "markdown",
   "metadata": {
    "slideshow": {
     "slide_type": "slide"
    }
   },
   "source": [
    "## 3. Implémenter la fonction *puissance*"
   ]
  },
  {
   "cell_type": "markdown",
   "metadata": {
    "slideshow": {
     "slide_type": "fragment"
    }
   },
   "source": [
    "### 3.1 S'appuyer sur la définition mathématique\n",
    "\n",
    "$$a^n=\\underbrace{a ×....× a}_{n fois}$$\n",
    "\n",
    "et $a^0=1$"
   ]
  },
  {
   "cell_type": "markdown",
   "metadata": {
    "slideshow": {
     "slide_type": "fragment"
    }
   },
   "source": [
    "### Activité:\n",
    "\n",
    "- Implémenter la fonction **puissance_perso(x:int,exp:int)->int** sans utiliser les fonctions buitin de Python.\n",
    "- Mettre en place un test de vérification de la fonction.\n",
    "- Mesurer le temps d'exécution de la fonction en l'appelant avec les paramètres (2701,19406)."
   ]
  },
  {
   "cell_type": "markdown",
   "metadata": {
    "slideshow": {
     "slide_type": "slide"
    }
   },
   "source": [
    "### Une solution"
   ]
  },
  {
   "cell_type": "code",
   "execution_count": 10,
   "metadata": {
    "slideshow": {
     "slide_type": "fragment"
    }
   },
   "outputs": [],
   "source": [
    "def puissance_perso(x:int,n:int)->int:\n",
    "    res = 1\n",
    "    for i in range(n):\n",
    "        res*=x\n",
    "    return res"
   ]
  },
  {
   "cell_type": "code",
   "execution_count": 11,
   "metadata": {
    "slideshow": {
     "slide_type": "fragment"
    }
   },
   "outputs": [],
   "source": [
    "def puissance_perso(x:int,n:int)->int:\n",
    "    \"\"\"\n",
    "    >>> puissance_perso(2,8)\n",
    "    256\n",
    "    >>> puissance_perso(2,9)\n",
    "    512\n",
    "    \"\"\"\n",
    "    res = 1\n",
    "    for i in range(n):\n",
    "        res*=x\n",
    "    return res"
   ]
  },
  {
   "cell_type": "code",
   "execution_count": 12,
   "metadata": {},
   "outputs": [
    {
     "data": {
      "text/plain": [
       "35184372088832"
      ]
     },
     "execution_count": 12,
     "metadata": {},
     "output_type": "execute_result"
    }
   ],
   "source": [
    "puissance_perso(8,15)"
   ]
  },
  {
   "cell_type": "markdown",
   "metadata": {
    "slideshow": {
     "slide_type": "slide"
    }
   },
   "source": [
    "### 3.2 Invariant de boucle\n",
    "\n",
    "Il permet de prouver la **correction** d'un algorithme."
   ]
  },
  {
   "cell_type": "markdown",
   "metadata": {
    "slideshow": {
     "slide_type": "fragment"
    }
   },
   "source": [
    "On appelle **invariant d’une boucle** une propriété qui si elle est vraie avant l’exécution d’une itération le demeure après l’exécution de l’itération."
   ]
  },
  {
   "cell_type": "markdown",
   "metadata": {
    "slideshow": {
     "slide_type": "fragment"
    }
   },
   "source": [
    "La propriété $res = x^i$ est un invariant de boucle."
   ]
  },
  {
   "cell_type": "markdown",
   "metadata": {
    "slideshow": {
     "slide_type": "fragment"
    }
   },
   "source": [
    "C'est en fait un raisonnement par récurrence comme en mathématiques."
   ]
  },
  {
   "cell_type": "markdown",
   "metadata": {
    "slideshow": {
     "slide_type": "slide"
    }
   },
   "source": [
    "### Preuve"
   ]
  },
  {
   "cell_type": "markdown",
   "metadata": {
    "slideshow": {
     "slide_type": "fragment"
    }
   },
   "source": [
    "*initialisation:* Avant la première itération pour i=0, res vaut 1."
   ]
  },
  {
   "cell_type": "markdown",
   "metadata": {
    "slideshow": {
     "slide_type": "fragment"
    }
   },
   "source": [
    "*hérédité:* On considère que pour n, la propriété $res=x^n$ est vraie."
   ]
  },
  {
   "cell_type": "markdown",
   "metadata": {
    "slideshow": {
     "slide_type": "fragment"
    }
   },
   "source": [
    "*conclusion:* Pour n+1, $res=x.x^n=x^{n+1}$"
   ]
  },
  {
   "cell_type": "markdown",
   "metadata": {
    "slideshow": {
     "slide_type": "slide"
    }
   },
   "source": [
    "### 3.3 Temps d'exécution"
   ]
  },
  {
   "cell_type": "code",
   "execution_count": 13,
   "metadata": {
    "slideshow": {
     "slide_type": "fragment"
    }
   },
   "outputs": [
    {
     "name": "stdout",
     "output_type": "stream",
     "text": [
      "0.11108088493347168\n"
     ]
    }
   ],
   "source": [
    "debut=time()\n",
    "puissance_perso(2701,19406)\n",
    "fin=time()\n",
    "print(fin-debut)"
   ]
  },
  {
   "cell_type": "markdown",
   "metadata": {
    "slideshow": {
     "slide_type": "slide"
    }
   },
   "source": [
    "## 4. Formulations récursives"
   ]
  },
  {
   "cell_type": "markdown",
   "metadata": {
    "slideshow": {
     "slide_type": "fragment"
    }
   },
   "source": [
    "### 4.1 Notation mathématique"
   ]
  },
  {
   "cell_type": "markdown",
   "metadata": {
    "slideshow": {
     "slide_type": "fragment"
    }
   },
   "source": [
    "$$\n",
    "puissance(x,n) = \\left\\{\n",
    "    \\begin{array}{ll}\n",
    "        1 & \\mbox{si } n=0 \\\\\n",
    "        x.puissance(x,n-1) & \\mbox{si } n>0\n",
    "    \\end{array}\n",
    "\\right.\n",
    "$$"
   ]
  },
  {
   "cell_type": "markdown",
   "metadata": {
    "slideshow": {
     "slide_type": "fragment"
    }
   },
   "source": [
    "### 4.2 Traduction en code"
   ]
  },
  {
   "cell_type": "code",
   "execution_count": 14,
   "metadata": {
    "slideshow": {
     "slide_type": "fragment"
    }
   },
   "outputs": [],
   "source": [
    "def puissance_recursif(x:int,n:int)->int:\n",
    "    if n==0:\n",
    "        return 1\n",
    "    else:\n",
    "        return x*puissance_recursif(x,n-1)"
   ]
  },
  {
   "cell_type": "markdown",
   "metadata": {
    "slideshow": {
     "slide_type": "fragment"
    }
   },
   "source": [
    "<a href=\"http://pythontutor.com/visualize.html#code=def%20puissance_recursif%28x%3Aint,n%3Aint%29-%3Eint%3A%0A%20%20%20%20if%20n%3D%3D0%3A%0A%20%20%20%20%20%20%20%20return%201%0A%20%20%20%20else%3A%0A%20%20%20%20%20%20%20%20return%20x*puissance_recursif%28x,n-1%29%0A%0Apuissance_recursif%286,4%29&cumulative=false&curInstr=0&heapPrimitives=nevernest&mode=display&origin=opt-frontend.js&py=3&rawInputLstJSON=%5B%5D&textReferences=false\" target=_blank>Visualisation de la pile d'exécution</a>"
   ]
  },
  {
   "cell_type": "raw",
   "metadata": {
    "slideshow": {
     "slide_type": "slide"
    }
   },
   "source": [
    "puissance_recursif(6,4)=\n",
    "    return 6 * puissance_recursif(6,3)\n",
    "                    |\n",
    "                    return 6 * puissance_recursif(6,2)\n",
    "                                    |\n",
    "                                    return 6 * puissance_recursif(6,1)\n",
    "                                                    |\n",
    "                                                    return 6 * puissance_recursif(6,0)\n",
    "                                                                    |\n",
    "                                                                    return 1"
   ]
  },
  {
   "cell_type": "code",
   "execution_count": 15,
   "metadata": {
    "slideshow": {
     "slide_type": "slide"
    }
   },
   "outputs": [],
   "source": [
    "import sys\n",
    "sys.setrecursionlimit(20000)"
   ]
  },
  {
   "cell_type": "code",
   "execution_count": 16,
   "metadata": {
    "slideshow": {
     "slide_type": "fragment"
    }
   },
   "outputs": [
    {
     "name": "stdout",
     "output_type": "stream",
     "text": [
      "0.13154125213623047\n"
     ]
    }
   ],
   "source": [
    "debut=time()\n",
    "puissance_recursif(2701,19406)\n",
    "fin=time()\n",
    "print(fin-debut)"
   ]
  },
  {
   "cell_type": "markdown",
   "metadata": {
    "slideshow": {
     "slide_type": "slide"
    }
   },
   "source": [
    "### 4.3 Nouvelle formulation mathématique"
   ]
  },
  {
   "cell_type": "markdown",
   "metadata": {
    "slideshow": {
     "slide_type": "fragment"
    }
   },
   "source": [
    "$$x^8=(x^4)^2=((x^2)^2)^2$$"
   ]
  },
  {
   "cell_type": "markdown",
   "metadata": {
    "slideshow": {
     "slide_type": "fragment"
    }
   },
   "source": [
    "<img src=\"ressources/exponentiationrapide.png\" width=400px>"
   ]
  },
  {
   "cell_type": "markdown",
   "metadata": {
    "slideshow": {
     "slide_type": "fragment"
    }
   },
   "source": [
    "$$\n",
    "puissance(x,n) = \\left\\{\n",
    "    \\begin{array}{ll}\n",
    "        1 & \\mbox{si } n=0 \\\\\n",
    "        puissance(x*x,n/2) & \\mbox{si } n>0 \\mbox{ et n pair}\\\\\n",
    "        x.puissance(x*x,(n-1)/2) & \\mbox{si } n>0 \\mbox{ et n impair}\\\n",
    "    \\end{array}\n",
    "\\right.\n",
    "$$"
   ]
  },
  {
   "cell_type": "code",
   "execution_count": 17,
   "metadata": {
    "slideshow": {
     "slide_type": "slide"
    }
   },
   "outputs": [],
   "source": [
    "def puissance_recursif_rapide(x,n):\n",
    "    if n==0:\n",
    "        return 1\n",
    "    elif n%2==0:\n",
    "        return puissance_recursif_rapide(x*x,n//2)\n",
    "    else:\n",
    "        return x*puissance_recursif_rapide(x*x,n//2)"
   ]
  },
  {
   "cell_type": "code",
   "execution_count": 20,
   "metadata": {
    "slideshow": {
     "slide_type": "fragment"
    }
   },
   "outputs": [
    {
     "name": "stdout",
     "output_type": "stream",
     "text": [
      "0.021120786666870117\n"
     ]
    }
   ],
   "source": [
    "debut=time()\n",
    "puissance_recursif_rapide(2701,19406)\n",
    "fin=time()\n",
    "print(fin-debut)"
   ]
  },
  {
   "cell_type": "markdown",
   "metadata": {
    "slideshow": {
     "slide_type": "slide"
    }
   },
   "source": [
    "Implémentation des fonctions builtin\n",
    "\n",
    "https://github.com/python/cpython/blob/master/Python/bltinmodule.c"
   ]
  }
 ],
 "metadata": {
  "celltoolbar": "Slideshow",
  "kernelspec": {
   "display_name": "Python 3",
   "language": "python",
   "name": "python3"
  },
  "language_info": {
   "codemirror_mode": {
    "name": "ipython",
    "version": 3
   },
   "file_extension": ".py",
   "mimetype": "text/x-python",
   "name": "python",
   "nbconvert_exporter": "python",
   "pygments_lexer": "ipython3",
   "version": "3.8.1"
  }
 },
 "nbformat": 4,
 "nbformat_minor": 4
}
