{
 "cells": [
  {
   "cell_type": "markdown",
   "metadata": {
    "slideshow": {
     "slide_type": "slide"
    }
   },
   "source": [
    "# Paradigmes de programmation\n",
    "## Objectif: Différencier et utiliser plusieurs paradigmes de programmation."
   ]
  },
  {
   "cell_type": "markdown",
   "metadata": {
    "slideshow": {
     "slide_type": "slide"
    }
   },
   "source": [
    "# 1. Problématique\n",
    "\n",
    "<table>\n",
    "    <tr>\n",
    "        <td><img src=\"ressources/outfits/cuddle-team-leader.png\" width=150px></td>\n",
    "        <td><img src=\"ressources/outfits/rabbit-raider.png\" width=150px></td>\n",
    "        <td><img src=\"ressources/outfits/scout.png\" width=150px></td>\n",
    "        <td><img src=\"ressources/gliders/glider.png\" width=150px></td>\n",
    "        <td><img src=\"ressources/gliders/pterodactyl.png\" width=150px></td>\n",
    "    </tr>\n",
    "    <tr>\n",
    "        <td><img src=\"ressources/contrails/all-star.png\" width=150px></td>\n",
    "        <td><img src=\"ressources/contrails/rainbow.png\" width=150px></td>\n",
    "        <td><img src=\"ressources/emotes/disco-fever.png\" width=150px></td>\n",
    "        <td><img src=\"ressources/emotes/jubilation.png\" width=150px></td>\n",
    "        <td><img src=\"ressources/pickaxes/pickaxe.png\" width=150px></td>\n",
    "    </tr>\n",
    "</table>"
   ]
  },
  {
   "cell_type": "markdown",
   "metadata": {
    "slideshow": {
     "slide_type": "slide"
    }
   },
   "source": [
    "<center><img src=\"ressources/forniteskin.jpg\" width=800px></center>\n",
    "\n",
    "### Quel concept de programmation mettre en place pour manipuler les combattants et les faire évoluer dans une partie?"
   ]
  },
  {
   "cell_type": "markdown",
   "metadata": {
    "slideshow": {
     "slide_type": "slide"
    }
   },
   "source": [
    "# 2. Paradigme impératif"
   ]
  },
  {
   "cell_type": "markdown",
   "metadata": {
    "slideshow": {
     "slide_type": "fragment"
    }
   },
   "source": [
    "## Retour historique\n",
    "<div align=\"middle\">\n",
    "<a href=\"https://cdn.knightlab.com/libs/timeline3/latest/embed/index.html?source=1Mta9N7GPfJMs1Vw8zNMBbb-yS_6bQ8no8lYpnq4KW-0&font=Default&lang=fr&initial_zoom=2&height=650\" target=_blank><img src=\"../../../../retour.png\"></a></div>"
   ]
  },
  {
   "cell_type": "markdown",
   "metadata": {
    "slideshow": {
     "slide_type": "slide"
    }
   },
   "source": [
    "## 2.1 Stocker les informations\n",
    "### Activité 1\n",
    "- Proposer un type de données et construire une structure permettant de contenir les éléments qui composent un combattant.\n",
    "- Ajouter une structure permettant de stocker et gérer les objets du sac à dos.\n",
    "- Ajouter enfin deux variables exprimant l'énergie et le bouclier. Ces variables seront initialisées à 100.\n",
    "\n",
    "Le personnage aura les paramètres suivants: 1 tenue \"cuddle-team-leader\", 1 parachute \"glider\", 1 trainée \"flames\", 1 décoration \"royale-shield\", 1 danse \"disco-fever\", 1 pioche \"pick-squeak\", 1 jouet tomato."
   ]
  },
  {
   "cell_type": "code",
   "execution_count": 2,
   "metadata": {
    "slideshow": {
     "slide_type": "fragment"
    }
   },
   "outputs": [],
   "source": [
    "combattant={\"outfit\":\"cuddle-team-leader\", \"glider\":\"glider\", \n",
    "            \"contrail\":\"flames\", \"back_bling\":\"royale-shield\", \n",
    "            \"emote\":\"disco-fever\", \"pickaxe\":\"pick-squeak\", \n",
    "            \"toy\":\"tomato\"}"
   ]
  },
  {
   "cell_type": "markdown",
   "metadata": {},
   "source": [
    "<table>\n",
    "    <tr>\n",
    "        <td><img src=\"ressources/outfits/cuddle-team-leader.png\" width=60px></td>\n",
    "        <td><img src=\"ressources/gliders/glider.png\" width=60px></td>\n",
    "        <td><img src=\"ressources/contrails/flames.png\" width=60px></td>\n",
    "        <td><img src=\"ressources/back-blings/royale-shield.png\" width=60px></td>\n",
    "        <td><img src=\"ressources/emotes/disco-fever.png\" width=60px></td>\n",
    "        <td><img src=\"ressources/pickaxes/pickaxe.png\" width=60px></td>\n",
    "        <td><img src=\"ressources/toys/tomato.png\" width=60px></td>\n",
    "    </tr>\n",
    "</table>"
   ]
  },
  {
   "cell_type": "markdown",
   "metadata": {
    "slideshow": {
     "slide_type": "slide"
    }
   },
   "source": [
    "## Itérer sur un dictionnaire"
   ]
  },
  {
   "cell_type": "code",
   "execution_count": 3,
   "metadata": {
    "slideshow": {
     "slide_type": "fragment"
    }
   },
   "outputs": [
    {
     "name": "stdout",
     "output_type": "stream",
     "text": [
      "outfit glider contrail back_bling emote pickaxe toy "
     ]
    }
   ],
   "source": [
    "for cle in combattant.keys():\n",
    "    print(cle,end=\" \")"
   ]
  },
  {
   "cell_type": "code",
   "execution_count": 4,
   "metadata": {
    "slideshow": {
     "slide_type": "fragment"
    }
   },
   "outputs": [
    {
     "name": "stdout",
     "output_type": "stream",
     "text": [
      "cuddle-team-leader glider flames royale-shield disco-fever pick-squeak tomato "
     ]
    }
   ],
   "source": [
    "for valeur in combattant.values():\n",
    "    print(valeur,end=\" \")"
   ]
  },
  {
   "cell_type": "code",
   "execution_count": 5,
   "metadata": {
    "slideshow": {
     "slide_type": "fragment"
    }
   },
   "outputs": [
    {
     "name": "stdout",
     "output_type": "stream",
     "text": [
      "('outfit', 'cuddle-team-leader') ('glider', 'glider') ('contrail', 'flames') ('back_bling', 'royale-shield') ('emote', 'disco-fever') ('pickaxe', 'pick-squeak') ('toy', 'tomato') "
     ]
    }
   ],
   "source": [
    "for item in combattant.items():\n",
    "    print(item,end=\" \")"
   ]
  },
  {
   "cell_type": "code",
   "execution_count": 6,
   "metadata": {
    "slideshow": {
     "slide_type": "slide"
    }
   },
   "outputs": [],
   "source": [
    "combattant={\"outfit\":\"cuddle-team-leader\", \"glider\":\"glider\", \"contrail\":\"flames\", \"back_bling\":\"royale-shield\", \n",
    "            \"emote\":\"disco-fever\", \"pickaxe\":\"pick-squeak\", \"toy\":\"tomato\", \"backpack\":[]}"
   ]
  },
  {
   "cell_type": "code",
   "execution_count": 3,
   "metadata": {
    "slideshow": {
     "slide_type": "fragment"
    }
   },
   "outputs": [],
   "source": [
    "combattant={\"outfit\":\"cuddle-team-leader\", \"glider\":\"glider\", \"contrail\":\"flames\", \"back_bling\":\"royale-shield\", \n",
    "            \"emote\":\"disco-fever\", \"pickaxe\":\"pick-squeak\", \"toy\":\"tomato\", \"backpack\":[], \"energy\":100, \"shield\":100}"
   ]
  },
  {
   "cell_type": "markdown",
   "metadata": {
    "slideshow": {
     "slide_type": "slide"
    }
   },
   "source": [
    "## 2.2 Modifier les informations\n",
    "### Activité 2\n",
    "- Implémenter une fonction *subir_attaque* qui prendra un paramètre *degat* de type integer et qui modifiera les caractéristiques *shield* et *energy* du combattant. \n",
    "- Implémenter une fonction *ramasser_objet* qui ajoute un objet dans le sac s'il n'est pas plein (trois objets maximum). Cette fonction prendra un paramètre *objet* de type *string*.\n",
    "- Dans Fortnite chaque objet a également plusieurs propriétés. Construire un type construit de données qui stocke les caractéristiques des armes présentées."
   ]
  },
  {
   "cell_type": "markdown",
   "metadata": {
    "slideshow": {
     "slide_type": "fragment"
    }
   },
   "source": [
    "### Commencer par établir l'algorithme qui définit les dégâts causées par une attaque."
   ]
  },
  {
   "cell_type": "code",
   "execution_count": 8,
   "metadata": {
    "slideshow": {
     "slide_type": "slide"
    }
   },
   "outputs": [
    {
     "name": "stdout",
     "output_type": "stream",
     "text": [
      "PV: 100 Bouclier:100\n",
      "PV: 100 Bouclier:70\n",
      "PV: 90 Bouclier:0\n"
     ]
    }
   ],
   "source": [
    "def subir_attaque(degat,joueur):\n",
    "    \"\"\"\n",
    "    modifie les PV et le bouclier du joueur en fonction des dégâts\n",
    "    \"\"\"\n",
    "    if degat <= joueur[\"shield\"]:\n",
    "        joueur[\"shield\"] -= degat\n",
    "    else:\n",
    "        if joueur[\"shield\"] > 0:\n",
    "            degat -= joueur[\"shield\"]\n",
    "            joueur[\"shield\"] = 0\n",
    "        joueur[\"energy\"] -= degat        \n",
    "\n",
    "print(\"PV: {} Bouclier:{}\".format(combattant[\"energy\"],combattant[\"shield\"]))\n",
    "subir_attaque(30,combattant)\n",
    "print(\"PV: {} Bouclier:{}\".format(combattant[\"energy\"],combattant[\"shield\"]))\n",
    "subir_attaque(80,combattant)\n",
    "print(\"PV: {} Bouclier:{}\".format(combattant[\"energy\"],combattant[\"shield\"]))"
   ]
  },
  {
   "cell_type": "code",
   "execution_count": 4,
   "metadata": {
    "slideshow": {
     "slide_type": "slide"
    }
   },
   "outputs": [
    {
     "name": "stdout",
     "output_type": "stream",
     "text": [
      "[]\n",
      "Objet ajouté.\n",
      "['burst-assault-rifle']\n"
     ]
    }
   ],
   "source": [
    "def ramasser_objet(objet,joueur):\n",
    "    if len(joueur[\"backpack\"]) < 3:\n",
    "        joueur[\"backpack\"].append(objet)\n",
    "        return \"Objet ajouté.\"\n",
    "    else:\n",
    "        return \"Le sac est plein.\"\n",
    "\n",
    "print(combattant[\"backpack\"])\n",
    "print(ramasser_objet(\"burst-assault-rifle\",combattant))\n",
    "print(combattant[\"backpack\"])"
   ]
  },
  {
   "cell_type": "markdown",
   "metadata": {
    "slideshow": {
     "slide_type": "slide"
    }
   },
   "source": [
    "<table>\n",
    "    <tr>\n",
    "        <td></td>\n",
    "        <td><img src=\"ressources/weapons/bolt-action-sniper.png\" width=150px></td>\n",
    "        <td><img src=\"ressources/weapons/burst-assault-rifle.png\" width=150px></td>\n",
    "        <td><img src=\"ressources/weapons/hunting-rifle.png\" width=150px></td>\n",
    "    </tr>\n",
    "    <tr>\n",
    "        <td>Name</td>\n",
    "        <td>bolt-action-sniper</td>\n",
    "        <td>burst-assault-rifle</td>\n",
    "        <td>hunting-rifle</td>\n",
    "    </tr>\n",
    "    <tr>\n",
    "        <td>Damage</td>\n",
    "        <td>105</td>\n",
    "        <td>36</td>\n",
    "        <td>100</td>\n",
    "    </tr>\n",
    "    <tr>\n",
    "        <td>Fire rate</td>\n",
    "        <td>0.33</td>\n",
    "        <td>2.75</td>\n",
    "        <td>0.80</td>\n",
    "    </tr>\n",
    "    <tr>\n",
    "        <td>Magazine size</td>\n",
    "        <td>1</td>\n",
    "        <td>20</td>\n",
    "        <td>1</td>\n",
    "    </tr>\n",
    "    <tr>\n",
    "        <td>Reload time</td>\n",
    "        <td>3s</td>\n",
    "        <td>2.5s</td>\n",
    "        <td>1.6s</td>\n",
    "    </tr>\n",
    "    <tr>\n",
    "        <td>Fire rate</td>\n",
    "        <td>0.33</td>\n",
    "        <td>2.75</td>\n",
    "        <td>0.80</td>\n",
    "    </tr>\n",
    "</table>\n",
    "        "
   ]
  },
  {
   "cell_type": "code",
   "execution_count": 12,
   "metadata": {
    "slideshow": {
     "slide_type": "fragment"
    }
   },
   "outputs": [],
   "source": [
    "arme1={\"name\":\"bolt-action-sniper\",\"damage\":0.33,\"magazine\":1,\"reload\":3,\"rate\":0.33}"
   ]
  },
  {
   "cell_type": "markdown",
   "metadata": {
    "slideshow": {
     "slide_type": "slide"
    }
   },
   "source": [
    "# 3. Paradigme objet"
   ]
  },
  {
   "cell_type": "markdown",
   "metadata": {
    "slideshow": {
     "slide_type": "fragment"
    }
   },
   "source": [
    "## Retour historique\n",
    "<div align=\"middle\">\n",
    "<a href=\"https://cdn.knightlab.com/libs/timeline3/latest/embed/index.html?source=1M6_l_jim6MXKmG91aZlXYHDw36n6ZhV4tsGdR_xKA0E&font=Default&lang=fr&initial_zoom=2&height=650\" target=_blank><img src=\"../../../../retour.png\"></a></div>"
   ]
  },
  {
   "cell_type": "markdown",
   "metadata": {
    "slideshow": {
     "slide_type": "slide"
    }
   },
   "source": [
    "## 3.1 Décrire une classe\n",
    "<table class=\"classe\">\n",
    "    <tr>\n",
    "        <td class=\"objet\">Combattant</td>\n",
    "    </tr>\n",
    "</table>\n",
    "<img src=\"ressources/joueur.png\" width=200px>"
   ]
  },
  {
   "cell_type": "code",
   "execution_count": null,
   "metadata": {
    "slideshow": {
     "slide_type": "fragment"
    }
   },
   "outputs": [],
   "source": [
    "class Combattant"
   ]
  },
  {
   "cell_type": "markdown",
   "metadata": {
    "slideshow": {
     "slide_type": "slide"
    }
   },
   "source": [
    "### Ajouter les attributs\n",
    "<table class=\"classe\">\n",
    "    <tr>\n",
    "        <td class=\"objet\">Combattant</td>\n",
    "    </tr>\n",
    "    <tr>\n",
    "        <td class=\"objet\">outfit<br>glider<br>contrail</td>\n",
    "    </tr>\n",
    "</table>\n",
    "<div style=float:right;>\n",
    "<img src=\"ressources/joueur.png\" width=200px>\n",
    "    <div>\n",
    "        <img class=\"attributs\" src=\"ressources/contrails/rainbow.png\">\n",
    "        <img class=\"attributs\" src=\"ressources/gliders/glider.png\">\n",
    "        <img class=\"attributs\" src=\"ressources/outfits/cuddle-team-leader.png\">\n",
    "    </div>\n",
    "</div>"
   ]
  },
  {
   "cell_type": "code",
   "execution_count": 1,
   "metadata": {
    "slideshow": {
     "slide_type": "fragment"
    }
   },
   "outputs": [],
   "source": [
    "class Combattant:\n",
    "\t\"\"\"Crée un combattant avec ses caractéristiques propres\"\"\"\n",
    "\tdef __init__(self,tenue,parachute,trainee):\n",
    "\t\tself.outfit=tenue\n",
    "\t\tself.glider=parachute\n",
    "\t\tself.contrail=trainee"
   ]
  },
  {
   "cell_type": "markdown",
   "metadata": {
    "slideshow": {
     "slide_type": "slide"
    }
   },
   "source": [
    "### En javascript\n",
    "<pre>\n",
    "let Combattant = class Combattant {\n",
    "  constructor(tenue,parachute,trainee) {\n",
    "    this.outfit = tenue;\n",
    "    this.glider = parachute;\n",
    "    this.contrail = trainee;\n",
    "  }\n",
    "};\n",
    "</pre>"
   ]
  },
  {
   "cell_type": "markdown",
   "metadata": {
    "slideshow": {
     "slide_type": "slide"
    }
   },
   "source": [
    "### En C++\n",
    "<pre>\n",
    "class Combattant\n",
    "{\n",
    "    private:\n",
    "\n",
    "    string outfit;\n",
    "    string glider;\n",
    "    string trainee;       \n",
    "};\n",
    "</pre>"
   ]
  },
  {
   "cell_type": "markdown",
   "metadata": {
    "slideshow": {
     "slide_type": "slide"
    }
   },
   "source": [
    "### En java\n",
    "<pre>\n",
    "public class Combattant {\n",
    "\n",
    "  private String outfit;\n",
    "  private String glider;\n",
    "  private String contrail;\n",
    "   \n",
    "  public Combattant(String tenue, String parachute, String trainee){\n",
    "      outfit=tenue;\n",
    "      glider=parachute;\n",
    "      contrail=trainee;\n",
    "  }      \n",
    "}\n",
    "</pre>"
   ]
  },
  {
   "cell_type": "markdown",
   "metadata": {
    "slideshow": {
     "slide_type": "slide"
    }
   },
   "source": [
    "# 3.2 Créer un objet"
   ]
  },
  {
   "cell_type": "markdown",
   "metadata": {
    "slideshow": {
     "slide_type": "fragment"
    }
   },
   "source": [
    "### 3.2.1 Créer un combattant"
   ]
  },
  {
   "cell_type": "code",
   "execution_count": 16,
   "metadata": {
    "slideshow": {
     "slide_type": "fragment"
    }
   },
   "outputs": [],
   "source": [
    "joueur1=Combattant(\"cuddle-team-leader\",\"hot-rod\",\"flames\")"
   ]
  },
  {
   "cell_type": "markdown",
   "metadata": {
    "slideshow": {
     "slide_type": "slide"
    }
   },
   "source": [
    "### 3.2.2 Manipuler les attributs"
   ]
  },
  {
   "cell_type": "code",
   "execution_count": 17,
   "metadata": {
    "slideshow": {
     "slide_type": "fragment"
    }
   },
   "outputs": [
    {
     "data": {
      "text/plain": [
       "'cuddle-team-leader'"
      ]
     },
     "execution_count": 17,
     "metadata": {},
     "output_type": "execute_result"
    }
   ],
   "source": [
    "joueur1.outfit"
   ]
  },
  {
   "cell_type": "code",
   "execution_count": 18,
   "metadata": {
    "slideshow": {
     "slide_type": "fragment"
    }
   },
   "outputs": [
    {
     "data": {
      "text/plain": [
       "'rabbit-raider'"
      ]
     },
     "execution_count": 18,
     "metadata": {},
     "output_type": "execute_result"
    }
   ],
   "source": [
    "joueur1.outfit=\"rabbit-raider\"\n",
    "joueur1.outfit"
   ]
  },
  {
   "cell_type": "markdown",
   "metadata": {
    "slideshow": {
     "slide_type": "slide"
    }
   },
   "source": [
    "### Encapsulation\n",
    "### En java\n",
    "<pre>\n",
    "public class Combattant {\n",
    "\n",
    "  private String outfit;\n",
    "  private String glider;\n",
    "  private String contrail;\n",
    "   \n",
    "  public Combattant(String tenue, String parachute, String trainee){\n",
    "      outfit=tenue;\n",
    "      glider=parachute;\n",
    "      contrail=trainee;\n",
    "  }      \n",
    "}\n",
    "</pre>"
   ]
  },
  {
   "cell_type": "markdown",
   "metadata": {
    "slideshow": {
     "slide_type": "slide"
    }
   },
   "source": [
    "<img src=\"ressources/encapsulation.png\" height=500px>"
   ]
  },
  {
   "cell_type": "markdown",
   "metadata": {
    "slideshow": {
     "slide_type": "slide"
    }
   },
   "source": [
    "# 3.3 Manipuler les données"
   ]
  },
  {
   "cell_type": "markdown",
   "metadata": {
    "slideshow": {
     "slide_type": "fragment"
    }
   },
   "source": [
    "### Définir les méthodes\n",
    "<table class=\"classe\">\n",
    "    <tr>\n",
    "        <td class=\"objet\">Combattant</td>\n",
    "    </tr>\n",
    "    <tr>\n",
    "        <td class=\"objet\">outfit<br>glider<br>contrail</td>\n",
    "    </tr>\n",
    "    <tr>\n",
    "        <td class=\"objet\">get_outfit()<br>set_outfit()</td>\n",
    "    </tr>\n",
    "</table>\n",
    "<div style=float:right;>\n",
    "<img src=\"ressources/joueur.png\" width=200px>\n",
    "    <div>\n",
    "        <img class=\"attributs\" src=\"ressources/contrails/rainbow.png\">\n",
    "        <img class=\"attributs\" src=\"ressources/gliders/glider.png\">\n",
    "        <img class=\"attributs\" src=\"ressources/outfits/cuddle-team-leader.png\">\n",
    "    </div>\n",
    "</div>"
   ]
  },
  {
   "cell_type": "code",
   "execution_count": 19,
   "metadata": {
    "slideshow": {
     "slide_type": "slide"
    }
   },
   "outputs": [],
   "source": [
    "class Combattant:\n",
    "\t\"\"\"Crée un combattant avec ses caractéristiques propres\"\"\"\n",
    "\tdef __init__(self,tenue,parachute,trainee):\n",
    "\t\tself.outfit=tenue\n",
    "\t\tself.glider=parachute\n",
    "\t\tself.contrail=trainee\n",
    "\t\n",
    "\tdef get_outfit(self):\n",
    "\t\treturn self.outfit\n",
    "\t\n",
    "\tdef set_outfit(self,nouvelle):\n",
    "\t\tself.outfit=nouvelle"
   ]
  },
  {
   "cell_type": "code",
   "execution_count": 22,
   "metadata": {
    "slideshow": {
     "slide_type": "fragment"
    }
   },
   "outputs": [],
   "source": [
    "joueur2=Combattant(\"red-knight\",\"hot-rod\",\"all-star\")"
   ]
  },
  {
   "cell_type": "markdown",
   "metadata": {
    "slideshow": {
     "slide_type": "slide"
    }
   },
   "source": [
    "### Activité 4\n",
    "- Ajouter les attributs _energy, shield_ et _backpack_.\n",
    "- Adapter les fonctions **subir_attaque** et **ramasser_objet** pour en faire des méthodes de la classe _Combattant_."
   ]
  },
  {
   "cell_type": "code",
   "execution_count": 27,
   "metadata": {
    "slideshow": {
     "slide_type": "slide"
    }
   },
   "outputs": [],
   "source": [
    "class Combattant:\n",
    "    \"\"\"Crée un combattant avec ses caractéristiques propres\"\"\"\n",
    "    def __init__(self,tenue,parachute,trainee):\n",
    "        self.outfit=tenue\n",
    "        self.glider=parachute\n",
    "        self.contrail=trainee\n",
    "        self.energy=100\n",
    "        self.shield=100\n",
    "        self.backpack=[]\n",
    "\n",
    "    def subir_attaque(self,degat):\n",
    "        \"\"\"\n",
    "        modifie les PV et le bouclier du joueur en fonction des dégâts\n",
    "        \"\"\"\n",
    "        if degat <= self.shield:\n",
    "            self.shield -= degat\n",
    "        else:\n",
    "            if self.shield > 0:\n",
    "                degat -= self.shield\n",
    "                self.shield = 0\n",
    "            self.energy -= degat\n",
    "\n",
    "    def ramasser_objet(self,objet):\n",
    "        if len(self.backpack) < 3:\n",
    "            self.backpack.append(objet)\n",
    "            return \"Objet ajouté.\"\n",
    "        else:\n",
    "            return \"Le sac est plein.\"\n",
    "\n",
    "#Création des joueurs\n",
    "joueur1=Combattant(\"cuddle-team-leader\",\"hot-rod\",\"flames\")\n",
    "joueur2=Combattant(\"red-knight\",\"hot-rod\",\"all-star\")"
   ]
  },
  {
   "cell_type": "markdown",
   "metadata": {
    "slideshow": {
     "slide_type": "slide"
    }
   },
   "source": [
    "### Activité 5\n",
    "- Créer un objet _Weapon_ possédant les attributs présentés précédemment.\n",
    "- Ajouter une méthode _tirer_ qui vide une balle du magasin. Cette méthode renverra le texte _Chargeur vide!_ quand toutes les balles auront été tirées.\n",
    "- Implémenter une méthode _recharger_ qui remplit le magasin."
   ]
  }
 ],
 "metadata": {
  "celltoolbar": "Slideshow",
  "kernelspec": {
   "display_name": "Python 3",
   "language": "python",
   "name": "python3"
  },
  "language_info": {
   "codemirror_mode": {
    "name": "ipython",
    "version": 3
   },
   "file_extension": ".py",
   "mimetype": "text/x-python",
   "name": "python",
   "nbconvert_exporter": "python",
   "pygments_lexer": "ipython3",
   "version": "3.8.1"
  },
  "toc": {
   "base_numbering": 1,
   "nav_menu": {
    "height": "71px",
    "width": "399px"
   },
   "number_sections": true,
   "sideBar": true,
   "skip_h1_title": false,
   "title_cell": "Table of Contents",
   "title_sidebar": "Contents",
   "toc_cell": false,
   "toc_position": {},
   "toc_section_display": true,
   "toc_window_display": false
  }
 },
 "nbformat": 4,
 "nbformat_minor": 4
}
