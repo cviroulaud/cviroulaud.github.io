{
 "cells": [
  {
   "cell_type": "markdown",
   "metadata": {
    "slideshow": {
     "slide_type": "slide"
    }
   },
   "source": [
    "# La devinette du berger"
   ]
  },
  {
   "cell_type": "markdown",
   "metadata": {
    "slideshow": {
     "slide_type": "slide"
    }
   },
   "source": [
    "## 1. Problématique\n",
    "Cete devinette peut se modéliser comme un graphe. Plus généralement toutes les situations qui peuvent se décrire à l’aide d’un ensemble d’états et d’un ensemble de transitions entre ces états, peuvent être résolues par un graphe."
   ]
  },
  {
   "cell_type": "markdown",
   "metadata": {},
   "source": [
    "<div align=\"middle\"><h3>Comment résoudre des problèmes par un graphe?</h3></div>"
   ]
  },
  {
   "cell_type": "markdown",
   "metadata": {
    "slideshow": {
     "slide_type": "slide"
    }
   },
   "source": [
    "## 2. Résolution manuelle"
   ]
  },
  {
   "cell_type": "markdown",
   "metadata": {},
   "source": [
    "#### Activité 1\n",
    "- Énumérer les différentes configurations possibles.\n",
    "- Éliminer les états qui ne répondent pas aux critères de la devinette.\n",
    "- Combien reste-t-il d'états?"
   ]
  },
  {
   "cell_type": "markdown",
   "metadata": {
    "slideshow": {
     "slide_type": "slide"
    }
   },
   "source": [
    "<table>\n",
    "    <tr>\n",
    "        <td>\n",
    "<table class=\"tab tabd\">\n",
    "    <tr>\n",
    "        <td>rive de départ</td>\n",
    "        <td>rive d'arrivée</td>\n",
    "    </tr>\n",
    "    <tr>\n",
    "        <td>berger, chou, chèvre, loup</td>\n",
    "        <td>-</td>\n",
    "    </tr>\n",
    "    <tr>\n",
    "        <td>berger, chèvre, loup</td>\n",
    "        <td>chou</td>\n",
    "    </tr>\n",
    "    <tr>\n",
    "        <td>berger, chou, loup</td>\n",
    "        <td>chèvre</td>\n",
    "    </tr>\n",
    "    <tr>\n",
    "        <td>berger, loup</td>\n",
    "        <td>chou, chèvre</td>\n",
    "    </tr>\n",
    "    <tr>\n",
    "        <td>berger, chou, chèvre</td>\n",
    "        <td>loup</td>\n",
    "    </tr>\n",
    "    <tr>\n",
    "        <td>berger, chèvre</td>\n",
    "        <td>chou, loup</td>\n",
    "    </tr>\n",
    "    <tr>\n",
    "        <td>berger, chou</td>\n",
    "        <td>chèvre, loup</td>\n",
    "    </tr>\n",
    "    <tr>\n",
    "        <td>chou, chèvre, loup</td>\n",
    "        <td>berger</td>\n",
    "    </tr>\n",
    "</table>\n",
    "        </td>\n",
    "        <td>\n",
    "<table class=\"tab\">\n",
    "    <tr>\n",
    "        <td>rive de départ</td>\n",
    "        <td>rive d'arrivée</td>\n",
    "    </tr>\n",
    "    <tr>\n",
    "        <td>berger</td>\n",
    "        <td>chou, chèvre, loup</td>\n",
    "    </tr>\n",
    "    <tr>\n",
    "        <td>chèvre, loup</td>\n",
    "        <td>berger, chou</td>\n",
    "    </tr>\n",
    "    <tr>\n",
    "        <td>chou, loup</td>\n",
    "        <td>berger, chèvre</td>\n",
    "    </tr>\n",
    "    <tr>\n",
    "        <td>loup</td>\n",
    "        <td>berger, chou, chèvre</td>\n",
    "    </tr>\n",
    "    <tr>\n",
    "        <td>chou, chèvre</td>\n",
    "        <td>berger, loup</td>\n",
    "    </tr>\n",
    "    <tr>\n",
    "        <td>chèvre</td>\n",
    "        <td>berger, chou, loup</td>\n",
    "    </tr>\n",
    "    <tr>\n",
    "        <td>chou</td>\n",
    "        <td>berger, chèvre, loup</td>\n",
    "    </tr>\n",
    "    <tr>\n",
    "        <td>-</td>\n",
    "        <td>berger, chou, chèvre, loup</td>\n",
    "    </tr>\n",
    "</table>\n",
    "        </td>\n",
    "    </tr>\n",
    "    </table>"
   ]
  },
  {
   "cell_type": "markdown",
   "metadata": {
    "slideshow": {
     "slide_type": "slide"
    }
   },
   "source": [
    "<table>\n",
    "    <tr>\n",
    "        <td>\n",
    "<table class=\"tab tabd\">\n",
    "    <tr>\n",
    "        <td>rive de départ</td>\n",
    "        <td>rive d'arrivée</td>\n",
    "    </tr>\n",
    "    <tr>\n",
    "        <td>berger, chou, chèvre, loup</td>\n",
    "        <td>-</td>\n",
    "    </tr>\n",
    "    <tr>\n",
    "        <td>berger, chèvre, loup</td>\n",
    "        <td>chou</td>\n",
    "    </tr>\n",
    "    <tr>\n",
    "        <td>berger, chou, loup</td>\n",
    "        <td>chèvre</td>\n",
    "    </tr>\n",
    "    <tr class=\"bad\">\n",
    "        <td>berger, loup</td>\n",
    "        <td>chou, chèvre</td>\n",
    "    </tr>\n",
    "    <tr>\n",
    "        <td>berger, chou, chèvre</td>\n",
    "        <td>loup</td>\n",
    "    </tr>\n",
    "    <tr>\n",
    "        <td>berger, chèvre</td>\n",
    "        <td>chou, loup</td>\n",
    "    </tr>\n",
    "    <tr class=\"bad\">\n",
    "        <td>berger, chou</td>\n",
    "        <td>chèvre, loup</td>\n",
    "    </tr>\n",
    "    <tr class=\"bad\">\n",
    "        <td>chou, chèvre, loup</td>\n",
    "        <td>berger</td>\n",
    "    </tr>\n",
    "</table>\n",
    "        </td>\n",
    "        <td>\n",
    "<table class=\"tab\">\n",
    "    <tr>\n",
    "        <td>rive de départ</td>\n",
    "        <td>rive d'arrivée</td>\n",
    "    </tr>\n",
    "    <tr class=\"bad\">\n",
    "        <td>berger</td>\n",
    "        <td>chou, chèvre, loup</td>\n",
    "    </tr>\n",
    "    <tr class=\"bad\">\n",
    "        <td>chèvre, loup</td>\n",
    "        <td>berger, chou</td>\n",
    "    </tr>\n",
    "    <tr>\n",
    "        <td>chou, loup</td>\n",
    "        <td>berger, chèvre</td>\n",
    "    </tr>\n",
    "    <tr>\n",
    "        <td>loup</td>\n",
    "        <td>berger, chou, chèvre</td>\n",
    "    </tr>\n",
    "    <tr class=\"bad\">\n",
    "        <td>chou, chèvre</td>\n",
    "        <td>berger, loup</td>\n",
    "    </tr>\n",
    "    <tr>\n",
    "        <td>chèvre</td>\n",
    "        <td>berger, chou, loup</td>\n",
    "    </tr>\n",
    "    <tr>\n",
    "        <td>chou</td>\n",
    "        <td>berger, chèvre, loup</td>\n",
    "    </tr>\n",
    "    <tr>\n",
    "        <td>-</td>\n",
    "        <td>berger, chou, chèvre, loup</td>\n",
    "    </tr>\n",
    "</table>\n",
    "        </td>\n",
    "    </tr>\n",
    "    </table>"
   ]
  },
  {
   "cell_type": "markdown",
   "metadata": {
    "slideshow": {
     "slide_type": "slide"
    }
   },
   "source": [
    "#### Activité 2\n",
    "Construire le graphe des états de la rive de départ."
   ]
  },
  {
   "cell_type": "markdown",
   "metadata": {
    "slideshow": {
     "slide_type": "slide"
    }
   },
   "source": [
    "<div align=\"middle\"><img src=\"ressources/graphe.png\" width=500px></div>"
   ]
  },
  {
   "cell_type": "markdown",
   "metadata": {
    "slideshow": {
     "slide_type": "slide"
    }
   },
   "source": [
    "#### Activité 3\n",
    "- À partir du graphe, trouver une solution pour que le berger transporte tout le monde sur l'autre rive.\n",
    "- Existe-t-il un plus court chemin?"
   ]
  },
  {
   "cell_type": "markdown",
   "metadata": {
    "slideshow": {
     "slide_type": "slide"
    }
   },
   "source": [
    "Le chemin le plus court comporte sept arêtes, ce qui oblige le berger à faire quatre allers et trois retours :\n",
    "- Il emmène d’abord la chèvre sur l’autre rive, ce qui correspond à l’arête qui va du sommet chou, chèvre, loup, berger au sommet chou, loup.\n",
    "- Il revient seul.\n",
    "- Il emmène le loup sur l’autre rive.\n",
    "- Il revient avec la chèvre.\n",
    "- Il emmène le chou.\n",
    "- Il revient seul.\n",
    "- Il emmène enfin la chèvre une seconde fois."
   ]
  },
  {
   "cell_type": "markdown",
   "metadata": {
    "slideshow": {
     "slide_type": "slide"
    }
   },
   "source": [
    "## 3. Résolution informatique"
   ]
  },
  {
   "cell_type": "markdown",
   "metadata": {},
   "source": [
    "#### Activité 4\n",
    "En utilisant la classe *Graphe* construite en cours, retrouver et afficher le nombre de transition minimal que doit effectuer le berger."
   ]
  },
  {
   "cell_type": "code",
   "execution_count": 4,
   "metadata": {
    "slideshow": {
     "slide_type": "skip"
    }
   },
   "outputs": [],
   "source": [
    "from scripts.structures import Pile, File\n",
    "\n",
    "class Graphe:\n",
    "    \"\"\"\n",
    "    Crée un graphe sous forme de dictionnaire d'adjacence\n",
    "    \"\"\"\n",
    "\n",
    "    def __init__(self):\n",
    "        self.sommets = {}\n",
    "\n",
    "    def ajouter_sommet(self, s)->None:\n",
    "        if not(s in self.sommets):\n",
    "            self.sommets[s] = set()\n",
    "\n",
    "    def ajouter_arete(self, s1, s2)->None:\n",
    "        self.ajouter_sommet(s1)\n",
    "        self.ajouter_sommet(s2)\n",
    "        self.sommets[s1].add(s2)\n",
    "        self.sommets[s2].add(s1)\n",
    "\n",
    "    def sont_relies(self, s1, s2)->bool:\n",
    "        return s1 in self.sommets[s2]\n",
    "\n",
    "    def get_adjacents(self, s)->set:\n",
    "        return self.sommets[s]\n",
    "\n",
    "    def get_sommets(self)->list:\n",
    "        return list(self.sommets)\n",
    "\n",
    "    def DFS(self,depart: str)->list:\n",
    "        p = Pile()\n",
    "        p.empiler(depart)\n",
    "        visites = []\n",
    "        while not(p.est_vide()):\n",
    "            en_cours = p.depiler()\n",
    "            if not(en_cours in visites):\n",
    "                visites.append(en_cours)\n",
    "                for voisin in self.sommets[en_cours]:\n",
    "                    p.empiler(voisin)\n",
    "        return visites\n",
    "\n",
    "    def DFS_rec(self, depart: str, visites: list = [])->list:\n",
    "        if not(depart in visites):\n",
    "            visites.append(depart)\n",
    "            for voisin in self.sommets[depart]:\n",
    "                self.DFS_rec(voisin, visites)\n",
    "        return visites\n",
    "\n",
    "    def est_connexe(self)->bool:\n",
    "        list_sommets = self.get_sommets()\n",
    "        return len(self.DFS(list_sommets[0])) == len(list_sommets)\n",
    "\n",
    "    def BFS(self,depart: str)->list:\n",
    "        f = File()\n",
    "        f.enfiler(depart)\n",
    "        visites = []\n",
    "        while not(f.est_vide()):\n",
    "            en_cours = f.defiler()\n",
    "            if not(en_cours in visites):\n",
    "                visites.append(en_cours)\n",
    "                for voisin in self.sommets[en_cours]:\n",
    "                    f.enfiler(voisin)\n",
    "        return visites\n",
    "\n",
    "    def plus_court_chemin(self, depart: str, arrivee: str)->int:\n",
    "        f = File()\n",
    "        f.enfiler(depart)\n",
    "        visites = []\n",
    "        distances = {depart: 0}\n",
    "        while not(f.est_vide()):\n",
    "            en_cours = f.defiler()\n",
    "            if not(en_cours in visites):\n",
    "                visites.append(en_cours)\n",
    "                for voisin in self.sommets[en_cours]:\n",
    "                    f.enfiler(voisin)\n",
    "                    # on remplit le tableau des distances\n",
    "                    if voisin not in distances:\n",
    "                        distances[voisin] = distances[en_cours]+1\n",
    "        return distances[arrivee]\n",
    "\n",
    "    def plus_court_chemin_detail(self, depart: str, arrivee: str)->list:\n",
    "        f = File()\n",
    "        f.enfiler(depart)\n",
    "        visites = []\n",
    "        predecesseur = {depart: None}\n",
    "        while not(f.est_vide()):\n",
    "            en_cours = f.defiler()\n",
    "            if not(en_cours in visites):\n",
    "                visites.append(en_cours)\n",
    "                for voisin in self.sommets[en_cours]:\n",
    "                    f.enfiler(voisin)\n",
    "                    # on remplit le tableau des prédecesseurs\n",
    "                    if voisin not in predecesseur:\n",
    "                        predecesseur[voisin] = en_cours\n",
    "\n",
    "        # L'arrivée est-elle atteignable?\n",
    "        if not(arrivee in predecesseur):\n",
    "            return None\n",
    "\n",
    "        # reconstruction du chemin en partant de l'arrivée\n",
    "        chemin = []\n",
    "        position = arrivee\n",
    "        while position is not None:\n",
    "            chemin.append(position)\n",
    "            position = predecesseur[position]\n",
    "        # le chemin a été construit à l'envers\n",
    "        chemin.reverse()\n",
    "        return chemin"
   ]
  },
  {
   "cell_type": "code",
   "execution_count": 5,
   "metadata": {
    "slideshow": {
     "slide_type": "slide"
    }
   },
   "outputs": [],
   "source": [
    "rive = Graphe()\n",
    "rive.ajouter_sommet(\"chou, chèvre, loup, berger\")\n",
    "rive.ajouter_sommet(\"chèvre, loup, berger\")\n",
    "rive.ajouter_sommet(\"chou, loup, berger\")\n",
    "rive.ajouter_sommet(\"chou, chèvre, berger\")\n",
    "rive.ajouter_sommet(\"chèvre, berger\")\n",
    "rive.ajouter_sommet(\"chou, loup\")\n",
    "rive.ajouter_sommet(\"loup\")\n",
    "rive.ajouter_sommet(\"chèvre\")\n",
    "rive.ajouter_sommet(\"chou\")\n",
    "rive.ajouter_sommet(\"-\")"
   ]
  },
  {
   "cell_type": "code",
   "execution_count": 6,
   "metadata": {
    "slideshow": {
     "slide_type": "slide"
    }
   },
   "outputs": [],
   "source": [
    "rive.ajouter_arete(\"chou, chèvre, loup, berger\", \"chou, loup\")\n",
    "rive.ajouter_arete(\"chèvre, loup, berger\", \"loup\")\n",
    "rive.ajouter_arete(\"chèvre, loup, berger\", \"chèvre\")\n",
    "rive.ajouter_arete(\"chou, loup, berger\", \"loup\")\n",
    "rive.ajouter_arete(\"chou, loup, berger\", \"chou\")\n",
    "rive.ajouter_arete(\"chou, loup, berger\", \"chou, loup\")\n",
    "rive.ajouter_arete(\"chou, chèvre, berger\", \"chou\")\n",
    "rive.ajouter_arete(\"chou, chèvre, berger\", \"chèvre\")\n",
    "rive.ajouter_arete(\"chèvre, berger\", \"chèvre\")\n",
    "rive.ajouter_arete(\"chèvre, berger\", \"-\")"
   ]
  },
  {
   "cell_type": "code",
   "execution_count": 7,
   "metadata": {
    "slideshow": {
     "slide_type": "fragment"
    }
   },
   "outputs": [
    {
     "data": {
      "text/plain": [
       "['chou, chèvre, loup, berger',\n",
       " 'chou, loup',\n",
       " 'chou, loup, berger',\n",
       " 'chou',\n",
       " 'chou, chèvre, berger',\n",
       " 'chèvre',\n",
       " 'chèvre, berger',\n",
       " '-']"
      ]
     },
     "execution_count": 7,
     "metadata": {},
     "output_type": "execute_result"
    }
   ],
   "source": [
    "rive.plus_court_chemin_detail(\"chou, chèvre, loup, berger\", \"-\")"
   ]
  },
  {
   "cell_type": "markdown",
   "metadata": {
    "slideshow": {
     "slide_type": "slide"
    }
   },
   "source": [
    "#### Activité 5\n",
    "En s'aidant de la documentation en ligne, utiliser la bibliothèque *networkx* pour réaliser le graphe résolvant la devinette."
   ]
  },
  {
   "cell_type": "code",
   "execution_count": null,
   "metadata": {
    "slideshow": {
     "slide_type": "slide"
    }
   },
   "outputs": [],
   "source": [
    "import networkx as nx\n",
    "import matplotlib.pyplot as plt\n",
    "\n",
    "g = nx.Graph()\n",
    "for s in rive.get_sommets():\n",
    "    g.add_node(s)\n",
    "\n",
    "for s in rive.get_sommets():\n",
    "    for a in rive.get_adjacents(s):\n",
    "        g.add_edge(s, a)\n",
    "\n",
    "nx.draw(g,with_labels=True)\n",
    "plt.savefig(\"graphe-networkx.png\", format=\"PNG\")"
   ]
  },
  {
   "cell_type": "markdown",
   "metadata": {
    "slideshow": {
     "slide_type": "slide"
    }
   },
   "source": [
    "<div align=\"middle\"><img src=\"ressources/graphe-networkx.png\" width=\"400px\"></div>"
   ]
  }
 ],
 "metadata": {
  "celltoolbar": "Slideshow",
  "kernelspec": {
   "display_name": "Python 3",
   "language": "python",
   "name": "python3"
  },
  "language_info": {
   "codemirror_mode": {
    "name": "ipython",
    "version": 3
   },
   "file_extension": ".py",
   "mimetype": "text/x-python",
   "name": "python",
   "nbconvert_exporter": "python",
   "pygments_lexer": "ipython3",
   "version": "3.8.1"
  },
  "latex_envs": {
   "LaTeX_envs_menu_present": true,
   "autoclose": false,
   "autocomplete": true,
   "bibliofile": "biblio.bib",
   "cite_by": "apalike",
   "current_citInitial": 1,
   "eqLabelWithNumbers": true,
   "eqNumInitial": 1,
   "hotkeys": {
    "equation": "Ctrl-E",
    "itemize": "Ctrl-I"
   },
   "labels_anchors": false,
   "latex_user_defs": false,
   "report_style_numbering": true,
   "user_envs_cfg": false
  }
 },
 "nbformat": 4,
 "nbformat_minor": 4
}
