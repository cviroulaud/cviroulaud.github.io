{
 "cells": [
  {
   "cell_type": "markdown",
   "metadata": {
    "slideshow": {
     "slide_type": "slide"
    }
   },
   "source": [
    "# Carte d'orientation"
   ]
  },
  {
   "cell_type": "markdown",
   "metadata": {
    "slideshow": {
     "slide_type": "slide"
    }
   },
   "source": [
    "## 1. Problématique"
   ]
  },
  {
   "cell_type": "markdown",
   "metadata": {
    "slideshow": {
     "slide_type": "fragment"
    }
   },
   "source": [
    "<div align=\"middle\"><img src=\"ressources/co-noir.png\" width=400px></div>"
   ]
  },
  {
   "cell_type": "markdown",
   "metadata": {
    "slideshow": {
     "slide_type": "slide"
    }
   },
   "source": [
    "<div align=\"middle\"><img src=\"ressources/co-graphe.png\" width=400px></div>"
   ]
  },
  {
   "cell_type": "markdown",
   "metadata": {
    "slideshow": {
     "slide_type": "fragment"
    }
   },
   "source": [
    "<div align=\"middle\"><h3>Comment peut-on représenter les balises de CO en mémoire ?</h3></div>"
   ]
  },
  {
   "cell_type": "markdown",
   "metadata": {
    "slideshow": {
     "slide_type": "slide"
    }
   },
   "source": [
    "## 2. Notion de graphe\n",
    "Un vocabulaire qui varie selon la littérature:\n",
    "- sommet $\\leftrightarrow$ nœud\n",
    "- arête $\\leftrightarrow$ arc"
   ]
  },
  {
   "cell_type": "markdown",
   "metadata": {
    "slideshow": {
     "slide_type": "fragment"
    }
   },
   "source": [
    "#### Activité 1\n",
    "- Donner le degré du sommet 30.\n",
    "- Donner deux sommets adjacents.\n",
    "- Donner l'ordre et le degré du graphe.\n",
    "- Ce graphe est-il complet?\n",
    "- Schématiser un graphe complet d'ordre 4."
   ]
  },
  {
   "cell_type": "markdown",
   "metadata": {
    "slideshow": {
     "slide_type": "slide"
    }
   },
   "source": [
    "$$d_{30} = 4$$"
   ]
  },
  {
   "cell_type": "markdown",
   "metadata": {
    "slideshow": {
     "slide_type": "fragment"
    }
   },
   "source": [
    "Pour le graphe:\n",
    "- ordre: 20\n",
    "- degré: $d=74$"
   ]
  },
  {
   "cell_type": "markdown",
   "metadata": {
    "slideshow": {
     "slide_type": "fragment"
    }
   },
   "source": [
    "<div align=\"middle\"><img src=\"ressources/graphe4.png\" width=200px></div>"
   ]
  },
  {
   "cell_type": "markdown",
   "metadata": {
    "slideshow": {
     "slide_type": "slide"
    }
   },
   "source": [
    "## 3. Représentations en mémoire"
   ]
  },
  {
   "cell_type": "markdown",
   "metadata": {
    "slideshow": {
     "slide_type": "slide"
    }
   },
   "source": [
    "### 3.1 Matrice d'adjacence"
   ]
  },
  {
   "cell_type": "markdown",
   "metadata": {},
   "source": [
    "<div align=\"middle\"><img src=\"ressources/graphe.png\" width=300px></div>"
   ]
  },
  {
   "cell_type": "markdown",
   "metadata": {
    "slideshow": {
     "slide_type": "fragment"
    }
   },
   "source": [
    "On appelle matrice d'adjacence la représentation mathématique dont le terme $a_{ij}$ vaut 1 si les sommets i et j sont reliés par une arête et 0 sinon."
   ]
  },
  {
   "cell_type": "markdown",
   "metadata": {
    "slideshow": {
     "slide_type": "fragment"
    }
   },
   "source": [
    "$$\\begin{pmatrix}\n",
    "0 & 1 & 1 & 0 & 0 & 1 \\\\\n",
    "1 & 0 & 0 & 0 & 0 & 0 \\\\\n",
    "1 & 0 & 0 & 1 & 1 & 0 \\\\\n",
    "0 & 0 & 1 & 0 & 0 & 1 \\\\\n",
    "0 & 0 & 1 & 0 & 0 & 0 \\\\\n",
    "1 & 0 & 0 & 1 & 0 & 0 \\\\\n",
    "\\end{pmatrix}$$"
   ]
  },
  {
   "cell_type": "markdown",
   "metadata": {
    "slideshow": {
     "slide_type": "notes"
    }
   },
   "source": [
    "symétrie"
   ]
  },
  {
   "cell_type": "markdown",
   "metadata": {
    "slideshow": {
     "slide_type": "slide"
    }
   },
   "source": [
    "#### Activité 2\n",
    "Déterminer une structure de données permettant de représenter la matrice d'adjacence en mémoire."
   ]
  },
  {
   "cell_type": "code",
   "execution_count": 1,
   "metadata": {
    "slideshow": {
     "slide_type": "fragment"
    }
   },
   "outputs": [],
   "source": [
    "mat = [\n",
    "    [0, 1, 1, 0, 0, 1],\n",
    "    [1, 0, 0, 0, 0, 0],\n",
    "    [1, 0, 0, 1, 1, 0],\n",
    "    [0, 0, 1, 0, 0, 1],\n",
    "    [0, 0, 1, 0, 0, 0],\n",
    "    [1, 0, 0, 1, 0, 0]\n",
    "]"
   ]
  },
  {
   "cell_type": "markdown",
   "metadata": {
    "slideshow": {
     "slide_type": "slide"
    }
   },
   "source": [
    "### 3.2 Dictionnaire d'adjacence"
   ]
  },
  {
   "cell_type": "markdown",
   "metadata": {},
   "source": [
    "- A: B, C, F\n",
    "- B: A\n",
    "- C: A, D, E\n",
    "- D: C, F\n",
    "- E: C\n",
    "- F: A, D"
   ]
  },
  {
   "cell_type": "markdown",
   "metadata": {
    "slideshow": {
     "slide_type": "fragment"
    }
   },
   "source": [
    "#### Activité 3\n",
    "Construire le dictionnaire d'adjacence en mémoire."
   ]
  },
  {
   "cell_type": "code",
   "execution_count": 2,
   "metadata": {
    "slideshow": {
     "slide_type": "slide"
    }
   },
   "outputs": [],
   "source": [
    "# avec des listes\n",
    "dico = {\n",
    "    \"A\": [\"B\", \"C\", \"F\"],\n",
    "    \"B\": [\"A\"],\n",
    "    \"C\": [\"A\", \"D\", \"E\"],\n",
    "    \"D\": [\"C\", \"F\"],\n",
    "    \"E\": [\"C\"],\n",
    "    \"F\": [\"A\", \"D\"]\n",
    "}"
   ]
  },
  {
   "cell_type": "code",
   "execution_count": 2,
   "metadata": {
    "slideshow": {
     "slide_type": "fragment"
    }
   },
   "outputs": [],
   "source": [
    "# avec des set (ne pas confondre avec des dictionnaires)\n",
    "dico = {\n",
    "    \"A\": {\"B\", \"C\", \"F\"},\n",
    "    \"B\": {\"A\"},\n",
    "    \"C\": {\"A\", \"D\", \"E\"},\n",
    "    \"D\": {\"C\", \"F\"},\n",
    "    \"E\": {\"C\"},\n",
    "    \"F\": {\"A\", \"D\"}\n",
    "}"
   ]
  },
  {
   "cell_type": "markdown",
   "metadata": {
    "slideshow": {
     "slide_type": "slide"
    }
   },
   "source": [
    "### 3.3 Représentation de la carte de CO"
   ]
  },
  {
   "cell_type": "markdown",
   "metadata": {
    "slideshow": {
     "slide_type": "slide"
    }
   },
   "source": [
    "#### Activité 4\n",
    "- Représenter en mémoire la matrice d'adjacence et le dictionnaire d'adjacence de la carte."
   ]
  },
  {
   "cell_type": "code",
   "execution_count": 5,
   "metadata": {
    "slideshow": {
     "slide_type": "slide"
    }
   },
   "outputs": [
    {
     "name": "stdout",
     "output_type": "stream",
     "text": [
      "Pas d'erreur\n"
     ]
    }
   ],
   "source": [
    "from scripts.mod_verification import verifier\n",
    "\n",
    "matrice_co =  [[0,0,0,0,1,0,1,0,0,0,0,0,0,0,1,0,0,0,0,0],\n",
    "               [0,0,0,0,0,1,0,1,0,0,0,0,0,1,0,0,0,0,0,0],\n",
    "               [0,0,0,0,0,0,0,0,0,1,0,1,0,0,0,0,0,0,0,0],\n",
    "               [0,0,0,0,0,0,0,0,1,0,1,1,1,0,0,1,0,0,0,0],\n",
    "               [1,0,0,0,0,0,0,0,0,0,1,0,1,0,1,0,0,0,0,0],\n",
    "               [0,1,0,0,0,0,1,0,0,0,0,0,1,0,0,0,0,0,0,0],\n",
    "               [1,0,0,0,0,1,0,0,0,0,0,0,0,1,1,0,0,0,0,0],\n",
    "               [0,1,0,0,0,0,0,0,0,0,0,0,0,1,0,0,0,0,0,0],\n",
    "               [0,0,0,1,0,0,0,0,0,0,0,0,0,0,1,1,0,0,0,1],\n",
    "               [0,0,1,0,0,0,0,0,0,0,0,0,0,0,0,0,0,0,1,0],\n",
    "               [0,0,0,1,1,0,0,0,0,0,0,0,1,0,0,1,0,0,0,0],\n",
    "               [0,0,1,1,0,0,0,0,0,0,0,0,0,0,0,1,0,0,0,0],\n",
    "               [0,0,0,1,1,1,0,0,0,0,1,0,0,0,0,0,0,0,0,0],\n",
    "               [0,1,0,0,0,0,1,1,0,0,0,0,0,0,1,0,0,0,0,1],\n",
    "               [1,0,0,0,1,0,1,0,1,0,0,0,0,1,0,0,0,0,0,1],\n",
    "               [0,0,0,1,0,0,0,0,1,0,1,1,0,0,0,0,1,0,0,0],\n",
    "               [0,0,0,0,0,0,0,0,0,0,0,0,0,0,0,1,0,1,1,1],\n",
    "               [0,0,0,0,0,0,0,0,0,0,0,0,0,0,0,0,1,0,1,1],\n",
    "               [0,0,0,0,0,0,0,0,0,1,0,0,0,0,0,0,1,1,0,0],\n",
    "               [0,0,0,0,0,0,0,0,1,0,0,0,0,1,1,0,1,1,0,0]]\n",
    "\n",
    "verifier(matrice_co)"
   ]
  },
  {
   "cell_type": "markdown",
   "metadata": {
    "slideshow": {
     "slide_type": "slide"
    }
   },
   "source": [
    "# 4. Utilisation de la POO"
   ]
  },
  {
   "cell_type": "markdown",
   "metadata": {},
   "source": [
    "#### Activité 5\n",
    "- Créer la classe Graphe"
   ]
  },
  {
   "cell_type": "code",
   "execution_count": null,
   "metadata": {
    "slideshow": {
     "slide_type": "fragment"
    }
   },
   "outputs": [],
   "source": [
    "class Graphe:\n",
    "\n",
    "    def __init__(self):\n",
    "        pass\n",
    "\n",
    "    def ajouter_sommet(self, s)->None:\n",
    "        pass\n",
    "\n",
    "    def ajouter_arete(self, s1, s2)->None:\n",
    "        pass\n",
    "\n",
    "    def sont_relies(self, s1, s2)->bool:\n",
    "        pass\n",
    "\n",
    "    def get_adjacents(self, s)->set:\n",
    "        pass\n",
    "\n",
    "    def get_sommets(self)->list:\n",
    "        pass"
   ]
  },
  {
   "cell_type": "code",
   "execution_count": 7,
   "metadata": {
    "slideshow": {
     "slide_type": "slide"
    }
   },
   "outputs": [],
   "source": [
    "class Graphe:\n",
    "    \"\"\"\n",
    "    Crée un graphe sous forme de dictionnaire d'adjacence\n",
    "    \"\"\"\n",
    "\n",
    "    def __init__(self):\n",
    "        self.sommets = {}\n",
    "\n",
    "    def ajouter_sommet(self, s)->None:\n",
    "        if not(s in self.sommets):\n",
    "            self.sommets[s] = set()\n",
    "\n",
    "    def ajouter_arete(self, s1, s2)->None:\n",
    "        self.ajouter_sommet(s1)\n",
    "        self.ajouter_sommet(s2)\n",
    "        self.sommets[s1].add(s2)\n",
    "        self.sommets[s2].add(s1)\n",
    "\n",
    "    def sont_relies(self, s1, s2)->bool:\n",
    "        return s1 in self.sommets[s2]\n",
    "\n",
    "    def get_adjacents(self, s)->set:\n",
    "        return self.sommets[s]\n",
    "\n",
    "    def get_sommets(self)->list:\n",
    "        return list(self.sommets)"
   ]
  },
  {
   "cell_type": "markdown",
   "metadata": {
    "slideshow": {
     "slide_type": "slide"
    }
   },
   "source": [
    "- Créer une instance parcours_noir de la classe Graphe.\n",
    "- Le fichier parcours_noir.json contient la structure du parcours. Ce type de fichier permet de stocker des données facilement. Python gère ce format avec la bibliothèque json. Les accolades sont transformées en dictionnaire et les crochets en liste.\n",
    "- Observer la structure des données dans le fichier json.\n",
    "- Importer le fichier en lecture dans le programme Python et remplir l'instance parcours_noir du Graphe."
   ]
  },
  {
   "cell_type": "markdown",
   "metadata": {
    "slideshow": {
     "slide_type": "fragment"
    }
   },
   "source": [
    "<div align=\"middle\"><img src=\"ressources/fichier-json.png\" width=450px></div>"
   ]
  },
  {
   "cell_type": "code",
   "execution_count": 9,
   "metadata": {
    "slideshow": {
     "slide_type": "slide"
    }
   },
   "outputs": [],
   "source": [
    "import json\n",
    "\n",
    "parcours_noir = Graphe()\n",
    "\n",
    "with open(\"scripts/parcours_noir.json\", \"r\") as fichier:\n",
    "    data = json.load(fichier)\n",
    "    \"\"\"\n",
    "    data[\"sommets\"] est une liste de dictionnaires\n",
    "    chacun de ces dictionnaires contient:\n",
    "            le sommet\n",
    "            la liste des ses adjacents\n",
    "    \"\"\"\n",
    "    for dico in data[\"sommets\"]:\n",
    "        for adj in dico[\"adjacents\"]:\n",
    "            parcours_noir.ajouter_arete(dico[\"sommet\"], adj)"
   ]
  },
  {
   "cell_type": "code",
   "execution_count": 10,
   "metadata": {
    "slideshow": {
     "slide_type": "fragment"
    }
   },
   "outputs": [
    {
     "name": "stdout",
     "output_type": "stream",
     "text": [
      "[7, 17, 19, 45, 10, 18, 21, 43, 12, 26, 32, 14, 25, 30, 34, 49, 75, 71, 65, 70]\n",
      "{18, 43, 21}\n"
     ]
    }
   ],
   "source": [
    "print(parcours_noir.get_sommets())\n",
    "print(parcours_noir.get_adjacents(10))"
   ]
  }
 ],
 "metadata": {
  "celltoolbar": "Slideshow",
  "kernelspec": {
   "display_name": "Python 3",
   "language": "python",
   "name": "python3"
  },
  "language_info": {
   "codemirror_mode": {
    "name": "ipython",
    "version": 3
   },
   "file_extension": ".py",
   "mimetype": "text/x-python",
   "name": "python",
   "nbconvert_exporter": "python",
   "pygments_lexer": "ipython3",
   "version": "3.8.1"
  },
  "latex_envs": {
   "LaTeX_envs_menu_present": true,
   "autoclose": false,
   "autocomplete": true,
   "bibliofile": "biblio.bib",
   "cite_by": "apalike",
   "current_citInitial": 1,
   "eqLabelWithNumbers": true,
   "eqNumInitial": 1,
   "hotkeys": {
    "equation": "Ctrl-E",
    "itemize": "Ctrl-I"
   },
   "labels_anchors": false,
   "latex_user_defs": false,
   "report_style_numbering": true,
   "user_envs_cfg": false
  }
 },
 "nbformat": 4,
 "nbformat_minor": 4
}
