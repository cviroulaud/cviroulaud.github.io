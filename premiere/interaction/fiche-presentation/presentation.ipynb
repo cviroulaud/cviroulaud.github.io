{
 "cells": [
  {
   "cell_type": "markdown",
   "metadata": {
    "slideshow": {
     "slide_type": "slide"
    }
   },
   "source": [
    "# Présentation personnelle"
   ]
  },
  {
   "cell_type": "markdown",
   "metadata": {
    "slideshow": {
     "slide_type": "fragment"
    }
   },
   "source": [
    "Modifier la page web ci-dessous:\n",
    "\n",
    "[Fiche de présentation de l'enseignant](fiche-eleve/fiche-presentation.html)"
   ]
  },
  {
   "cell_type": "markdown",
   "metadata": {
    "slideshow": {
     "slide_type": "fragment"
    }
   },
   "source": [
    "- Ouvrir la page par un logiciel adapté pour des modifications.\n",
    "- Modifier les informations personnelles. Remplacer *fonctions* par *spécialités*.\n",
    "- Remplacer l'image par une autre trouvée sur le web, en respectant les droits d'auteur.\n",
    "- Modifier le lien afin qu'il pointe sur club sportif de son choix ou le site de la ville de résidence.\n",
    "- Modifier la présentation de la page:\n",
    "    + couleur des titres\n",
    "    + couleurs de fond\n",
    "    + taille de l'image\n",
    "    + comportement des liens\n",
    "- Remplacer le lien par une image qui pointe sur le site précédent."
   ]
  }
 ],
 "metadata": {
  "celltoolbar": "Slideshow",
  "kernelspec": {
   "display_name": "Python 3",
   "language": "python",
   "name": "python3"
  },
  "language_info": {
   "codemirror_mode": {
    "name": "ipython",
    "version": 3
   },
   "file_extension": ".py",
   "mimetype": "text/x-python",
   "name": "python",
   "nbconvert_exporter": "python",
   "pygments_lexer": "ipython3",
   "version": "3.8.1"
  }
 },
 "nbformat": 4,
 "nbformat_minor": 4
}
