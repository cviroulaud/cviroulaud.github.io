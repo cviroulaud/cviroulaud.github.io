{
 "cells": [
  {
   "cell_type": "markdown",
   "metadata": {
    "slideshow": {
     "slide_type": "slide"
    }
   },
   "source": [
    "# Routage"
   ]
  },
  {
   "cell_type": "markdown",
   "metadata": {
    "slideshow": {
     "slide_type": "slide"
    }
   },
   "source": [
    "## 1. Problématique\n",
    "\n",
    "<img src=\"ressources/laposte.jpg\" width=350px>"
   ]
  },
  {
   "cell_type": "markdown",
   "metadata": {
    "slideshow": {
     "slide_type": "fragment"
    }
   },
   "source": [
    "#### Quel système dans le réseau internet tient le rôle du facteur et de ses intermédiaires?"
   ]
  },
  {
   "cell_type": "markdown",
   "metadata": {
    "slideshow": {
     "slide_type": "slide"
    }
   },
   "source": [
    "## 2. Des matériels et des protocoles"
   ]
  },
  {
   "cell_type": "markdown",
   "metadata": {
    "slideshow": {
     "slide_type": "fragment"
    }
   },
   "source": [
    "### 2.1 Un dispositif central\n",
    "<img src=\"ressources/routage.png\" width=400px>"
   ]
  },
  {
   "cell_type": "markdown",
   "metadata": {
    "slideshow": {
     "slide_type": "slide"
    }
   },
   "source": [
    "### 2.2 Transmettre au bon destinataire\n",
    "\n",
    "##### Activité:\n",
    "\n",
    "- Répartir les 3 villes (source et/ou destination) dans la salle.\n",
    "- Tous les autres élèves représentent un routeur.\n",
    "- Réaliser la simulation: Un message part de Périgueux pour aller à Bordeaux.\n",
    "- Réaliser la simulation: Un message part de Périgueux pour aller à Pékin.\n",
    "- Réaliser la simulation précédente 5 fois."
   ]
  },
  {
   "cell_type": "markdown",
   "metadata": {
    "slideshow": {
     "slide_type": "slide"
    }
   },
   "source": [
    "### Le protocole IP - bilan"
   ]
  },
  {
   "cell_type": "markdown",
   "metadata": {
    "slideshow": {
     "slide_type": "fragment"
    }
   },
   "source": [
    "- L'Internet Protocol est responsable de l'acheminement des messages: c'est un protocole de **communication**.\n",
    "- Le protocole IP connait **l'adresse source** et **l'adresse de destination**.\n",
    "- IP ne s'occupe pas du contenu du message: le message est **encapsulé** dans le protocole IP.\n",
    "- Le message se déplace de proche en proche dans les routeurs qui composent la *toile* internet. Trouver un bon chemin s'appelle **le routage**.\n",
    "- Il n'y pas de chemin privilégié. Si un routeur tombe en panne, le message prend un autre chemin."
   ]
  },
  {
   "cell_type": "markdown",
   "metadata": {
    "slideshow": {
     "slide_type": "slide"
    }
   },
   "source": [
    "### 2.3 Garantir l'intégrité des données"
   ]
  },
  {
   "cell_type": "markdown",
   "metadata": {
    "slideshow": {
     "slide_type": "fragment"
    }
   },
   "source": [
    "#### Activité 3\n",
    "Le message est maintenant plus volumineux.\n",
    "\n",
    "- Proposer un protocole pour transporter ce message entre Périguux en Pékin, en utilisant toujours le protocole IP.\n",
    "- Le mettre en œuvre."
   ]
  },
  {
   "cell_type": "markdown",
   "metadata": {
    "slideshow": {
     "slide_type": "notes"
    }
   },
   "source": [
    "On parle d'abord du découpage, puis de l'accusé de réception"
   ]
  },
  {
   "cell_type": "markdown",
   "metadata": {
    "slideshow": {
     "slide_type": "fragment"
    }
   },
   "source": [
    "Comment la source peut être certaine que la destination a bien reçu la totalité du message?\n",
    "\n",
    "- Compléter le protocole précédent et le mettre en application."
   ]
  },
  {
   "cell_type": "markdown",
   "metadata": {
    "slideshow": {
     "slide_type": "notes"
    }
   },
   "source": [
    "- L'expéditeur envoie une message avec un flag SYN\n",
    "- L'émetteur envoie un accusé de réception avec un flag ACK\n",
    "- Dans la pratique un peu plus compliqué: numéros de séquences, somme de contrôle... "
   ]
  },
  {
   "cell_type": "markdown",
   "metadata": {
    "slideshow": {
     "slide_type": "slide"
    }
   },
   "source": [
    "### Le protocole TCP - bilan"
   ]
  },
  {
   "cell_type": "markdown",
   "metadata": {
    "slideshow": {
     "slide_type": "fragment"
    }
   },
   "source": [
    "- Le Transmission Control Protocol gère le contenu du message.\n",
    "- Il est encapsulé dans le protocole IP.\n",
    "- C'est un protocole de **transmission des données**.\n",
    "- Il découpe le message en paquets.\n",
    "- Le récepteur envoie un accusé de réception quand la destination a reçu un paquet.\n",
    "- Si la source ne reçoit pas d'accusé de réception passé un certain délai, elle renvoie le paquet.\n",
    "- Le protocole TCP garantit que le message sera entièrement envoyé mais il ne donne pas de délai minimal d'envoi."
   ]
  },
  {
   "cell_type": "markdown",
   "metadata": {
    "slideshow": {
     "slide_type": "slide"
    }
   },
   "source": [
    "## Retour historique\n",
    "<div align=\"middle\">\n",
    "<a href=\"https://cdn.knightlab.com/libs/timeline3/latest/embed/index.html?source=160e4SzNZNYGAO3mu5ISgZ1b8Dr55ZO86My2F7PAXSho&font=Default&lang=fr&initial_zoom=2&height=650\" target=_blank><img src=\"../../../retour.png\"></a>\n",
    "</div>"
   ]
  },
  {
   "cell_type": "markdown",
   "metadata": {
    "slideshow": {
     "slide_type": "slide"
    }
   },
   "source": [
    "## 3. À chaque situation son protocole"
   ]
  },
  {
   "cell_type": "markdown",
   "metadata": {
    "slideshow": {
     "slide_type": "fragment"
    }
   },
   "source": [
    "Ces protocoles font partie des techniques de **commutation de paquets** en opposition à la **communication de circuits** utilisée dans les communications téléphoniques."
   ]
  },
  {
   "cell_type": "markdown",
   "metadata": {
    "slideshow": {
     "slide_type": "fragment"
    }
   },
   "source": [
    "Le protocole UDP (User Datagram Protocol) peut également être encapsulé dans IP. Il est plus simple à mettre en pratique car il ne propose pas de système d'accusé de réception."
   ]
  },
  {
   "cell_type": "markdown",
   "metadata": {
    "slideshow": {
     "slide_type": "fragment"
    }
   },
   "source": [
    "- Établir les avantages et les inconvénients des protocoles TCP et UDP.\n",
    "- Citer plusieurs situations où chacun de ces protocoles sera utilisé de manière préférentielle."
   ]
  },
  {
   "cell_type": "markdown",
   "metadata": {
    "slideshow": {
     "slide_type": "slide"
    }
   },
   "source": [
    "## 4. Bilan en vidéo"
   ]
  },
  {
   "cell_type": "markdown",
   "metadata": {
    "slideshow": {
     "slide_type": "fragment"
    }
   },
   "source": [
    "- Regarder la vidéo ci-après puis répondre aux questions à la suite du cours. Il faudra noter chaque question et effectuer une réponse rédigée."
   ]
  },
  {
   "cell_type": "code",
   "execution_count": 3,
   "metadata": {
    "slideshow": {
     "slide_type": "slide"
    }
   },
   "outputs": [
    {
     "data": {
      "image/jpeg": "[encoded data removed]",
      "text/html": [
       "\n",
       "        <iframe\n",
       "            width=\"800\"\n",
       "            height=\"450\"\n",
       "            src=\"https://www.youtube.com/embed/5AVY6E-7yCc\"\n",
       "            frameborder=\"0\"\n",
       "            allowfullscreen\n",
       "        ></iframe>\n",
       "        "
      ],
      "text/plain": [
       "<IPython.lib.display.YouTubeVideo at 0x7ffa3c9b6880>"
      ]
     },
     "execution_count": 3,
     "metadata": {},
     "output_type": "execute_result"
    }
   ],
   "source": [
    "from IPython.display import YouTubeVideo\n",
    "\n",
    "YouTubeVideo('5AVY6E-7yCc', width=800, height=450)"
   ]
  },
  {
   "cell_type": "markdown",
   "metadata": {
    "slideshow": {
     "slide_type": "slide"
    }
   },
   "source": [
    "1. Comment repérer un ordinateur sur le réseau internet?\n",
    "2. Un routeur connait-il toutes les adresses sur internet? Pour quelle raison?\n",
    "3. Quels paramètres gèrent les protocoles d'internet?"
   ]
  }
 ],
 "metadata": {
  "celltoolbar": "Slideshow",
  "kernelspec": {
   "display_name": "Python 3",
   "language": "python",
   "name": "python3"
  },
  "language_info": {
   "codemirror_mode": {
    "name": "ipython",
    "version": 3
   },
   "file_extension": ".py",
   "mimetype": "text/x-python",
   "name": "python",
   "nbconvert_exporter": "python",
   "pygments_lexer": "ipython3",
   "version": "3.8.1"
  },
  "latex_envs": {
   "LaTeX_envs_menu_present": true,
   "autoclose": false,
   "autocomplete": true,
   "bibliofile": "biblio.bib",
   "cite_by": "apalike",
   "current_citInitial": 1,
   "eqLabelWithNumbers": true,
   "eqNumInitial": 1,
   "hotkeys": {
    "equation": "Ctrl-E",
    "itemize": "Ctrl-I"
   },
   "labels_anchors": false,
   "latex_user_defs": false,
   "report_style_numbering": true,
   "user_envs_cfg": false
  }
 },
 "nbformat": 4,
 "nbformat_minor": 4
}
