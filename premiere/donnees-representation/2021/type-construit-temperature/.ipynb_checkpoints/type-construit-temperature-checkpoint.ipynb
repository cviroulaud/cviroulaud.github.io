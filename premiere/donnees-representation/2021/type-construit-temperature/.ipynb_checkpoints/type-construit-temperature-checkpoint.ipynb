{
 "cells": [
  {
   "cell_type": "markdown",
   "metadata": {
    "slideshow": {
     "slide_type": "slide"
    }
   },
   "source": [
    "# Évolution de la température"
   ]
  },
  {
   "cell_type": "markdown",
   "metadata": {
    "slideshow": {
     "slide_type": "slide"
    }
   },
   "source": [
    "## 1. Problématique"
   ]
  },
  {
   "cell_type": "markdown",
   "metadata": {},
   "source": [
    "<div align=\"middle\"><img src=\"ressources/extrait.png\" width=200px></div>"
   ]
  },
  {
   "cell_type": "code",
   "execution_count": null,
   "metadata": {
    "slideshow": {
     "slide_type": "slide"
    }
   },
   "outputs": [],
   "source": [
    "annee1900 = 0.3\n",
    "annee1901 = -0.7\n",
    "annee1902 = -0.6\n",
    "annee1903 = -0.3"
   ]
  },
  {
   "cell_type": "markdown",
   "metadata": {
    "slideshow": {
     "slide_type": "fragment"
    }
   },
   "source": [
    "#### Calculer la moyenne?"
   ]
  },
  {
   "cell_type": "code",
   "execution_count": null,
   "metadata": {},
   "outputs": [],
   "source": [
    "moyenne = (annee1900 + annee1901 + annee1902 + ...)/117"
   ]
  },
  {
   "cell_type": "markdown",
   "metadata": {
    "slideshow": {
     "slide_type": "fragment"
    }
   },
   "source": [
    "<div align=\"middle\"><h4>Comment stocker les données dans le programme pour les manipuler facilement?</h4></div>"
   ]
  },
  {
   "cell_type": "markdown",
   "metadata": {
    "slideshow": {
     "slide_type": "slide"
    }
   },
   "source": [
    "## 2. Les tuples"
   ]
  },
  {
   "cell_type": "markdown",
   "metadata": {},
   "source": [
    "### 2.1 Présentation\n",
    "Un **tuple** est une séquence **ordonnée** de plusieurs éléments."
   ]
  },
  {
   "cell_type": "code",
   "execution_count": 2,
   "metadata": {
    "slideshow": {
     "slide_type": "fragment"
    }
   },
   "outputs": [],
   "source": [
    "mon_tuple = (8, 5, 3, 9, 1, 0, 2)"
   ]
  },
  {
   "cell_type": "markdown",
   "metadata": {
    "slideshow": {
     "slide_type": "slide"
    }
   },
   "source": [
    "### 2.2 Accéder à un élément"
   ]
  },
  {
   "cell_type": "markdown",
   "metadata": {},
   "source": [
    "Un tuple est **immuable**. Il est défini une fois pour toute."
   ]
  },
  {
   "cell_type": "markdown",
   "metadata": {
    "slideshow": {
     "slide_type": "fragment"
    }
   },
   "source": [
    "Pour accéder à un tuple:"
   ]
  },
  {
   "cell_type": "markdown",
   "metadata": {
    "slideshow": {
     "slide_type": "notes"
    }
   },
   "source": [
    "**index commence à 0**; faire un tableau avec index"
   ]
  },
  {
   "cell_type": "code",
   "execution_count": 4,
   "metadata": {},
   "outputs": [
    {
     "data": {
      "text/plain": [
       "8"
      ]
     },
     "execution_count": 4,
     "metadata": {},
     "output_type": "execute_result"
    }
   ],
   "source": [
    "mon_tuple[0]"
   ]
  },
  {
   "cell_type": "markdown",
   "metadata": {
    "slideshow": {
     "slide_type": "slide"
    }
   },
   "source": [
    "Un espace mémoire libre est alloué au tuple."
   ]
  },
  {
   "cell_type": "code",
   "execution_count": null,
   "metadata": {
    "slideshow": {
     "slide_type": "fragment"
    }
   },
   "outputs": [],
   "source": [
    "texte = \"hello!\"\n",
    "a = 6\n",
    "b = 9\n",
    "c = 4\n",
    "texte2 = \"hey\"\n",
    "texte3= \"T\"\n",
    "mon_tuple = (8, 5, 3, 9, 1, 0, 2)"
   ]
  },
  {
   "cell_type": "markdown",
   "metadata": {
    "slideshow": {
     "slide_type": "-"
    }
   },
   "source": [
    "<div align=\"middle\"><img src=\"ressources/memoire.png\" width=350px></div>"
   ]
  },
  {
   "cell_type": "markdown",
   "metadata": {
    "slideshow": {
     "slide_type": "fragment"
    }
   },
   "source": [
    "On peut accéder à chacun des éléments **en temps constant**."
   ]
  },
  {
   "cell_type": "code",
   "execution_count": 3,
   "metadata": {
    "slideshow": {
     "slide_type": "slide"
    }
   },
   "outputs": [
    {
     "name": "stdout",
     "output_type": "stream",
     "text": [
      "8 5 3 9 1 0 2 "
     ]
    }
   ],
   "source": [
    "# Afficher les éléments du tuple\n",
    "for i in range(7):\n",
    "    print(mon_tuple[i], end=\" \")"
   ]
  },
  {
   "cell_type": "code",
   "execution_count": 6,
   "metadata": {
    "slideshow": {
     "slide_type": "fragment"
    }
   },
   "outputs": [
    {
     "name": "stdout",
     "output_type": "stream",
     "text": [
      "4.0\n"
     ]
    }
   ],
   "source": [
    "# Calculer la moyenne des éléments\n",
    "somme = 0\n",
    "for i in range(7):\n",
    "    somme = somme + mon_tuple[i]\n",
    "    \n",
    "moyenne = somme/7\n",
    "print(moyenne)"
   ]
  },
  {
   "cell_type": "markdown",
   "metadata": {
    "slideshow": {
     "slide_type": "slide"
    }
   },
   "source": [
    "### 2.3 Utiliser le tuple\n",
    "Le tuple ci-après contient les anomalies de températures de 1900 à 2017."
   ]
  },
  {
   "cell_type": "code",
   "execution_count": 7,
   "metadata": {},
   "outputs": [],
   "source": [
    "temperatures = (0.3, -0.7, -0.6, -0.3, 0.1, -0.6, 0.0, -0.4, -0.4, -1.0,\n",
    "                -0.4, 0.5, -0.4, 0.1, -0.3, -0.4, -0.2, -1.2, -0.2, -0.7,\n",
    "                0.0, 0.6, -0.7, -0.1, -0.4, -0.6, 0.3, -0.1, 0.5, -0.2,\n",
    "                0.4, -0.6, -0.3, -0.2, 0.4, -0.1, 0.0, 0.5, -0.1, -0.3,\n",
    "                -0.9, -0.9, -0.4, 0.7, -0.4, 0.6, -0.3, 0.8, 0.3, 0.8,\n",
    "                0.2, -0.1, 0.1, 0.1, -0.5, 0.0, -1.2, 0.0, 0.0, 0.8,\n",
    "                0.0, 0.8, -0.8, -1.1, -0.1, -0.5, 0.2, 0.1, -0.2, -0.2,\n",
    "                -0.1, -0.2, -0.5, -0.2, 0.1, 0.0, 0.3, 0.1, -0.4, -0.2,\n",
    "                -0.6, 0.1, 0.8, 0.6, -0.2, -0.5, -0.2, -0.1, 0.7, 1.2,\n",
    "                1.2, 0.2, 0.5, 0.2, 1.5, 1.0, 0.1, 1.3, 0.7, 1.2,\n",
    "                1.3, 1.0, 1.3, 1.7, 0.8, 0.8, 1.4, 1.1, 0.7, 1.2,\n",
    "                0.1, 1.8, 1.0, 0.6, 1.9, 1.7, 1.2, 1.6)"
   ]
  },
  {
   "cell_type": "markdown",
   "metadata": {
    "slideshow": {
     "slide_type": "slide"
    }
   },
   "source": [
    "#### Activité 1\n",
    "- Récupérer le code temperature.py sur le site  (**fichier à décompresser d'abord**)\n",
    "- Afficher l'anomalie de température pour l'année 1910.\n",
    "- Écrire un programme qui demande une année à l'utilisateur et affiche l'anomalie correspondante.\n",
    "- Tester le code qui utilise la bibliothèque *pyplot*. Prendre le temps de comprendre la ligne 3."
   ]
  },
  {
   "cell_type": "code",
   "execution_count": 10,
   "metadata": {
    "slideshow": {
     "slide_type": "fragment"
    }
   },
   "outputs": [
    {
     "data": {
      "text/plain": [
       "-0.4"
      ]
     },
     "execution_count": 10,
     "metadata": {},
     "output_type": "execute_result"
    }
   ],
   "source": [
    "temperatures[10]"
   ]
  },
  {
   "cell_type": "code",
   "execution_count": 11,
   "metadata": {
    "slideshow": {
     "slide_type": "fragment"
    }
   },
   "outputs": [
    {
     "name": "stdout",
     "output_type": "stream",
     "text": [
      "Quelle année? 1905\n"
     ]
    },
    {
     "data": {
      "text/plain": [
       "-0.6"
      ]
     },
     "execution_count": 11,
     "metadata": {},
     "output_type": "execute_result"
    }
   ],
   "source": [
    "annee = int(input(\"Quelle année? \"))\n",
    "index = annee - 1900\n",
    "temperatures[index]"
   ]
  },
  {
   "cell_type": "code",
   "execution_count": 8,
   "metadata": {
    "slideshow": {
     "slide_type": "slide"
    }
   },
   "outputs": [
    {
     "data": {
      "image/png": "[encoded data removed]",
      "text/plain": [
       "<Figure size 432x288 with 1 Axes>"
      ]
     },
     "metadata": {
      "needs_background": "light"
     },
     "output_type": "display_data"
    }
   ],
   "source": [
    "import matplotlib.pyplot as plt\n",
    "\n",
    "plt.bar(range(1900, 2018), temperatures)\n",
    "plt.title(\"Anomalie des températures 1900-2017\")\n",
    "plt.show()"
   ]
  },
  {
   "cell_type": "markdown",
   "metadata": {
    "slideshow": {
     "slide_type": "slide"
    }
   },
   "source": [
    "## 3. Les tableaux"
   ]
  },
  {
   "cell_type": "markdown",
   "metadata": {},
   "source": [
    "### 3.1 Présentation"
   ]
  },
  {
   "cell_type": "markdown",
   "metadata": {
    "slideshow": {
     "slide_type": "notes"
    }
   },
   "source": [
    "Il est mutable contrairement au tuple. **ATTENTION** se nomme *list* en Python"
   ]
  },
  {
   "cell_type": "code",
   "execution_count": 17,
   "metadata": {
    "slideshow": {
     "slide_type": "fragment"
    }
   },
   "outputs": [],
   "source": [
    "mon_tableau = [8, 5, 3, 9, 1, 0, 2]"
   ]
  },
  {
   "cell_type": "markdown",
   "metadata": {
    "slideshow": {
     "slide_type": "slide"
    }
   },
   "source": [
    "### 3.2 Accéder à un élément"
   ]
  },
  {
   "cell_type": "code",
   "execution_count": 13,
   "metadata": {
    "slideshow": {
     "slide_type": "fragment"
    }
   },
   "outputs": [
    {
     "data": {
      "text/plain": [
       "8"
      ]
     },
     "execution_count": 13,
     "metadata": {},
     "output_type": "execute_result"
    }
   ],
   "source": [
    "mon_tableau[0]"
   ]
  },
  {
   "cell_type": "code",
   "execution_count": 24,
   "metadata": {
    "slideshow": {
     "slide_type": "slide"
    }
   },
   "outputs": [],
   "source": [
    "mon_tableau[2] = 19"
   ]
  },
  {
   "cell_type": "code",
   "execution_count": 25,
   "metadata": {
    "slideshow": {
     "slide_type": "fragment"
    }
   },
   "outputs": [
    {
     "data": {
      "text/plain": [
       "[8, 5, 19, 9, 1, 0, 2, 12]"
      ]
     },
     "execution_count": 25,
     "metadata": {},
     "output_type": "execute_result"
    }
   ],
   "source": [
    "mon_tableau"
   ]
  },
  {
   "cell_type": "markdown",
   "metadata": {
    "slideshow": {
     "slide_type": "slide"
    }
   },
   "source": [
    "### 3.3 Ajouter un élément"
   ]
  },
  {
   "cell_type": "code",
   "execution_count": 18,
   "metadata": {
    "slideshow": {
     "slide_type": "fragment"
    }
   },
   "outputs": [],
   "source": [
    "mon_tableau.append(12)"
   ]
  },
  {
   "cell_type": "code",
   "execution_count": 19,
   "metadata": {
    "slideshow": {
     "slide_type": "fragment"
    }
   },
   "outputs": [
    {
     "data": {
      "text/plain": [
       "[8, 5, 3, 9, 1, 0, 2, 12]"
      ]
     },
     "execution_count": 19,
     "metadata": {},
     "output_type": "execute_result"
    }
   ],
   "source": [
    "mon_tableau"
   ]
  },
  {
   "cell_type": "markdown",
   "metadata": {
    "slideshow": {
     "slide_type": "slide"
    }
   },
   "source": [
    "### 3.4 Pour aller plus loin"
   ]
  },
  {
   "cell_type": "markdown",
   "metadata": {},
   "source": [
    "<div align=\"middle\"><a href=\"https://docs.python.org/fr/3/tutorial/datastructures.html\" target=\"_blank\">Documentation Python</a></div>"
   ]
  },
  {
   "cell_type": "markdown",
   "metadata": {
    "slideshow": {
     "slide_type": "slide"
    }
   },
   "source": [
    "### 3.5 Utiliser le tableau\n",
    "En 2018 l'anomalie de température était de +2.1. En 2019, elle s'élevait à +1.8."
   ]
  },
  {
   "cell_type": "markdown",
   "metadata": {
    "slideshow": {
     "slide_type": "fragment"
    }
   },
   "source": [
    "#### Activité 2\n",
    "- Modifier le programme précédent pour qu'il utilise un tableau au lieu d'un tuple.\n",
    "- Ajouter les anomalies de 2018 et 2019 à l'aide de la méthode *append*.\n",
    "- Réaliser la représentation graphique des anomalies."
   ]
  },
  {
   "cell_type": "code",
   "execution_count": 20,
   "metadata": {
    "slideshow": {
     "slide_type": "slide"
    }
   },
   "outputs": [],
   "source": [
    "temperatures = [0.3, -0.7, -0.6, -0.3, 0.1, -0.6, 0.0, -0.4, -0.4, -1.0,\n",
    "                -0.4, 0.5, -0.4, 0.1, -0.3, -0.4, -0.2, -1.2, -0.2, -0.7,\n",
    "                0.0, 0.6, -0.7, -0.1, -0.4, -0.6, 0.3, -0.1, 0.5, -0.2,\n",
    "                0.4, -0.6, -0.3, -0.2, 0.4, -0.1, 0.0, 0.5, -0.1, -0.3,\n",
    "                -0.9, -0.9, -0.4, 0.7, -0.4, 0.6, -0.3, 0.8, 0.3, 0.8,\n",
    "                0.2, -0.1, 0.1, 0.1, -0.5, 0.0, -1.2, 0.0, 0.0, 0.8,\n",
    "                0.0, 0.8, -0.8, -1.1, -0.1, -0.5, 0.2, 0.1, -0.2, -0.2,\n",
    "                -0.1, -0.2, -0.5, -0.2, 0.1, 0.0, 0.3, 0.1, -0.4, -0.2,\n",
    "                -0.6, 0.1, 0.8, 0.6, -0.2, -0.5, -0.2, -0.1, 0.7, 1.2,\n",
    "                1.2, 0.2, 0.5, 0.2, 1.5, 1.0, 0.1, 1.3, 0.7, 1.2,\n",
    "                1.3, 1.0, 1.3, 1.7, 0.8, 0.8, 1.4, 1.1, 0.7, 1.2,\n",
    "                0.1, 1.8, 1.0, 0.6, 1.9, 1.7, 1.2, 1.6]"
   ]
  },
  {
   "cell_type": "code",
   "execution_count": 21,
   "metadata": {
    "slideshow": {
     "slide_type": "fragment"
    }
   },
   "outputs": [],
   "source": [
    "temperatures.append(2.1)\n",
    "temperatures.append(1.8)"
   ]
  },
  {
   "cell_type": "code",
   "execution_count": 23,
   "metadata": {
    "slideshow": {
     "slide_type": "slide"
    }
   },
   "outputs": [
    {
     "data": {
      "image/png": "[encoded data removed]",
      "text/plain": [
       "<Figure size 432x288 with 1 Axes>"
      ]
     },
     "metadata": {
      "needs_background": "light"
     },
     "output_type": "display_data"
    }
   ],
   "source": [
    "plt.bar(range(1900, 2020), temperatures)\n",
    "plt.title(\"Anomalie des températures 1900-2019\")\n",
    "plt.show()"
   ]
  }
 ],
 "metadata": {
  "celltoolbar": "Slideshow",
  "kernelspec": {
   "display_name": "Python 3",
   "language": "python",
   "name": "python3"
  },
  "language_info": {
   "codemirror_mode": {
    "name": "ipython",
    "version": 3
   },
   "file_extension": ".py",
   "mimetype": "text/x-python",
   "name": "python",
   "nbconvert_exporter": "python",
   "pygments_lexer": "ipython3",
   "version": "3.8.1"
  },
  "latex_envs": {
   "LaTeX_envs_menu_present": true,
   "autoclose": false,
   "autocomplete": true,
   "bibliofile": "biblio.bib",
   "cite_by": "apalike",
   "current_citInitial": 1,
   "eqLabelWithNumbers": true,
   "eqNumInitial": 1,
   "hotkeys": {
    "equation": "Ctrl-E",
    "itemize": "Ctrl-I"
   },
   "labels_anchors": false,
   "latex_user_defs": false,
   "report_style_numbering": true,
   "user_envs_cfg": false
  }
 },
 "nbformat": 4,
 "nbformat_minor": 4
}
