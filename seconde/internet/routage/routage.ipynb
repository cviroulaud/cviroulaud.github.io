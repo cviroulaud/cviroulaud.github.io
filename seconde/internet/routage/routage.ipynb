{
 "cells": [
  {
   "cell_type": "markdown",
   "metadata": {
    "slideshow": {
     "slide_type": "slide"
    }
   },
   "source": [
    "# Routage"
   ]
  },
  {
   "cell_type": "markdown",
   "metadata": {
    "slideshow": {
     "slide_type": "slide"
    }
   },
   "source": [
    "## 1. Problématique\n",
    "\n",
    "<img src=\"ressources/laposte.jpg\" width=350px>"
   ]
  },
  {
   "cell_type": "markdown",
   "metadata": {
    "slideshow": {
     "slide_type": "fragment"
    }
   },
   "source": [
    "#### Quel système dans le réseau internet tient le rôle du facteur et de ses intermédiaires?"
   ]
  },
  {
   "cell_type": "markdown",
   "metadata": {
    "slideshow": {
     "slide_type": "slide"
    }
   },
   "source": [
    "## 2. Des matériels et des protocoles"
   ]
  },
  {
   "cell_type": "markdown",
   "metadata": {
    "slideshow": {
     "slide_type": "fragment"
    }
   },
   "source": [
    "### 2.1 Un dispositif central\n",
    "<img src=\"ressources/routage.png\" width=400px>"
   ]
  },
  {
   "cell_type": "markdown",
   "metadata": {
    "slideshow": {
     "slide_type": "slide"
    }
   },
   "source": [
    "### 2.2 Transmettre au bon destinataire\n",
    "\n",
    "##### Activité:\n",
    "\n",
    "- Répartir les 4 villes (source et/ou destination) dans la salle.\n",
    "- Tous les autres élèves représentent un routeur.\n",
    "- Réaliser la simulation: Un message part de Périgueux pour aller à Bordeaux.\n",
    "- Réaliser la simulation: Un message part de Périgueux pour aller à Pékin.\n",
    "- Réaliser la simulation précédente 5 fois."
   ]
  },
  {
   "cell_type": "markdown",
   "metadata": {
    "slideshow": {
     "slide_type": "slide"
    }
   },
   "source": [
    "### Le protocole IP - bilan"
   ]
  },
  {
   "cell_type": "markdown",
   "metadata": {
    "slideshow": {
     "slide_type": "fragment"
    }
   },
   "source": [
    "- L'Internet Protocol est responsable de l'acheminement des messages.\n",
    "- IP ne s'occupe pas du contenu du message: le message est **encapsulé** dans le protocole IP.\n",
    "- Le message se déplace de proche en proche dans les routeurs qui composent la *toile* internet.\n",
    "- Il n'y pas de chemin privilégié. Si un routeur tombe en panne, le message prend un autre chemin."
   ]
  },
  {
   "cell_type": "markdown",
   "metadata": {
    "slideshow": {
     "slide_type": "slide"
    }
   },
   "source": [
    "### Garantir l'intégrité des données"
   ]
  },
  {
   "cell_type": "markdown",
   "metadata": {
    "slideshow": {
     "slide_type": "fragment"
    }
   },
   "source": [
    "Le message est maintenant plus volumineux.\n",
    "\n",
    "- Placer une source et une destination.\n",
    "- Proposer un protocole pour transporter ce message en utilisant toujours le protocole IP.\n",
    "- Le mettre en œuvre."
   ]
  },
  {
   "cell_type": "markdown",
   "metadata": {
    "slideshow": {
     "slide_type": "fragment"
    }
   },
   "source": [
    "Comment la source peut être certaine que la destination a bien reçu la totalité du message?\n",
    "\n",
    "- Compléter le protocole précédent et le mettre en application."
   ]
  },
  {
   "cell_type": "markdown",
   "metadata": {
    "slideshow": {
     "slide_type": "slide"
    }
   },
   "source": [
    "### Le protocole TCP - bilan"
   ]
  },
  {
   "cell_type": "markdown",
   "metadata": {
    "slideshow": {
     "slide_type": "fragment"
    }
   },
   "source": [
    "- Le Transmission Control Protocol gère le contenu du message.\n",
    "- Il est encapsulé dans le protocole IP.\n",
    "- Il découpe le message en paquets.\n",
    "- Il envoie un accusé de réception quand la destination a reçu un paquet.\n",
    "- Si la source ne reçoit pas d'accusé de réception passé un certain délai, elle renvoie le paquet.\n",
    "- Le protocole TCP garantit que le message sera entièrement envoyé mais il ne donne pas de délai minimal d'envoi."
   ]
  },
  {
   "cell_type": "markdown",
   "metadata": {
    "slideshow": {
     "slide_type": "slide"
    }
   },
   "source": [
    "## Retour historique\n",
    "<a href=\"https://cdn.knightlab.com/libs/timeline3/latest/embed/index.html?source=160e4SzNZNYGAO3mu5ISgZ1b8Dr55ZO86My2F7PAXSho&font=Default&lang=fr&initial_zoom=2&height=650\" target=_blank><img src=\"../../../retour.png\"></a>"
   ]
  },
  {
   "cell_type": "markdown",
   "metadata": {
    "slideshow": {
     "slide_type": "slide"
    }
   },
   "source": [
    "## 3. À chaque situation son protocole"
   ]
  },
  {
   "cell_type": "markdown",
   "metadata": {
    "slideshow": {
     "slide_type": "fragment"
    }
   },
   "source": [
    "Ces protocoles font partie des techniques de **commutation de paquets** en opposition à la **communication de circuits** utilisée dans les communications téléphoniques."
   ]
  },
  {
   "cell_type": "markdown",
   "metadata": {
    "slideshow": {
     "slide_type": "fragment"
    }
   },
   "source": [
    "Le protocole UDP (User Datagram Protocol) peut également être encapsulé dans IP. Il est plus simple à mettre en pratique car il ne propose pas de système d'accusé de réception."
   ]
  },
  {
   "cell_type": "markdown",
   "metadata": {
    "slideshow": {
     "slide_type": "fragment"
    }
   },
   "source": [
    "- Établir les avantages et les inconvénients des protocoles TCP et UDP.\n",
    "- Citer plusieurs situations où chacun de ces protocoles sera utilisé de manière préférentiel."
   ]
  }
 ],
 "metadata": {
  "celltoolbar": "Slideshow",
  "kernelspec": {
   "display_name": "Python 3",
   "language": "python",
   "name": "python3"
  },
  "language_info": {
   "codemirror_mode": {
    "name": "ipython",
    "version": 3
   },
   "file_extension": ".py",
   "mimetype": "text/x-python",
   "name": "python",
   "nbconvert_exporter": "python",
   "pygments_lexer": "ipython3",
   "version": "3.8.1"
  }
 },
 "nbformat": 4,
 "nbformat_minor": 4
}
