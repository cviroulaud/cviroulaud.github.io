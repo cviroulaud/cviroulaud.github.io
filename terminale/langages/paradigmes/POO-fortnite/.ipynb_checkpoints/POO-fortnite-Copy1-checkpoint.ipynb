{
 "cells": [
  {
   "cell_type": "markdown",
   "metadata": {
    "slideshow": {
     "slide_type": "slide"
    }
   },
   "source": [
    "<link rel=\"stylesheet\" href=\"frise.css\"/>\n",
    "<div class=\"conteneur droite\">\n",
    "      <h2 class=\"dated\">2017</h2>\n",
    "    <div class=\"imgd\"><img class=\"imgfrise\" src=\"ressources/joueur.jpg\"></div>\n",
    "        <div class=\"texted\">Lorem ipsum. blalb ada l frla efrffzd l dél féef félf 'lf f\" 'f'lf f f fléf fféf'f\"'f\"f\"\"f\"' f \"f f\"f\"'f\"'f f\"'f .</div>\n",
    "  </div>"
   ]
  },
  {
   "cell_type": "markdown",
   "metadata": {
    "slideshow": {
     "slide_type": "fragment"
    }
   },
   "source": [
    "<div class=\"conteneur\">    \n",
    "        <div class=\"texteg\">Lorem ipsum. blalb ada l frla efrffzd l dél féef félf 'lf f\" 'f'lf f f fléf fféf'f\"'f\"f\"\"f\"' f \"f f\"f\"'f\"'f f\"'f .</div>\n",
    "    <div class=\"imgg\"><img class=\"imgfrise\" src=\"ressources/joueur.jpg\"></div>\n",
    "    <h2 class=\"dateg\">2017</h2>\n",
    "  </div>"
   ]
  },
  {
   "cell_type": "markdown",
   "metadata": {
    "slideshow": {
     "slide_type": "fragment"
    }
   },
   "source": [
    "<link rel=\"stylesheet\" href=\"frise.css\"/>\n",
    "<div class=\"conteneur droite\">\n",
    "      <h2 class=\"dated\">2017</h2>\n",
    "    <div class=\"imgd\"><img class=\"imgfrise\" src=\"ressources/joueur.jpg\"></div>\n",
    "        <div class=\"texted\">Lorem ipsum. blalb ada l frla efrffzd l dél féef félf 'lf f\" 'f'lf f f fléf fféf'f\"'f\"f\"\"f\"' f \"f f\"f\"'f\"'f f\"'f .</div>\n",
    "  </div>"
   ]
  },
  {
   "cell_type": "markdown",
   "metadata": {
    "slideshow": {
     "slide_type": "fragment"
    }
   },
   "source": [
    "<div class=\"conteneur\">    \n",
    "        <div class=\"texteg\">Lorem ipsum. blalb ada l frla efrffzd l dél féef félf 'lf f\" 'f'lf f f fléf fféf'f\"'f\"f\"\"f\"' f \"f f\"f\"'f\"'f f\"'f .</div>\n",
    "    <div class=\"imgg\"><img class=\"imgfrise\" src=\"ressources/joueur.jpg\"></div>\n",
    "    <h2 class=\"dateg\">2017</h2>\n",
    "  </div>"
   ]
  },
  {
   "cell_type": "markdown",
   "metadata": {
    "slideshow": {
     "slide_type": "slide"
    }
   },
   "source": [
    "## 3.1 Décrire une classe\n",
    "\n",
    "<div>\n",
    "<table class=\"classe\">\n",
    "    <tr>\n",
    "        <td class=\"objet\">Combattant</td>\n",
    "    </tr>\n",
    "</table>\n",
    "<img src=\"ressources/joueur.jpg\" width=200px>\n",
    "</div>"
   ]
  },
  {
   "cell_type": "code",
   "execution_count": null,
   "metadata": {
    "slideshow": {
     "slide_type": "fragment"
    }
   },
   "outputs": [],
   "source": [
    "class Combattant"
   ]
  },
  {
   "cell_type": "markdown",
   "metadata": {
    "slideshow": {
     "slide_type": "slide"
    }
   },
   "source": [
    "### Ajouter les attributs\n",
    "<div>\n",
    "<table class=\"classe\">\n",
    "    <tr>\n",
    "        <td class=\"objet\">Combattant</td>\n",
    "    </tr>\n",
    "    <tr>\n",
    "        <td class=\"objet\">outfit<br>glider<br>contrail</td>\n",
    "    </tr>\n",
    "</table>\n",
    "<img src=\"ressources/joueur.jpg\" width=200px>\n",
    "</div>"
   ]
  }
 ],
 "metadata": {
  "celltoolbar": "Slideshow",
  "kernelspec": {
   "display_name": "Python 3",
   "language": "python",
   "name": "python3"
  },
  "language_info": {
   "codemirror_mode": {
    "name": "ipython",
    "version": 3
   },
   "file_extension": ".py",
   "mimetype": "text/x-python",
   "name": "python",
   "nbconvert_exporter": "python",
   "pygments_lexer": "ipython3",
   "version": "3.8.1"
  },
  "toc": {
   "base_numbering": 1,
   "nav_menu": {
    "height": "71px",
    "width": "399px"
   },
   "number_sections": true,
   "sideBar": true,
   "skip_h1_title": false,
   "title_cell": "Table of Contents",
   "title_sidebar": "Contents",
   "toc_cell": false,
   "toc_position": {},
   "toc_section_display": true,
   "toc_window_display": false
  }
 },
 "nbformat": 4,
 "nbformat_minor": 4
}
