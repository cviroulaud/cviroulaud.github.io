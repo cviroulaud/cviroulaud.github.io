{
 "cells": [
  {
   "cell_type": "markdown",
   "metadata": {
    "slideshow": {
     "slide_type": "slide"
    }
   },
   "source": [
    "# Portes logiques"
   ]
  },
  {
   "cell_type": "markdown",
   "metadata": {
    "slideshow": {
     "slide_type": "slide"
    }
   },
   "source": [
    "## 1. Problématique\n",
    "<div align=\"middle\">\n",
    "<img src=\"ressources/loi-moore.png\" width=400px></div>"
   ]
  },
  {
   "cell_type": "markdown",
   "metadata": {
    "slideshow": {
     "slide_type": "fragment"
    }
   },
   "source": [
    "### Comment utiliser les propriétés d'un transistor pour effectuer des calculs?"
   ]
  },
  {
   "cell_type": "markdown",
   "metadata": {
    "slideshow": {
     "slide_type": "slide"
    }
   },
   "source": [
    "## Retour historique\n",
    "<div align=\"middle\">\n",
    "<a href=\"https://cdn.knightlab.com/libs/timeline3/latest/embed/index.html?source=1U8-OPDvvQ2zGIC_ba_hFrJhQkqHZDaqi4I4Yyln07wE&font=Default&lang=fr&initial_zoom=2&height=650\" target=_blank><img src=\"../../../retour.png\"></a></div>"
   ]
  },
  {
   "cell_type": "markdown",
   "metadata": {
    "slideshow": {
     "slide_type": "slide"
    }
   },
   "source": [
    "## 2. Portes logiques"
   ]
  },
  {
   "cell_type": "markdown",
   "metadata": {
    "slideshow": {
     "slide_type": "fragment"
    }
   },
   "source": [
    "### Le transistor\n",
    "<img src=\"ressources/transistor-schema.png\" width=300px>"
   ]
  },
  {
   "cell_type": "markdown",
   "metadata": {
    "slideshow": {
     "slide_type": "fragment"
    }
   },
   "source": [
    "Le fonctionnement d'un transistor implique une logique binaire."
   ]
  },
  {
   "cell_type": "markdown",
   "metadata": {
    "slideshow": {
     "slide_type": "slide"
    }
   },
   "source": [
    "### Première porte logique\n",
    "<table>\n",
    "    <tr>\n",
    "        <td>Entrée</td>\n",
    "        <td>Sortie</td>\n",
    "    </tr>\n",
    "    <tr>\n",
    "        <td>1</td>\n",
    "        <td>0</td>\n",
    "    </tr>\n",
    "    <tr>\n",
    "        <td>0</td>\n",
    "        <td>1</td>\n",
    "    </tr>\n",
    "</table>"
   ]
  },
  {
   "cell_type": "markdown",
   "metadata": {
    "slideshow": {
     "slide_type": "slide"
    }
   },
   "source": [
    "<table>\n",
    "    <tr>\n",
    "        <td><img src=\"ressources/not-us.png\" width=300px></td>\n",
    "        <td><img src=\"ressources/not-eu.png\" width=300px></td>\n",
    "    </tr>\n",
    "    <tr>\n",
    "        <td>symbole us</td>\n",
    "        <td>symbole européen</td>\n",
    "    </tr>\n",
    "</table>"
   ]
  },
  {
   "cell_type": "markdown",
   "metadata": {
    "slideshow": {
     "slide_type": "slide"
    }
   },
   "source": [
    "## 3. Combinaisons de transistors"
   ]
  },
  {
   "cell_type": "markdown",
   "metadata": {
    "slideshow": {
     "slide_type": "fragment"
    }
   },
   "source": [
    "### Activité:\n",
    "- Se mettre par groupe de 2.\n",
    "- Chacun choisit une combinaison et établit la table logique.\n",
    "- La présenter à l'autre élément du groupe.\n",
    "<table>\n",
    "    <tr>\n",
    "        <td><img src=\"ressources/schema-nand.png\" width=130px></td>\n",
    "        <td><img src=\"ressources/schema-nor.png\" width=260px></td>\n",
    "        <td>\n",
    "            <table>\n",
    "                <tr>\n",
    "                    <td>E1</td>\n",
    "                    <td>E2</td>\n",
    "                    <td>S</td>\n",
    "                </tr>\n",
    "                <tr>\n",
    "                    <td>0</td>\n",
    "                    <td>0</td>\n",
    "                    <td>...</td>\n",
    "                </tr>\n",
    "                <tr>\n",
    "                    <td>0</td>\n",
    "                    <td>1</td>\n",
    "                    <td>...</td>\n",
    "                </tr>\n",
    "                        <tr>\n",
    "                    <td>1</td>\n",
    "                    <td>0</td>\n",
    "                    <td>...</td>\n",
    "                </tr>\n",
    "                        <tr>\n",
    "                    <td>1</td>\n",
    "                    <td>1</td>\n",
    "                    <td>...</td>\n",
    "                </tr>\n",
    "            </table>\n",
    "        </td>\n",
    "    </tr>\n",
    "</table>"
   ]
  },
  {
   "cell_type": "markdown",
   "metadata": {
    "slideshow": {
     "slide_type": "slide"
    }
   },
   "source": [
    "###### Correction:"
   ]
  },
  {
   "cell_type": "markdown",
   "metadata": {
    "slideshow": {
     "slide_type": "slide"
    }
   },
   "source": [
    "### 3.1 Porte NAND\n",
    "<img src=\"ressources/schema-nand.png\" width=130px style=\"float:left;margin:10px;\">\n",
    "<table>\n",
    "    <tr>\n",
    "        <td>E1</td>\n",
    "        <td>E2</td>\n",
    "        <td>S</td>\n",
    "    </tr>\n",
    "    <tr>\n",
    "        <td>0</td>\n",
    "        <td>0</td>\n",
    "        <td>1</td>\n",
    "    </tr>\n",
    "    <tr>\n",
    "        <td>0</td>\n",
    "        <td>1</td>\n",
    "        <td>1</td>\n",
    "    </tr>\n",
    "            <tr>\n",
    "        <td>1</td>\n",
    "        <td>0</td>\n",
    "        <td>1</td>\n",
    "    </tr>\n",
    "            <tr>\n",
    "        <td>1</td>\n",
    "        <td>1</td>\n",
    "        <td>0</td>\n",
    "    </tr>\n",
    "</table>"
   ]
  },
  {
   "cell_type": "markdown",
   "metadata": {
    "slideshow": {
     "slide_type": "fragment"
    }
   },
   "source": [
    "<table>\n",
    "    <tr>\n",
    "        <td><img src=\"ressources/not-and-us.png\" width=200px></td>\n",
    "        <td><img src=\"ressources/not-and-eu.png\" width=200px></td>\n",
    "    </tr>\n",
    "</table>\n",
    "\n",
    "#### Porte NOT AND ou NON ET"
   ]
  },
  {
   "cell_type": "markdown",
   "metadata": {
    "slideshow": {
     "slide_type": "slide"
    }
   },
   "source": [
    "###### Correction:\n",
    "### 3.2 Porte NOR\n",
    "<img src=\"ressources/schema-nor.png\" width=260px style=\"float:left;margin:10px;\">\n",
    "<table>\n",
    "    <tr>\n",
    "        <td>E1</td>\n",
    "        <td>E2</td>\n",
    "        <td>S</td>\n",
    "    </tr>\n",
    "    <tr>\n",
    "        <td>0</td>\n",
    "        <td>0</td>\n",
    "        <td>1</td>\n",
    "    </tr>\n",
    "    <tr>\n",
    "        <td>0</td>\n",
    "        <td>1</td>\n",
    "        <td>0</td>\n",
    "    </tr>\n",
    "            <tr>\n",
    "        <td>1</td>\n",
    "        <td>0</td>\n",
    "        <td>0</td>\n",
    "    </tr>\n",
    "            <tr>\n",
    "        <td>1</td>\n",
    "        <td>1</td>\n",
    "        <td>0</td>\n",
    "    </tr>\n",
    "</table>"
   ]
  },
  {
   "cell_type": "markdown",
   "metadata": {
    "slideshow": {
     "slide_type": "fragment"
    }
   },
   "source": [
    "<table>\n",
    "    <tr>\n",
    "        <td><img src=\"ressources/not-or-us.png\" width=200px></td>\n",
    "        <td><img src=\"ressources/not-or-eu.png\" width=200px></td>\n",
    "    </tr>\n",
    "</table>\n",
    "\n",
    "#### Porte NOT OR ou NON OU"
   ]
  },
  {
   "cell_type": "markdown",
   "metadata": {
    "slideshow": {
     "slide_type": "slide"
    }
   },
   "source": [
    "## 4. Combinaisons de portes logiques"
   ]
  },
  {
   "cell_type": "markdown",
   "metadata": {
    "slideshow": {
     "slide_type": "fragment"
    }
   },
   "source": [
    "### 4.1 Encore une fonction NOT\n",
    "<img src=\"ressources/not-from-nand.png\" width=200px>"
   ]
  },
  {
   "cell_type": "markdown",
   "metadata": {
    "slideshow": {
     "slide_type": "slide"
    }
   },
   "source": [
    "### Activité: Mêmes instructions que précédemment mais en combinant des fonctions logiques\n",
    "<table>\n",
    "    <tr>\n",
    "        <td><img src=\"ressources/and-from-nor.png\" width=260px></td>\n",
    "        <td><img src=\"ressources/or-from-nand.png\" width=260px></td>\n",
    "        <td>\n",
    "            <table>\n",
    "                <tr>\n",
    "                    <td>A</td>\n",
    "                    <td>B</td>\n",
    "                    <td>Q</td>\n",
    "                </tr>\n",
    "                <tr>\n",
    "                    <td>0</td>\n",
    "                    <td>0</td>\n",
    "                    <td>...</td>\n",
    "                </tr>\n",
    "                <tr>\n",
    "                    <td>0</td>\n",
    "                    <td>1</td>\n",
    "                    <td>...</td>\n",
    "                </tr>\n",
    "                        <tr>\n",
    "                    <td>1</td>\n",
    "                    <td>0</td>\n",
    "                    <td>...</td>\n",
    "                </tr>\n",
    "                        <tr>\n",
    "                    <td>1</td>\n",
    "                    <td>1</td>\n",
    "                    <td>...</td>\n",
    "                </tr>\n",
    "            </table>\n",
    "        </td>\n",
    "    </tr>\n",
    "</table>"
   ]
  },
  {
   "cell_type": "markdown",
   "metadata": {
    "slideshow": {
     "slide_type": "slide"
    }
   },
   "source": [
    "###### Correction:"
   ]
  },
  {
   "cell_type": "markdown",
   "metadata": {
    "slideshow": {
     "slide_type": "slide"
    }
   },
   "source": [
    "### 4.2 Porte AND\n",
    "<img src=\"ressources/and-from-nor.png\" width=260px style=\"float:left;margin:10px;\">\n",
    "<table>\n",
    "    <tr>\n",
    "        <td>A</td>\n",
    "        <td>B</td>\n",
    "        <td>Q</td>\n",
    "    </tr>\n",
    "    <tr>\n",
    "        <td>0</td>\n",
    "        <td>0</td>\n",
    "        <td>0</td>\n",
    "    </tr>\n",
    "    <tr>\n",
    "        <td>0</td>\n",
    "        <td>1</td>\n",
    "        <td>0</td>\n",
    "    </tr>\n",
    "            <tr>\n",
    "        <td>1</td>\n",
    "        <td>0</td>\n",
    "        <td>0</td>\n",
    "    </tr>\n",
    "            <tr>\n",
    "        <td>1</td>\n",
    "        <td>1</td>\n",
    "        <td>1</td>\n",
    "    </tr>\n",
    "</table>"
   ]
  },
  {
   "cell_type": "markdown",
   "metadata": {
    "slideshow": {
     "slide_type": "fragment"
    }
   },
   "source": [
    "<table>\n",
    "    <tr>\n",
    "        <td><img src=\"ressources/and-us.png\" width=200px></td>\n",
    "        <td><img src=\"ressources/and-eu.png\" width=200px></td>\n",
    "    </tr>\n",
    "</table>\n",
    "\n",
    "#### Porte AND ou ET"
   ]
  },
  {
   "cell_type": "markdown",
   "metadata": {
    "slideshow": {
     "slide_type": "slide"
    }
   },
   "source": [
    "### 4.3 Porte OR\n",
    "<img src=\"ressources/or-from-nand.png\" width=260px style=\"float:left;margin:10px;\">\n",
    "<table>\n",
    "    <tr>\n",
    "        <td>A</td>\n",
    "        <td>B</td>\n",
    "        <td>Q</td>\n",
    "    </tr>\n",
    "    <tr>\n",
    "        <td>0</td>\n",
    "        <td>0</td>\n",
    "        <td>0</td>\n",
    "    </tr>\n",
    "    <tr>\n",
    "        <td>0</td>\n",
    "        <td>1</td>\n",
    "        <td>1</td>\n",
    "    </tr>\n",
    "            <tr>\n",
    "        <td>1</td>\n",
    "        <td>0</td>\n",
    "        <td>1</td>\n",
    "    </tr>\n",
    "            <tr>\n",
    "        <td>1</td>\n",
    "        <td>1</td>\n",
    "        <td>1</td>\n",
    "    </tr>\n",
    "</table>"
   ]
  },
  {
   "cell_type": "markdown",
   "metadata": {
    "slideshow": {
     "slide_type": "fragment"
    }
   },
   "source": [
    "<table>\n",
    "    <tr>\n",
    "        <td><img src=\"ressources/or-us.png\" width=200px></td>\n",
    "        <td><img src=\"ressources/or-eu.png\" width=200px></td>\n",
    "    </tr>\n",
    "</table>\n",
    "\n",
    "#### Porte OR ou OU"
   ]
  }
 ],
 "metadata": {
  "celltoolbar": "Slideshow",
  "kernelspec": {
   "display_name": "Python 3",
   "language": "python",
   "name": "python3"
  },
  "language_info": {
   "codemirror_mode": {
    "name": "ipython",
    "version": 3
   },
   "file_extension": ".py",
   "mimetype": "text/x-python",
   "name": "python",
   "nbconvert_exporter": "python",
   "pygments_lexer": "ipython3",
   "version": "3.8.1"
  }
 },
 "nbformat": 4,
 "nbformat_minor": 4
}
