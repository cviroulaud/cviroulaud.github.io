{
 "cells": [
  {
   "cell_type": "markdown",
   "metadata": {
    "slideshow": {
     "slide_type": "slide"
    }
   },
   "source": [
    "# Les dictionnaires"
   ]
  },
  {
   "cell_type": "markdown",
   "metadata": {
    "slideshow": {
     "slide_type": "slide"
    }
   },
   "source": [
    "## 1. Problématique\n",
    "Stocker les informations de véhicules (marque, modèle, kilométrage, date de première immatriculation...)."
   ]
  },
  {
   "cell_type": "markdown",
   "metadata": {
    "slideshow": {
     "slide_type": "fragment"
    }
   },
   "source": [
    "<div align=\"middle\"><h3>Comment structurer des données hétérogènes?</h3></div>"
   ]
  },
  {
   "cell_type": "markdown",
   "metadata": {
    "slideshow": {
     "slide_type": "slide"
    }
   },
   "source": [
    "## 2. Premières approches"
   ]
  },
  {
   "cell_type": "code",
   "execution_count": null,
   "metadata": {
    "slideshow": {
     "slide_type": "fragment"
    }
   },
   "outputs": [],
   "source": [
    "marques = [\"Renault\", \"Renault\", \"Mercedes\", \"Peugeot\"]\n",
    "modeles = [\"Twingo\", \"Trafic\", \"Classe A\", \"1007\"]\n",
    "kilometrages = [23410, 100230, 45000, 34001]\n",
    "immatriculation = [\"AA-123-AA\", \"AZ-34-DE\", \"AA-145-JU\", \"BB-156-TR\"]\n",
    "premiere_immat = [\"2010-10\", \"2007-05\", \"2019-06\", \"2018-01\"]\n",
    "dates_vidanges = [\"2020-01\", \"2019-12\", \"2019-06\", \"2020-10\"]"
   ]
  },
  {
   "cell_type": "code",
   "execution_count": null,
   "metadata": {
    "slideshow": {
     "slide_type": "fragment"
    }
   },
   "outputs": [],
   "source": [
    "vehicule1 = [\"Renault\", \"Twingo\", 23410, \"AA-123-AA\", \"2010-10\", \"2020-01\"]\n",
    "vehicule3 = [\"Mercedes\", \"Clase A\", 45000, \"AA-145-JU\", \"2019-06\", \"2019-06\"]"
   ]
  },
  {
   "cell_type": "markdown",
   "metadata": {
    "slideshow": {
     "slide_type": "slide"
    }
   },
   "source": [
    "#### Activité 1\n",
    "Déterminer les défauts des approches présentées."
   ]
  },
  {
   "cell_type": "code",
   "execution_count": null,
   "metadata": {
    "slideshow": {
     "slide_type": "slide"
    }
   },
   "outputs": [],
   "source": [
    "marques = [\"Renault\", \"Renault\", \"Mercedes\", \"Peugeot\"]\n",
    "modeles = [\"Twingo\", \"Trafic\", \"Classe A\", \"1007\"]\n",
    "kilometrages = [23410, 100230, 45000, 34001]\n",
    "immatriculation = [\"AA-123-AA\", \"AZ-34-DE\", \"AA-145-JU\", \"BB-156-TR\"]\n",
    "premiere_immat = [\"2010-10\", \"2007-05\", \"2019-06\", \"2018-01\"]\n",
    "dates_vidanges = [\"2020-01\", \"2019-12\", \"2019-06\", \"2020-10\"]"
   ]
  },
  {
   "cell_type": "markdown",
   "metadata": {
    "slideshow": {
     "slide_type": "-"
    }
   },
   "source": [
    "- Modèle 1: difficile à maintenir"
   ]
  },
  {
   "cell_type": "code",
   "execution_count": null,
   "metadata": {
    "slideshow": {
     "slide_type": "slide"
    }
   },
   "outputs": [],
   "source": [
    "vehicule1 = [\"Renault\", \"Twingo\", 23410, \"AA-123-AA\", \"2010-10\", \"2020-01\"]\n",
    "vehicule3 = [\"Mercedes\", \"Clase A\", 45000, \"AA-145-JU\", \"2019-06\", \"2019-06\"]"
   ]
  },
  {
   "cell_type": "markdown",
   "metadata": {
    "slideshow": {
     "slide_type": "-"
    }
   },
   "source": [
    "- Modèle 2: \n",
    "    - risque de mélanger les données (exemple: dates)\n",
    "    - même s'il est possible de mélanger les types de données, il est conseillé de stocker des données homogènes dans un tableau."
   ]
  },
  {
   "cell_type": "markdown",
   "metadata": {
    "slideshow": {
     "slide_type": "fragment"
    }
   },
   "source": [
    "Pour les deux modèles, que se passe-t-il s'il manque une information?"
   ]
  },
  {
   "cell_type": "markdown",
   "metadata": {
    "slideshow": {
     "slide_type": "notes"
    }
   },
   "source": [
    "penser à laisser un élément vide"
   ]
  },
  {
   "cell_type": "markdown",
   "metadata": {
    "slideshow": {
     "slide_type": "slide"
    }
   },
   "source": [
    "## 3. Le dictionnaire\n",
    "### 3.1 Une nouvelle structure\n",
    "Un dictionnaire associe chaque **valeur** à une **clé**. Chaque clé peut être un *string*, un *entier* voire un *tuple*, c'est à dire un type *non-mutable*."
   ]
  },
  {
   "cell_type": "code",
   "execution_count": 1,
   "metadata": {
    "slideshow": {
     "slide_type": "fragment"
    }
   },
   "outputs": [],
   "source": [
    "# On crée un dictionnaire avec des accolades ou le mot-clé dict()\n",
    "vehicule1 = {\"marque\": \"Renault\", \"modele\": \"Twingo\", \"kilometrages\": 23410, \"immatriculation\": \"AA-123-AA\", \"premiere_imat\": \"2010-10\", \n",
    "\"date_vidange\": \"2020-01\"}"
   ]
  },
  {
   "cell_type": "code",
   "execution_count": 13,
   "metadata": {
    "slideshow": {
     "slide_type": "fragment"
    }
   },
   "outputs": [],
   "source": [
    "# présentation plus lisible\n",
    "vehicule1 = {\"marque\": \"Renault\", \n",
    "            \"modele\": \"Twingo\", \n",
    "            \"kilometrage\": 23410, \n",
    "            \"immatriculation\": \"AA-123-AA\", \n",
    "            \"premiere_imat\": \"2010-10\", \n",
    "            \"date_vidange\": \"2020-01\"}"
   ]
  },
  {
   "cell_type": "markdown",
   "metadata": {
    "slideshow": {
     "slide_type": "slide"
    }
   },
   "source": [
    "### 3.2 Modifier un dictionnaire"
   ]
  },
  {
   "cell_type": "code",
   "execution_count": 3,
   "metadata": {},
   "outputs": [],
   "source": [
    "vehicule2 = {}\n",
    "vehicule3 = dict()"
   ]
  },
  {
   "cell_type": "code",
   "execution_count": 7,
   "metadata": {
    "slideshow": {
     "slide_type": "fragment"
    }
   },
   "outputs": [],
   "source": [
    "vehicule2[\"marque\"] = \"Renault\"\n",
    "vehicule2[\"modele\"] = \"Trafic\""
   ]
  },
  {
   "cell_type": "code",
   "execution_count": 8,
   "metadata": {
    "slideshow": {
     "slide_type": "fragment"
    }
   },
   "outputs": [
    {
     "data": {
      "text/plain": [
       "{'marque': 'Renault', 'modele': 'Trafic'}"
      ]
     },
     "execution_count": 8,
     "metadata": {},
     "output_type": "execute_result"
    }
   ],
   "source": [
    "vehicule2"
   ]
  },
  {
   "cell_type": "code",
   "execution_count": 9,
   "metadata": {
    "slideshow": {
     "slide_type": "fragment"
    }
   },
   "outputs": [
    {
     "data": {
      "text/plain": [
       "'Trafic'"
      ]
     },
     "execution_count": 9,
     "metadata": {},
     "output_type": "execute_result"
    }
   ],
   "source": [
    "vehicule2[\"modele\"]"
   ]
  },
  {
   "cell_type": "markdown",
   "metadata": {
    "slideshow": {
     "slide_type": "slide"
    }
   },
   "source": [
    "#### Activité 2\n",
    "- Créer le dictionnaire *vehicule2* en prenant modèle sur le code de vehicule1.\n",
    "- Afficher l'immatriculation du vehicule2 dans la sortie console.\n",
    "- Créer le dictionnaire vide vehicule3.\n",
    "- Ajouter les uns après les autres les couples clé/valeur dans le dictionnaire vehicule3.\n",
    "- Modifier le kilométrage du vehicule3."
   ]
  },
  {
   "cell_type": "code",
   "execution_count": 10,
   "metadata": {
    "slideshow": {
     "slide_type": "slide"
    }
   },
   "outputs": [],
   "source": [
    "vehicule2 = {\"marque\": \"Renault\", \n",
    "            \"modele\": \"Trafic\", \n",
    "            \"kilometrage\": 100230, \n",
    "            \"immatriculation\": \"AZ-34-DE\", \n",
    "            \"premiere_imat\": \"2007-05\", \n",
    "            \"date_vidange\": \"2019-12\"}"
   ]
  },
  {
   "cell_type": "code",
   "execution_count": 11,
   "metadata": {
    "slideshow": {
     "slide_type": "fragment"
    }
   },
   "outputs": [
    {
     "data": {
      "text/plain": [
       "'AZ-34-DE'"
      ]
     },
     "execution_count": 11,
     "metadata": {},
     "output_type": "execute_result"
    }
   ],
   "source": [
    "vehicule2[\"immatriculation\"]"
   ]
  },
  {
   "cell_type": "code",
   "execution_count": 12,
   "metadata": {
    "slideshow": {
     "slide_type": "slide"
    }
   },
   "outputs": [],
   "source": [
    "vehicule3 = {}"
   ]
  },
  {
   "cell_type": "code",
   "execution_count": 18,
   "metadata": {
    "slideshow": {
     "slide_type": "fragment"
    }
   },
   "outputs": [],
   "source": [
    "vehicule3[\"marque\"] = \"Mercedes\"\n",
    "vehicule3[\"modele\"] = \"Classe A\"\n",
    "vehicule3[\"kilometrage\"] = 45000\n",
    "vehicule3[\"immatriculation\"] = \"AA-145-JU\"\n",
    "vehicule3[\"premiere_imat\"] = \"2019-06\"\n",
    "vehicule3[\"date_vidange\"] = \"2019-06\""
   ]
  },
  {
   "cell_type": "code",
   "execution_count": 19,
   "metadata": {
    "slideshow": {
     "slide_type": "fragment"
    }
   },
   "outputs": [
    {
     "data": {
      "text/plain": [
       "45000"
      ]
     },
     "execution_count": 19,
     "metadata": {},
     "output_type": "execute_result"
    }
   ],
   "source": [
    "vehicule3[\"kilometrage\"]"
   ]
  },
  {
   "cell_type": "code",
   "execution_count": 15,
   "metadata": {
    "slideshow": {
     "slide_type": "fragment"
    }
   },
   "outputs": [],
   "source": [
    "vehicule3[\"kilometrage\"] = 50000"
   ]
  },
  {
   "cell_type": "code",
   "execution_count": 16,
   "metadata": {
    "slideshow": {
     "slide_type": "fragment"
    }
   },
   "outputs": [
    {
     "data": {
      "text/plain": [
       "50000"
      ]
     },
     "execution_count": 16,
     "metadata": {},
     "output_type": "execute_result"
    }
   ],
   "source": [
    "vehicule3[\"kilometrage\"]"
   ]
  },
  {
   "cell_type": "markdown",
   "metadata": {
    "slideshow": {
     "slide_type": "slide"
    }
   },
   "source": [
    "Que se passe-t-il si la clé n'existe pas?"
   ]
  },
  {
   "cell_type": "code",
   "execution_count": 23,
   "metadata": {
    "slideshow": {
     "slide_type": "fragment"
    }
   },
   "outputs": [
    {
     "ename": "KeyError",
     "evalue": "'accident'",
     "output_type": "error",
     "traceback": [
      "\u001b[0;31m---------------------------------------------------------------------------\u001b[0m",
      "\u001b[0;31mKeyError\u001b[0m                                  Traceback (most recent call last)",
      "\u001b[0;32m<ipython-input-23-eb96497ab381>\u001b[0m in \u001b[0;36m<module>\u001b[0;34m\u001b[0m\n\u001b[0;32m----> 1\u001b[0;31m \u001b[0mvehicule3\u001b[0m\u001b[0;34m[\u001b[0m\u001b[0;34m\"accident\"\u001b[0m\u001b[0;34m]\u001b[0m\u001b[0;34m\u001b[0m\u001b[0;34m\u001b[0m\u001b[0m\n\u001b[0m",
      "\u001b[0;31mKeyError\u001b[0m: 'accident'"
     ]
    }
   ],
   "source": [
    "vehicule3[\"accident\"]"
   ]
  },
  {
   "cell_type": "markdown",
   "metadata": {
    "slideshow": {
     "slide_type": "slide"
    }
   },
   "source": [
    "### 3.3 Itérer sur un dictionnaire"
   ]
  },
  {
   "cell_type": "code",
   "execution_count": 20,
   "metadata": {
    "slideshow": {
     "slide_type": "fragment"
    }
   },
   "outputs": [
    {
     "name": "stdout",
     "output_type": "stream",
     "text": [
      "marque\n",
      "modele\n",
      "kilometrage\n",
      "immatriculation\n",
      "premiere_imat\n",
      "date_vidange\n"
     ]
    }
   ],
   "source": [
    "for cle in vehicule1.keys():\n",
    "    print(cle)"
   ]
  },
  {
   "cell_type": "code",
   "execution_count": 21,
   "metadata": {
    "slideshow": {
     "slide_type": "slide"
    }
   },
   "outputs": [
    {
     "name": "stdout",
     "output_type": "stream",
     "text": [
      "Renault\n",
      "Twingo\n",
      "23410\n",
      "AA-123-AA\n",
      "2010-10\n",
      "2020-01\n"
     ]
    }
   ],
   "source": [
    "for val in vehicule1.values():\n",
    "    print(val)"
   ]
  },
  {
   "cell_type": "code",
   "execution_count": 22,
   "metadata": {
    "slideshow": {
     "slide_type": "slide"
    }
   },
   "outputs": [
    {
     "name": "stdout",
     "output_type": "stream",
     "text": [
      "marque Renault\n",
      "modele Twingo\n",
      "kilometrage 23410\n",
      "immatriculation AA-123-AA\n",
      "premiere_imat 2010-10\n",
      "date_vidange 2020-01\n"
     ]
    }
   ],
   "source": [
    "for cle, val in vehicule1.items():\n",
    "    print(cle, val)"
   ]
  },
  {
   "cell_type": "markdown",
   "metadata": {
    "slideshow": {
     "slide_type": "slide"
    }
   },
   "source": [
    "- Les couples clés/valeurs ne sont pas ordonnés comme pour un tableau. Il n'y a pas d'indice.\n",
    "- On accède à chaque clé en temps constant."
   ]
  }
 ],
 "metadata": {
  "celltoolbar": "Slideshow",
  "kernelspec": {
   "display_name": "Python 3",
   "language": "python",
   "name": "python3"
  },
  "language_info": {
   "codemirror_mode": {
    "name": "ipython",
    "version": 3
   },
   "file_extension": ".py",
   "mimetype": "text/x-python",
   "name": "python",
   "nbconvert_exporter": "python",
   "pygments_lexer": "ipython3",
   "version": "3.8.6"
  },
  "latex_envs": {
   "LaTeX_envs_menu_present": true,
   "autoclose": false,
   "autocomplete": true,
   "bibliofile": "biblio.bib",
   "cite_by": "apalike",
   "current_citInitial": 1,
   "eqLabelWithNumbers": true,
   "eqNumInitial": 1,
   "hotkeys": {
    "equation": "Ctrl-E",
    "itemize": "Ctrl-I"
   },
   "labels_anchors": false,
   "latex_user_defs": false,
   "report_style_numbering": true,
   "user_envs_cfg": false
  }
 },
 "nbformat": 4,
 "nbformat_minor": 4
}
