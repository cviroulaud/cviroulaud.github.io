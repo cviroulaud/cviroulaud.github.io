{
 "cells": [
  {
   "cell_type": "markdown",
   "metadata": {
    "slideshow": {
     "slide_type": "slide"
    }
   },
   "source": [
    "# Exercice 1"
   ]
  },
  {
   "cell_type": "code",
   "execution_count": null,
   "metadata": {
    "slideshow": {
     "slide_type": "-"
    }
   },
   "outputs": [],
   "source": [
    "      MOV R0,#0      //initialise le registre à 0\n",
    "      MOV R1,#100    //initialise le registre à 100\n",
    "ici:\n",
    "      CMP R1,#0      //compare R1 à 0\n",
    "      BEQ la         //si R1 est égale à 0 va au label \"la\"; sinon le programme passe à la ligne suivante\n",
    "      ADD R0,R0,R1   //aditionne R0 et R1 et stocke le résultat dans R0\n",
    "      SUB R1,R1,#1   //soustraie 1 à R1 et stocke le résultat dans R1\n",
    "      B ici          //retourne au label \"ici\": saut inconditionnel\n",
    "la:\n",
    "      HALT"
   ]
  },
  {
   "cell_type": "markdown",
   "metadata": {
    "slideshow": {
     "slide_type": "slide"
    }
   },
   "source": [
    "# Exercice 2"
   ]
  },
  {
   "cell_type": "code",
   "execution_count": null,
   "metadata": {},
   "outputs": [],
   "source": [
    "      LDR R0, x       //charge le label x dans R0\n",
    "      LDR R1, y\n",
    "      LDR R2, z\n",
    "      ADD R1,R1,#42\n",
    "      CMP R0,R1\n",
    "      BEQ egal\n",
    "      MOV R2,#2\n",
    "      B fin\n",
    "x:0                   //x, y et z sont des labels\n",
    "y:0\n",
    "z:0\n",
    "egal:\n",
    "      MOV R2,#1\n",
    "fin:\n",
    "      STR R2,z\n",
    "      HALT"
   ]
  },
  {
   "cell_type": "markdown",
   "metadata": {
    "slideshow": {
     "slide_type": "slide"
    }
   },
   "source": [
    "# Exercice 3"
   ]
  },
  {
   "cell_type": "code",
   "execution_count": null,
   "metadata": {},
   "outputs": [],
   "source": [
    "    MOV EAX, 0\n",
    "    MOV ECX, 100\n",
    "ici:\n",
    "    CPM ECX, 0\n",
    "    JE la\n",
    "    ADD EAX, ECX\n",
    "    SUB ECX, 1\n",
    "    JMP ici\n",
    "la:"
   ]
  }
 ],
 "metadata": {
  "celltoolbar": "Slideshow",
  "kernelspec": {
   "display_name": "Python 3",
   "language": "python",
   "name": "python3"
  },
  "language_info": {
   "codemirror_mode": {
    "name": "ipython",
    "version": 3
   },
   "file_extension": ".py",
   "mimetype": "text/x-python",
   "name": "python",
   "nbconvert_exporter": "python",
   "pygments_lexer": "ipython3",
   "version": "3.8.1"
  }
 },
 "nbformat": 4,
 "nbformat_minor": 4
}
