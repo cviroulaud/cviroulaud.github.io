{
 "cells": [
  {
   "cell_type": "markdown",
   "metadata": {
    "slideshow": {
     "slide_type": "slide"
    }
   },
   "source": [
    "# Structure d'internet"
   ]
  },
  {
   "cell_type": "markdown",
   "metadata": {
    "slideshow": {
     "slide_type": "fragment"
    }
   },
   "source": [
    "### Objectif: Comprendre ce qu'est internet."
   ]
  },
  {
   "cell_type": "markdown",
   "metadata": {
    "slideshow": {
     "slide_type": "fragment"
    }
   },
   "source": [
    "Des idées?"
   ]
  },
  {
   "cell_type": "markdown",
   "metadata": {
    "slideshow": {
     "slide_type": "slide"
    }
   },
   "source": [
    "## Retour historique\n",
    "<a href=\"https://cdn.knightlab.com/libs/timeline3/latest/embed/index.html?source=1Ntefbx9nggU7GLtjWxUNUtdt3h3iR1GBU0AghtnQ7Ko&font=Default&lang=fr&initial_zoom=2&height=650\" target=_blank><img src=\"../../../retour.png\"></a>"
   ]
  },
  {
   "cell_type": "markdown",
   "metadata": {
    "slideshow": {
     "slide_type": "slide"
    }
   },
   "source": [
    "## 1. Différentes topologies de réseaux\n",
    "Par groupe, proposer différentes structures permettant de mettre les ordinateurs en communication. Chaque élève représente une machine et chaque ficelle une câble de connexion. \n",
    "- Simuler la transmission d'un message d'un ordinateur à un autre dans le réseau.\n",
    "- Dégager les avantages et les inconvénients de chaque topologie."
   ]
  },
  {
   "cell_type": "markdown",
   "metadata": {
    "slideshow": {
     "slide_type": "slide"
    }
   },
   "source": [
    "### 1.1 Les topologies possibles"
   ]
  },
  {
   "cell_type": "markdown",
   "metadata": {
    "slideshow": {
     "slide_type": "slide"
    }
   },
   "source": [
    "### Topologie linéaire\n",
    "<img src=\"ressources/topo-lineaire.png\" width=300px style=\"float:left;margin:10px\">\n",
    "\n",
    "- Un ordinateur doit transmettre le message au suivant jusqu'à atteindre l'ordinateur cible.\n",
    "- <span style=\"color:green\">Faible coût de déploiement.</span>\n",
    "- <span style=\"color:red\">Si un ordinateur tombe en panne, le réseau est coupé en deux sous-réseaux.</span>\n"
   ]
  },
  {
   "cell_type": "markdown",
   "metadata": {
    "slideshow": {
     "slide_type": "slide"
    }
   },
   "source": [
    "### Topologie en anneau\n",
    "<img src=\"ressources/topo-anneau.png\" width=300px style=\"float:left;margin:10px\">\n",
    "\n",
    "- Similaire à la topologie en anneau. Le message ne circule que dans un seul sens.\n",
    "- <span style=\"color:green\">Faible coût de déploiement.</span>\n",
    "- <span style=\"color:red\">La défaillance d'un hôte rompt la structure si la communication est unidirectionnelle.</span>\n"
   ]
  },
  {
   "cell_type": "markdown",
   "metadata": {
    "slideshow": {
     "slide_type": "slide"
    }
   },
   "source": [
    "### Topologie en bus\n",
    "<img src=\"ressources/topo-bus.png\" width=300px style=\"float:left;margin:10px\">\n",
    "\n",
    "- Les machines sont reliées à un fil (**le bus**) et envoient le message sur toute la longueur pour communiquer.\n",
    "- <span style=\"color:green\">Pas de perturbation du réseau si une machine est défectueuse.</span>\n",
    "- <span style=\"color:red\">Un seul message peut circuler à la fois sur le bus.</span>\n"
   ]
  },
  {
   "cell_type": "markdown",
   "metadata": {
    "slideshow": {
     "slide_type": "slide"
    }
   },
   "source": [
    "### Topologie en étoile\n",
    "<img src=\"ressources/topo-etoile.png\" width=300px style=\"float:left;margin:10px\">\n",
    "\n",
    "- Chaque machine est reliée à l'ordinateur central qui fait office de service postal. C'est cet ordinateur qui distribue le message.\n",
    "- <span style=\"color:green\">Pas de perturbation du réseau si une machine est défectueuse.</span>\n",
    "- <span style=\"color:green\">Plusieurs messages peuvent circuler en même temps.</span>\n",
    "- <span style=\"color:red\">La défaillance du nœud central bloque le réseau.</span>\n"
   ]
  },
  {
   "cell_type": "markdown",
   "metadata": {
    "slideshow": {
     "slide_type": "slide"
    }
   },
   "source": [
    "### Topologie hiérarchique\n",
    "<img src=\"ressources/topo-hierarchique.png\" width=300px style=\"float:left;margin:10px\">\n",
    "\n",
    "- Le sommet, de haut niveau, est connectée à plusieurs nœuds de niveau inférieur, dans la hiérarchie. Chaque terminal doit s'apuyer sur l'ordinateur central.\n",
    "- <span style=\"color:red\">Si l'ordinateur \"père\" tombe en panne, le réseau est coupé en deux sous-réseaux.</span>\n"
   ]
  },
  {
   "cell_type": "markdown",
   "metadata": {
    "slideshow": {
     "slide_type": "slide"
    }
   },
   "source": [
    "### Topologie maillée\n",
    "<img src=\"ressources/topo-maillee.png\" width=300px style=\"float:left;margin:10px\">\n",
    "\n",
    "- Tous les terminaux sont reliés entre eux. L'information peut parcourir le réseau suivant des itinéraires divers.\n",
    "- <span style=\"color:green\">Même en cas de panne d'une machine le message peut être transmis.</span>\n",
    "- <span style=\"color:red\">Le nombre de liaisons nécessaires devient très élevé lorsque le nombre de terminaux croît.</span>\n"
   ]
  },
  {
   "cell_type": "markdown",
   "metadata": {
    "slideshow": {
     "slide_type": "slide"
    }
   },
   "source": [
    "### 1.2 Les topologies de l'internet"
   ]
  },
  {
   "cell_type": "markdown",
   "metadata": {
    "slideshow": {
     "slide_type": "fragment"
    }
   },
   "source": [
    "Internet est un réseau informatique mondial constitué d'un ensemble de réseaux nationaux, régionaux et privés."
   ]
  },
  {
   "cell_type": "markdown",
   "metadata": {
    "slideshow": {
     "slide_type": "fragment"
    }
   },
   "source": [
    "Les petites structures adoptent une **topologie en étoile**. Le lycée est un réseau de plus de 700 postes répartis en plusieurs étoiles. On parle de **LAN (Local Area Network)**.\n",
    "\n",
    "L'élément central est le **commutateur (ou switch)**. C'est lui qui redirige les messages entre les machines."
   ]
  },
  {
   "cell_type": "markdown",
   "metadata": {
    "slideshow": {
     "slide_type": "fragment"
    }
   },
   "source": [
    "Chaque réseau est relié aux autres par une **topologie maillée** qui forme l'internet. On parle de **GAN (Global Area Network)**.\n",
    "<img src=\"ressources/wan-lan.png\" width=200px>\n"
   ]
  },
  {
   "cell_type": "markdown",
   "metadata": {
    "slideshow": {
     "slide_type": "slide"
    }
   },
   "source": [
    "### Carte mondiale des câbles sous-marins à fibre optique\n",
    "<a href=\"https://www.submarinecablemap.com/\" target=_blank><img src=\"ressources/submarine-cable.png\" width=400px></a>"
   ]
  },
  {
   "cell_type": "markdown",
   "metadata": {
    "slideshow": {
     "slide_type": "slide"
    }
   },
   "source": [
    "## 2. Repérer une machine\n",
    "Comment envoyer le message à la bonne machine?"
   ]
  },
  {
   "cell_type": "markdown",
   "metadata": {
    "slideshow": {
     "slide_type": "fragment"
    }
   },
   "source": [
    "#### Réaliser les trois activités de la fiche dans n'importe quel ordre. L'activité 2.3 ne peut accueillir que quatre personnes en même temps. Il faut donc veiller à effectuer des rotations fluides."
   ]
  },
  {
   "cell_type": "markdown",
   "metadata": {
    "slideshow": {
     "slide_type": "slide"
    }
   },
   "source": [
    "## 2. Repérer une machine\n",
    "Chaque machine du réseau est repérée par son **IP (Internet Protocol)**."
   ]
  },
  {
   "cell_type": "markdown",
   "metadata": {
    "slideshow": {
     "slide_type": "fragment"
    }
   },
   "source": [
    "L'expansion très rapide d'internet a soulevé des problèmes structurels. Outre les ordinateurs, nous trouvons aujourd'hui de nombreux appareils qui se connectent au réseau et les adresses IPv4 ne suffisent plus."
   ]
  },
  {
   "cell_type": "markdown",
   "metadata": {
    "slideshow": {
     "slide_type": "fragment"
    }
   },
   "source": [
    "Les autorités de régulation ont mis en place plusieurs stratagèmes:\n",
    "\n",
    "- réserver des adresses aux réseaux internes (192.168.X.X ou 172.16.X.X),\n",
    "- donner l'accès à ce réseau depuis l'extérieur depuis une unique adresse internet,\n",
    "- mettre en place la version 6 du protocole IP."
   ]
  }
 ],
 "metadata": {
  "celltoolbar": "Slideshow",
  "kernelspec": {
   "display_name": "Python 3",
   "language": "python",
   "name": "python3"
  },
  "language_info": {
   "codemirror_mode": {
    "name": "ipython",
    "version": 3
   },
   "file_extension": ".py",
   "mimetype": "text/x-python",
   "name": "python",
   "nbconvert_exporter": "python",
   "pygments_lexer": "ipython3",
   "version": "3.8.1"
  }
 },
 "nbformat": 4,
 "nbformat_minor": 4
}
