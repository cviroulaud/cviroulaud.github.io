{
 "cells": [
  {
   "cell_type": "markdown",
   "metadata": {
    "slideshow": {
     "slide_type": "slide"
    }
   },
   "source": [
    "# Stéganographie"
   ]
  },
  {
   "cell_type": "markdown",
   "metadata": {
    "slideshow": {
     "slide_type": "slide"
    }
   },
   "source": [
    "## 1. Problématique\n",
    "<div align=\"middle\"><img src=\"ressources/stegano.jpg\" width=300px></div>"
   ]
  },
  {
   "cell_type": "markdown",
   "metadata": {
    "slideshow": {
     "slide_type": "fragment"
    }
   },
   "source": [
    "<div align=\"middle\"><h3>Comment les informations d'une image sont-elles codées dans la mémoire de l'ordinateur?</h3></div>"
   ]
  },
  {
   "cell_type": "markdown",
   "metadata": {
    "slideshow": {
     "slide_type": "slide"
    }
   },
   "source": [
    "## 2. Notation binaire\n",
    "\n",
    "<div align=\"middle\"><h3>Un bit est la plus petite unité de stockage. Il ne peut contenir qu'une valeur parmi 0 ou 1.</h3></div>"
   ]
  },
  {
   "cell_type": "markdown",
   "metadata": {
    "slideshow": {
     "slide_type": "fragment"
    }
   },
   "source": [
    "Pour chaque couleur on a 256 nuances.\n",
    "<div align=\"middle\"><img src=\"ressources/degrade.png\" width=500px></div>"
   ]
  },
  {
   "cell_type": "markdown",
   "metadata": {
    "slideshow": {
     "slide_type": "fragment"
    }
   },
   "source": [
    "On a besoin de 8 bits (1 octet) pour stocker une couleur.\n",
    "<div align=\"middle\"><img src=\"ressources/degrade2.png\" width=550px></div>"
   ]
  },
  {
   "cell_type": "markdown",
   "metadata": {
    "slideshow": {
     "slide_type": "slide"
    }
   },
   "source": [
    "On peut distinguer deux groupes.\n",
    "<div align=\"middle\"><img src=\"ressources/bits.png\" width=550px></div>"
   ]
  },
  {
   "cell_type": "markdown",
   "metadata": {
    "slideshow": {
     "slide_type": "fragment"
    }
   },
   "source": [
    "#### Activité 1\n",
    "- Se rendre sur le site https://htmlcolorcodes.com/fr/ .\n",
    "- Choisir la couleur rouge (R = 255, G = 0, B = 0).\n",
    "- La comparer avec le rouge (R = 240, G = 0, B = 0).\n",
    "- Que peut-on dire des rouges compris entre 240 et 255?\n",
    "- Comparer l'écriture binaire de ces couleurs."
   ]
  },
  {
   "cell_type": "markdown",
   "metadata": {
    "slideshow": {
     "slide_type": "slide"
    }
   },
   "source": [
    "<div align=\"middle\"><img src=\"ressources/degrade3.png\" width=550px></div>"
   ]
  },
  {
   "cell_type": "markdown",
   "metadata": {
    "slideshow": {
     "slide_type": "fragment"
    }
   },
   "source": [
    "- 255 = 11111111\n",
    "- 254 = 11111110\n",
    "- 253 = 11111101\n",
    "- 252 = 11111100\n",
    "- 251 = 11111011\n",
    "- 250 = 11111010\n",
    "- 249 = 11111001\n",
    "- 248 = 11111000\n",
    "- 247 = 11110111\n",
    "- 246 = 11110110\n",
    "- 245 = 11110101\n",
    "- 244 = 11110100\n",
    "- 243 = 11110011\n",
    "- 242 = 11110010\n",
    "- 241 = 11110001\n",
    "- 240 = 11110000"
   ]
  },
  {
   "cell_type": "markdown",
   "metadata": {
    "slideshow": {
     "slide_type": "slide"
    }
   },
   "source": [
    "## 3. Principe de la stéganographie"
   ]
  },
  {
   "cell_type": "markdown",
   "metadata": {},
   "source": [
    "<div align=\"middle\"><img src=\"ressources/cacher.png\" width=800px></div>"
   ]
  },
  {
   "cell_type": "markdown",
   "metadata": {
    "slideshow": {
     "slide_type": "slide"
    }
   },
   "source": [
    "#### Activité 2\n",
    "- Détailler les étapes du protocole pour cacher une image secrète dans une image visible.\n",
    "- Télécharger le fichier *steganographie.zip* sur le site *https://cviroulaud.github.io*  et extraire les dossiers.\n",
    "- Ouvrir le logiciel *Spyder*.\n",
    "- Dans le dossier *cacher* ouvrir le programme *cacher-image.py* .\n",
    "- Observer le code. Quelles lignes permettent de sélectionner les bits de poids fort de l'image secrète?\n",
    "- Compléter les lignes 11 et 12 pour cacher l'image de l'éléphant dans l'image du magasin de porcelaine.\n",
    "- Observer l'image obtenue. L'éléphant est-il correctement caché?"
   ]
  },
  {
   "cell_type": "markdown",
   "metadata": {
    "slideshow": {
     "slide_type": "slide"
    }
   },
   "source": [
    "Protocole\n",
    "- Stocker les deux images\n",
    "- Pour chaque pixel\n",
    "    - garder les bits de poids fort de l'image visible\n",
    "    - garder les bits de poids fort de l'image secrète\n",
    "    - mettre les bits de poids fort de l'image secrète à la place des bits de poids faible de l'image visible\n",
    "- Enregistrer l'image obtenue"
   ]
  },
  {
   "cell_type": "code",
   "execution_count": null,
   "metadata": {
    "slideshow": {
     "slide_type": "slide"
    }
   },
   "outputs": [],
   "source": [
    "# Première étape: stocker les images\n",
    "from PIL import Image\n",
    "image_visible = Image.open(\"porcelaine.bmp\")\n",
    "image_secrete = Image.open(\"elephant.bmp\")\n",
    "\n",
    "colonne, ligne = image_visible.size\n",
    "\n",
    "# Deuxième étape: parcourir la grille pour modifier chaque pixel\n",
    "for y in range(ligne):\n",
    "    for x in range(colonne):\n",
    "        # garde les bits de poids fort de l'image visible\n",
    "        pixel_visible = image_visible.getpixel((x,y))\n",
    "        r1 = pixel_visible[0]&240\n",
    "        v1 = pixel_visible[1]&240\n",
    "        b1 = pixel_visible[2]&240\n",
    "\n",
    "        # garde les bits de poids fort de l'image secrète\n",
    "        pixel_secret = image_secrete.getpixel((x,y))\n",
    "        r2 = pixel_secret[0]>>4\n",
    "        v2 = pixel_secret[1]>>4\n",
    "        b2 = pixel_secret[2]>>4\n",
    "\n",
    "        # on replace le nouveau pixel\n",
    "        image_visible.putpixel((x,y), (r1|r2, v1|v2, b1|b2))\n",
    "\n",
    "# Troisième étape: enregistrer l'image\n",
    "image_visible.save(\"image-finale.bmp\")\n",
    "image_visible.show()"
   ]
  },
  {
   "cell_type": "markdown",
   "metadata": {
    "slideshow": {
     "slide_type": "slide"
    }
   },
   "source": [
    "<table><tr>\n",
    "<td><img src=\"ressources/porcelaine.jpg\" width=500px></td>\n",
    "<td><img src=\"ressources/image-finale.jpg\" width=500px></td>\n",
    "    </tr>\n",
    "    <tr><td style=\"text-align:center\">image originale</td><td style=\"text-align:center\">image finale</td></table>"
   ]
  },
  {
   "cell_type": "markdown",
   "metadata": {
    "slideshow": {
     "slide_type": "notes"
    }
   },
   "source": [
    "les dégradés roses et oranges sont plus \"hachés\""
   ]
  },
  {
   "cell_type": "markdown",
   "metadata": {
    "slideshow": {
     "slide_type": "slide"
    }
   },
   "source": [
    "## 4. Retrouver une image cachée\n",
    "Un fabricant de smartphone vous a envoyé la photographie du prototype de son nouvel appareil. Afin de rester discret l'image est cachée dans une autre."
   ]
  },
  {
   "cell_type": "markdown",
   "metadata": {
    "slideshow": {
     "slide_type": "fragment"
    }
   },
   "source": [
    "#### Activité 3\n",
    "- Dans le dossier *retrouver* ouvrir l'image mystère. Peut-on distinguer l'image cachée?\n",
    "- Avec *Spyder* ouvrir le programme *retrouver-image.py* .\n",
    "- Compléter la ligne 11.\n",
    "- Quel est le rôle des lignes 20 à 22?\n",
    "- Exécuter le programme pour retrouver l'image cachée."
   ]
  },
  {
   "cell_type": "code",
   "execution_count": null,
   "metadata": {
    "slideshow": {
     "slide_type": "slide"
    }
   },
   "outputs": [],
   "source": [
    "# Première étape: stocker les images\n",
    "from PIL import Image\n",
    "image_visible = Image.open(\"image-mystere.bmp\")\n",
    "\n",
    "colonne, ligne = image_visible.size\n",
    "\n",
    "# Deuxième étape: parcourir la grille pour modifier chaque pixel\n",
    "for y in range(ligne):\n",
    "    for x in range(colonne):\n",
    "        # garde les bits de poids faible de l'image visible\n",
    "        pixel_visible = image_visible.getpixel((x,y))\n",
    "        r = pixel_visible[0]<<4&255\n",
    "        v = pixel_visible[1]<<4&255\n",
    "        b = pixel_visible[2]<<4&255\n",
    "\n",
    "        # on replace le nouveau pixel\n",
    "        image_visible.putpixel((x,y), (r, v, b))\n",
    "\n",
    "# Troisième étape: enregistrer l'image\n",
    "image_visible.save(\"image-retrouvee.bmp\")\n",
    "image_visible.show()"
   ]
  },
  {
   "cell_type": "markdown",
   "metadata": {
    "slideshow": {
     "slide_type": "slide"
    }
   },
   "source": [
    "<table><tr>\n",
    "<td><img src=\"ressources/image-mystere.jpg\" width=500px></td>\n",
    "<td><img src=\"ressources/image-retrouvee.jpg\" width=500px></td>\n",
    "    </tr>\n",
    "    <tr><td style=\"text-align:center\">image originale</td><td style=\"text-align:center\">image cachée</td></table>"
   ]
  },
  {
   "cell_type": "markdown",
   "metadata": {
    "slideshow": {
     "slide_type": "notes"
    }
   },
   "source": [
    "- distingue bordure écran dans le ciel de l'image originale.\n",
    "- peut être plus précis: 2 prendre que 2 bits de poids faible\n",
    "- peut cacher autre chose qu'une image: texte, code (danger image reçue par email)"
   ]
  }
 ],
 "metadata": {
  "celltoolbar": "Slideshow",
  "kernelspec": {
   "display_name": "Python 3",
   "language": "python",
   "name": "python3"
  },
  "language_info": {
   "codemirror_mode": {
    "name": "ipython",
    "version": 3
   },
   "file_extension": ".py",
   "mimetype": "text/x-python",
   "name": "python",
   "nbconvert_exporter": "python",
   "pygments_lexer": "ipython3",
   "version": "3.8.6"
  },
  "latex_envs": {
   "LaTeX_envs_menu_present": true,
   "autoclose": false,
   "autocomplete": true,
   "bibliofile": "biblio.bib",
   "cite_by": "apalike",
   "current_citInitial": 1,
   "eqLabelWithNumbers": true,
   "eqNumInitial": 1,
   "hotkeys": {
    "equation": "Ctrl-E",
    "itemize": "Ctrl-I"
   },
   "labels_anchors": false,
   "latex_user_defs": false,
   "report_style_numbering": true,
   "user_envs_cfg": false
  }
 },
 "nbformat": 4,
 "nbformat_minor": 4
}
