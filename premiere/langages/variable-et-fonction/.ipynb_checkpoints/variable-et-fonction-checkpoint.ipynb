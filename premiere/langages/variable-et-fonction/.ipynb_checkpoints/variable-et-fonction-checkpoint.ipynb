{
 "cells": [
  {
   "cell_type": "markdown",
   "metadata": {
    "slideshow": {
     "slide_type": "slide"
    }
   },
   "source": [
    "# Portée d'une variable"
   ]
  },
  {
   "cell_type": "markdown",
   "metadata": {
    "slideshow": {
     "slide_type": "slide"
    }
   },
   "source": [
    "## 1. Problématique"
   ]
  },
  {
   "cell_type": "code",
   "execution_count": 1,
   "metadata": {
    "slideshow": {
     "slide_type": "fragment"
    }
   },
   "outputs": [
    {
     "ename": "NameError",
     "evalue": "name 'a' is not defined",
     "output_type": "error",
     "traceback": [
      "\u001b[0;31m---------------------------------------------------------------------------\u001b[0m",
      "\u001b[0;31mNameError\u001b[0m                                 Traceback (most recent call last)",
      "\u001b[0;32m<ipython-input-1-faa6ef7224da>\u001b[0m in \u001b[0;36m<module>\u001b[0;34m\u001b[0m\n\u001b[1;32m      4\u001b[0m \u001b[0mune_fonction\u001b[0m\u001b[0;34m(\u001b[0m\u001b[0;34m)\u001b[0m\u001b[0;34m\u001b[0m\u001b[0;34m\u001b[0m\u001b[0m\n\u001b[1;32m      5\u001b[0m \u001b[0;31m# erreur d'exécution\u001b[0m\u001b[0;34m\u001b[0m\u001b[0;34m\u001b[0m\u001b[0;34m\u001b[0m\u001b[0m\n\u001b[0;32m----> 6\u001b[0;31m \u001b[0mprint\u001b[0m\u001b[0;34m(\u001b[0m\u001b[0ma\u001b[0m\u001b[0;34m)\u001b[0m\u001b[0;34m\u001b[0m\u001b[0;34m\u001b[0m\u001b[0m\n\u001b[0m",
      "\u001b[0;31mNameError\u001b[0m: name 'a' is not defined"
     ]
    }
   ],
   "source": [
    "def une_fonction():\n",
    "    a = 3\n",
    "\n",
    "une_fonction()\n",
    "# erreur d'exécution\n",
    "print(a)"
   ]
  },
  {
   "cell_type": "code",
   "execution_count": 2,
   "metadata": {
    "slideshow": {
     "slide_type": "slide"
    }
   },
   "outputs": [
    {
     "name": "stdout",
     "output_type": "stream",
     "text": [
      "3\n"
     ]
    }
   ],
   "source": [
    "a = 3\n",
    "def une_fonction():\n",
    "    print(a)\n",
    "\n",
    "une_fonction()"
   ]
  },
  {
   "cell_type": "markdown",
   "metadata": {
    "slideshow": {
     "slide_type": "fragment"
    }
   },
   "source": [
    "<div align=\"middle\"><h3>Quelle est la portée d'une variable?</h3></div>"
   ]
  },
  {
   "cell_type": "markdown",
   "metadata": {
    "slideshow": {
     "slide_type": "slide"
    }
   },
   "source": [
    "## 2. Portée d'une variable\n",
    "C'est le domaine d'existence d'une variable, c'est à dire la partie du programme où elle peut être utilisée."
   ]
  },
  {
   "cell_type": "markdown",
   "metadata": {
    "slideshow": {
     "slide_type": "fragment"
    }
   },
   "source": [
    "### 2.1 Variable locale"
   ]
  },
  {
   "cell_type": "markdown",
   "metadata": {
    "slideshow": {
     "slide_type": "fragment"
    }
   },
   "source": [
    "#### Activité 1\n",
    "- Se rendre sur le site http://pythontutor.com/ .\n",
    "- Cliquer sur *Start visualizing your code now*.\n",
    "- Écrire le code puis cliquer sur *Visualize Execution*.\n",
    "- Exécuter le code en *pas à pas* avec le bouton *Next*.\n",
    "- Observer la période d'existence de la variable *a* et justifier alors l'erreur d'exécution de la ligne 5."
   ]
  },
  {
   "cell_type": "markdown",
   "metadata": {
    "slideshow": {
     "slide_type": "slide"
    }
   },
   "source": [
    "<div align=\"middle\"><h3><a href=\"http://pythontutor.com/visualize.html#code=def%20une_fonction%28%29%3A%0A%20%20%20%20a%20%3D%203%0A%0Aune_fonction%28%29%0A%23%20erreur%20d'ex%C3%A9cution%0Aprint%28a%29&cumulative=false&curInstr=0&heapPrimitives=nevernest&mode=display&origin=opt-frontend.js&py=3&rawInputLstJSON=%5B%5D&textReferences=false\" target=\"_blank\">Pythontutor</a></h3></div>"
   ]
  },
  {
   "cell_type": "markdown",
   "metadata": {
    "slideshow": {
     "slide_type": "slide"
    }
   },
   "source": [
    "### 2.2 Variable globale"
   ]
  },
  {
   "cell_type": "markdown",
   "metadata": {
    "slideshow": {
     "slide_type": "fragment"
    }
   },
   "source": [
    "#### Activité 2\n",
    "\n",
    "- Dérouler le code sur pythontutor et justifier la bonne exécution."
   ]
  },
  {
   "cell_type": "markdown",
   "metadata": {
    "slideshow": {
     "slide_type": "fragment"
    }
   },
   "source": [
    "<div align=\"middle\"><h3><a href=\"http://pythontutor.com/visualize.html#code=a%20%3D%203%0Adef%20une_fonction%28%29%3A%0A%20%20%20%20print%28a%29%0A%0Aune_fonction%28%29&cumulative=false&curInstr=0&heapPrimitives=nevernest&mode=display&origin=opt-frontend.js&py=3&rawInputLstJSON=%5B%5D&textReferences=false\" target=\"_blank\">Pythontutor</a></h3></div>"
   ]
  },
  {
   "cell_type": "markdown",
   "metadata": {
    "slideshow": {
     "slide_type": "slide"
    }
   },
   "source": [
    "## 3. Pièges et bonnes pratiques\n",
    "### 3.1 Effet de bord\n",
    "Les élèves de NSI ont obtenu les notes suivantes lors du dernier devoir. Avant de les enregistrer définitivement dans Pronote, l'enseignant désire simuler des bonifications pour favoriser les élèves le plus en difficultés. Le code effectue une bonification de deux points pour deux cas de figure:\n",
    "- les élèves ont 6 ou moins,\n",
    "- les élèves ont 8 ou moins."
   ]
  },
  {
   "cell_type": "code",
   "execution_count": null,
   "metadata": {},
   "outputs": [],
   "source": [
    "def simulation_bonification(limite):\n",
    "    for i in range(len(notes)):\n",
    "        if notes[i] <= limite:\n",
    "            notes[i] += 2\n",
    "    return notes\n",
    "\n",
    "notes=[7,12,8,5,19,10,7,6,1,15,13,8]\n",
    "print(notes)\n",
    "print(simulation_bonification(6))\n",
    "print(simulation_bonification(8))"
   ]
  },
  {
   "cell_type": "markdown",
   "metadata": {
    "slideshow": {
     "slide_type": "slide"
    }
   },
   "source": [
    "#### Activité 3\n",
    "- Recopier le code dans un EDI et repérer l'erreur dans les calculs effectués.\n",
    "- Copier le code dans *pythontutor* et expliquer cette erreur."
   ]
  },
  {
   "cell_type": "code",
   "execution_count": 10,
   "metadata": {
    "slideshow": {
     "slide_type": "fragment"
    }
   },
   "outputs": [
    {
     "name": "stdout",
     "output_type": "stream",
     "text": [
      "notes initiales [7, 12, 8, 5, 19, 10, 7, 6, 1, 15, 13, 8]\n",
      "bonus limite 6 [7, 12, 8, 7, 19, 10, 7, 8, 3, 15, 13, 8]\n",
      "bonus limite 8 [9, 12, 10, 9, 19, 10, 9, 10, 5, 15, 13, 10]\n"
     ]
    }
   ],
   "source": [
    "def simulation_bonification(limite):\n",
    "    for i in range(len(notes)):\n",
    "        if notes[i] <= limite:\n",
    "            notes[i] += 2\n",
    "    return notes\n",
    "\n",
    "notes=[7,12,8,5,19,10,7,6,1,15,13,8]\n",
    "print(\"notes initiales\",notes)\n",
    "print(\"bonus limite 6\",simulation_bonification(6))\n",
    "print(\"bonus limite 8\",simulation_bonification(8))"
   ]
  },
  {
   "cell_type": "code",
   "execution_count": 11,
   "metadata": {
    "slideshow": {
     "slide_type": "fragment"
    }
   },
   "outputs": [
    {
     "name": "stdout",
     "output_type": "stream",
     "text": [
      "notes initiales [9, 12, 10, 9, 19, 10, 9, 10, 5, 15, 13, 10]\n"
     ]
    }
   ],
   "source": [
    "print(\"notes initiales\",notes)"
   ]
  },
  {
   "cell_type": "markdown",
   "metadata": {},
   "source": [
    "Les notes initiales ont été modifiées."
   ]
  },
  {
   "cell_type": "markdown",
   "metadata": {
    "slideshow": {
     "slide_type": "slide"
    }
   },
   "source": [
    "<div align=\"middle\"><h3><a href=\"http://pythontutor.com/visualize.html#code=def%20simulation_bonification%28limite%29%3A%0A%20%20%20%20for%20i%20in%20range%28len%28notes%29%29%3A%0A%20%20%20%20%20%20%20%20if%20notes%5Bi%5D%20%3C%3D%20limite%3A%0A%20%20%20%20%20%20%20%20%20%20%20%20notes%5Bi%5D%20%2B%3D%202%0A%20%20%20%20return%20notes%0A%0Anotes%3D%5B7,12,8,5,19,10,7,6,1,15,13,8%5D%0Aprint%28notes%29%0Aprint%28simulation_bonification%286%29%29%0Aprint%28simulation_bonification%288%29%29&cumulative=false&curInstr=0&heapPrimitives=nevernest&mode=display&origin=opt-frontend.js&py=3&rawInputLstJSON=%5B%5D&textReferences=false\" target=\"_blank\">Pythontutor</a></h3></div>"
   ]
  },
  {
   "cell_type": "markdown",
   "metadata": {
    "slideshow": {
     "slide_type": "fragment"
    }
   },
   "source": [
    "<div align=\"middle\"><h3>Une variable mutable est modifiée quand elle est utilisée dans une fonction.</h3></div>"
   ]
  },
  {
   "cell_type": "markdown",
   "metadata": {
    "slideshow": {
     "slide_type": "fragment"
    }
   },
   "source": [
    "<div align=\"middle\"><h3><a href=\"http://pythontutor.com/visualize.html#code=def%20simulation_bonification%28limite%29%3A%0A%20%20%20%20copie_notes%20%3D%20notes%0A%20%20%20%20for%20i%20in%20range%28len%28copie_notes%29%29%3A%0A%20%20%20%20%20%20%20%20if%20copie_notes%5Bi%5D%20%3C%3D%20limite%3A%0A%20%20%20%20%20%20%20%20%20%20%20%20copie_notes%5Bi%5D%20%2B%3D%202%0A%20%20%20%20return%20copie_notes%0A%0Anotes%3D%5B7,12,8,5,19,10,7,6,1,15,13,8%5D%0Aprint%28notes%29%0Aprint%28simulation_bonification%286%29%29%0Aprint%28simulation_bonification%288%29%29&cumulative=false&curInstr=0&heapPrimitives=nevernest&mode=display&origin=opt-frontend.js&py=3&rawInputLstJSON=%5B%5D&textReferences=false\" target=\"_blank\">Pythontutor: tentative de copie de la liste notes</a></h3></div>"
   ]
  },
  {
   "cell_type": "markdown",
   "metadata": {
    "slideshow": {
     "slide_type": "slide"
    }
   },
   "source": [
    "### 3.2 Bonnes pratiques\n",
    "<div align=\"middle\"><h3>On évitera au maximum d'utiliser une variable globale.</h3></div>"
   ]
  },
  {
   "cell_type": "markdown",
   "metadata": {
    "slideshow": {
     "slide_type": "slide"
    }
   },
   "source": [
    "<div align=\"middle\"><h3><a href=\"https://docs.python.org/fr/3/tutorial/datastructures.html#more-on-lists\" target=\"_blank\">Copier une liste</a></h3></div>"
   ]
  },
  {
   "cell_type": "code",
   "execution_count": 5,
   "metadata": {
    "slideshow": {
     "slide_type": "fragment"
    }
   },
   "outputs": [],
   "source": [
    "def simulation_bonification(limite, notes):\n",
    "    copie_notes = notes.copy()\n",
    "    for i in range(len(copie_notes)):\n",
    "        if copie_notes[i] <= limite:\n",
    "            copie_notes[i] += 2\n",
    "    return copie_notes"
   ]
  },
  {
   "cell_type": "code",
   "execution_count": 9,
   "metadata": {
    "slideshow": {
     "slide_type": "fragment"
    }
   },
   "outputs": [
    {
     "name": "stdout",
     "output_type": "stream",
     "text": [
      "notes initiales [7, 12, 8, 5, 19, 10, 7, 6, 1, 15, 13, 8]\n",
      "bonus limite 6 [7, 12, 8, 7, 19, 10, 7, 8, 3, 15, 13, 8]\n",
      "bonus limite 8 [9, 12, 10, 7, 19, 10, 9, 8, 3, 15, 13, 10]\n",
      "notes initiales [7, 12, 8, 5, 19, 10, 7, 6, 1, 15, 13, 8]\n"
     ]
    }
   ],
   "source": [
    "notes=[7,12,8,5,19,10,7,6,1,15,13,8]\n",
    "print(\"notes initiales\",notes)\n",
    "print(\"bonus limite 6\",simulation_bonification(6, notes))\n",
    "print(\"bonus limite 8\",simulation_bonification(8, notes))\n",
    "print(\"notes initiales\",notes)"
   ]
  }
 ],
 "metadata": {
  "celltoolbar": "Slideshow",
  "kernelspec": {
   "display_name": "Python 3",
   "language": "python",
   "name": "python3"
  },
  "language_info": {
   "codemirror_mode": {
    "name": "ipython",
    "version": 3
   },
   "file_extension": ".py",
   "mimetype": "text/x-python",
   "name": "python",
   "nbconvert_exporter": "python",
   "pygments_lexer": "ipython3",
   "version": "3.8.6"
  },
  "latex_envs": {
   "LaTeX_envs_menu_present": true,
   "autoclose": false,
   "autocomplete": true,
   "bibliofile": "biblio.bib",
   "cite_by": "apalike",
   "current_citInitial": 1,
   "eqLabelWithNumbers": true,
   "eqNumInitial": 1,
   "hotkeys": {
    "equation": "Ctrl-E",
    "itemize": "Ctrl-I"
   },
   "labels_anchors": false,
   "latex_user_defs": false,
   "report_style_numbering": true,
   "user_envs_cfg": false
  }
 },
 "nbformat": 4,
 "nbformat_minor": 4
}
