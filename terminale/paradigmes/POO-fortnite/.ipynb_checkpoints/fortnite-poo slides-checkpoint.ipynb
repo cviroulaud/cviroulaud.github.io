{
 "cells": [
  {
   "cell_type": "markdown",
   "metadata": {
    "slideshow": {
     "slide_type": "slide"
    }
   },
   "source": [
    "# Paradigmes de programmation\n",
    "## Objectif: Différencier et utiliser plusieurs paradigmes de programmation."
   ]
  },
  {
   "cell_type": "markdown",
   "metadata": {
    "slideshow": {
     "slide_type": "slide"
    }
   },
   "source": [
    "# 1. Problématique\n",
    "\n",
    "<table>\n",
    "    <tr>\n",
    "        <td><img src=\"ressources/outfits/cuddle-team-leader.png\" width=150px></td>\n",
    "        <td><img src=\"ressources/outfits/rabbit-raider.png\" width=150px></td>\n",
    "        <td><img src=\"ressources/outfits/scout.png\" width=150px></td>\n",
    "        <td><img src=\"ressources/gliders/glider.png\" width=150px></td>\n",
    "        <td><img src=\"ressources/gliders/pterodactyl.png\" width=150px></td>\n",
    "    </tr>\n",
    "    <tr>\n",
    "        <td><img src=\"ressources/contrails/all-star.png\" width=150px></td>\n",
    "        <td><img src=\"ressources/contrails/rainbow.png\" width=150px></td>\n",
    "        <td><img src=\"ressources/emotes/disco-fever.png\" width=150px></td>\n",
    "        <td><img src=\"ressources/emotes/jubilation.png\" width=150px></td>\n",
    "        <td><img src=\"ressources/pickaxes/pickaxe.png\" width=150px></td>\n",
    "    </tr>\n",
    "</table>"
   ]
  },
  {
   "cell_type": "markdown",
   "metadata": {
    "slideshow": {
     "slide_type": "slide"
    }
   },
   "source": [
    "<center><img src=\"ressources/forniteskin.jpg\" width=800px></center>\n",
    "\n",
    "### Quel concept de programmation mettre en place pour manipuler les combattants et les faire évoluer dans une partie?"
   ]
  },
  {
   "cell_type": "markdown",
   "metadata": {
    "slideshow": {
     "slide_type": "slide"
    }
   },
   "source": [
    "# 2. Paradigme impératif"
   ]
  },
  {
   "cell_type": "code",
   "execution_count": 15,
   "metadata": {
    "slideshow": {
     "slide_type": "slide"
    }
   },
   "outputs": [
    {
     "data": {
      "text/html": [
       "<script src=\"hide_cell.js\" />\n",
       "<iframe src='https://cdn.knightlab.com/libs/timeline3/latest/embed/index.html?source=1Mta9N7GPfJMs1Vw8zNMBbb-yS_6bQ8no8lYpnq4KW-0&font=Default&lang=fr&initial_zoom=2&height=650' width='100%' height='650' webkitallowfullscreen mozallowfullscreen allowfullscreen frameborder='0'></iframe>\n"
      ],
      "text/plain": [
       "<IPython.core.display.HTML object>"
      ]
     },
     "metadata": {},
     "output_type": "display_data"
    }
   ],
   "source": [
    "%%html\n",
    "<script src=\"hide_cell.js\" />\n",
    "<iframe src='https://cdn.knightlab.com/libs/timeline3/latest/embed/index.html?source=1Mta9N7GPfJMs1Vw8zNMBbb-yS_6bQ8no8lYpnq4KW-0&font=Default&lang=fr&initial_zoom=2&height=650' width='100%' height='650' webkitallowfullscreen mozallowfullscreen allowfullscreen frameborder='0'></iframe>"
   ]
  },
  {
   "cell_type": "markdown",
   "metadata": {
    "slideshow": {
     "slide_type": "slide"
    }
   },
   "source": [
    "## 2.1 Stocker les informations\n",
    "### Activité 1\n",
    "- Proposer un type de données et construire une structure permettant de contenir les éléments qui composent un combattant.\n",
    "- Ajouter une structure permettant de stocker et gérer les objets du sac à dos.\n",
    "- Ajouter enfin deux variables exprimant l'énergie et le bouclier. Ces variables seront initialisées à 100."
   ]
  },
  {
   "cell_type": "code",
   "execution_count": 2,
   "metadata": {
    "slideshow": {
     "slide_type": "fragment"
    }
   },
   "outputs": [],
   "source": [
    "combattant={\"outfit\":\"cuddle-team-leader\", \"glider\":\"glider\", \"contrail\":\"flames\", \"back_bling\":\"royale-shield\", \n",
    "            \"emote\":\"disco-fever\", \"pickaxe\":\"pick-squeak\", \"toy\":\"tomato\"}"
   ]
  },
  {
   "cell_type": "markdown",
   "metadata": {},
   "source": [
    "<table>\n",
    "    <tr>\n",
    "        <td><img src=\"ressources/outfits/cuddle-team-leader.png\" width=100px></td>\n",
    "        <td><img src=\"ressources/gliders/glider.png\" width=100px></td>\n",
    "        <td><img src=\"ressources/contrails/flames.png\" width=100px></td>\n",
    "        <td><img src=\"ressources/back-blings/royale-shield.png\" width=100px></td>\n",
    "        <td><img src=\"ressources/emotes/disco-fever.png\" width=100px></td>\n",
    "        <td><img src=\"ressources/pickaxes/pickaxe.png\" width=100px></td>\n",
    "        <td><img src=\"ressources/toys/tomato.png\" width=100px></td>\n",
    "    </tr>\n",
    "</table>"
   ]
  },
  {
   "cell_type": "markdown",
   "metadata": {
    "slideshow": {
     "slide_type": "slide"
    }
   },
   "source": [
    "## Itérer sur un dictionnaire"
   ]
  },
  {
   "cell_type": "code",
   "execution_count": 3,
   "metadata": {
    "slideshow": {
     "slide_type": "fragment"
    }
   },
   "outputs": [
    {
     "name": "stdout",
     "output_type": "stream",
     "text": [
      "outfit glider contrail back_bling emote pickaxe toy "
     ]
    }
   ],
   "source": [
    "for cle in combattant.keys():\n",
    "    print(cle,end=\" \")"
   ]
  },
  {
   "cell_type": "code",
   "execution_count": 4,
   "metadata": {
    "slideshow": {
     "slide_type": "fragment"
    }
   },
   "outputs": [
    {
     "name": "stdout",
     "output_type": "stream",
     "text": [
      "cuddle-team-leader glider flames royale-shield disco-fever pick-squeak tomato "
     ]
    }
   ],
   "source": [
    "for valeur in combattant.values():\n",
    "    print(valeur,end=\" \")"
   ]
  },
  {
   "cell_type": "code",
   "execution_count": 5,
   "metadata": {
    "slideshow": {
     "slide_type": "fragment"
    }
   },
   "outputs": [
    {
     "name": "stdout",
     "output_type": "stream",
     "text": [
      "('outfit', 'cuddle-team-leader') ('glider', 'glider') ('contrail', 'flames') ('back_bling', 'royale-shield') ('emote', 'disco-fever') ('pickaxe', 'pick-squeak') ('toy', 'tomato') "
     ]
    }
   ],
   "source": [
    "for item in combattant.items():\n",
    "    print(item,end=\" \")"
   ]
  },
  {
   "cell_type": "code",
   "execution_count": 6,
   "metadata": {
    "slideshow": {
     "slide_type": "slide"
    }
   },
   "outputs": [],
   "source": [
    "combattant={\"outfit\":\"cuddle-team-leader\", \"glider\":\"glider\", \"contrail\":\"flames\", \"back_bling\":\"royale-shield\", \n",
    "            \"emote\":\"disco-fever\", \"pickaxe\":\"pick-squeak\", \"toy\":\"tomato\", \"backpack\":[]}"
   ]
  },
  {
   "cell_type": "code",
   "execution_count": 7,
   "metadata": {
    "slideshow": {
     "slide_type": "fragment"
    }
   },
   "outputs": [],
   "source": [
    "combattant={\"outfit\":\"cuddle-team-leader\", \"glider\":\"glider\", \"contrail\":\"flames\", \"back_bling\":\"royale-shield\", \n",
    "            \"emote\":\"disco-fever\", \"pickaxe\":\"pick-squeak\", \"toy\":\"tomato\", \"backpack\":[], \"energy\":100, \"shield\":100}"
   ]
  },
  {
   "cell_type": "markdown",
   "metadata": {
    "slideshow": {
     "slide_type": "slide"
    }
   },
   "source": [
    "## 2.2 Modifier les informations\n",
    "### Activité 2\n",
    "- Implémenter une fonction *subir_attaque* qui prendra un paramètre *degat* de type integer et qui modifiera les caractéristiques *shield* et *energy* du combattant. \n",
    "- Implémenter une fonction *ramasser_objet* qui ajoute un objet dans le sac s'il n'est pas plein (trois objets maximum). Cette fonction prendra un paramètre *objet* de type *string*.\n",
    "- Dans Fortnite chaque objet a également plusieurs propriétés. Construire un type construit de données qui stocke les caractéristiques des armes présentées."
   ]
  },
  {
   "cell_type": "markdown",
   "metadata": {
    "slideshow": {
     "slide_type": "fragment"
    }
   },
   "source": [
    "### Commencer par établir l'algorithme qui définit les dégâts causées par une attaque."
   ]
  },
  {
   "cell_type": "code",
   "execution_count": 8,
   "metadata": {
    "slideshow": {
     "slide_type": "slide"
    }
   },
   "outputs": [
    {
     "name": "stdout",
     "output_type": "stream",
     "text": [
      "PV: 100 Bouclier:100\n",
      "PV: 100 Bouclier:70\n",
      "PV: 90 Bouclier:0\n"
     ]
    }
   ],
   "source": [
    "def subir_attaque(degat,joueur):\n",
    "    \"\"\"\n",
    "    modifie les PV et le bouclier du joueur en fonction des dégâts\n",
    "    \"\"\"\n",
    "    if degat <= joueur[\"shield\"]:\n",
    "        joueur[\"shield\"] -= degat\n",
    "    else:\n",
    "        if joueur[\"shield\"] > 0:\n",
    "            degat -= joueur[\"shield\"]\n",
    "            joueur[\"shield\"] = 0\n",
    "        joueur[\"energy\"] -= degat        \n",
    "\n",
    "print(\"PV: {} Bouclier:{}\".format(combattant[\"energy\"],combattant[\"shield\"]))\n",
    "subir_attaque(30,combattant)\n",
    "print(\"PV: {} Bouclier:{}\".format(combattant[\"energy\"],combattant[\"shield\"]))\n",
    "subir_attaque(80,combattant)\n",
    "print(\"PV: {} Bouclier:{}\".format(combattant[\"energy\"],combattant[\"shield\"]))"
   ]
  },
  {
   "cell_type": "code",
   "execution_count": 10,
   "metadata": {
    "slideshow": {
     "slide_type": "slide"
    }
   },
   "outputs": [
    {
     "name": "stdout",
     "output_type": "stream",
     "text": [
      "['burst-assault-rifle']\n",
      "Objet ajouté.\n",
      "['burst-assault-rifle', 'burst-assault-rifle']\n"
     ]
    }
   ],
   "source": [
    "def ramasser_objet(objet,joueur):\n",
    "    if len(joueur[\"backpack\"]) < 3:\n",
    "        joueur[\"backpack\"].append(objet)\n",
    "        return \"Objet ajouté.\"\n",
    "    else:\n",
    "        return \"Le sac est plein.\"\n",
    "\n",
    "print(combattant[\"backpack\"])\n",
    "print(ramasser_objet(\"burst-assault-rifle\",combattant))\n",
    "print(combattant[\"backpack\"])"
   ]
  },
  {
   "cell_type": "markdown",
   "metadata": {
    "slideshow": {
     "slide_type": "slide"
    }
   },
   "source": [
    "<table>\n",
    "    <tr>\n",
    "        <td></td>\n",
    "        <td><img src=\"ressources/weapons/bolt-action-sniper.png\" width=150px></td>\n",
    "        <td><img src=\"ressources/weapons/burst-assault-rifle.png\" width=150px></td>\n",
    "        <td><img src=\"ressources/weapons/hunting-rifle.png\" width=150px></td>\n",
    "    </tr>\n",
    "    <tr>\n",
    "        <td>Name</td>\n",
    "        <td>bolt-action-sniper</td>\n",
    "        <td>burst-assault-rifle</td>\n",
    "        <td>hunting-rifle</td>\n",
    "    </tr>\n",
    "    <tr>\n",
    "        <td>Damage</td>\n",
    "        <td>105</td>\n",
    "        <td>36</td>\n",
    "        <td>100</td>\n",
    "    </tr>\n",
    "    <tr>\n",
    "        <td>Fire rate</td>\n",
    "        <td>0.33</td>\n",
    "        <td>2.75</td>\n",
    "        <td>0.80</td>\n",
    "    </tr>\n",
    "    <tr>\n",
    "        <td>Magazine size</td>\n",
    "        <td>1</td>\n",
    "        <td>20</td>\n",
    "        <td>1</td>\n",
    "    </tr>\n",
    "    <tr>\n",
    "        <td>Reload time</td>\n",
    "        <td>3s</td>\n",
    "        <td>2.5s</td>\n",
    "        <td>1.6s</td>\n",
    "    </tr>\n",
    "    <tr>\n",
    "        <td>Fire rate</td>\n",
    "        <td>0.33</td>\n",
    "        <td>2.75</td>\n",
    "        <td>0.80</td>\n",
    "    </tr>\n",
    "</table>\n",
    "        "
   ]
  },
  {
   "cell_type": "code",
   "execution_count": 12,
   "metadata": {
    "slideshow": {
     "slide_type": "fragment"
    }
   },
   "outputs": [],
   "source": [
    "arme1={\"name\":\"bolt-action-sniper\",\"damage\":0.33,\"magazine\":1,\"reload\":3,\"rate\":0.33}"
   ]
  },
  {
   "cell_type": "markdown",
   "metadata": {
    "slideshow": {
     "slide_type": "slide"
    }
   },
   "source": [
    "# 3. Paradigme objet"
   ]
  },
  {
   "cell_type": "code",
   "execution_count": null,
   "metadata": {
    "slideshow": {
     "slide_type": "slide"
    }
   },
   "outputs": [],
   "source": [
    "%%html\n",
    "<script src=\"hide_cell.js\" />\n",
    "<iframe src='https://cdn.knightlab.com/libs/timeline3/latest/embed/index.html?source=KW-0&font=Default&lang=fr&initial_zoom=2&height=650' width='100%' height='650' webkitallowfullscreen mozallowfullscreen allowfullscreen frameborder='0'></iframe>"
   ]
  }
 ],
 "metadata": {
  "celltoolbar": "Slideshow",
  "kernelspec": {
   "display_name": "Python 3",
   "language": "python",
   "name": "python3"
  },
  "language_info": {
   "codemirror_mode": {
    "name": "ipython",
    "version": 3
   },
   "file_extension": ".py",
   "mimetype": "text/x-python",
   "name": "python",
   "nbconvert_exporter": "python",
   "pygments_lexer": "ipython3",
   "version": "3.8.1"
  },
  "toc": {
   "base_numbering": 1,
   "nav_menu": {
    "height": "71px",
    "width": "399px"
   },
   "number_sections": true,
   "sideBar": true,
   "skip_h1_title": false,
   "title_cell": "Table of Contents",
   "title_sidebar": "Contents",
   "toc_cell": false,
   "toc_position": {},
   "toc_section_display": true,
   "toc_window_display": false
  }
 },
 "nbformat": 4,
 "nbformat_minor": 4
}
