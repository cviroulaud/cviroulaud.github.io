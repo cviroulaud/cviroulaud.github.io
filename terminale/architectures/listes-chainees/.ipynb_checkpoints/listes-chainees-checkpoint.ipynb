{
 "cells": [
  {
   "cell_type": "markdown",
   "metadata": {
    "slideshow": {
     "slide_type": "slide"
    }
   },
   "source": [
    "# Listes chaînées"
   ]
  },
  {
   "cell_type": "markdown",
   "metadata": {
    "slideshow": {
     "slide_type": "slide"
    }
   },
   "source": [
    "## 1. Problématique"
   ]
  },
  {
   "cell_type": "markdown",
   "metadata": {},
   "source": [
    "<div align=\"middle\"><img src=\"ressources/tab.png\" height=250px></div>"
   ]
  },
  {
   "cell_type": "markdown",
   "metadata": {
    "slideshow": {
     "slide_type": "fragment"
    }
   },
   "source": [
    "<div align=\"middle\"><h3>Peut-on définir un autre type de structure pour représenter les données en mémoire?</h3></div>"
   ]
  },
  {
   "cell_type": "markdown",
   "metadata": {
    "slideshow": {
     "slide_type": "slide"
    }
   },
   "source": [
    "## Liste chaînée\n",
    "### 2.1 Principe"
   ]
  },
  {
   "cell_type": "markdown",
   "metadata": {},
   "source": [
    "<div align=\"middle\"><img src=\"ressources/liste.png\" height=250px></div>"
   ]
  },
  {
   "cell_type": "markdown",
   "metadata": {
    "slideshow": {
     "slide_type": "slide"
    }
   },
   "source": [
    "### 2.2 Le maillon\n",
    "Chaque maillon est un objet avec des attributs propres."
   ]
  },
  {
   "cell_type": "code",
   "execution_count": 1,
   "metadata": {
    "slideshow": {
     "slide_type": "fragment"
    }
   },
   "outputs": [],
   "source": [
    "class Maillon:\n",
    "    \"\"\"\n",
    "    Crée un maillon de la liste chaînée\n",
    "    \"\"\"\n",
    "    def __init__(self, val: int, suiv: object)->None:\n",
    "        self.valeur = val\n",
    "        self.suivant = suiv"
   ]
  },
  {
   "cell_type": "markdown",
   "metadata": {
    "slideshow": {
     "slide_type": "slide"
    }
   },
   "source": [
    "### 2.3 La liste"
   ]
  },
  {
   "cell_type": "code",
   "execution_count": 2,
   "metadata": {
    "slideshow": {
     "slide_type": "fragment"
    }
   },
   "outputs": [],
   "source": [
    "lst = Maillon(3, Maillon(5, Maillon(8, None)))"
   ]
  },
  {
   "cell_type": "markdown",
   "metadata": {},
   "source": [
    "<div align=\"middle\"><img src=\"ressources/liste1.png\" height=250px></div>"
   ]
  },
  {
   "cell_type": "markdown",
   "metadata": {
    "slideshow": {
     "slide_type": "fragment"
    }
   },
   "source": [
    "[Visualisation sur PythonTutor](http://pythontutor.com/visualize.html#code=class%20Maillon%3A%0A%20%20%20%20%22%22%22%0A%20%20%20%20Cr%C3%A9e%20un%20maillon%20de%20la%20liste%20cha%C3%AEn%C3%A9e%0A%20%20%20%20%22%22%22%0A%20%20%20%20def%20__init__%28self,%20val%3A%20int,%20suiv%3A%20object%29-%3ENone%3A%0A%20%20%20%20%20%20%20%20self.valeur%20%3D%20val%0A%20%20%20%20%20%20%20%20self.suivant%20%3D%20suiv%0A%0Alst%20%3D%20Maillon%283,%20Maillon%285,%20Maillon%288,%20None%29%29%29&cumulative=false&curInstr=0&heapPrimitives=nevernest&mode=display&origin=opt-frontend.js&py=3&rawInputLstJSON=%5B%5D&textReferences=false)"
   ]
  },
  {
   "cell_type": "markdown",
   "metadata": {
    "slideshow": {
     "slide_type": "slide"
    }
   },
   "source": [
    "**Seconde approche:** Créer un objet *Liste*"
   ]
  },
  {
   "cell_type": "markdown",
   "metadata": {},
   "source": [
    "<div align=\"middle\"><img src=\"ressources/liste2.png\" height=150px></div>"
   ]
  },
  {
   "cell_type": "code",
   "execution_count": null,
   "metadata": {},
   "outputs": [],
   "source": [
    "class Liste:\n",
    "    \"\"\"\n",
    "    Crée une liste chaînée\n",
    "    \"\"\"\n",
    "    def __init__(self):\n",
    "        self.tete: object = None"
   ]
  },
  {
   "cell_type": "markdown",
   "metadata": {
    "slideshow": {
     "slide_type": "slide"
    }
   },
   "source": [
    "<div align=\"middle\"><h3>Intérêt: pouvoir implémenter des méthodes propres à la liste et ainsi créer un objet réutilisable.</h3></div>"
   ]
  },
  {
   "cell_type": "markdown",
   "metadata": {
    "slideshow": {
     "slide_type": "fragment"
    }
   },
   "source": [
    "**Activité 1:**\n",
    "- Écrire la méthode **est_vide(self)$\\;\\rightarrow\\;$bool** qui renvoie *True* si la liste est vide, *False*. sinon.\n",
    "- Écrire la méthode **ajoute(self, val: int)$\\;\\rightarrow\\;$None** qui ajoute un *Maillon* en tête de la liste."
   ]
  },
  {
   "cell_type": "markdown",
   "metadata": {
    "slideshow": {
     "slide_type": "fragment"
    }
   },
   "source": [
    "**Correction**"
   ]
  },
  {
   "cell_type": "code",
   "execution_count": 3,
   "metadata": {
    "slideshow": {
     "slide_type": "slide"
    }
   },
   "outputs": [],
   "source": [
    "class Liste:\n",
    "    \"\"\"\n",
    "    Crée une liste chaînée\n",
    "    \"\"\"\n",
    "    def __init__(self):\n",
    "        self.tete: object = None\n",
    "\n",
    "    def est_vide(self)->bool:\n",
    "        return self.tete is None\n",
    "\n",
    "    def ajoute(self, val: int)->None:\n",
    "        self.tete = Maillon(val, self.tete)"
   ]
  },
  {
   "cell_type": "markdown",
   "metadata": {
    "slideshow": {
     "slide_type": "fragment"
    }
   },
   "source": [
    "[Visualisation sur PythonTutor](http://pythontutor.com/visualize.html#code=class%20Maillon%3A%0A%20%20%20%20%22%22%22%0A%20%20%20%20Cr%C3%A9e%20un%20maillon%20de%20la%20liste%20cha%C3%AEn%C3%A9e%0A%20%20%20%20%22%22%22%0A%20%20%20%20def%20__init__%28self,%20val%3A%20int,%20suiv%3A%20object%29-%3ENone%3A%0A%20%20%20%20%20%20%20%20self.valeur%20%3D%20val%0A%20%20%20%20%20%20%20%20self.suivant%20%3D%20suiv%0A%0Aclass%20Liste%3A%0A%20%20%20%20%22%22%22%0A%20%20%20%20Cr%C3%A9e%20une%20liste%20cha%C3%AEn%C3%A9e%0A%20%20%20%20%22%22%22%0A%20%20%20%20def%20__init__%28self%29%3A%0A%20%20%20%20%20%20%20%20self.tete%3A%20object%20%3D%20None%0A%0A%20%20%20%20def%20est_vide%28self%29-%3Ebool%3A%0A%20%20%20%20%20%20%20%20return%20self.tete%20is%20None%0A%0A%20%20%20%20def%20ajoute%28self,%20val%3A%20int%29-%3ENone%3A%0A%20%20%20%20%20%20%20%20self.tete%20%3D%20Maillon%28val,%20self.tete%29%0A%0Alst%20%3D%20Liste%28%29%0Alst.ajoute%288%29%0Alst.ajoute%285%29%0Alst.ajoute%283%29&cumulative=false&curInstr=0&heapPrimitives=nevernest&mode=display&origin=opt-frontend.js&py=3&rawInputLstJSON=%5B%5D&textReferences=false)"
   ]
  },
  {
   "cell_type": "markdown",
   "metadata": {
    "slideshow": {
     "slide_type": "slide"
    }
   },
   "source": [
    "## 3. Manipuler une liste chaînée"
   ]
  },
  {
   "cell_type": "markdown",
   "metadata": {
    "slideshow": {
     "slide_type": "fragment"
    }
   },
   "source": [
    "### 3.1 Longueur de la liste\n",
    "**Activité 2:**\n",
    "- Écrire une méthode **taille(self)$\\;\\rightarrow\\;$int** qui renvoie la taille de la liste. Il sera nécessaire d'écrire une méthode supplémentaire *récursive* **taille_rec(self, maillon: object)$\\;\\rightarrow\\;$int**.\n",
    "- Il est possible d'effectuer cette opération en programmation impérative. Implémenter alors la méthode **__len__(self)$\\;\\rightarrow\\;$int** qui redéfinit la fonction **len** pour la classe *Liste*. "
   ]
  },
  {
   "cell_type": "markdown",
   "metadata": {
    "slideshow": {
     "slide_type": "fragment"
    }
   },
   "source": [
    "**Correction**"
   ]
  },
  {
   "cell_type": "code",
   "execution_count": null,
   "metadata": {
    "slideshow": {
     "slide_type": "slide"
    }
   },
   "outputs": [],
   "source": [
    "    def taille_rec(self, maillon: object)->int:\n",
    "        \"\"\"\n",
    "        méthode interne pour calculer la taille de la chaîne\n",
    "        \"\"\"\n",
    "        if maillon is None:\n",
    "            return 0\n",
    "        else:\n",
    "            return 1 + self.taille_rec(maillon.suivant)\n",
    "\n",
    "    def taille(self)->int:\n",
    "        \"\"\"\n",
    "        appel principal de la méthode récursive pour mesurer\n",
    "        la taille de la chaîne\n",
    "        \"\"\"\n",
    "        return self.taille_rec(self.tete)"
   ]
  },
  {
   "cell_type": "code",
   "execution_count": null,
   "metadata": {
    "slideshow": {
     "slide_type": "fragment"
    }
   },
   "outputs": [],
   "source": [
    "    def __len__(self)->int:\n",
    "        maillon = self.tete\n",
    "        taille = 0\n",
    "        while not(maillon == None):\n",
    "            maillon = maillon.suivant\n",
    "            taille += 1\n",
    "        return taille"
   ]
  },
  {
   "cell_type": "markdown",
   "metadata": {
    "slideshow": {
     "slide_type": "slide"
    }
   },
   "source": [
    "### 3.2 N-ième élément\n",
    "**Activité 3**"
   ]
  },
  {
   "cell_type": "markdown",
   "metadata": {},
   "source": [
    "- Estimer la complexité *dans le pire des cas* de cette opération.\n",
    "- En appliquant une méthodologie similaire au paragraphe précédent, écrire la méthode récursive **get_element(self, n: int)$\\;\\rightarrow\\;$int** qui renvoie la valeur du n-ième élément de la liste. Nous considérerons que le premier élément est en *tête* de la liste. La fonction lèvera une *IndexError* si l'indice est négatif ou supérieur à la taille de la liste.\n",
    "- Comme pour une *list (au sens Python)* il est possible de récupérer le n-ième élément avec un appel de la forme *lst[n]*. Il faut pour cela redéfinir la méthode **__getitem__(self, n: int)$\\;\\rightarrow\\;$int**. Redéfinir cette méthode en programmation impérative."
   ]
  },
  {
   "cell_type": "markdown",
   "metadata": {
    "slideshow": {
     "slide_type": "fragment"
    }
   },
   "source": [
    "**Correction**"
   ]
  },
  {
   "cell_type": "code",
   "execution_count": null,
   "metadata": {
    "slideshow": {
     "slide_type": "slide"
    }
   },
   "outputs": [],
   "source": [
    "    def get_element_rec(self, n: int, maillon: object)->int:\n",
    "        \"\"\"\n",
    "        méthode interne pour renvoyer le n-ième élément.\n",
    "        \"\"\"\n",
    "        if maillon is None or n < 0:\n",
    "            raise IndexError(\"indice invalide\")\n",
    "        if n == 0:\n",
    "            return maillon.valeur\n",
    "        else:\n",
    "            return self.get_element_rec(n-1, maillon.suivant)\n",
    "\n",
    "    def get_element(self, n: int)->int:\n",
    "        \"\"\"\n",
    "        appel principal de la méthode récursive pour renvoyer le n-ième élément\n",
    "        \"\"\"\n",
    "        return self.get_element_rec(n, self.tete)"
   ]
  },
  {
   "cell_type": "code",
   "execution_count": null,
   "metadata": {
    "slideshow": {
     "slide_type": "slide"
    }
   },
   "outputs": [],
   "source": [
    "    def __getitem__(self, n: int)->object:\n",
    "        \"\"\"\n",
    "        renvoie l'élément de rang n. Les indices commencent à 0.\n",
    "        \"\"\"\n",
    "        maillon = self.tete\n",
    "        i = 0\n",
    "        while i < n and maillon is not None:\n",
    "            maillon = maillon.suivant\n",
    "            i += 1\n",
    "\n",
    "        if maillon is None or n < 0:\n",
    "                raise IndexError(\"indice invalide\")\n",
    "\n",
    "        return maillon.valeur"
   ]
  }
 ],
 "metadata": {
  "celltoolbar": "Slideshow",
  "kernelspec": {
   "display_name": "Python 3",
   "language": "python",
   "name": "python3"
  },
  "language_info": {
   "codemirror_mode": {
    "name": "ipython",
    "version": 3
   },
   "file_extension": ".py",
   "mimetype": "text/x-python",
   "name": "python",
   "nbconvert_exporter": "python",
   "pygments_lexer": "ipython3",
   "version": "3.8.1"
  },
  "latex_envs": {
   "LaTeX_envs_menu_present": true,
   "autoclose": false,
   "autocomplete": true,
   "bibliofile": "biblio.bib",
   "cite_by": "apalike",
   "current_citInitial": 1,
   "eqLabelWithNumbers": true,
   "eqNumInitial": 1,
   "hotkeys": {
    "equation": "Ctrl-E",
    "itemize": "Ctrl-I"
   },
   "labels_anchors": false,
   "latex_user_defs": false,
   "report_style_numbering": true,
   "user_envs_cfg": false
  }
 },
 "nbformat": 4,
 "nbformat_minor": 4
}
