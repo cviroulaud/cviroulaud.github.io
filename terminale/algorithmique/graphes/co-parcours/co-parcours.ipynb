{
 "cells": [
  {
   "cell_type": "markdown",
   "metadata": {
    "slideshow": {
     "slide_type": "slide"
    }
   },
   "source": [
    "# CO - parcours"
   ]
  },
  {
   "cell_type": "markdown",
   "metadata": {
    "slideshow": {
     "slide_type": "slide"
    }
   },
   "source": [
    "## 1. Problématique"
   ]
  },
  {
   "cell_type": "markdown",
   "metadata": {
    "slideshow": {
     "slide_type": "fragment"
    }
   },
   "source": [
    "<div align=\"middle\"><img src=\"ressources/parcours-non-connexe.png\" width=300px></div>"
   ]
  },
  {
   "cell_type": "markdown",
   "metadata": {
    "slideshow": {
     "slide_type": "fragment"
    }
   },
   "source": [
    "<div align=\"middle\"><h3>Peut-on construire des outils pour créer des parcours automatiquement et vérifier si toutes les balises sont atteignables?</h3></div>"
   ]
  },
  {
   "cell_type": "markdown",
   "metadata": {
    "slideshow": {
     "slide_type": "slide"
    }
   },
   "source": [
    "## 2. Connexité"
   ]
  },
  {
   "cell_type": "markdown",
   "metadata": {},
   "source": [
    "### 2.1 Définition\n",
    "Une **chaîne** est une liste ordonnée de sommets du graphe dans laquelle chaque sommet est adjacent au suivant. \n",
    "Un graphe est **connexe** quand deux sommets quelconque peuvent être reliés par une chaîne."
   ]
  },
  {
   "cell_type": "markdown",
   "metadata": {
    "slideshow": {
     "slide_type": "notes"
    }
   },
   "source": [
    "Le graphe de la problématique n'est pas connexe"
   ]
  },
  {
   "cell_type": "markdown",
   "metadata": {
    "slideshow": {
     "slide_type": "slide"
    }
   },
   "source": [
    "### 2.2 Parcours en profondeur (Depth First Search)"
   ]
  },
  {
   "cell_type": "markdown",
   "metadata": {
    "slideshow": {
     "slide_type": "fragment"
    }
   },
   "source": [
    "#### 2.2.1 Méthodologie"
   ]
  },
  {
   "cell_type": "markdown",
   "metadata": {},
   "source": [
    "#### Activité 1\n",
    "Choisir un sommet et parcourir le graphe *à la main* en détaillant le protocole appliqué."
   ]
  },
  {
   "cell_type": "markdown",
   "metadata": {},
   "source": [
    "<div align=\"middle\"><img src=\"ressources/prof01.png\" width=600px></div>"
   ]
  },
  {
   "cell_type": "markdown",
   "metadata": {
    "slideshow": {
     "slide_type": "slide"
    }
   },
   "source": [
    "<div align=\"middle\"><img src=\"ressources/prof02.png\" width=600px></div>"
   ]
  },
  {
   "cell_type": "markdown",
   "metadata": {
    "slideshow": {
     "slide_type": "slide"
    }
   },
   "source": [
    "<div align=\"middle\"><img src=\"ressources/prof03.png\" width=600px></div>"
   ]
  },
  {
   "cell_type": "markdown",
   "metadata": {},
   "source": [
    "Il y a 2 possibilités."
   ]
  },
  {
   "cell_type": "markdown",
   "metadata": {
    "slideshow": {
     "slide_type": "slide"
    }
   },
   "source": [
    "<div align=\"middle\"><img src=\"ressources/prof04.png\" width=600px></div>"
   ]
  },
  {
   "cell_type": "markdown",
   "metadata": {
    "slideshow": {
     "slide_type": "slide"
    }
   },
   "source": [
    "<div align=\"middle\"><img src=\"ressources/prof05.png\" width=600px></div>"
   ]
  },
  {
   "cell_type": "markdown",
   "metadata": {
    "slideshow": {
     "slide_type": "slide"
    }
   },
   "source": [
    "<div align=\"middle\"><img src=\"ressources/prof06.png\" width=600px></div>"
   ]
  },
  {
   "cell_type": "markdown",
   "metadata": {
    "slideshow": {
     "slide_type": "slide"
    }
   },
   "source": [
    "<div align=\"middle\"><img src=\"ressources/prof07.png\" width=600px></div>"
   ]
  },
  {
   "cell_type": "markdown",
   "metadata": {
    "slideshow": {
     "slide_type": "slide"
    }
   },
   "source": [
    "<div align=\"middle\"><img src=\"ressources/prof08.png\" width=600px></div>"
   ]
  },
  {
   "cell_type": "markdown",
   "metadata": {},
   "source": [
    "F n'a plus de voisin. Nous retournons à la dernière instruction."
   ]
  },
  {
   "cell_type": "markdown",
   "metadata": {
    "slideshow": {
     "slide_type": "slide"
    }
   },
   "source": [
    "<div align=\"middle\"><img src=\"ressources/prof09.png\" width=600px></div>"
   ]
  },
  {
   "cell_type": "markdown",
   "metadata": {
    "slideshow": {
     "slide_type": "slide"
    }
   },
   "source": [
    "<div align=\"middle\"><img src=\"ressources/prof10.png\" width=600px></div>"
   ]
  },
  {
   "cell_type": "markdown",
   "metadata": {
    "slideshow": {
     "slide_type": "slide"
    }
   },
   "source": [
    "<div align=\"middle\"><img src=\"ressources/prof11.png\" width=600px></div>"
   ]
  },
  {
   "cell_type": "markdown",
   "metadata": {
    "slideshow": {
     "slide_type": "slide"
    }
   },
   "source": [
    "#### 2.2.2 Formalisation"
   ]
  },
  {
   "cell_type": "markdown",
   "metadata": {},
   "source": [
    "- Initialisation: placer le sommet de départ dans la pile.\n",
    "- Tant qu'il reste des sommets dans la pile:\n",
    "    + Dépiler le premier sommet de la pile.\n",
    "    + S'il n'est pas marqué **visité**:\n",
    "        * Le marquer **visité**.\n",
    "        * Placer chaque voisin de ce sommet dans la pile."
   ]
  },
  {
   "cell_type": "markdown",
   "metadata": {
    "slideshow": {
     "slide_type": "notes"
    }
   },
   "source": [
    "Les sommets déjà visités peuvent revenir dans la pile... mais ne seront pas traités"
   ]
  },
  {
   "cell_type": "markdown",
   "metadata": {
    "slideshow": {
     "slide_type": "fragment"
    }
   },
   "source": [
    "#### Activité 2\n",
    "- Dérouler l'algorithme *à la main* et vérifier sa correction.\n",
    "- À l'aide de la classe *Graphe* du cours précédant, construire la représentation en mémoire du graphe.\n",
    "- Dans la classe *Graphe* ajouter la méthode **DFS(self, depart: str)$\\;\\rightarrow\\;$list** qui renvoie la liste des sommets visités avec un parcours en profondeur, en partant de *depart*.\n",
    "- Écrire la docstring de la méthode."
   ]
  },
  {
   "cell_type": "markdown",
   "metadata": {
    "slideshow": {
     "slide_type": "slide"
    }
   },
   "source": [
    "<div align=\"middle\">\n",
    "    <table>\n",
    "    <tr>\n",
    "        <td><img src=\"ressources/dfs01.png\" width=600px></td>\n",
    "        <td><table class=\"pile\">\n",
    "            <tr>\n",
    "                <td>I</td>\n",
    "            </tr>\n",
    "            </table></td>\n",
    "    </tr>\n",
    "    </table>\n",
    "</div>"
   ]
  },
  {
   "cell_type": "markdown",
   "metadata": {
    "slideshow": {
     "slide_type": "slide"
    }
   },
   "source": [
    "<div align=\"middle\">\n",
    "    <table>\n",
    "    <tr>\n",
    "        <td><img src=\"ressources/dfs02.png\" width=600px></td>\n",
    "        <td><table class=\"pile\">\n",
    "            <tr>\n",
    "                <td>H</td>\n",
    "            </tr>\n",
    "            </table></td>\n",
    "    </tr>\n",
    "    </table>\n",
    "</div>"
   ]
  },
  {
   "cell_type": "markdown",
   "metadata": {
    "slideshow": {
     "slide_type": "slide"
    }
   },
   "source": [
    "<div align=\"middle\">\n",
    "    <table>\n",
    "    <tr>\n",
    "        <td><img src=\"ressources/dfs03.png\" width=600px></td>\n",
    "        <td><table class=\"pile\">\n",
    "            <tr>\n",
    "                <td>I</td>                \n",
    "            </tr>\n",
    "            <tr>\n",
    "                <td>A</td>                \n",
    "            </tr>\n",
    "            <tr>\n",
    "                <td>G</td>                \n",
    "            </tr>\n",
    "            </table></td>\n",
    "    </tr>\n",
    "    </table>\n",
    "</div>"
   ]
  },
  {
   "cell_type": "markdown",
   "metadata": {
    "slideshow": {
     "slide_type": "slide"
    }
   },
   "source": [
    "<div align=\"middle\">\n",
    "    <table>\n",
    "    <tr>\n",
    "        <td><img src=\"ressources/dfs03.png\" width=600px></td>\n",
    "        <td><table class=\"pile\">\n",
    "            <tr>\n",
    "                <td>A</td>                \n",
    "            </tr>\n",
    "            <tr>\n",
    "                <td>G</td>                \n",
    "            </tr>\n",
    "            </table></td>\n",
    "    </tr>\n",
    "    </table>\n",
    "</div>"
   ]
  },
  {
   "cell_type": "markdown",
   "metadata": {
    "slideshow": {
     "slide_type": "-"
    }
   },
   "source": [
    "On dépile I: déjà visité."
   ]
  },
  {
   "cell_type": "markdown",
   "metadata": {
    "slideshow": {
     "slide_type": "slide"
    }
   },
   "source": [
    "<div align=\"middle\">\n",
    "    <table>\n",
    "    <tr>\n",
    "        <td><img src=\"ressources/dfs04.png\" width=600px></td>\n",
    "        <td><table class=\"pile\">\n",
    "            <tr>\n",
    "                <td>J</td>                \n",
    "            </tr>\n",
    "            <tr>\n",
    "                <td>C</td>                \n",
    "            </tr>\n",
    "            <tr>\n",
    "                <td>H</td>                \n",
    "            </tr>\n",
    "            <tr>\n",
    "                <td>G</td>                \n",
    "            </tr>\n",
    "            </table></td>\n",
    "    </tr>\n",
    "    </table>\n",
    "</div>"
   ]
  },
  {
   "cell_type": "markdown",
   "metadata": {
    "slideshow": {
     "slide_type": "slide"
    }
   },
   "source": [
    "<div align=\"middle\">\n",
    "    <table>\n",
    "    <tr>\n",
    "        <td><img src=\"ressources/dfs05.png\" width=600px></td>\n",
    "        <td><table class=\"pile\">\n",
    "            <tr>\n",
    "                <td>A</td>                \n",
    "            </tr>\n",
    "            <tr>\n",
    "                <td>D</td>                \n",
    "            </tr>\n",
    "            <tr>\n",
    "                <td>C</td>                \n",
    "            </tr>\n",
    "            <tr>\n",
    "                <td>H</td>                \n",
    "            </tr>\n",
    "            <tr>\n",
    "                <td>G</td>                \n",
    "            </tr>\n",
    "            </table></td>\n",
    "    </tr>\n",
    "    </table>\n",
    "</div>"
   ]
  },
  {
   "cell_type": "markdown",
   "metadata": {
    "slideshow": {
     "slide_type": "slide"
    }
   },
   "source": [
    "<div align=\"middle\">\n",
    "    <table>\n",
    "    <tr>\n",
    "        <td><img src=\"ressources/dfs05.png\" width=600px></td>\n",
    "        <td><table class=\"pile\">\n",
    "            <tr>\n",
    "                <td>D</td>                \n",
    "            </tr>\n",
    "            <tr>\n",
    "                <td>C</td>                \n",
    "            </tr>\n",
    "            <tr>\n",
    "                <td>H</td>                \n",
    "            </tr>\n",
    "            <tr>\n",
    "                <td>G</td>                \n",
    "            </tr>\n",
    "            </table></td>\n",
    "    </tr>\n",
    "    </table>\n",
    "</div>"
   ]
  },
  {
   "cell_type": "markdown",
   "metadata": {},
   "source": [
    "On dépile A: déjà visité."
   ]
  },
  {
   "cell_type": "markdown",
   "metadata": {
    "slideshow": {
     "slide_type": "slide"
    }
   },
   "source": [
    "<div align=\"middle\">\n",
    "    <table>\n",
    "    <tr>\n",
    "        <td><img src=\"ressources/dfs06.png\" width=600px></td>\n",
    "        <td><table class=\"pile\">\n",
    "            <tr>\n",
    "                <td>J</td>                \n",
    "            </tr>\n",
    "            <tr>\n",
    "                <td>C</td>                \n",
    "            </tr>\n",
    "            <tr>\n",
    "                <td>F</td>                \n",
    "            </tr>\n",
    "            <tr>\n",
    "                <td>C</td>                \n",
    "            </tr>\n",
    "            <tr>\n",
    "                <td>H</td>                \n",
    "            </tr>\n",
    "            <tr>\n",
    "                <td>G</td>                \n",
    "            </tr>\n",
    "            </table></td>\n",
    "    </tr>\n",
    "    </table>\n",
    "</div>"
   ]
  },
  {
   "cell_type": "markdown",
   "metadata": {
    "slideshow": {
     "slide_type": "slide"
    }
   },
   "source": [
    "<div align=\"middle\">\n",
    "    <table>\n",
    "    <tr>\n",
    "        <td><img src=\"ressources/dfs06.png\" width=600px></td>\n",
    "        <td><table class=\"pile\">\n",
    "            <tr>\n",
    "                <td>C</td>                \n",
    "            </tr>\n",
    "            <tr>\n",
    "                <td>F</td>                \n",
    "            </tr>\n",
    "            <tr>\n",
    "                <td>C</td>                \n",
    "            </tr>\n",
    "            <tr>\n",
    "                <td>H</td>                \n",
    "            </tr>\n",
    "            <tr>\n",
    "                <td>G</td>                \n",
    "            </tr>\n",
    "            </table></td>\n",
    "    </tr>\n",
    "    </table>\n",
    "</div>"
   ]
  },
  {
   "cell_type": "markdown",
   "metadata": {},
   "source": [
    "On dépile J: déjà visité."
   ]
  },
  {
   "cell_type": "markdown",
   "metadata": {
    "slideshow": {
     "slide_type": "slide"
    }
   },
   "source": [
    "<div align=\"middle\">\n",
    "    <table>\n",
    "    <tr>\n",
    "        <td><img src=\"ressources/dfs07.png\" width=600px></td>\n",
    "        <td><table class=\"pile\">\n",
    "            <tr>\n",
    "                <td>A</td>                \n",
    "            </tr>\n",
    "            <tr>\n",
    "                <td>D</td>                \n",
    "            </tr>\n",
    "            <tr>\n",
    "                <td>E</td>                \n",
    "            </tr>\n",
    "            <tr>\n",
    "                <td>F</td>                \n",
    "            </tr>\n",
    "            <tr>\n",
    "                <td>C</td>                \n",
    "            </tr>\n",
    "            <tr>\n",
    "                <td>H</td>                \n",
    "            </tr>\n",
    "            <tr>\n",
    "                <td>G</td>                \n",
    "            </tr>\n",
    "            </table></td>\n",
    "    </tr>\n",
    "    </table>\n",
    "</div>"
   ]
  },
  {
   "cell_type": "markdown",
   "metadata": {
    "slideshow": {
     "slide_type": "slide"
    }
   },
   "source": [
    "<div align=\"middle\">\n",
    "    <table>\n",
    "    <tr>\n",
    "        <td><img src=\"ressources/dfs07.png\" width=600px></td>\n",
    "        <td><table class=\"pile\">\n",
    "            <tr>\n",
    "                <td>D</td>                \n",
    "            </tr>\n",
    "            <tr>\n",
    "                <td>E</td>                \n",
    "            </tr>\n",
    "            <tr>\n",
    "                <td>F</td>                \n",
    "            </tr>\n",
    "            <tr>\n",
    "                <td>C</td>                \n",
    "            </tr>\n",
    "            <tr>\n",
    "                <td>H</td>                \n",
    "            </tr>\n",
    "            <tr>\n",
    "                <td>G</td>                \n",
    "            </tr>\n",
    "            </table></td>\n",
    "    </tr>\n",
    "    </table>\n",
    "</div>"
   ]
  },
  {
   "cell_type": "markdown",
   "metadata": {},
   "source": [
    "On dépile A: déjà visité."
   ]
  },
  {
   "cell_type": "markdown",
   "metadata": {
    "slideshow": {
     "slide_type": "slide"
    }
   },
   "source": [
    "<div align=\"middle\">\n",
    "    <table>\n",
    "    <tr>\n",
    "        <td><img src=\"ressources/dfs07.png\" width=600px></td>\n",
    "        <td><table class=\"pile\">\n",
    "            <tr>\n",
    "                <td>E</td>                \n",
    "            </tr>\n",
    "            <tr>\n",
    "                <td>F</td>                \n",
    "            </tr>\n",
    "            <tr>\n",
    "                <td>C</td>                \n",
    "            </tr>\n",
    "            <tr>\n",
    "                <td>H</td>                \n",
    "            </tr>\n",
    "            <tr>\n",
    "                <td>G</td>                \n",
    "            </tr>\n",
    "            </table></td>\n",
    "    </tr>\n",
    "    </table>\n",
    "</div>"
   ]
  },
  {
   "cell_type": "markdown",
   "metadata": {},
   "source": [
    "On dépile D: déjà visité."
   ]
  },
  {
   "cell_type": "markdown",
   "metadata": {
    "slideshow": {
     "slide_type": "slide"
    }
   },
   "source": [
    "<div align=\"middle\">\n",
    "    <table>\n",
    "    <tr>\n",
    "        <td><img src=\"ressources/dfs08.png\" width=600px></td>\n",
    "        <td><table class=\"pile\">\n",
    "            <tr>\n",
    "                <td>C</td>                \n",
    "            </tr>\n",
    "            <tr>\n",
    "                <td>B</td>                \n",
    "            </tr>\n",
    "            <tr>\n",
    "                <td>F</td>                \n",
    "            </tr>\n",
    "            <tr>\n",
    "                <td>C</td>                \n",
    "            </tr>\n",
    "            <tr>\n",
    "                <td>H</td>                \n",
    "            </tr>\n",
    "            <tr>\n",
    "                <td>G</td>                \n",
    "            </tr>\n",
    "            </table></td>\n",
    "    </tr>\n",
    "    </table>\n",
    "</div>"
   ]
  },
  {
   "cell_type": "markdown",
   "metadata": {
    "slideshow": {
     "slide_type": "slide"
    }
   },
   "source": [
    "<div align=\"middle\">\n",
    "    <table>\n",
    "    <tr>\n",
    "        <td><img src=\"ressources/dfs08.png\" width=600px></td>\n",
    "        <td><table class=\"pile\">\n",
    "            <tr>\n",
    "                <td>B</td>                \n",
    "            </tr>\n",
    "            <tr>\n",
    "                <td>F</td>                \n",
    "            </tr>\n",
    "            <tr>\n",
    "                <td>C</td>                \n",
    "            </tr>\n",
    "            <tr>\n",
    "                <td>H</td>                \n",
    "            </tr>\n",
    "            <tr>\n",
    "                <td>G</td>                \n",
    "            </tr>\n",
    "            </table></td>\n",
    "    </tr>\n",
    "    </table>\n",
    "</div>"
   ]
  },
  {
   "cell_type": "markdown",
   "metadata": {},
   "source": [
    "On dépile C: déjà visité."
   ]
  },
  {
   "cell_type": "markdown",
   "metadata": {
    "slideshow": {
     "slide_type": "slide"
    }
   },
   "source": [
    "<div align=\"middle\">\n",
    "    <table>\n",
    "    <tr>\n",
    "        <td><img src=\"ressources/dfs09.png\" width=600px></td>\n",
    "        <td><table class=\"pile\">\n",
    "            <tr>\n",
    "                <td>E</td>                \n",
    "            </tr>\n",
    "            <tr>\n",
    "                <td>F</td>                \n",
    "            </tr>\n",
    "            <tr>\n",
    "                <td>C</td>                \n",
    "            </tr>\n",
    "            <tr>\n",
    "                <td>H</td>                \n",
    "            </tr>\n",
    "            <tr>\n",
    "                <td>G</td>                \n",
    "            </tr>\n",
    "            </table></td>\n",
    "    </tr>\n",
    "    </table>\n",
    "</div>"
   ]
  },
  {
   "cell_type": "markdown",
   "metadata": {
    "slideshow": {
     "slide_type": "slide"
    }
   },
   "source": [
    "<div align=\"middle\">\n",
    "    <table>\n",
    "    <tr>\n",
    "        <td><img src=\"ressources/dfs09.png\" width=600px></td>\n",
    "        <td><table class=\"pile\">\n",
    "            <tr>\n",
    "                <td>F</td>                \n",
    "            </tr>\n",
    "            <tr>\n",
    "                <td>C</td>                \n",
    "            </tr>\n",
    "            <tr>\n",
    "                <td>H</td>                \n",
    "            </tr>\n",
    "            <tr>\n",
    "                <td>G</td>                \n",
    "            </tr>\n",
    "            </table></td>\n",
    "    </tr>\n",
    "    </table>\n",
    "</div>"
   ]
  },
  {
   "cell_type": "markdown",
   "metadata": {},
   "source": [
    "On dépile E: déjà visité."
   ]
  },
  {
   "cell_type": "markdown",
   "metadata": {
    "slideshow": {
     "slide_type": "slide"
    }
   },
   "source": [
    "<div align=\"middle\">\n",
    "    <table>\n",
    "    <tr>\n",
    "        <td><img src=\"ressources/dfs10.png\" width=600px></td>\n",
    "        <td><table class=\"pile\">\n",
    "            <tr>\n",
    "                <td>C</td>                \n",
    "            </tr>\n",
    "            <tr>\n",
    "                <td>H</td>                \n",
    "            </tr>\n",
    "            <tr>\n",
    "                <td>G</td>                \n",
    "            </tr>\n",
    "            </table></td>\n",
    "    </tr>\n",
    "    </table>\n",
    "</div>"
   ]
  },
  {
   "cell_type": "markdown",
   "metadata": {
    "slideshow": {
     "slide_type": "slide"
    }
   },
   "source": [
    "<div align=\"middle\">\n",
    "    <table>\n",
    "    <tr>\n",
    "        <td><img src=\"ressources/dfs10.png\" width=600px></td>\n",
    "        <td><table class=\"pile\">\n",
    "            <tr>\n",
    "                <td>G</td>                \n",
    "            </tr>\n",
    "            </table></td>\n",
    "    </tr>\n",
    "    </table>\n",
    "</div>"
   ]
  },
  {
   "cell_type": "markdown",
   "metadata": {},
   "source": [
    "On dépile C, H: déjà visités."
   ]
  },
  {
   "cell_type": "markdown",
   "metadata": {
    "slideshow": {
     "slide_type": "slide"
    }
   },
   "source": [
    "<div align=\"middle\">\n",
    "    <table>\n",
    "    <tr>\n",
    "        <td><img src=\"ressources/dfs11.png\" width=600px></td>\n",
    "        <td><table class=\"pile\">\n",
    "            <tr>\n",
    "                <td></td>                \n",
    "            </tr>\n",
    "            </table></td>\n",
    "    </tr>\n",
    "    </table>\n",
    "</div>"
   ]
  },
  {
   "cell_type": "code",
   "execution_count": 1,
   "metadata": {
    "slideshow": {
     "slide_type": "slide"
    }
   },
   "outputs": [],
   "source": [
    "class Graphe:\n",
    "    \"\"\"\n",
    "    Crée un graphe sous forme de dictionnaire d'adjacence\n",
    "    \"\"\"\n",
    "\n",
    "    def __init__(self):\n",
    "        self.sommets = {}\n",
    "\n",
    "    def ajouter_sommet(self, s)->None:\n",
    "        if not(s in self.sommets):\n",
    "            self.sommets[s] = set()\n",
    "\n",
    "    def ajouter_arete(self, s1, s2)->None:\n",
    "        self.ajouter_sommet(s1)\n",
    "        self.ajouter_sommet(s2)\n",
    "        self.sommets[s1].add(s2)\n",
    "        self.sommets[s2].add(s1)\n",
    "\n",
    "    def sont_relies(self, s1, s2)->bool:\n",
    "        return s1 in self.sommets[s2]\n",
    "\n",
    "    def get_adjacents(self, s)->set:\n",
    "        return self.sommets[s]\n",
    "\n",
    "    def get_sommets(self)->list:\n",
    "        return list(self.sommets)"
   ]
  },
  {
   "cell_type": "code",
   "execution_count": 2,
   "metadata": {
    "slideshow": {
     "slide_type": "slide"
    }
   },
   "outputs": [],
   "source": [
    "g = Graphe()\n",
    "g.ajouter_arete(\"I\", \"H\")\n",
    "g.ajouter_arete(\"G\", \"H\")\n",
    "g.ajouter_arete(\"A\", \"H\")\n",
    "g.ajouter_arete(\"E\", \"B\")\n",
    "g.ajouter_arete(\"A\", \"C\")\n",
    "g.ajouter_arete(\"E\", \"C\")\n",
    "g.ajouter_arete(\"A\", \"J\")\n",
    "g.ajouter_arete(\"D\", \"C\")\n",
    "g.ajouter_arete(\"J\", \"D\")\n",
    "g.ajouter_arete(\"D\", \"F\")"
   ]
  },
  {
   "cell_type": "code",
   "execution_count": 3,
   "metadata": {
    "slideshow": {
     "slide_type": "slide"
    }
   },
   "outputs": [],
   "source": [
    "class Noeud:\n",
    "    def __init__(self,e,s):\n",
    "        self.donnees = e\n",
    "        self.successeur = s\n",
    "\n",
    "\n",
    "class Pile:\n",
    "    def __init__(self):\n",
    "        self.dernier = None\n",
    "\n",
    "    def est_vide(self):\n",
    "        return self.dernier is None\n",
    "\n",
    "    def empiler(self,e):\n",
    "        self.dernier = Noeud(e,self.dernier)\n",
    "\n",
    "    def depiler(self):\n",
    "        if not self.est_vide():\n",
    "            res = self.dernier.donnees\n",
    "            self.dernier = self.dernier.successeur\n",
    "            return res"
   ]
  },
  {
   "cell_type": "code",
   "execution_count": null,
   "metadata": {
    "slideshow": {
     "slide_type": "slide"
    }
   },
   "outputs": [],
   "source": [
    "    def DFS(self,depart: str)->list:\n",
    "        p = Pile()\n",
    "        p.empiler(depart)\n",
    "        visites = []\n",
    "        \n",
    "        while not(p.est_vide()):\n",
    "            \n",
    "            en_cours = p.depiler()\n",
    "            if not(en_cours in visites):\n",
    "                \n",
    "                visites.append(en_cours)\n",
    "                for voisin in self.sommets[en_cours]:\n",
    "                    p.empiler(voisin)\n",
    "                    \n",
    "        return visites"
   ]
  },
  {
   "cell_type": "code",
   "execution_count": 4,
   "metadata": {
    "slideshow": {
     "slide_type": "skip"
    }
   },
   "outputs": [],
   "source": [
    "class Graphe:\n",
    "    \"\"\"\n",
    "    Crée un graphe sous forme de dictionnaire d'adjacence\n",
    "    \"\"\"\n",
    "\n",
    "    def __init__(self):\n",
    "        self.sommets = {}\n",
    "\n",
    "    def ajouter_sommet(self, s)->None:\n",
    "        if not(s in self.sommets):\n",
    "            self.sommets[s] = set()\n",
    "\n",
    "    def ajouter_arete(self, s1, s2)->None:\n",
    "        self.ajouter_sommet(s1)\n",
    "        self.ajouter_sommet(s2)\n",
    "        self.sommets[s1].add(s2)\n",
    "        self.sommets[s2].add(s1)\n",
    "\n",
    "    def sont_relies(self, s1, s2)->bool:\n",
    "        return s1 in self.sommets[s2]\n",
    "\n",
    "    def get_adjacents(self, s)->set:\n",
    "        return self.sommets[s]\n",
    "\n",
    "    def get_sommets(self)->list:\n",
    "        return list(self.sommets)\n",
    "\n",
    "    def DFS(self,depart: str)->list:\n",
    "        p = Pile()\n",
    "        p.empiler(depart)\n",
    "        visites = []\n",
    "        while not(p.est_vide()):\n",
    "            en_cours = p.depiler()\n",
    "            if not(en_cours in visites):\n",
    "                visites.append(en_cours)\n",
    "                for voisin in self.sommets[en_cours]:\n",
    "                    p.empiler(voisin)\n",
    "        return visites\n",
    "    \n",
    "    def est_connexe(self)->bool:\n",
    "        list_sommets = self.get_sommets()\n",
    "        return len(self.DFS(list_sommets[0])) == len(list_sommets)\n",
    "    \n",
    "    def BFS(self,depart: str)->list:\n",
    "        f=File()\n",
    "        f.enfiler(depart)\n",
    "        visites=[]\n",
    "        while not(f.est_vide()):\n",
    "            en_cours = f.defiler()\n",
    "            if not(en_cours in visites):\n",
    "                visites.append(en_cours)\n",
    "                for voisin in self.sommets[en_cours]:\n",
    "                    f.enfiler(voisin)\n",
    "        return visites\n",
    "    \n",
    "    def plus_court_chemin(self, depart: str, arrivee: str)->list:\n",
    "        f=File()\n",
    "        f.enfiler(depart)\n",
    "        visites=[]\n",
    "        distances = {depart: 0}\n",
    "        while not(f.est_vide()):\n",
    "            en_cours = f.defiler()\n",
    "            if not(en_cours in visites):\n",
    "                visites.append(en_cours)\n",
    "                for voisin in self.sommets[en_cours]:\n",
    "                    f.enfiler(voisin)\n",
    "                    # on remplit le tableau des distances\n",
    "                    if voisin not in distances:\n",
    "                        distances[voisin] = distances[en_cours]+1\n",
    "        return distances[arrivee]\n",
    "    \n",
    "    def plus_court_chemin_detail(self, depart: str, arrivee: str)->list:\n",
    "        f = File()\n",
    "        f.enfiler(depart)\n",
    "        visites = []\n",
    "        predecesseur = {depart: None}\n",
    "        while not(f.est_vide()):\n",
    "            en_cours = f.defiler()\n",
    "            if not(en_cours in visites):\n",
    "                visites.append(en_cours)\n",
    "                for voisin in self.sommets[en_cours]:\n",
    "                    f.enfiler(voisin)\n",
    "                    # on remplit le tableau des prédecesseurs\n",
    "                    if voisin not in predecesseur:\n",
    "                        predecesseur[voisin] = en_cours\n",
    "        \n",
    "         # L'arrivée est-elle atteignable?\n",
    "        if not(arrivee in predecesseur):\n",
    "            \n",
    "            return None\n",
    "        \n",
    "        # reconstruction du chemin en partant de l'arrivée\n",
    "        chemin = []\n",
    "        position = arrivee\n",
    "        while position is not None:\n",
    "            chemin.append(position)\n",
    "            position = predecesseur[position]\n",
    "        # le chemin a été construit à l'envers\n",
    "        chemin.reverse()\n",
    "        return chemin\n",
    "    \n",
    "g = Graphe()\n",
    "g.ajouter_arete(\"I\", \"H\")\n",
    "g.ajouter_arete(\"G\", \"H\")\n",
    "g.ajouter_arete(\"A\", \"H\")\n",
    "g.ajouter_arete(\"E\", \"B\")\n",
    "g.ajouter_arete(\"A\", \"C\")\n",
    "g.ajouter_arete(\"E\", \"C\")\n",
    "g.ajouter_arete(\"A\", \"J\")\n",
    "g.ajouter_arete(\"D\", \"C\")\n",
    "g.ajouter_arete(\"J\", \"D\")\n",
    "g.ajouter_arete(\"D\", \"F\")"
   ]
  },
  {
   "cell_type": "code",
   "execution_count": 5,
   "metadata": {
    "slideshow": {
     "slide_type": "fragment"
    }
   },
   "outputs": [
    {
     "data": {
      "text/plain": [
       "['I', 'H', 'A', 'C', 'E', 'B', 'D', 'F', 'J', 'G']"
      ]
     },
     "execution_count": 5,
     "metadata": {},
     "output_type": "execute_result"
    }
   ],
   "source": [
    "g.DFS(\"I\")"
   ]
  },
  {
   "cell_type": "markdown",
   "metadata": {
    "slideshow": {
     "slide_type": "slide"
    }
   },
   "source": [
    "#### 2.2.3 Efficacité\n",
    "Proportionnel au nombre d'arêtes"
   ]
  },
  {
   "cell_type": "markdown",
   "metadata": {
    "slideshow": {
     "slide_type": "slide"
    }
   },
   "source": [
    "### 2.3 Vérifier la connexité\n",
    "#### Activité 3\n",
    "Écrire la méthode **est\\_connexe(self)$\\;\\rightarrow\\;$bool** qui renvoie *True* si le graphe est connexe."
   ]
  },
  {
   "cell_type": "markdown",
   "metadata": {
    "slideshow": {
     "slide_type": "notes"
    }
   },
   "source": [
    "Il suffit de vérifier si le nombre de sommets atteignables avec un parcours en profondeur correspond au nombre total de sommets du graphe."
   ]
  },
  {
   "cell_type": "code",
   "execution_count": null,
   "metadata": {
    "slideshow": {
     "slide_type": "fragment"
    }
   },
   "outputs": [],
   "source": [
    "    def est_connexe(self)->bool:\n",
    "        list_sommets = self.get_sommets()\n",
    "        return len(self.DFS(list_sommets[0])) == len(list_sommets)"
   ]
  },
  {
   "cell_type": "code",
   "execution_count": 6,
   "metadata": {
    "slideshow": {
     "slide_type": "fragment"
    }
   },
   "outputs": [
    {
     "data": {
      "text/plain": [
       "True"
      ]
     },
     "execution_count": 6,
     "metadata": {},
     "output_type": "execute_result"
    }
   ],
   "source": [
    "g.est_connexe()"
   ]
  },
  {
   "cell_type": "markdown",
   "metadata": {
    "slideshow": {
     "slide_type": "slide"
    }
   },
   "source": [
    "## 3. Plus court chemin\n",
    "### 3.1 Définition\n",
    "Le plus court chemin entre deux sommets correspond au nombre minimal d'arêtes pour relier ces deux sommets."
   ]
  },
  {
   "cell_type": "markdown",
   "metadata": {
    "slideshow": {
     "slide_type": "slide"
    }
   },
   "source": [
    "### 3.2 Parcours en largeur (Breadth First Search)\n",
    "#### 3.2.1 Méthodologie\n",
    "La stratégie consiste en la visite de tous les sommets à la distance 1 du sommet de départ, puis tous ceux à la distance 2 et ainsi de suite."
   ]
  },
  {
   "cell_type": "markdown",
   "metadata": {
    "slideshow": {
     "slide_type": "fragment"
    }
   },
   "source": [
    "#### Activité 4\n",
    "Choisir un sommet et parcourir le graphe *à la main* en détaillant le protocole appliqué."
   ]
  },
  {
   "cell_type": "markdown",
   "metadata": {
    "slideshow": {
     "slide_type": "slide"
    }
   },
   "source": [
    "<div align=\"middle\"><img src=\"ressources/larg01.png\" width=600px></div>"
   ]
  },
  {
   "cell_type": "markdown",
   "metadata": {
    "slideshow": {
     "slide_type": "slide"
    }
   },
   "source": [
    "<div align=\"middle\"><img src=\"ressources/larg02.png\" width=600px></div>"
   ]
  },
  {
   "cell_type": "markdown",
   "metadata": {
    "slideshow": {
     "slide_type": "slide"
    }
   },
   "source": [
    "<div align=\"middle\"><img src=\"ressources/larg03.png\" width=600px></div>"
   ]
  },
  {
   "cell_type": "markdown",
   "metadata": {
    "slideshow": {
     "slide_type": "slide"
    }
   },
   "source": [
    "<div align=\"middle\"><img src=\"ressources/larg04.png\" width=600px></div>"
   ]
  },
  {
   "cell_type": "markdown",
   "metadata": {
    "slideshow": {
     "slide_type": "slide"
    }
   },
   "source": [
    "<div align=\"middle\"><img src=\"ressources/larg05.png\" width=600px></div>"
   ]
  },
  {
   "cell_type": "markdown",
   "metadata": {
    "slideshow": {
     "slide_type": "slide"
    }
   },
   "source": [
    "#### 3.2.2 Formalisation"
   ]
  },
  {
   "cell_type": "markdown",
   "metadata": {},
   "source": [
    "- Initialisation: placer le sommet de départ dans la file.\n",
    "- Tant qu'il reste des sommets dans la file:\n",
    "    + Défiler le premier sommet de la file.\n",
    "    + S'il n'est pas marqué **visité**:\n",
    "        * Le marquer **visité**.\n",
    "        * Placer chaque voisin de ce sommet dans la file."
   ]
  },
  {
   "cell_type": "markdown",
   "metadata": {
    "slideshow": {
     "slide_type": "fragment"
    }
   },
   "source": [
    "#### Activité 5\n",
    "- Dérouler l'algorithme *à la main* et vérifier sa correction.\n",
    "- Dans la classe *Graphe* ajouter la méthode **BFS(self, depart: str)$\\;\\rightarrow\\;$list** qui renvoie la liste des sommets visités avec un parcours en largeur, en partant de *depart*."
   ]
  },
  {
   "cell_type": "markdown",
   "metadata": {
    "slideshow": {
     "slide_type": "slide"
    }
   },
   "source": [
    "<div align=\"middle\">\n",
    "    <table>\n",
    "    <tr>\n",
    "        <td><img src=\"ressources/bfs01.png\" width=600px></td>\n",
    "    </tr>\n",
    "    <tr>\n",
    "        <td><table class=\"pile\">\n",
    "            <tr>\n",
    "                <td>H</td>                \n",
    "            </tr>\n",
    "            </table></td>\n",
    "    </tr>\n",
    "    </table>\n",
    "</div>"
   ]
  },
  {
   "cell_type": "markdown",
   "metadata": {
    "slideshow": {
     "slide_type": "slide"
    }
   },
   "source": [
    "<div align=\"middle\">\n",
    "    <table>\n",
    "    <tr>\n",
    "        <td><img src=\"ressources/bfs02.png\" width=600px></td>\n",
    "    </tr>\n",
    "    <tr>\n",
    "        <td><table class=\"pile\">\n",
    "            <tr>\n",
    "                <td>I</td>  \n",
    "                <td>G</td>  \n",
    "                <td>A</td>  \n",
    "            </tr>\n",
    "            </table></td>\n",
    "    </tr>\n",
    "    </table>\n",
    "</div>"
   ]
  },
  {
   "cell_type": "markdown",
   "metadata": {
    "slideshow": {
     "slide_type": "slide"
    }
   },
   "source": [
    "<div align=\"middle\">\n",
    "    <table>\n",
    "    <tr>\n",
    "        <td><img src=\"ressources/bfs03.png\" width=600px></td>\n",
    "    </tr>\n",
    "    <tr>\n",
    "        <td><table class=\"pile\">\n",
    "            <tr>\n",
    "                <td>J</td>  \n",
    "                <td>C</td>\n",
    "                <td>H</td>\n",
    "                <td>I</td>  \n",
    "                <td>G</td>  \n",
    "            </tr>\n",
    "            </table></td>\n",
    "    </tr>\n",
    "    </table>\n",
    "</div>"
   ]
  },
  {
   "cell_type": "markdown",
   "metadata": {
    "slideshow": {
     "slide_type": "slide"
    }
   },
   "source": [
    "<div align=\"middle\">\n",
    "    <table>\n",
    "    <tr>\n",
    "        <td><img src=\"ressources/bfs04.png\" width=600px></td>\n",
    "    </tr>\n",
    "    <tr>\n",
    "        <td><table class=\"pile\">\n",
    "            <tr>\n",
    "                <td>H</td> \n",
    "                <td>J</td>  \n",
    "                <td>C</td>\n",
    "                <td>H</td>\n",
    "                <td>I</td>  \n",
    "            </tr>\n",
    "            </table></td>\n",
    "    </tr>\n",
    "    </table>\n",
    "</div>"
   ]
  },
  {
   "cell_type": "markdown",
   "metadata": {
    "slideshow": {
     "slide_type": "slide"
    }
   },
   "source": [
    "<div align=\"middle\">\n",
    "    <table>\n",
    "    <tr>\n",
    "        <td><img src=\"ressources/bfs05.png\" width=600px></td>\n",
    "    </tr>\n",
    "    <tr>\n",
    "        <td><table class=\"pile\">\n",
    "            <tr>                \n",
    "                <td>H</td> \n",
    "                <td>H</td> \n",
    "                <td>J</td>  \n",
    "                <td>C</td>\n",
    "                <td>H</td> \n",
    "            </tr>\n",
    "            </table></td>\n",
    "    </tr>\n",
    "    </table>\n",
    "</div>"
   ]
  },
  {
   "cell_type": "markdown",
   "metadata": {
    "slideshow": {
     "slide_type": "slide"
    }
   },
   "source": [
    "<div align=\"middle\">\n",
    "    <table>\n",
    "    <tr>\n",
    "        <td><img src=\"ressources/bfs05.png\" width=600px></td>\n",
    "    </tr>\n",
    "    <tr>\n",
    "        <td><table class=\"pile\">\n",
    "            <tr>                \n",
    "                <td>H</td> \n",
    "                <td>H</td> \n",
    "                <td>J</td>  \n",
    "                <td>C</td>\n",
    "            </tr>\n",
    "            </table></td>\n",
    "    </tr>\n",
    "    </table>\n",
    "</div>"
   ]
  },
  {
   "cell_type": "markdown",
   "metadata": {},
   "source": [
    "On défile H: déjà visité."
   ]
  },
  {
   "cell_type": "markdown",
   "metadata": {
    "slideshow": {
     "slide_type": "slide"
    }
   },
   "source": [
    "<div align=\"middle\">\n",
    "    <table>\n",
    "    <tr>\n",
    "        <td><img src=\"ressources/bfs06.png\" width=600px></td>\n",
    "    </tr>\n",
    "    <tr>\n",
    "        <td><table class=\"pile\">\n",
    "            <tr> \n",
    "                <td>D</td>\n",
    "                <td>E</td>\n",
    "                <td>A</td>\n",
    "                <td>H</td> \n",
    "                <td>H</td> \n",
    "                <td>J</td>                 \n",
    "            </tr>\n",
    "            </table></td>\n",
    "    </tr>\n",
    "    </table>\n",
    "</div>"
   ]
  },
  {
   "cell_type": "markdown",
   "metadata": {
    "slideshow": {
     "slide_type": "slide"
    }
   },
   "source": [
    "<div align=\"middle\">\n",
    "    <table>\n",
    "    <tr>\n",
    "        <td><img src=\"ressources/bfs07.png\" width=600px></td>\n",
    "    </tr>\n",
    "    <tr>\n",
    "        <td><table class=\"pile\">\n",
    "            <tr> \n",
    "                <td>D</td>\n",
    "                <td>A</td>\n",
    "                <td>D</td>\n",
    "                <td>E</td>\n",
    "                <td>A</td>\n",
    "                <td>H</td> \n",
    "                <td>H</td>                 \n",
    "            </tr>\n",
    "            </table></td>\n",
    "    </tr>\n",
    "    </table>\n",
    "</div>"
   ]
  },
  {
   "cell_type": "markdown",
   "metadata": {
    "slideshow": {
     "slide_type": "slide"
    }
   },
   "source": [
    "<div align=\"middle\">\n",
    "    <table>\n",
    "    <tr>\n",
    "        <td><img src=\"ressources/bfs07.png\" width=600px></td>\n",
    "    </tr>\n",
    "    <tr>\n",
    "        <td><table class=\"pile\">\n",
    "            <tr> \n",
    "                <td>D</td>\n",
    "                <td>A</td>\n",
    "                <td>D</td>\n",
    "                <td>E</td>              \n",
    "            </tr>\n",
    "            </table></td>\n",
    "    </tr>\n",
    "    </table>\n",
    "</div>"
   ]
  },
  {
   "cell_type": "markdown",
   "metadata": {},
   "source": [
    "On défile H (2 fois), puis A: déjà visités."
   ]
  },
  {
   "cell_type": "markdown",
   "metadata": {
    "slideshow": {
     "slide_type": "slide"
    }
   },
   "source": [
    "<div align=\"middle\">\n",
    "    <table>\n",
    "    <tr>\n",
    "        <td><img src=\"ressources/bfs08.png\" width=600px></td>\n",
    "    </tr>\n",
    "    <tr>\n",
    "        <td><table class=\"pile\">\n",
    "            <tr> \n",
    "                <td>B</td>\n",
    "                <td>C</td>\n",
    "                <td>D</td>\n",
    "                <td>A</td>\n",
    "                <td>D</td>            \n",
    "            </tr>\n",
    "            </table></td>\n",
    "    </tr>\n",
    "    </table>\n",
    "</div>"
   ]
  },
  {
   "cell_type": "markdown",
   "metadata": {
    "slideshow": {
     "slide_type": "slide"
    }
   },
   "source": [
    "<div align=\"middle\">\n",
    "    <table>\n",
    "    <tr>\n",
    "        <td><img src=\"ressources/bfs09.png\" width=600px></td>\n",
    "    </tr>\n",
    "    <tr>\n",
    "        <td><table class=\"pile\">\n",
    "            <tr> \n",
    "                <td>F</td>\n",
    "                <td>C</td>\n",
    "                <td>J</td>\n",
    "                <td>B</td>\n",
    "                <td>C</td>\n",
    "                <td>D</td>\n",
    "                <td>A</td>                            \n",
    "            </tr>\n",
    "            </table></td>\n",
    "    </tr>\n",
    "    </table>\n",
    "</div>"
   ]
  },
  {
   "cell_type": "markdown",
   "metadata": {
    "slideshow": {
     "slide_type": "slide"
    }
   },
   "source": [
    "<div align=\"middle\">\n",
    "    <table>\n",
    "    <tr>\n",
    "        <td><img src=\"ressources/bfs09.png\" width=600px></td>\n",
    "    </tr>\n",
    "    <tr>\n",
    "        <td><table class=\"pile\">\n",
    "            <tr> \n",
    "                <td>F</td>\n",
    "                <td>C</td>\n",
    "                <td>J</td>\n",
    "                <td>B</td>                          \n",
    "            </tr>\n",
    "            </table></td>\n",
    "    </tr>\n",
    "    </table>\n",
    "</div>"
   ]
  },
  {
   "cell_type": "markdown",
   "metadata": {},
   "source": [
    "On défile A, D, C: déjà visités."
   ]
  },
  {
   "cell_type": "markdown",
   "metadata": {
    "slideshow": {
     "slide_type": "slide"
    }
   },
   "source": [
    "<div align=\"middle\">\n",
    "    <table>\n",
    "    <tr>\n",
    "        <td><img src=\"ressources/bfs10.png\" width=600px></td>\n",
    "    </tr>\n",
    "    <tr>\n",
    "        <td><table class=\"pile\">\n",
    "            <tr> \n",
    "                <td>E</td>\n",
    "                <td>F</td>\n",
    "                <td>C</td>\n",
    "                <td>J</td>                         \n",
    "            </tr>\n",
    "            </table></td>\n",
    "    </tr>\n",
    "    </table>\n",
    "</div>"
   ]
  },
  {
   "cell_type": "markdown",
   "metadata": {
    "slideshow": {
     "slide_type": "slide"
    }
   },
   "source": [
    "<div align=\"middle\">\n",
    "    <table>\n",
    "    <tr>\n",
    "        <td><img src=\"ressources/bfs10.png\" width=600px></td>\n",
    "    </tr>\n",
    "    <tr>\n",
    "        <td><table class=\"pile\">\n",
    "            <tr> \n",
    "                <td>E</td>\n",
    "                <td>F</td>                        \n",
    "            </tr>\n",
    "            </table></td>\n",
    "    </tr>\n",
    "    </table>\n",
    "</div>"
   ]
  },
  {
   "cell_type": "markdown",
   "metadata": {},
   "source": [
    "On défile J, C: déjà visités."
   ]
  },
  {
   "cell_type": "markdown",
   "metadata": {
    "slideshow": {
     "slide_type": "slide"
    }
   },
   "source": [
    "<div align=\"middle\">\n",
    "    <table>\n",
    "    <tr>\n",
    "        <td><img src=\"ressources/bfs11.png\" width=600px></td>\n",
    "    </tr>\n",
    "    <tr>\n",
    "        <td><table class=\"pile\">\n",
    "            <tr> \n",
    "                <td>D</td>\n",
    "                <td>E</td>                        \n",
    "            </tr>\n",
    "            </table></td>\n",
    "    </tr>\n",
    "    </table>\n",
    "</div>"
   ]
  },
  {
   "cell_type": "markdown",
   "metadata": {
    "slideshow": {
     "slide_type": "slide"
    }
   },
   "source": [
    "<div align=\"middle\">\n",
    "    <table>\n",
    "    <tr>\n",
    "        <td><img src=\"ressources/bfs11.png\" width=600px></td>\n",
    "    </tr>\n",
    "    <tr>\n",
    "        <td><table class=\"pile\">\n",
    "            <tr> \n",
    "                <td> </td>                       \n",
    "            </tr>\n",
    "            </table></td>\n",
    "    </tr>\n",
    "    </table>\n",
    "</div>"
   ]
  },
  {
   "cell_type": "markdown",
   "metadata": {},
   "source": [
    "On défile E, D: déjà visités."
   ]
  },
  {
   "cell_type": "code",
   "execution_count": 7,
   "metadata": {
    "slideshow": {
     "slide_type": "slide"
    }
   },
   "outputs": [],
   "source": [
    "class File():\n",
    "    def __init__(self):\n",
    "        self.premier = None\n",
    "        self.dernier = None\n",
    "\n",
    "    def est_vide(self):\n",
    "        return self.premier == None\n",
    "\n",
    "    def enfiler(self,e):\n",
    "        if self.est_vide():\n",
    "            # 1 seul élément: le premier est le dernier également\n",
    "            self.premier = Noeud(e,None)\n",
    "            self.dernier = self.premier\n",
    "        else:\n",
    "            nouveau = Noeud(e,None)\n",
    "            # le dernier devient avant-dernier\n",
    "            self.dernier.successeur = nouveau\n",
    "            # le nouveau devient dernier\n",
    "            self.dernier = nouveau\n",
    "\n",
    "    def defiler(self):\n",
    "        if not self.est_vide():\n",
    "            res = self.premier.donnees\n",
    "            self.premier = self.premier.successeur\n",
    "            return res"
   ]
  },
  {
   "cell_type": "code",
   "execution_count": null,
   "metadata": {
    "slideshow": {
     "slide_type": "slide"
    }
   },
   "outputs": [],
   "source": [
    "    def BFS(self,depart: str)->list:\n",
    "        f = File()\n",
    "        f.enfiler(depart)\n",
    "        visites = []\n",
    "        \n",
    "        while not(f.est_vide()):\n",
    "            en_cours = f.defiler()\n",
    "            \n",
    "            if not(en_cours in visites):\n",
    "                visites.append(en_cours)\n",
    "                \n",
    "                for voisin in self.sommets[en_cours]:\n",
    "                    f.enfiler(voisin)\n",
    "                    \n",
    "        return visites"
   ]
  },
  {
   "cell_type": "code",
   "execution_count": 8,
   "metadata": {
    "slideshow": {
     "slide_type": "fragment"
    }
   },
   "outputs": [
    {
     "data": {
      "text/plain": [
       "['H', 'G', 'A', 'I', 'J', 'C', 'D', 'E', 'F', 'B']"
      ]
     },
     "execution_count": 8,
     "metadata": {},
     "output_type": "execute_result"
    }
   ],
   "source": [
    "g.BFS(\"H\")"
   ]
  },
  {
   "cell_type": "markdown",
   "metadata": {
    "slideshow": {
     "slide_type": "slide"
    }
   },
   "source": [
    "#### 3.2.3 Efficacité\n",
    "La complexité dépend du nombre d'arêtes du graphe."
   ]
  },
  {
   "cell_type": "markdown",
   "metadata": {
    "slideshow": {
     "slide_type": "slide"
    }
   },
   "source": [
    "### 3.3 Trouver le plus court chemin\n",
    "Pour trouver le chemin le plus court entre deux sommets il faut adapter le parcours en largeur pour qu'il retienne la distance entre *depart* et les autres sommets."
   ]
  },
  {
   "cell_type": "markdown",
   "metadata": {
    "slideshow": {
     "slide_type": "fragment"
    }
   },
   "source": [
    "#### Activité 6\n",
    "Écrire la méthode **plus_court_chemin(self, depart: str, arrivee: str)$\\;\\rightarrow\\;$int**, adaptation de *BFS* et qui renvoie le chemin entre *depart* et *arrivee*. Il sera nécessaire d'utiliser un dictionnaire **distances = {depart: 0}** qui retiendra les distances entre les sommets et *depart*."
   ]
  },
  {
   "cell_type": "code",
   "execution_count": null,
   "metadata": {
    "slideshow": {
     "slide_type": "slide"
    }
   },
   "outputs": [],
   "source": [
    "    def plus_court_chemin(self, depart: str, arrivee: str)->int:\n",
    "        f = File()\n",
    "        f.enfiler(depart)\n",
    "        visites = []\n",
    "        \n",
    "        distances = {depart: 0}\n",
    "        \n",
    "        while not(f.est_vide()):\n",
    "            en_cours = f.defiler()\n",
    "            if not(en_cours in visites):\n",
    "                visites.append(en_cours)\n",
    "                for voisin in self.sommets[en_cours]:\n",
    "                    f.enfiler(voisin)\n",
    "                    \n",
    "                    # on remplit le tableau des distances\n",
    "                    if voisin not in distances:\n",
    "                        distances[voisin] = distances[en_cours]+1\n",
    "                        \n",
    "        return distances[arrivee]"
   ]
  },
  {
   "cell_type": "code",
   "execution_count": 9,
   "metadata": {
    "slideshow": {
     "slide_type": "fragment"
    }
   },
   "outputs": [
    {
     "data": {
      "text/plain": [
       "3"
      ]
     },
     "execution_count": 9,
     "metadata": {},
     "output_type": "execute_result"
    }
   ],
   "source": [
    "g.plus_court_chemin(\"H\",\"D\")"
   ]
  },
  {
   "cell_type": "markdown",
   "metadata": {
    "slideshow": {
     "slide_type": "slide"
    }
   },
   "source": [
    "## 4. Application au parcours de CO"
   ]
  },
  {
   "cell_type": "markdown",
   "metadata": {},
   "source": [
    "#### Activité 7\n",
    "- Récupérer et modifier le fichier *json* pour réaliser la situation de la figure.\n",
    "- Tester les méthodes précédemment réalisées.\n",
    "- Écrire la méthode **plus_court_chemin_detail(self, depart: str, arrivee: str)$\\;\\rightarrow\\;$list**, adaptation de *plus_court_chemin* qui renvoie le chemin à parcourir pour atteindre *arrivee* depuis *depart*. Le processus se déroulera en deux étapes:\n",
    "     - déterminer le prédécesseur de chaque sommet,\n",
    "     - puis reconstruire le chemin à partir des prédécesseurs. La méthode renverra None si la balise n'est pas atteignable."
   ]
  },
  {
   "cell_type": "markdown",
   "metadata": {
    "slideshow": {
     "slide_type": "slide"
    }
   },
   "source": [
    "Dans le fichier json, il faut enlever les arêtes **pour chaque sommet**."
   ]
  },
  {
   "cell_type": "markdown",
   "metadata": {
    "slideshow": {
     "slide_type": "notes"
    }
   },
   "source": [
    "recherche textuelle"
   ]
  },
  {
   "cell_type": "code",
   "execution_count": 10,
   "metadata": {
    "slideshow": {
     "slide_type": "slide"
    }
   },
   "outputs": [
    {
     "name": "stdout",
     "output_type": "stream",
     "text": [
      "False\n",
      "[75, 25, 14, 49, 30, 34, 18, 19, 7, 45, 17, 43, 21, 10, 65, 71, 70]\n",
      "[75, 65, 70, 43, 45, 25, 49, 71, 10, 19, 21, 7, 17, 14, 30, 18, 34]\n",
      "3\n"
     ]
    }
   ],
   "source": [
    "import json\n",
    "\n",
    "parcours_noir = Graphe()\n",
    "\n",
    "with open(\"scripts/parcours_noir.json\", \"r\") as fichier:\n",
    "    data = json.load(fichier)\n",
    "    \"\"\"\n",
    "    data[\"sommets\"] est une liste de dictionnaires\n",
    "    chacun de ces dictionnaires contient:\n",
    "            le sommet\n",
    "            la liste des ses adjacents\n",
    "    \"\"\"\n",
    "    for dico in data[\"sommets\"]:\n",
    "        for adj in dico[\"adjacents\"]:\n",
    "            parcours_noir.ajouter_arete(dico[\"sommet\"], adj)\n",
    "\n",
    "print(parcours_noir.est_connexe())\n",
    "print(parcours_noir.DFS(75))\n",
    "print(parcours_noir.BFS(75))\n",
    "print(parcours_noir.plus_court_chemin(75,34))"
   ]
  },
  {
   "cell_type": "code",
   "execution_count": null,
   "metadata": {
    "slideshow": {
     "slide_type": "slide"
    }
   },
   "outputs": [],
   "source": [
    "    def plus_court_chemin_detail(self, depart: str, arrivee: str)->list:\n",
    "        f = File()\n",
    "        f.enfiler(depart)\n",
    "        visites = []\n",
    "        predecesseur = {depart: None}\n",
    "        while not(f.est_vide()):\n",
    "            en_cours = f.defiler()\n",
    "            if not(en_cours in visites):\n",
    "                visites.append(en_cours)\n",
    "                for voisin in self.sommets[en_cours]:\n",
    "                    f.enfiler(voisin)\n",
    "                    # on remplit le tableau des prédecesseurs\n",
    "                    if voisin not in predecesseur:\n",
    "                        predecesseur[voisin] = en_cours\n",
    "        \n",
    "        # L'arrivée est-elle atteignable?\n",
    "        if not(arrivee in predecesseur):\n",
    "            return None\n",
    "        \n",
    "        # reconstruction du chemin en partant de l'arrivée\n",
    "        chemin = []\n",
    "        position = arrivee\n",
    "        while position is not None:\n",
    "            chemin.append(position)\n",
    "            position = predecesseur[position]\n",
    "        # le chemin a été construit à l'envers\n",
    "        chemin.reverse()\n",
    "        return chemin"
   ]
  },
  {
   "cell_type": "code",
   "execution_count": 11,
   "metadata": {
    "slideshow": {
     "slide_type": "slide"
    }
   },
   "outputs": [
    {
     "name": "stdout",
     "output_type": "stream",
     "text": [
      "[75, 45, 17, 34]\n"
     ]
    }
   ],
   "source": [
    "print(parcours_noir.plus_court_chemin_detail(75,34))"
   ]
  },
  {
   "cell_type": "code",
   "execution_count": 12,
   "metadata": {
    "slideshow": {
     "slide_type": "fragment"
    }
   },
   "outputs": [
    {
     "name": "stdout",
     "output_type": "stream",
     "text": [
      "None\n"
     ]
    }
   ],
   "source": [
    "print(parcours_noir.plus_court_chemin_detail(75,26))"
   ]
  }
 ],
 "metadata": {
  "celltoolbar": "Slideshow",
  "kernelspec": {
   "display_name": "Python 3",
   "language": "python",
   "name": "python3"
  },
  "language_info": {
   "codemirror_mode": {
    "name": "ipython",
    "version": 3
   },
   "file_extension": ".py",
   "mimetype": "text/x-python",
   "name": "python",
   "nbconvert_exporter": "python",
   "pygments_lexer": "ipython3",
   "version": "3.8.1"
  },
  "latex_envs": {
   "LaTeX_envs_menu_present": true,
   "autoclose": false,
   "autocomplete": true,
   "bibliofile": "biblio.bib",
   "cite_by": "apalike",
   "current_citInitial": 1,
   "eqLabelWithNumbers": true,
   "eqNumInitial": 1,
   "hotkeys": {
    "equation": "Ctrl-E",
    "itemize": "Ctrl-I"
   },
   "labels_anchors": false,
   "latex_user_defs": false,
   "report_style_numbering": true,
   "user_envs_cfg": false
  }
 },
 "nbformat": 4,
 "nbformat_minor": 4
}
