{
 "cells": [
  {
   "cell_type": "markdown",
   "metadata": {
    "slideshow": {
     "slide_type": "slide"
    }
   },
   "source": [
    "# Ma première page web"
   ]
  },
  {
   "cell_type": "markdown",
   "metadata": {
    "slideshow": {
     "slide_type": "fragment"
    }
   },
   "source": [
    "## 1. Problématique\n",
    "<div align=\"middle\"><h3>Créer une page web qui présente son orientation.</h3></div>"
   ]
  },
  {
   "cell_type": "markdown",
   "metadata": {
    "slideshow": {
     "slide_type": "slide"
    }
   },
   "source": [
    "## 2. Internet ou web?"
   ]
  },
  {
   "cell_type": "markdown",
   "metadata": {
    "slideshow": {
     "slide_type": "slide"
    }
   },
   "source": [
    "## Contexte historique\n",
    "<div align=\"middle\">\n",
    "<a href=\"https://cdn.knightlab.com/libs/timeline3/latest/embed/index.html?source=1XnMkBdjyl9xhwT3o4XTxlHypW0NGmiCY22cgRYOToEw&font=Default&lang=fr&initial_zoom=2&height=650\" target=_blank><img src=\"../../../retour.png\"></a>\n",
    "</div>"
   ]
  },
  {
   "cell_type": "markdown",
   "metadata": {
    "slideshow": {
     "slide_type": "slide"
    }
   },
   "source": [
    "## 3. Préparation de l'environnement\n",
    "Atom est un Environnement de Développement Intégré (EDI). Il permet de créer des pages web facilement."
   ]
  },
  {
   "cell_type": "markdown",
   "metadata": {
    "slideshow": {
     "slide_type": "slide"
    }
   },
   "source": [
    "## 4. Structure d'une page web\n",
    "**HTML** Un langage de balises"
   ]
  },
  {
   "cell_type": "code",
   "execution_count": null,
   "metadata": {
    "slideshow": {
     "slide_type": "slide"
    }
   },
   "outputs": [],
   "source": [
    "<html>\n",
    "\t<head>\n",
    "\t\n",
    "\t</head>\n",
    "\t<body>\n",
    "\t\n",
    "\t</body>\n",
    "</html>"
   ]
  },
  {
   "cell_type": "code",
   "execution_count": null,
   "metadata": {
    "slideshow": {
     "slide_type": "slide"
    }
   },
   "outputs": [],
   "source": [
    "<html>\n",
    "\t<head>\n",
    "\t\t<title>Titre de la page</title>\n",
    "\t</head>\n",
    "\t<body>\n",
    "\t\n",
    "\t</body>\n",
    "</html>"
   ]
  },
  {
   "cell_type": "code",
   "execution_count": null,
   "metadata": {
    "slideshow": {
     "slide_type": "slide"
    }
   },
   "outputs": [],
   "source": [
    "<html>\n",
    "\t<head>\n",
    "\t\t<title>Titre de la page</title>\n",
    "\t</head>\n",
    "\t<body>\n",
    "\t\t<h1>Chapitre I</h1>\n",
    "\t</body>\n",
    "</html>"
   ]
  },
  {
   "cell_type": "code",
   "execution_count": null,
   "metadata": {
    "slideshow": {
     "slide_type": "slide"
    }
   },
   "outputs": [],
   "source": [
    "<html>\n",
    "\t<head>\n",
    "\t\t<title>Titre de la page</title>\n",
    "\t</head>\n",
    "\t<body>\n",
    "\t\t<h1>Chapitre I</h1>\n",
    "\t\t<p>La NSI est trop cool!! Le programme est très riche:</p>\n",
    "\t</body>\n",
    "</html>"
   ]
  },
  {
   "cell_type": "code",
   "execution_count": null,
   "metadata": {
    "slideshow": {
     "slide_type": "slide"
    }
   },
   "outputs": [],
   "source": [
    "<html>\n",
    "\t<head>\n",
    "\t\t<title>Titre de la page</title>\n",
    "\t</head>\n",
    "\t<body>\n",
    "\t\t<h1>Chapitre I</h1>\n",
    "\t\t<p>La NSI est trop cool!! Le programme est très riche:</p>\n",
    "\t\t<ul>\n",
    "\t\t\t<li>Programmation</li>\n",
    "\t\t\t<li>Algorithmie</li>\n",
    "\t\t\t<li>Architecture machine</li>\n",
    "\t\t\t<li>Langages du web</li>\n",
    "\t\t</ul>\n",
    "\t</body>\n",
    "</html>"
   ]
  },
  {
   "cell_type": "code",
   "execution_count": null,
   "metadata": {
    "slideshow": {
     "slide_type": "slide"
    }
   },
   "outputs": [],
   "source": [
    "<html>\n",
    "\t<head>\n",
    "\t\t<title>Titre de la page</title>\n",
    "\t</head>\n",
    "\t<body>\n",
    "\t\t<h1>Chapitre I</h1>\n",
    "\t\t<p>La NSI est trop cool!! Le programme est très riche:</p>\n",
    "\t\t<ul>\n",
    "\t\t\t<li>Programmation</li>\n",
    "\t\t\t<li>Algorithmie</li>\n",
    "\t\t\t<li>Architecture machine</li>\n",
    "\t\t\t<li>Langages du web</li>\n",
    "\t\t</ul>\n",
    "\t\t<a href=\"https://cviroulaud.github.io\">Les cours de NSI</a>\n",
    "\t</body>\n",
    "</html>"
   ]
  },
  {
   "cell_type": "code",
   "execution_count": null,
   "metadata": {
    "slideshow": {
     "slide_type": "slide"
    }
   },
   "outputs": [],
   "source": [
    "<html>\n",
    "\t<head>\n",
    "\t\t<title>Titre de la page</title>\n",
    "\t</head>\n",
    "\t<body>\n",
    "\t\t<h1>Chapitre I</h1>\n",
    "\t\t<p>La NSI est trop cool!! Le programme est très riche:</p>\n",
    "\t\t<ul>\n",
    "\t\t\t<li>Programmation</li>\n",
    "\t\t\t<li>Algorithmie</li>\n",
    "\t\t\t<li>Architecture machine</li>\n",
    "\t\t\t<li>Langages du web</li>\n",
    "\t\t</ul>\n",
    "\t\t<a href=\"https://cviroulaud.github.io\">Les cours de NSI</a>\n",
    "\t\t<img src=\"images/nsi.png\">\n",
    "\t</body>\n",
    "</html>"
   ]
  },
  {
   "cell_type": "markdown",
   "metadata": {
    "slideshow": {
     "slide_type": "slide"
    }
   },
   "source": [
    "## 5. Création de la fiche de présentation\n",
    "\n",
    "<a href=\"ressources/premier-site/index.html\" target=_blank>Rendu dans Firefox</a>"
   ]
  }
 ],
 "metadata": {
  "celltoolbar": "Slideshow",
  "kernelspec": {
   "display_name": "Python 3",
   "language": "python",
   "name": "python3"
  },
  "language_info": {
   "codemirror_mode": {
    "name": "ipython",
    "version": 3
   },
   "file_extension": ".py",
   "mimetype": "text/x-python",
   "name": "python",
   "nbconvert_exporter": "python",
   "pygments_lexer": "ipython3",
   "version": "3.8.1"
  },
  "latex_envs": {
   "LaTeX_envs_menu_present": true,
   "autoclose": false,
   "autocomplete": true,
   "bibliofile": "biblio.bib",
   "cite_by": "apalike",
   "current_citInitial": 1,
   "eqLabelWithNumbers": true,
   "eqNumInitial": 1,
   "hotkeys": {
    "equation": "Ctrl-E",
    "itemize": "Ctrl-I"
   },
   "labels_anchors": false,
   "latex_user_defs": false,
   "report_style_numbering": true,
   "user_envs_cfg": false
  }
 },
 "nbformat": 4,
 "nbformat_minor": 4
}
