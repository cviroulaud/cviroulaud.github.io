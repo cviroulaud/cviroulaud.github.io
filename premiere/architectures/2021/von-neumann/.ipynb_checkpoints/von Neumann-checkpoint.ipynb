{
 "cells": [
  {
   "cell_type": "markdown",
   "metadata": {
    "slideshow": {
     "slide_type": "slide"
    }
   },
   "source": [
    "# Composition d'un ordinateur"
   ]
  },
  {
   "cell_type": "markdown",
   "metadata": {
    "slideshow": {
     "slide_type": "slide"
    }
   },
   "source": [
    "## 1. Problématique"
   ]
  },
  {
   "cell_type": "markdown",
   "metadata": {
    "slideshow": {
     "slide_type": "fragment"
    }
   },
   "source": [
    "Une tablette, un smartphone, un ordinateur portable sont des objets du quotidien. Il s'agit d'objets qui reposent tous sur le même principe: l'ordinateur.\n",
    "<img src=\"ressources/inside-pc.jpg\" width=500px>"
   ]
  },
  {
   "cell_type": "markdown",
   "metadata": {
    "slideshow": {
     "slide_type": "fragment"
    }
   },
   "source": [
    "### Quels sont les concepts qui régissent le fonctionnement d'un ordinateur?"
   ]
  },
  {
   "cell_type": "markdown",
   "metadata": {
    "slideshow": {
     "slide_type": "slide"
    }
   },
   "source": [
    "## 2. Composants d'un ordinateur"
   ]
  },
  {
   "cell_type": "markdown",
   "metadata": {
    "slideshow": {
     "slide_type": "fragment"
    }
   },
   "source": [
    "- Unités de calcul: microprocesseur ou CPU (Control Processing Unit: Unité Centrale de Traitement)\n",
    "- Mémoire: barrettes de mémoire\n",
    "- Périphériques d'entrées-sorties: disque dur, lecteur DVD"
   ]
  },
  {
   "cell_type": "markdown",
   "metadata": {
    "slideshow": {
     "slide_type": "slide"
    }
   },
   "source": [
    "## Retour historique\n",
    "<a href=\"https://cdn.knightlab.com/libs/timeline3/latest/embed/index.html?source=1qAaUuftuF2YwfhE02LS3oPQndnwguZJ0Fm2J_nd_f5A&font=Default&lang=fr&initial_zoom=2&height=650\" target=_blank><img src=\"ressources/retour.png\"></a>"
   ]
  },
  {
   "cell_type": "markdown",
   "metadata": {
    "slideshow": {
     "slide_type": "slide"
    }
   },
   "source": [
    "## 3. Le modèle de von Neuman"
   ]
  },
  {
   "cell_type": "markdown",
   "metadata": {
    "slideshow": {
     "slide_type": "fragment"
    }
   },
   "source": [
    "John von Neuman est introduit dans le projet ENIAC en 1944. L'idée principale de son rapport est de faire que le programme soit enregistré dans la mémoire.\n",
    "\n",
    "L'ordinateur contemporain reprend l'architecture édictée par John von Neumann en 1945."
   ]
  },
  {
   "cell_type": "markdown",
   "metadata": {
    "slideshow": {
     "slide_type": "fragment"
    }
   },
   "source": [
    "<img src=\"ressources/von-neumann.png\" width=500px>"
   ]
  },
  {
   "cell_type": "markdown",
   "metadata": {
    "slideshow": {
     "slide_type": "slide"
    }
   },
   "source": [
    "## 3.1 CPU"
   ]
  },
  {
   "cell_type": "markdown",
   "metadata": {
    "slideshow": {
     "slide_type": "fragment"
    }
   },
   "source": [
    "### 3.1.1 Unité Arithmétique et Logique"
   ]
  },
  {
   "cell_type": "markdown",
   "metadata": {
    "slideshow": {
     "slide_type": "fragment"
    }
   },
   "source": [
    "Elle effectue les opérations arithmétiques et logiques. Elle est composée de plusieurs registres:\n",
    "- Registres de données: stocke données en cours d'utilisation,\n",
    "- Accumulateur: effectue les calculs"
   ]
  },
  {
   "cell_type": "markdown",
   "metadata": {
    "slideshow": {
     "slide_type": "fragment"
    }
   },
   "source": [
    "### 3.1.2 Unité de Contrôle"
   ]
  },
  {
   "cell_type": "markdown",
   "metadata": {
    "slideshow": {
     "slide_type": "fragment"
    }
   },
   "source": [
    "C'est le chef d'orchestre de l'ordinateur. Elle doit:\n",
    "- lire le programme,\n",
    "- décoder les instructions,\n",
    "- commander leur exécution (par l'UAL)."
   ]
  },
  {
   "cell_type": "markdown",
   "metadata": {
    "slideshow": {
     "slide_type": "slide"
    }
   },
   "source": [
    "## 3.2 Mémoire"
   ]
  },
  {
   "cell_type": "markdown",
   "metadata": {
    "slideshow": {
     "slide_type": "fragment"
    }
   },
   "source": [
    "### 3.2.1 Mémoire vive ou volatile"
   ]
  },
  {
   "cell_type": "markdown",
   "metadata": {
    "slideshow": {
     "slide_type": "fragment"
    }
   },
   "source": [
    "Elle contient à la fois les données et le programme qui indiquera à l’unité de contrôle quels sont les calculs à faire sur ces données. Les données stockées peuvent être lues, effacées, déplacées."
   ]
  },
  {
   "cell_type": "markdown",
   "metadata": {
    "slideshow": {
     "slide_type": "fragment"
    }
   },
   "source": [
    "### 3.2.2 Mémoire non volatile"
   ]
  },
  {
   "cell_type": "markdown",
   "metadata": {
    "slideshow": {
     "slide_type": "fragment"
    }
   },
   "source": [
    "Elle conserve ses données à l'extinction.\n",
    "\n",
    "_Exemple:_ mémoire ROM (Read Only Memory) qui contient données nécessaires au démarrage de l'ordinateur."
   ]
  },
  {
   "cell_type": "markdown",
   "metadata": {
    "slideshow": {
     "slide_type": "slide"
    }
   },
   "source": [
    "## 3.3 Entrées-sorties"
   ]
  },
  {
   "cell_type": "markdown",
   "metadata": {
    "slideshow": {
     "slide_type": "slide"
    }
   },
   "source": [
    "## 4. Limites du modèle"
   ]
  },
  {
   "cell_type": "markdown",
   "metadata": {
    "slideshow": {
     "slide_type": "fragment"
    }
   },
   "source": [
    "La différence entre vitesse des microprocesseurs (nombre d'opérations par seconde) et mémoire (temps d'accès) est très importante. Les CPU passeraient la majorité de leur temps à attendre."
   ]
  },
  {
   "cell_type": "markdown",
   "metadata": {
    "slideshow": {
     "slide_type": "fragment"
    }
   },
   "source": [
    "**C'est le goulot d'étranglement du modèle de von Neumann.**"
   ]
  },
  {
   "cell_type": "markdown",
   "metadata": {
    "slideshow": {
     "slide_type": "fragment"
    }
   },
   "source": [
    "Les fabricants ont inventés des *mémoires caches* proches du CPU. L'idée principale est qu'une donnée utilisée une fois a de grandes chances d'être utilisée plusieurs fois."
   ]
  }
 ],
 "metadata": {
  "celltoolbar": "Slideshow",
  "kernelspec": {
   "display_name": "Python 3",
   "language": "python",
   "name": "python3"
  },
  "language_info": {
   "codemirror_mode": {
    "name": "ipython",
    "version": 3
   },
   "file_extension": ".py",
   "mimetype": "text/x-python",
   "name": "python",
   "nbconvert_exporter": "python",
   "pygments_lexer": "ipython3",
   "version": "3.8.1"
  }
 },
 "nbformat": 4,
 "nbformat_minor": 4
}
