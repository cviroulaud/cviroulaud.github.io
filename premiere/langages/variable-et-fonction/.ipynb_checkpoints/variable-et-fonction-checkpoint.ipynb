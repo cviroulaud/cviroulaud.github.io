{
 "cells": [
  {
   "cell_type": "markdown",
   "metadata": {
    "slideshow": {
     "slide_type": "slide"
    }
   },
   "source": [
    "# Portée d'une variable"
   ]
  },
  {
   "cell_type": "markdown",
   "metadata": {
    "slideshow": {
     "slide_type": "slide"
    }
   },
   "source": [
    "## 1. Problématique"
   ]
  },
  {
   "cell_type": "code",
   "execution_count": 1,
   "metadata": {
    "slideshow": {
     "slide_type": "fragment"
    }
   },
   "outputs": [
    {
     "ename": "NameError",
     "evalue": "name 'a' is not defined",
     "output_type": "error",
     "traceback": [
      "\u001b[0;31m---------------------------------------------------------------------------\u001b[0m",
      "\u001b[0;31mNameError\u001b[0m                                 Traceback (most recent call last)",
      "\u001b[0;32m<ipython-input-1-faa6ef7224da>\u001b[0m in \u001b[0;36m<module>\u001b[0;34m\u001b[0m\n\u001b[1;32m      4\u001b[0m \u001b[0mune_fonction\u001b[0m\u001b[0;34m(\u001b[0m\u001b[0;34m)\u001b[0m\u001b[0;34m\u001b[0m\u001b[0;34m\u001b[0m\u001b[0m\n\u001b[1;32m      5\u001b[0m \u001b[0;31m# erreur d'exécution\u001b[0m\u001b[0;34m\u001b[0m\u001b[0;34m\u001b[0m\u001b[0;34m\u001b[0m\u001b[0m\n\u001b[0;32m----> 6\u001b[0;31m \u001b[0mprint\u001b[0m\u001b[0;34m(\u001b[0m\u001b[0ma\u001b[0m\u001b[0;34m)\u001b[0m\u001b[0;34m\u001b[0m\u001b[0;34m\u001b[0m\u001b[0m\n\u001b[0m",
      "\u001b[0;31mNameError\u001b[0m: name 'a' is not defined"
     ]
    }
   ],
   "source": [
    "def une_fonction():\n",
    "    a = 3\n",
    "\n",
    "une_fonction()\n",
    "# erreur d'exécution\n",
    "print(a)"
   ]
  },
  {
   "cell_type": "code",
   "execution_count": 2,
   "metadata": {
    "slideshow": {
     "slide_type": "slide"
    }
   },
   "outputs": [
    {
     "name": "stdout",
     "output_type": "stream",
     "text": [
      "3\n"
     ]
    }
   ],
   "source": [
    "a = 3\n",
    "def une_fonction():\n",
    "    print(a)\n",
    "\n",
    "une_fonction()"
   ]
  },
  {
   "cell_type": "markdown",
   "metadata": {
    "slideshow": {
     "slide_type": "fragment"
    }
   },
   "source": [
    "<div align=\"middle\"><h3>Quelle est la portée d'une variable?</h3></div>"
   ]
  },
  {
   "cell_type": "markdown",
   "metadata": {
    "slideshow": {
     "slide_type": "slide"
    }
   },
   "source": [
    "## 2. Portée d'une variable\n",
    "C'est le domaine d'existence d'une variable, c'est à dire la partie du programme où elle peut être utilisée."
   ]
  },
  {
   "cell_type": "markdown",
   "metadata": {
    "slideshow": {
     "slide_type": "fragment"
    }
   },
   "source": [
    "### 2.1 Variable locale"
   ]
  },
  {
   "cell_type": "markdown",
   "metadata": {
    "slideshow": {
     "slide_type": "fragment"
    }
   },
   "source": [
    "#### Activité 1\n",
    "- Se rendre sur le site http://pythontutor.com/ et cliquer sur *Start visualizing your code now*.\n",
    "- Écrire le code puis cliquer sur *Visualize Execution*.\n",
    "- Exécuter le code en *pas à pas* avec le bouton *Next*.\n",
    "- Observer la période d'existence de la variable *a* et justifier alors l'erreur d'exécution de la ligne 5."
   ]
  },
  {
   "cell_type": "markdown",
   "metadata": {
    "slideshow": {
     "slide_type": "slide"
    }
   },
   "source": [
    "<div align=\"middle\"><h3><a href=\"http://pythontutor.com/visualize.html#code=def%20une_fonction%28%29%3A%0A%20%20%20%20a%20%3D%203%0A%0Aune_fonction%28%29%0A%23%20erreur%20d'ex%C3%A9cution%0Aprint%28a%29&cumulative=false&curInstr=0&heapPrimitives=nevernest&mode=display&origin=opt-frontend.js&py=3&rawInputLstJSON=%5B%5D&textReferences=false\" target=\"_blank\">Pythontutor</a></h3></div>"
   ]
  },
  {
   "cell_type": "markdown",
   "metadata": {
    "slideshow": {
     "slide_type": "slide"
    }
   },
   "source": [
    "### 2.2 Variable globale"
   ]
  },
  {
   "cell_type": "markdown",
   "metadata": {
    "slideshow": {
     "slide_type": "fragment"
    }
   },
   "source": [
    "#### Activité 2\n",
    "\n",
    "- Dérouler le code sur pythontutor et justifier la bonne exécution."
   ]
  },
  {
   "cell_type": "markdown",
   "metadata": {
    "slideshow": {
     "slide_type": "fragment"
    }
   },
   "source": [
    "<div align=\"middle\"><h3><a href=\"http://pythontutor.com/visualize.html#code=a%20%3D%203%0Adef%20une_fonction%28%29%3A%0A%20%20%20%20print%28a%29%0A%0Aune_fonction%28%29&cumulative=false&curInstr=0&heapPrimitives=nevernest&mode=display&origin=opt-frontend.js&py=3&rawInputLstJSON=%5B%5D&textReferences=false\" target=\"_blank\">Pythontutor</a></h3></div>"
   ]
  },
  {
   "cell_type": "markdown",
   "metadata": {
    "slideshow": {
     "slide_type": "slide"
    }
   },
   "source": [
    "## 3. Paramètres et variables d'une fonction"
   ]
  },
  {
   "cell_type": "code",
   "execution_count": 1,
   "metadata": {
    "slideshow": {
     "slide_type": "fragment"
    }
   },
   "outputs": [],
   "source": [
    "def cube(x): # x est un paramètre de la fonction\n",
    "    resultat = x*x*x\n",
    "    return resultat"
   ]
  },
  {
   "cell_type": "code",
   "execution_count": null,
   "metadata": {
    "slideshow": {
     "slide_type": "fragment"
    }
   },
   "outputs": [],
   "source": [
    "cube(4) # 4 est l'argument passé à la fonction"
   ]
  },
  {
   "cell_type": "code",
   "execution_count": 3,
   "metadata": {
    "slideshow": {
     "slide_type": "slide"
    }
   },
   "outputs": [
    {
     "ename": "NameError",
     "evalue": "name 'resultat' is not defined",
     "output_type": "error",
     "traceback": [
      "\u001b[0;31m---------------------------------------------------------------------------\u001b[0m",
      "\u001b[0;31mNameError\u001b[0m                                 Traceback (most recent call last)",
      "\u001b[0;32m<ipython-input-3-6723a7a0b25f>\u001b[0m in \u001b[0;36m<module>\u001b[0;34m\u001b[0m\n\u001b[0;32m----> 1\u001b[0;31m \u001b[0mprint\u001b[0m\u001b[0;34m(\u001b[0m\u001b[0mresultat\u001b[0m\u001b[0;34m)\u001b[0m\u001b[0;34m\u001b[0m\u001b[0;34m\u001b[0m\u001b[0m\n\u001b[0m",
      "\u001b[0;31mNameError\u001b[0m: name 'resultat' is not defined"
     ]
    }
   ],
   "source": [
    "# resultat est une variable locale de la fonction cube\n",
    "print(resultat) "
   ]
  },
  {
   "cell_type": "code",
   "execution_count": 4,
   "metadata": {
    "slideshow": {
     "slide_type": "fragment"
    }
   },
   "outputs": [
    {
     "data": {
      "text/plain": [
       "64"
      ]
     },
     "execution_count": 4,
     "metadata": {},
     "output_type": "execute_result"
    }
   ],
   "source": [
    "cube(4) # la fonction renvoie une valeur"
   ]
  },
  {
   "cell_type": "code",
   "execution_count": 5,
   "metadata": {
    "slideshow": {
     "slide_type": "fragment"
    }
   },
   "outputs": [],
   "source": [
    "# on utilise le renvoi de la fonction dans le programme principal\n",
    "somme = cube(1) + cube(2) + cube(3) + cube(4)"
   ]
  },
  {
   "cell_type": "code",
   "execution_count": 6,
   "metadata": {
    "slideshow": {
     "slide_type": "fragment"
    }
   },
   "outputs": [
    {
     "data": {
      "text/plain": [
       "100"
      ]
     },
     "execution_count": 6,
     "metadata": {},
     "output_type": "execute_result"
    }
   ],
   "source": [
    "somme"
   ]
  },
  {
   "cell_type": "markdown",
   "metadata": {
    "slideshow": {
     "slide_type": "slide"
    }
   },
   "source": [
    "#### Activité 3\n",
    "Une boutique de vêtements effectue des soldes sur ses invendus. Elle définit les remises:\n",
    "- 30% sur les étiquettes rouges,\n",
    "- 40% sur es étiquettes vertes,\n",
    "- 50% sur les étiquettes bleues.\n",
    "Écrire une fonction **remise** qui calcule la valeur en € de la remise effectuée en fonction du prix du vêtement et de la couleur de l'étiquette."
   ]
  },
  {
   "cell_type": "code",
   "execution_count": 7,
   "metadata": {
    "slideshow": {
     "slide_type": "slide"
    }
   },
   "outputs": [],
   "source": [
    "def calcul_remise(prix, remise):\n",
    "    if remise == \"rouge\":\n",
    "        return prix*0.30\n",
    "    elif remise == \"verte\":\n",
    "        return prix*0.40\n",
    "    elif remise == \"bleue\":\n",
    "        return prix*0.50\n",
    "    else: # pas de remise\n",
    "        return 0"
   ]
  },
  {
   "cell_type": "code",
   "execution_count": 8,
   "metadata": {
    "slideshow": {
     "slide_type": "fragment"
    }
   },
   "outputs": [
    {
     "data": {
      "text/plain": [
       "60.0"
      ]
     },
     "execution_count": 8,
     "metadata": {},
     "output_type": "execute_result"
    }
   ],
   "source": [
    "calcul_remise(150, \"verte\")"
   ]
  },
  {
   "cell_type": "markdown",
   "metadata": {
    "slideshow": {
     "slide_type": "slide"
    }
   },
   "source": [
    "## 4. Pièges et bonnes pratiques"
   ]
  },
  {
   "cell_type": "markdown",
   "metadata": {},
   "source": [
    "### 4.1 Documenter une fonction"
   ]
  },
  {
   "cell_type": "markdown",
   "metadata": {},
   "source": [
    "La **docstring** détaille la manière d'utiliser une fonction. C'est un commentaire spécifique placé sous la signature de la fonction. On accède à cette documentation via la commande **help**."
   ]
  },
  {
   "cell_type": "code",
   "execution_count": 7,
   "metadata": {
    "slideshow": {
     "slide_type": "slide"
    }
   },
   "outputs": [],
   "source": [
    "def calcul_remise(prix, remise):\n",
    "    \"\"\"\n",
    "    calcule la valeur de la remise en euro\n",
    "\n",
    "    Parameters\n",
    "    ----------\n",
    "    prix : int\n",
    "        prix non soldé.\n",
    "    remise : str\n",
    "        nom de l'étiquette.\n",
    "\n",
    "    Returns\n",
    "    -------\n",
    "    valeur de la remise.\n",
    "    \"\"\"\n",
    "    if remise == \"rouge\":\n",
    "        return prix*0.30\n",
    "    elif remise == \"verte\":\n",
    "        return prix*0.40\n",
    "    elif remise == \"bleue\":\n",
    "        return prix*0.50\n",
    "    else: # pas de remise\n",
    "        return 0"
   ]
  },
  {
   "cell_type": "code",
   "execution_count": 9,
   "metadata": {
    "slideshow": {
     "slide_type": "slide"
    }
   },
   "outputs": [
    {
     "name": "stdout",
     "output_type": "stream",
     "text": [
      "Help on function calcul_remise in module __main__:\n",
      "\n",
      "calcul_remise(prix, remise)\n",
      "    calcule la valeur de la remise en euro\n",
      "    \n",
      "    Parameters\n",
      "    ----------\n",
      "    prix : int\n",
      "        prix non soldé.\n",
      "    remise : str\n",
      "        nom de l'étiquette.\n",
      "    \n",
      "    Returns\n",
      "    -------\n",
      "    valeur de la remise.\n",
      "\n"
     ]
    }
   ],
   "source": [
    "help(calcul_remise)"
   ]
  },
  {
   "cell_type": "code",
   "execution_count": 11,
   "metadata": {
    "slideshow": {
     "slide_type": "slide"
    }
   },
   "outputs": [
    {
     "name": "stdout",
     "output_type": "stream",
     "text": [
      "Help on built-in function print in module builtins:\n",
      "\n",
      "print(...)\n",
      "    print(value, ..., sep=' ', end='\\n', file=sys.stdout, flush=False)\n",
      "    \n",
      "    Prints the values to a stream, or to sys.stdout by default.\n",
      "    Optional keyword arguments:\n",
      "    file:  a file-like object (stream); defaults to the current sys.stdout.\n",
      "    sep:   string inserted between values, default a space.\n",
      "    end:   string appended after the last value, default a newline.\n",
      "    flush: whether to forcibly flush the stream.\n",
      "\n"
     ]
    }
   ],
   "source": [
    "help(print)"
   ]
  },
  {
   "cell_type": "markdown",
   "metadata": {
    "slideshow": {
     "slide_type": "slide"
    }
   },
   "source": [
    "### 4.2 Typer les paramètres d'une fonction"
   ]
  },
  {
   "cell_type": "code",
   "execution_count": null,
   "metadata": {
    "slideshow": {
     "slide_type": "fragment"
    }
   },
   "outputs": [],
   "source": [
    "def calcul_remise(prix: int, remise: str)->float:\n",
    "    if remise == \"rouge\":\n",
    "        return prix*0.30\n",
    "    elif remise == \"verte\":\n",
    "        return prix*0.40\n",
    "    elif remise == \"bleue\":\n",
    "        return prix*0.50\n",
    "    else: # pas de remise\n",
    "        return 0"
   ]
  },
  {
   "cell_type": "code",
   "execution_count": 12,
   "metadata": {
    "slideshow": {
     "slide_type": "slide"
    }
   },
   "outputs": [],
   "source": [
    "def calcul_remise(prix: int, remise: str)->float:\n",
    "    \"\"\"\n",
    "    calcule la valeur de la remise en euro\n",
    "\n",
    "    Parameters\n",
    "    ----------\n",
    "    prix : int\n",
    "        prix non soldé.\n",
    "    remise : str\n",
    "        nom de l'étiquette.\n",
    "\n",
    "    Returns\n",
    "    -------\n",
    "    valeur de la remise.\n",
    "    \"\"\"\n",
    "    if remise == \"rouge\":\n",
    "        return prix*0.30\n",
    "    elif remise == \"verte\":\n",
    "        return prix*0.40\n",
    "    elif remise == \"bleue\":\n",
    "        return prix*0.50\n",
    "    else: # pas de remise\n",
    "        return 0"
   ]
  },
  {
   "cell_type": "code",
   "execution_count": 13,
   "metadata": {
    "slideshow": {
     "slide_type": "fragment"
    }
   },
   "outputs": [
    {
     "data": {
      "text/plain": [
       "75.0"
      ]
     },
     "execution_count": 13,
     "metadata": {},
     "output_type": "execute_result"
    }
   ],
   "source": [
    "calcul_remise(150, \"bleue\")"
   ]
  },
  {
   "cell_type": "code",
   "execution_count": 14,
   "metadata": {
    "slideshow": {
     "slide_type": "fragment"
    }
   },
   "outputs": [
    {
     "data": {
      "text/plain": [
       "77.75"
      ]
     },
     "execution_count": 14,
     "metadata": {},
     "output_type": "execute_result"
    }
   ],
   "source": [
    "# Le typage est indicatif; il ne lève pas d'erreur en Python\n",
    "calcul_remise(155.50, \"bleue\")"
   ]
  },
  {
   "cell_type": "markdown",
   "metadata": {
    "slideshow": {
     "slide_type": "slide"
    }
   },
   "source": [
    "### 4.3 Effet de bord\n",
    "Les élèves de NSI ont obtenu les notes suivantes lors du dernier devoir. Avant de les enregistrer définitivement dans Pronote, l'enseignant désire simuler des bonifications pour favoriser les élèves le plus en difficultés. Le code effectue une bonification de deux points pour deux cas de figure:\n",
    "- les élèves ont 6 ou moins,\n",
    "- les élèves ont 8 ou moins."
   ]
  },
  {
   "cell_type": "code",
   "execution_count": null,
   "metadata": {},
   "outputs": [],
   "source": [
    "def simulation_bonification(limite):\n",
    "    for i in range(len(notes)):\n",
    "        if notes[i] <= limite:\n",
    "            notes[i] += 2\n",
    "    return notes\n",
    "\n",
    "notes=[7,12,8,5,19,10,7,6,1,15,13,8]\n",
    "print(notes)\n",
    "print(simulation_bonification(6))\n",
    "print(simulation_bonification(8))"
   ]
  },
  {
   "cell_type": "markdown",
   "metadata": {
    "slideshow": {
     "slide_type": "slide"
    }
   },
   "source": [
    "#### Activité 4\n",
    "- Recopier le code dans un EDI et repérer l'erreur dans les calculs effectués.\n",
    "- Copier le code dans *pythontutor* et expliquer cette erreur."
   ]
  },
  {
   "cell_type": "code",
   "execution_count": 10,
   "metadata": {
    "slideshow": {
     "slide_type": "fragment"
    }
   },
   "outputs": [
    {
     "name": "stdout",
     "output_type": "stream",
     "text": [
      "notes initiales [7, 12, 8, 5, 19, 10, 7, 6, 1, 15, 13, 8]\n",
      "bonus limite 6 [7, 12, 8, 7, 19, 10, 7, 8, 3, 15, 13, 8]\n",
      "bonus limite 8 [9, 12, 10, 9, 19, 10, 9, 10, 5, 15, 13, 10]\n"
     ]
    }
   ],
   "source": [
    "def simulation_bonification(limite):\n",
    "    for i in range(len(notes)):\n",
    "        if notes[i] <= limite:\n",
    "            notes[i] += 2\n",
    "    return notes\n",
    "\n",
    "notes=[7,12,8,5,19,10,7,6,1,15,13,8]\n",
    "print(\"notes initiales\",notes)\n",
    "print(\"bonus limite 6\",simulation_bonification(6))\n",
    "print(\"bonus limite 8\",simulation_bonification(8))"
   ]
  },
  {
   "cell_type": "code",
   "execution_count": 11,
   "metadata": {
    "slideshow": {
     "slide_type": "fragment"
    }
   },
   "outputs": [
    {
     "name": "stdout",
     "output_type": "stream",
     "text": [
      "notes initiales [9, 12, 10, 9, 19, 10, 9, 10, 5, 15, 13, 10]\n"
     ]
    }
   ],
   "source": [
    "print(\"notes initiales\",notes)"
   ]
  },
  {
   "cell_type": "markdown",
   "metadata": {},
   "source": [
    "Les notes initiales ont été modifiées."
   ]
  },
  {
   "cell_type": "markdown",
   "metadata": {
    "slideshow": {
     "slide_type": "slide"
    }
   },
   "source": [
    "<div align=\"middle\"><h3><a href=\"http://pythontutor.com/visualize.html#code=def%20simulation_bonification%28limite%29%3A%0A%20%20%20%20for%20i%20in%20range%28len%28notes%29%29%3A%0A%20%20%20%20%20%20%20%20if%20notes%5Bi%5D%20%3C%3D%20limite%3A%0A%20%20%20%20%20%20%20%20%20%20%20%20notes%5Bi%5D%20%2B%3D%202%0A%20%20%20%20return%20notes%0A%0Anotes%3D%5B7,12,8,5,19,10,7,6,1,15,13,8%5D%0Aprint%28notes%29%0Aprint%28simulation_bonification%286%29%29%0Aprint%28simulation_bonification%288%29%29&cumulative=false&curInstr=0&heapPrimitives=nevernest&mode=display&origin=opt-frontend.js&py=3&rawInputLstJSON=%5B%5D&textReferences=false\" target=\"_blank\">Pythontutor</a></h3></div>"
   ]
  },
  {
   "cell_type": "markdown",
   "metadata": {
    "slideshow": {
     "slide_type": "fragment"
    }
   },
   "source": [
    "<div align=\"middle\"><h3>Une variable mutable est modifiée quand elle est utilisée dans une fonction.</h3></div>"
   ]
  },
  {
   "cell_type": "markdown",
   "metadata": {
    "slideshow": {
     "slide_type": "slide"
    }
   },
   "source": [
    "### 4.4 Bonnes pratiques\n",
    "<div align=\"middle\"><h3>On évitera au maximum d'utiliser une variable globale.</h3></div>"
   ]
  },
  {
   "cell_type": "markdown",
   "metadata": {},
   "source": [
    "#### Activité 4\n",
    "Modifier la fonction **simulation_bonification** pour qu'elle crée une copie du tableau de notes et effectue les modifications sur cette copie."
   ]
  },
  {
   "cell_type": "markdown",
   "metadata": {
    "slideshow": {
     "slide_type": "fragment"
    }
   },
   "source": [
    "<div align=\"middle\"><h3><a href=\"http://pythontutor.com/visualize.html#code=def%20simulation_bonification%28limite%29%3A%0A%20%20%20%20copie_notes%20%3D%20notes%0A%20%20%20%20for%20i%20in%20range%28len%28copie_notes%29%29%3A%0A%20%20%20%20%20%20%20%20if%20copie_notes%5Bi%5D%20%3C%3D%20limite%3A%0A%20%20%20%20%20%20%20%20%20%20%20%20copie_notes%5Bi%5D%20%2B%3D%202%0A%20%20%20%20return%20copie_notes%0A%0Anotes%3D%5B7,12,8,5,19,10,7,6,1,15,13,8%5D%0Aprint%28notes%29%0Aprint%28simulation_bonification%286%29%29%0Aprint%28simulation_bonification%288%29%29&cumulative=false&curInstr=0&heapPrimitives=nevernest&mode=display&origin=opt-frontend.js&py=3&rawInputLstJSON=%5B%5D&textReferences=false\" target=\"_blank\">Pythontutor: tentative de copie de la liste notes</a></h3></div>"
   ]
  },
  {
   "cell_type": "markdown",
   "metadata": {
    "slideshow": {
     "slide_type": "slide"
    }
   },
   "source": [
    "<div align=\"middle\"><h3><a href=\"https://docs.python.org/fr/3/tutorial/datastructures.html#more-on-lists\" target=\"_blank\">Copier une liste</a></h3></div>"
   ]
  },
  {
   "cell_type": "code",
   "execution_count": 5,
   "metadata": {
    "slideshow": {
     "slide_type": "fragment"
    }
   },
   "outputs": [],
   "source": [
    "def simulation_bonification(limite, notes):\n",
    "    copie_notes = notes.copy()\n",
    "    for i in range(len(copie_notes)):\n",
    "        if copie_notes[i] <= limite:\n",
    "            copie_notes[i] += 2\n",
    "    return copie_notes"
   ]
  },
  {
   "cell_type": "code",
   "execution_count": 9,
   "metadata": {
    "slideshow": {
     "slide_type": "fragment"
    }
   },
   "outputs": [
    {
     "name": "stdout",
     "output_type": "stream",
     "text": [
      "notes initiales [7, 12, 8, 5, 19, 10, 7, 6, 1, 15, 13, 8]\n",
      "bonus limite 6 [7, 12, 8, 7, 19, 10, 7, 8, 3, 15, 13, 8]\n",
      "bonus limite 8 [9, 12, 10, 7, 19, 10, 9, 8, 3, 15, 13, 10]\n",
      "notes initiales [7, 12, 8, 5, 19, 10, 7, 6, 1, 15, 13, 8]\n"
     ]
    }
   ],
   "source": [
    "notes=[7,12,8,5,19,10,7,6,1,15,13,8]\n",
    "print(\"notes initiales\",notes)\n",
    "print(\"bonus limite 6\",simulation_bonification(6, notes))\n",
    "print(\"bonus limite 8\",simulation_bonification(8, notes))\n",
    "print(\"notes initiales\",notes)"
   ]
  }
 ],
 "metadata": {
  "celltoolbar": "Slideshow",
  "kernelspec": {
   "display_name": "Python 3",
   "language": "python",
   "name": "python3"
  },
  "language_info": {
   "codemirror_mode": {
    "name": "ipython",
    "version": 3
   },
   "file_extension": ".py",
   "mimetype": "text/x-python",
   "name": "python",
   "nbconvert_exporter": "python",
   "pygments_lexer": "ipython3",
   "version": "3.8.6"
  },
  "latex_envs": {
   "LaTeX_envs_menu_present": true,
   "autoclose": false,
   "autocomplete": true,
   "bibliofile": "biblio.bib",
   "cite_by": "apalike",
   "current_citInitial": 1,
   "eqLabelWithNumbers": true,
   "eqNumInitial": 1,
   "hotkeys": {
    "equation": "Ctrl-E",
    "itemize": "Ctrl-I"
   },
   "labels_anchors": false,
   "latex_user_defs": false,
   "report_style_numbering": true,
   "user_envs_cfg": false
  }
 },
 "nbformat": 4,
 "nbformat_minor": 4
}
