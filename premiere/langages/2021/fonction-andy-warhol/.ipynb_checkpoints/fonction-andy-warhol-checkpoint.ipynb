{
 "cells": [
  {
   "cell_type": "markdown",
   "metadata": {
    "slideshow": {
     "slide_type": "slide"
    }
   },
   "source": [
    "# Andy Warhol"
   ]
  },
  {
   "cell_type": "markdown",
   "metadata": {
    "slideshow": {
     "slide_type": "slide"
    }
   },
   "source": [
    "## 1. Problématique\n",
    "<div align=\"middle\"><img src=\"ressources/marylin.jpg\"></div>"
   ]
  },
  {
   "cell_type": "markdown",
   "metadata": {
    "slideshow": {
     "slide_type": "fragment"
    }
   },
   "source": [
    "<div align=\"middle\"><h3>Peut-on réaliser un programme qui reproduit le concept de cette œuvre?</h3></div>"
   ]
  },
  {
   "cell_type": "markdown",
   "metadata": {
    "slideshow": {
     "slide_type": "slide"
    }
   },
   "source": [
    "## 2. Manipuler une image"
   ]
  },
  {
   "cell_type": "markdown",
   "metadata": {},
   "source": [
    "### 2.1 Présentation\n",
    "#### Activité 1\n",
    "Expliquer le rôle de chaque ligne du code."
   ]
  },
  {
   "cell_type": "code",
   "execution_count": null,
   "metadata": {},
   "outputs": [],
   "source": [
    "from PIL import Image\n",
    "\n",
    "originale = Image.open(\"ressources/joconde.jpg\")\n",
    "ligne, colonne = originale.size"
   ]
  },
  {
   "cell_type": "code",
   "execution_count": 1,
   "metadata": {
    "slideshow": {
     "slide_type": "slide"
    }
   },
   "outputs": [],
   "source": [
    "from PIL import Image # charge Image de la bibliothèque Pillow\n",
    "\n",
    "originale = Image.open(\"ressources/joconde.jpg\") # charge l'image joconde.jpg dans la variable originale\n",
    "ligne, colonne = originale.size # récupère les dimensions de l'image"
   ]
  },
  {
   "cell_type": "markdown",
   "metadata": {
    "slideshow": {
     "slide_type": "slide"
    }
   },
   "source": [
    "### 2.2 Couleurs d'une image"
   ]
  },
  {
   "cell_type": "markdown",
   "metadata": {},
   "source": [
    "<div align=\"middle\"><img src=\"ressources/mario-dim.png\"></div>"
   ]
  },
  {
   "cell_type": "markdown",
   "metadata": {
    "slideshow": {
     "slide_type": "slide"
    }
   },
   "source": [
    "<div align=\"middle\"><img src=\"ressources/additive.jpg\"></div>"
   ]
  },
  {
   "cell_type": "markdown",
   "metadata": {
    "slideshow": {
     "slide_type": "slide"
    }
   },
   "source": [
    "<div align=\"middle\"><img src=\"ressources/mario-couleur.png\"></div>"
   ]
  },
  {
   "cell_type": "markdown",
   "metadata": {
    "slideshow": {
     "slide_type": "fragment"
    }
   },
   "source": [
    "#### Activité 2\n",
    "- Combien de valeurs peut prendre chaque composante?\n",
    "- Calculer alors le nombre de couleurs qu'il est possible de coder."
   ]
  },
  {
   "cell_type": "markdown",
   "metadata": {
    "slideshow": {
     "slide_type": "fragment"
    }
   },
   "source": [
    "$2^8 = 256$ valeurs pour chaque composante donc $2^8×2^8×2^8 = 16777216$ (16,7 millions) de couleurs"
   ]
  },
  {
   "cell_type": "markdown",
   "metadata": {
    "slideshow": {
     "slide_type": "slide"
    }
   },
   "source": [
    "### 2.3 Principe de la modification\n",
    "Protocole:\n",
    "- récupérer le tuple des trois composantes,\n",
    "- créer un nouveau pixel en appliquant la transformation désirée,\n",
    "- poser le nouveau pixel à la même position dans l'image."
   ]
  },
  {
   "cell_type": "markdown",
   "metadata": {
    "slideshow": {
     "slide_type": "fragment"
    }
   },
   "source": [
    "#### Activité 3\n",
    "- À l'aide de la <a href=\"https://tinyurl.com/y3g95hj3\" target=\"_blank\">documentation de la bibliothèque</a> récupérer et afficher le tuple du pixel de coordonnées (10,10).\n",
    "- Créer un nouveau pixel qui ne conserve que la composante rouge de ce pixel."
   ]
  },
  {
   "cell_type": "code",
   "execution_count": 4,
   "metadata": {
    "slideshow": {
     "slide_type": "slide"
    }
   },
   "outputs": [
    {
     "name": "stdout",
     "output_type": "stream",
     "text": [
      "(108, 119, 76)\n",
      "(108, 0, 0)\n"
     ]
    }
   ],
   "source": [
    "un_pixel = originale.getpixel((10,10))\n",
    "print(un_pixel)\n",
    "nouveau_pixel = (un_pixel[0], 0, 0)\n",
    "print(nouveau_pixel)"
   ]
  },
  {
   "cell_type": "markdown",
   "metadata": {
    "slideshow": {
     "slide_type": "slide"
    }
   },
   "source": [
    "## 3. Première œuvre d'art"
   ]
  },
  {
   "cell_type": "markdown",
   "metadata": {},
   "source": [
    "#### Activité 4\n",
    "- En s'aidant de la documentation, créer une copie de l'image originale.\n",
    "- Écrire un programme qui charge l'image originale, la transforme en ne conservant que la composante rouge et affiche cette nouvelle version."
   ]
  },
  {
   "cell_type": "code",
   "execution_count": 5,
   "metadata": {
    "slideshow": {
     "slide_type": "slide"
    }
   },
   "outputs": [],
   "source": [
    "im_rouge = originale.copy()\n",
    "for l in range(ligne):\n",
    "    for c in range(colonne):\n",
    "        pixel = im_rouge.getpixel((l,c))\n",
    "        p = (pixel[0], 0, 0)\n",
    "        im_rouge.putpixel((l,c), p)\n",
    "        \n",
    "im_rouge.show()"
   ]
  },
  {
   "cell_type": "markdown",
   "metadata": {
    "slideshow": {
     "slide_type": "slide"
    }
   },
   "source": [
    "Le code crée une nouvelle image vide deux fois plus grande et haute que l'originale."
   ]
  },
  {
   "cell_type": "code",
   "execution_count": 6,
   "metadata": {},
   "outputs": [],
   "source": [
    "img = Image.new('RGB', (ligne*2,colonne*2))"
   ]
  },
  {
   "cell_type": "markdown",
   "metadata": {},
   "source": [
    "- En s'aidant de la documentation, coller l'image rouge en haut à droite de *img*.\n",
    "- Créer trois variations de l'image originale et les placer aux trois autres positions de *img*."
   ]
  },
  {
   "cell_type": "code",
   "execution_count": 10,
   "metadata": {
    "slideshow": {
     "slide_type": "slide"
    }
   },
   "outputs": [],
   "source": [
    "img.paste(im_rouge,(0,0))\n",
    "img.show()"
   ]
  },
  {
   "cell_type": "markdown",
   "metadata": {
    "slideshow": {
     "slide_type": "fragment"
    }
   },
   "source": [
    "<div align=\"middle\"><img src=\"ressources/R.jpg\" width=200px></div>"
   ]
  },
  {
   "cell_type": "code",
   "execution_count": 9,
   "metadata": {
    "slideshow": {
     "slide_type": "slide"
    }
   },
   "outputs": [],
   "source": [
    "#vert\n",
    "im_vert = originale.copy()\n",
    "\n",
    "for l in range(ligne):\n",
    "    for c in range(colonne):\n",
    "        pixel = im_vert.getpixel((l,c))\n",
    "        p = (0,pixel[1],0)\n",
    "        im_vert.putpixel((l,c), p)\n",
    "\n",
    "img.paste(im_vert,(ligne,0))\n",
    "img.show()"
   ]
  },
  {
   "cell_type": "markdown",
   "metadata": {
    "slideshow": {
     "slide_type": "fragment"
    }
   },
   "source": [
    "<div align=\"middle\"><img src=\"ressources/RV.jpg\" width=200px></div>"
   ]
  },
  {
   "cell_type": "code",
   "execution_count": null,
   "metadata": {
    "slideshow": {
     "slide_type": "slide"
    }
   },
   "outputs": [],
   "source": [
    "#bleu\n",
    "im_bleu = originale.copy()\n",
    "\n",
    "for l in range(ligne):\n",
    "    for c in range(colonne):\n",
    "        pixel = im_bleu.getpixel((l,c))\n",
    "        p = (0,0,pixel[2])\n",
    "        im_bleu.putpixel((l,c), p)\n",
    "\n",
    "img.paste(im_bleu,(0,colonne))\n",
    "img.show()"
   ]
  },
  {
   "cell_type": "markdown",
   "metadata": {
    "slideshow": {
     "slide_type": "fragment"
    }
   },
   "source": [
    "<div align=\"middle\"><img src=\"ressources/RVB.jpg\" width=200px></div>"
   ]
  },
  {
   "cell_type": "code",
   "execution_count": null,
   "metadata": {
    "slideshow": {
     "slide_type": "slide"
    }
   },
   "outputs": [],
   "source": [
    "#violet\n",
    "im_violet = originale.copy()\n",
    "\n",
    "for l in range(ligne):\n",
    "    for c in range(colonne):\n",
    "        pixel = im_violet.getpixel((l,c))\n",
    "        p = (pixel[1], 0, pixel[2])\n",
    "        im_violet.putpixel((l,c), p)\n",
    "\n",
    "img.paste(im_violet,(ligne,colonne))"
   ]
  },
  {
   "cell_type": "markdown",
   "metadata": {
    "slideshow": {
     "slide_type": "fragment"
    }
   },
   "source": [
    "<div align=\"middle\"><img src=\"ressources/RVB2.jpg\" width=200px></div>"
   ]
  },
  {
   "cell_type": "markdown",
   "metadata": {
    "slideshow": {
     "slide_type": "slide"
    }
   },
   "source": [
    "## 4. Améliorer le programme"
   ]
  },
  {
   "cell_type": "markdown",
   "metadata": {
    "slideshow": {
     "slide_type": "fragment"
    }
   },
   "source": [
    "### 4.1 Les fonctions mathématiques\n",
    "<div align=\"middle\"><img src=\"ressources/boite.png\" height=150px></div>"
   ]
  },
  {
   "cell_type": "markdown",
   "metadata": {
    "slideshow": {
     "slide_type": "slide"
    }
   },
   "source": [
    "## 4.2 Les fonctions en programmation"
   ]
  },
  {
   "cell_type": "code",
   "execution_count": 15,
   "metadata": {},
   "outputs": [],
   "source": [
    "from math import sqrt\n",
    "\n",
    "def ma_fonction(x):\n",
    "\tf = x**2 + 3*x**3 + sqrt(16*x) - x**5/10\n",
    "\treturn f"
   ]
  },
  {
   "cell_type": "code",
   "execution_count": 16,
   "metadata": {
    "slideshow": {
     "slide_type": "fragment"
    }
   },
   "outputs": [
    {
     "data": {
      "text/plain": [
       "113.6"
      ]
     },
     "execution_count": 16,
     "metadata": {},
     "output_type": "execute_result"
    }
   ],
   "source": [
    "ma_fonction(4)"
   ]
  },
  {
   "cell_type": "markdown",
   "metadata": {
    "slideshow": {
     "slide_type": "slide"
    }
   },
   "source": [
    "#### Activité 5\n",
    "- Tester ma_fonction avec plusieurs valeurs de x.\n",
    "- Écrire une fonction **maxi(x, y)** qui demande deux paramètres x et y et qui renvoie la plus grande des deux valeurs."
   ]
  },
  {
   "cell_type": "code",
   "execution_count": 19,
   "metadata": {
    "slideshow": {
     "slide_type": "fragment"
    }
   },
   "outputs": [],
   "source": [
    "def maxi(x, y):\n",
    "    if x > y:\n",
    "        resultat = x\n",
    "    else:\n",
    "        resultat = y\n",
    "    return resultat"
   ]
  },
  {
   "cell_type": "code",
   "execution_count": 20,
   "metadata": {
    "slideshow": {
     "slide_type": "fragment"
    }
   },
   "outputs": [
    {
     "data": {
      "text/plain": [
       "9"
      ]
     },
     "execution_count": 20,
     "metadata": {},
     "output_type": "execute_result"
    }
   ],
   "source": [
    "maxi(5, 9)"
   ]
  },
  {
   "cell_type": "code",
   "execution_count": 22,
   "metadata": {
    "slideshow": {
     "slide_type": "slide"
    }
   },
   "outputs": [],
   "source": [
    "def maxi2(x, y):\n",
    "    if x > y:\n",
    "        return x\n",
    "    else:\n",
    "        return y"
   ]
  },
  {
   "cell_type": "code",
   "execution_count": 23,
   "metadata": {
    "slideshow": {
     "slide_type": "fragment"
    }
   },
   "outputs": [
    {
     "data": {
      "text/plain": [
       "9"
      ]
     },
     "execution_count": 23,
     "metadata": {},
     "output_type": "execute_result"
    }
   ],
   "source": [
    "maxi2(5, 9)"
   ]
  },
  {
   "cell_type": "markdown",
   "metadata": {
    "slideshow": {
     "slide_type": "fragment"
    }
   },
   "source": [
    "<a href=\"http://pythontutor.com/visualize.html#code=def%20maxi2%28x,%20y%29%3A%0A%20%20%20%20if%20x%20%3E%20y%3A%0A%20%20%20%20%20%20%20%20return%20x%0A%20%20%20%20else%3A%0A%20%20%20%20%20%20%20%20return%20y%0A%0Aprint%28maxi2%285,9%29%29&cumulative=false&curInstr=0&heapPrimitives=nevernest&mode=display&origin=opt-frontend.js&py=3&rawInputLstJSON=%5B%5D&textReferences=false\" target=\"_blank\">Visualisation sur Pythontutor</a>"
   ]
  },
  {
   "cell_type": "markdown",
   "metadata": {
    "slideshow": {
     "slide_type": "slide"
    }
   },
   "source": [
    "### 4.3 Application à l'œuvre d'art\n",
    "#### Activité 6\n",
    "- Créer une fonction **img_filtree(image, R, V, B)** qui prend une image comme argument ainsi que trois nombres, R, V, B compris entre 0 et 1. Ces valeurs représentent les proportions de Rouge, Vert et Bleu. La fonction renverra l'image filtrée.\n",
    "- Utiliser alors cette fonction et écrire un nouveau programme pour créer l'œuvre d'art."
   ]
  },
  {
   "cell_type": "code",
   "execution_count": 24,
   "metadata": {
    "slideshow": {
     "slide_type": "slide"
    }
   },
   "outputs": [],
   "source": [
    "def img_filtree(image, R, V, B):\n",
    "    for l in range(ligne):\n",
    "        for c in range(colonne):\n",
    "            pixel = image.getpixel((l,c))\n",
    "            # les valeurs doivent être des entiers\n",
    "            p = (int(pixel[0]*R), int(pixel[1]*V), int(pixel[2]*B))\n",
    "            image.putpixel((l,c), p)\n",
    "\n",
    "    return image"
   ]
  },
  {
   "cell_type": "code",
   "execution_count": 25,
   "metadata": {
    "slideshow": {
     "slide_type": "slide"
    }
   },
   "outputs": [],
   "source": [
    "im_rouge = img_filtree(originale.copy(), 1, 0, 0)\n",
    "im_vert = img_filtree(originale.copy(), 0, 1, 0)\n",
    "im_bleu = img_filtree(originale.copy(), 0, 0, 1)\n",
    "im_mix = img_filtree(originale.copy(), 1, 0, 1)"
   ]
  },
  {
   "cell_type": "code",
   "execution_count": 26,
   "metadata": {
    "slideshow": {
     "slide_type": "slide"
    }
   },
   "outputs": [],
   "source": [
    "img.paste(im_rouge,(0,0))\n",
    "img.paste(im_vert,(ligne,0))\n",
    "img.paste(im_bleu,(0,colonne))\n",
    "img.paste(im_mix,(ligne,colonne))\n",
    "\n",
    "img.show()"
   ]
  }
 ],
 "metadata": {
  "celltoolbar": "Slideshow",
  "kernelspec": {
   "display_name": "Python 3",
   "language": "python",
   "name": "python3"
  },
  "language_info": {
   "codemirror_mode": {
    "name": "ipython",
    "version": 3
   },
   "file_extension": ".py",
   "mimetype": "text/x-python",
   "name": "python",
   "nbconvert_exporter": "python",
   "pygments_lexer": "ipython3",
   "version": "3.8.1"
  },
  "latex_envs": {
   "LaTeX_envs_menu_present": true,
   "autoclose": false,
   "autocomplete": true,
   "bibliofile": "biblio.bib",
   "cite_by": "apalike",
   "current_citInitial": 1,
   "eqLabelWithNumbers": true,
   "eqNumInitial": 1,
   "hotkeys": {
    "equation": "Ctrl-E",
    "itemize": "Ctrl-I"
   },
   "labels_anchors": false,
   "latex_user_defs": false,
   "report_style_numbering": true,
   "user_envs_cfg": false
  }
 },
 "nbformat": 4,
 "nbformat_minor": 4
}
