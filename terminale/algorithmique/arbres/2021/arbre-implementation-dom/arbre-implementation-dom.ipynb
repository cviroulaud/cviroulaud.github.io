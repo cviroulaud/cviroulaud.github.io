{
 "cells": [
  {
   "cell_type": "markdown",
   "metadata": {
    "slideshow": {
     "slide_type": "slide"
    }
   },
   "source": [
    "# Implémentation du DOM"
   ]
  },
  {
   "cell_type": "markdown",
   "metadata": {
    "slideshow": {
     "slide_type": "slide"
    }
   },
   "source": [
    "## 1. Problématique\n",
    "- Modifier le contenu d'une page web grâce au DOM.\n",
    "- Mis en place en 1997 pour Netscape Navigator (ancêtre de Firefox)."
   ]
  },
  {
   "cell_type": "markdown",
   "metadata": {},
   "source": [
    "<div align=\"middle\"><img src=\"ressources/dom.png\" width=300px></div>"
   ]
  },
  {
   "cell_type": "markdown",
   "metadata": {
    "slideshow": {
     "slide_type": "fragment"
    }
   },
   "source": [
    "<div align=\"middle\"><h3>Comment implémenter la structure du DOM en Python?</h3></div>"
   ]
  },
  {
   "cell_type": "markdown",
   "metadata": {
    "slideshow": {
     "slide_type": "slide"
    }
   },
   "source": [
    "## 2. Structure arborescente\n",
    "### 2.1 Élément HTML"
   ]
  },
  {
   "cell_type": "code",
   "execution_count": null,
   "metadata": {
    "slideshow": {
     "slide_type": "fragment"
    }
   },
   "outputs": [],
   "source": [
    "<a href=\"https://cviroulaud.github.io\">Un super site</a>"
   ]
  },
  {
   "cell_type": "markdown",
   "metadata": {},
   "source": [
    "- balises\n",
    "- contenu\n",
    "- attribut(s)"
   ]
  },
  {
   "cell_type": "markdown",
   "metadata": {
    "slideshow": {
     "slide_type": "slide"
    }
   },
   "source": [
    "<div align=\"middle\"><img src=\"ressources/a.png\" width=500px></div>"
   ]
  },
  {
   "cell_type": "markdown",
   "metadata": {
    "slideshow": {
     "slide_type": "slide"
    }
   },
   "source": [
    "### 2.2 Une page web"
   ]
  },
  {
   "cell_type": "code",
   "execution_count": null,
   "metadata": {},
   "outputs": [],
   "source": [
    "<html>\n",
    "    <head>\n",
    "        <meta charset=\"utf-8\">\n",
    "        <title>Présentation NSI seconde</title>\n",
    "    </head>\n",
    "    <body>\n",
    "        <p>La NSI est trop cool!! Le programme est très riche:</p>\n",
    "        <ul>\n",
    "            <li>Programmation</li>\n",
    "            <li>Algorithmie</li>\n",
    "            <li>Architecture machine</li>\n",
    "            <li>Langages du web</li>\n",
    "        </ul>\n",
    "        <a href=\"https://cviroulaud.github.io\">Les cours de NSI</a>\n",
    "        <img src=\"images/nsi.png\">\n",
    "    </body>\n",
    "</html>"
   ]
  },
  {
   "cell_type": "markdown",
   "metadata": {
    "slideshow": {
     "slide_type": "slide"
    }
   },
   "source": [
    "<div align=\"middle\"><img src=\"ressources/page.png\" width=800px></div>"
   ]
  },
  {
   "cell_type": "markdown",
   "metadata": {
    "slideshow": {
     "slide_type": "slide"
    }
   },
   "source": [
    "## 3. Implémentation en Python\n",
    "### 3.1 Un nœud"
   ]
  },
  {
   "cell_type": "code",
   "execution_count": 20,
   "metadata": {
    "slideshow": {
     "slide_type": "-"
    }
   },
   "outputs": [],
   "source": [
    "class Noeud:\n",
    "    def __init__(self, v: str, f: list)->None:\n",
    "        self.valeur = v\n",
    "        self.fils = f\n",
    "    \n",
    "    # affiche la balise et les éléments fils\n",
    "    def __str__(self):\n",
    "        res = self.valeur + \"\\n\\t\"\n",
    "        for f in self.fils:\n",
    "            res += f.valeur + \"\\n\\t\"\n",
    "        return res"
   ]
  },
  {
   "cell_type": "markdown",
   "metadata": {
    "slideshow": {
     "slide_type": "fragment"
    }
   },
   "source": [
    "- *valeur* contient le nom de la balise, de l'attribut ou le contenu\n",
    "- *fils* contient la liste des nœuds fils"
   ]
  },
  {
   "cell_type": "code",
   "execution_count": 9,
   "metadata": {
    "slideshow": {
     "slide_type": "slide"
    }
   },
   "outputs": [],
   "source": [
    "dom = Noeud(\"html\", \n",
    "            [Noeud(\"head\", \n",
    "                [Noeud(\"meta\", \n",
    "                    [Noeud(\"charset\", \n",
    "                    [Noeud(\"utf-8\", [])])]),\n",
    "                Noeud(\"title\", \n",
    "                  [Noeud(\"text\", [Noeud(\"Présentation NSI seconde\", [])])])]),\n",
    "            Noeud(\"body\", \n",
    "                  [Noeud(\"p\", \n",
    "                    [Noeud(\"text\", [Noeud(\"La NSI est trop cool!!\", [])])]),\n",
    "                   Noeud(\"ul\", \n",
    "                    [Noeud(\"li\", \n",
    "                     [Noeud(\"text\", [Noeud(\"Programmation\", [])])]),\n",
    "                     Noeud(\"li\", \n",
    "                     [Noeud(\"text\", [Noeud(\"Algorithmie\", [])])]),\n",
    "                     Noeud(\"li\", \n",
    "                     [Noeud(\"text\", [Noeud(\"Architecture machine\", [])])]),\n",
    "                     Noeud(\"li\", \n",
    "                     [Noeud(\"text\", [Noeud(\"Langages du web\", [])])])]),\n",
    "                   Noeud(\"a\", \n",
    "                     [Noeud(\"href\", [Noeud(\"https://cviroulaud.github.io\", [])]),\n",
    "                      Noeud(\"text\", [Noeud(\"Les cours de NSI\", [])])]),\n",
    "                   Noeud(\"img\", [Noeud(\"src\", [Noeud(\"images/nsi.png\", [])])])])])"
   ]
  },
  {
   "cell_type": "markdown",
   "metadata": {
    "slideshow": {
     "slide_type": "slide"
    }
   },
   "source": [
    "### 3.2 Manipulation du DOM\n",
    "Imiter les méthodes de JavaScript comme *Element.getElementsByTagName()*"
   ]
  },
  {
   "cell_type": "markdown",
   "metadata": {
    "slideshow": {
     "slide_type": "fragment"
    }
   },
   "source": [
    "#### Activité 1\n",
    "- Télécharger et décompresser *dom-annexe.zip* .\n",
    "- Écrire la fonction récursive **taille(dom: Noeud)$\\;\\rightarrow\\;$int** qui renvoie le nombre d'éléments du DOM.\n",
    "- Écrire la fonction récursive **get_elements_by_tagname(arbre: Noeud, tag: str, res: list)$\\;\\rightarrow\\;$list** qui renvoie la liste *res* des nœuds fils de *tag*."
   ]
  },
  {
   "cell_type": "code",
   "execution_count": 3,
   "metadata": {
    "slideshow": {
     "slide_type": "slide"
    }
   },
   "outputs": [],
   "source": [
    "def taille(dom: Noeud)->int:\n",
    "    \"\"\"\n",
    "    renvoie le nombre d'éléments de dom\n",
    "    \"\"\"\n",
    "    t = 1\n",
    "    for f in dom.fils:\n",
    "        t += taille(f)\n",
    "    return t"
   ]
  },
  {
   "cell_type": "code",
   "execution_count": 4,
   "metadata": {},
   "outputs": [
    {
     "data": {
      "text/plain": [
       "33"
      ]
     },
     "execution_count": 4,
     "metadata": {},
     "output_type": "execute_result"
    }
   ],
   "source": [
    "taille(dom)"
   ]
  },
  {
   "cell_type": "code",
   "execution_count": 10,
   "metadata": {
    "slideshow": {
     "slide_type": "slide"
    }
   },
   "outputs": [],
   "source": [
    "def get_elements_by_tagname(tag: str, arbre: Noeud, res: list)->list:\n",
    "    \"\"\"\n",
    "    récupère la liste des noeuds de 'e' dans 'arbre'\n",
    "    \"\"\"\n",
    "    if arbre.valeur == tag:\n",
    "        res.append(arbre)\n",
    "    for f in arbre.fils:\n",
    "        get_elements_by_tagname(tag, f, res)\n",
    "    return res"
   ]
  },
  {
   "cell_type": "code",
   "execution_count": 11,
   "metadata": {
    "slideshow": {
     "slide_type": "fragment"
    }
   },
   "outputs": [
    {
     "name": "stdout",
     "output_type": "stream",
     "text": [
      "head\n",
      "\tmeta\n",
      "\ttitle\n",
      "\t\n"
     ]
    }
   ],
   "source": [
    "# utilisation de la méthode __str__\n",
    "for n in get_elements_by_tagname(\"head\", dom, []):\n",
    "    print(n)"
   ]
  },
  {
   "cell_type": "code",
   "execution_count": 8,
   "metadata": {
    "slideshow": {
     "slide_type": "fragment"
    }
   },
   "outputs": [
    {
     "name": "stdout",
     "output_type": "stream",
     "text": [
      "Présentation NSI seconde\n",
      "La NSI est trop cool!!\n",
      "Programmation\n",
      "Algorithmie\n",
      "Architecture machine\n",
      "Langages du web\n",
      "Les cours de NSI\n"
     ]
    }
   ],
   "source": [
    "# comportement similaire à javascript\n",
    "for n in get_elements_by_tagname(\"text\", dom, []):\n",
    "    print(n.fils[0].valeur)"
   ]
  },
  {
   "cell_type": "markdown",
   "metadata": {
    "slideshow": {
     "slide_type": "slide"
    }
   },
   "source": [
    "#### Attention aux effets de bord"
   ]
  },
  {
   "cell_type": "code",
   "execution_count": 17,
   "metadata": {},
   "outputs": [],
   "source": [
    "def get_elements_by_tagname_effet_bord(tag: str, arbre: Noeud, res: list = [])->list:\n",
    "    if arbre.valeur == tag:\n",
    "        res.append(arbre)\n",
    "    for f in arbre.fils:\n",
    "        get_elements_by_tagname(tag, f, res)\n",
    "    return res"
   ]
  },
  {
   "cell_type": "markdown",
   "metadata": {
    "slideshow": {
     "slide_type": "notes"
    }
   },
   "source": [
    "au premier appel de la fonction, Python crée une liste **persistante**"
   ]
  },
  {
   "cell_type": "code",
   "execution_count": 18,
   "metadata": {
    "slideshow": {
     "slide_type": "fragment"
    }
   },
   "outputs": [
    {
     "name": "stdout",
     "output_type": "stream",
     "text": [
      "head\n",
      "\tmeta\n",
      "\ttitle\n",
      "\t\n"
     ]
    }
   ],
   "source": [
    "for n in get_elements_by_tagname_effet_bord(\"head\", dom):\n",
    "    print(n)"
   ]
  },
  {
   "cell_type": "code",
   "execution_count": 19,
   "metadata": {
    "slideshow": {
     "slide_type": "fragment"
    }
   },
   "outputs": [
    {
     "name": "stdout",
     "output_type": "stream",
     "text": [
      "meta\n",
      "Présentation NSI seconde\n",
      "La NSI est trop cool!!\n",
      "Programmation\n",
      "Algorithmie\n",
      "Architecture machine\n",
      "Langages du web\n",
      "Les cours de NSI\n"
     ]
    }
   ],
   "source": [
    "for n in get_elements_by_tagname_effet_bord(\"text\", dom):\n",
    "    print(n.fils[0].valeur)"
   ]
  },
  {
   "cell_type": "code",
   "execution_count": null,
   "metadata": {
    "slideshow": {
     "slide_type": "slide"
    }
   },
   "outputs": [],
   "source": [
    "# Première solution: un objet 'défaut' qu'on réinitialise\n",
    "def get_elements_by_tagname2(tag: str, arbre: Noeud, res: list = None)->list:\n",
    "    # gestion de l'effet de bord potentiel\n",
    "    if res is None:\n",
    "        res = []\n",
    "\n",
    "    if arbre.valeur == tag:\n",
    "        res.append(arbre)\n",
    "    for f in arbre.fils:\n",
    "        get_elements_by_tagname(tag, f, res)\n",
    "    return res"
   ]
  },
  {
   "cell_type": "code",
   "execution_count": null,
   "metadata": {
    "slideshow": {
     "slide_type": "slide"
    }
   },
   "outputs": [],
   "source": [
    "# Seconde solution: englober la fonction récursive\n",
    "def get_elements_by_tagname3(tag: str, arbre: Noeud):\n",
    "    \n",
    "    # fonction interne\n",
    "    def get_elements_interne(tag: str, arbre: Noeud, res: list)->list:\n",
    "        if arbre.valeur == tag:\n",
    "            res.append(arbre)\n",
    "        for f in arbre.fils:\n",
    "            get_elements_by_tagname(tag, f, res)\n",
    "        return res\n",
    "\n",
    "    # appel principal\n",
    "    return get_elements_interne(tag, arbre, [])"
   ]
  }
 ],
 "metadata": {
  "celltoolbar": "Slideshow",
  "kernelspec": {
   "display_name": "Python 3",
   "language": "python",
   "name": "python3"
  },
  "language_info": {
   "codemirror_mode": {
    "name": "ipython",
    "version": 3
   },
   "file_extension": ".py",
   "mimetype": "text/x-python",
   "name": "python",
   "nbconvert_exporter": "python",
   "pygments_lexer": "ipython3",
   "version": "3.8.6"
  },
  "latex_envs": {
   "LaTeX_envs_menu_present": true,
   "autoclose": false,
   "autocomplete": true,
   "bibliofile": "biblio.bib",
   "cite_by": "apalike",
   "current_citInitial": 1,
   "eqLabelWithNumbers": true,
   "eqNumInitial": 1,
   "hotkeys": {
    "equation": "Ctrl-E",
    "itemize": "Ctrl-I"
   },
   "labels_anchors": false,
   "latex_user_defs": false,
   "report_style_numbering": true,
   "user_envs_cfg": false
  }
 },
 "nbformat": 4,
 "nbformat_minor": 4
}
