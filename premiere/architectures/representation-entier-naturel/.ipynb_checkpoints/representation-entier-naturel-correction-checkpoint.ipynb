{
 "cells": [
  {
   "cell_type": "markdown",
   "metadata": {
    "slideshow": {
     "slide_type": "slide"
    }
   },
   "source": [
    "# Représentation des entiers naturels"
   ]
  },
  {
   "cell_type": "markdown",
   "metadata": {
    "slideshow": {
     "slide_type": "slide"
    }
   },
   "source": [
    "## Activité 1\n",
    "1 mot-mémoire peut accepter $2^{32}$ combinaisons"
   ]
  },
  {
   "cell_type": "markdown",
   "metadata": {
    "slideshow": {
     "slide_type": "slide"
    }
   },
   "source": [
    "## Activité 2\n",
    "- Nous pouvons représenter $10^4$ entiers avec 4 chiffres: de 0 à 9999\n",
    "- Nous pouvons représenter $10^k$ entiers avec k chiffres: de 0 à $10^k-1$"
   ]
  },
  {
   "cell_type": "markdown",
   "metadata": {
    "slideshow": {
     "slide_type": "slide"
    }
   },
   "source": [
    "## Activité 3\n",
    "- $101101_2=45_{10}$\n",
    "- Avec un octet nous pouvons représenter $2^8$ entiers: de 0 à 255\n",
    "- Avec k chiffres nous pouvons représenter $2^k$ entiers: de 0 à $2^k-1$\n",
    "- $2^{32}=4294967296$"
   ]
  },
  {
   "cell_type": "markdown",
   "metadata": {
    "slideshow": {
     "slide_type": "slide"
    }
   },
   "source": [
    "## Activité 4\n",
    "Windows affiche la capacité en Gibioctets (octet binaire).\n",
    "$$\\dfrac{500}{1,073741824}=465$$"
   ]
  },
  {
   "cell_type": "markdown",
   "metadata": {
    "slideshow": {
     "slide_type": "slide"
    }
   },
   "source": [
    "## Activité 5\n",
    "$$37_{10}=100101_2$$"
   ]
  },
  {
   "cell_type": "markdown",
   "metadata": {
    "slideshow": {
     "slide_type": "slide"
    }
   },
   "source": [
    "## Activité 6\n",
    "$$\\begin{array}{ccccc}\n",
    "        & 1 & 1 & & retenues \\\\\n",
    "        & 1 & 0 & 1 & \\\\\n",
    "        + & 1 & 1 & 1 &\\\\\n",
    "        \\_&\\_&\\_&\\_&\\\\\n",
    "        1 & 1 & 0 & 0 &\\\\\n",
    "   \\end{array}\n",
    "$$"
   ]
  },
  {
   "cell_type": "markdown",
   "metadata": {
    "slideshow": {
     "slide_type": "slide"
    }
   },
   "source": [
    "## Activité 7\n",
    "$$101110010010111110101000=B92FA8$$\n",
    "qui correspond à un violet"
   ]
  },
  {
   "cell_type": "markdown",
   "metadata": {
    "slideshow": {
     "slide_type": "slide"
    }
   },
   "source": [
    "## Activité 10\n",
    "- Nous pourrions supposer que l'entier maximum serait $2^{64}-1$"
   ]
  },
  {
   "cell_type": "code",
   "execution_count": 1,
   "metadata": {
    "slideshow": {
     "slide_type": "fragment"
    }
   },
   "outputs": [
    {
     "data": {
      "text/plain": [
       "9223372036854775807"
      ]
     },
     "execution_count": 1,
     "metadata": {},
     "output_type": "execute_result"
    }
   ],
   "source": [
    "import sys\n",
    "sys.maxsize"
   ]
  },
  {
   "cell_type": "markdown",
   "metadata": {
    "slideshow": {
     "slide_type": "fragment"
    }
   },
   "source": [
    "$$2^{63}-1=9223372036854775807$$\n",
    "Nous pouvons représenter $2^{64}$ entiers en prenant en compte les entiers négatifs.\n",
    "\n",
    "Remarque: En pratique il n'y a pas de limite à la taille d'un entier en Python. La taille en mémoire est adaptée dynamiquement de manière invisible pour l'utilisateur."
   ]
  }
 ],
 "metadata": {
  "celltoolbar": "Slideshow",
  "kernelspec": {
   "display_name": "Python 3",
   "language": "python",
   "name": "python3"
  },
  "language_info": {
   "codemirror_mode": {
    "name": "ipython",
    "version": 3
   },
   "file_extension": ".py",
   "mimetype": "text/x-python",
   "name": "python",
   "nbconvert_exporter": "python",
   "pygments_lexer": "ipython3",
   "version": "3.8.1"
  }
 },
 "nbformat": 4,
 "nbformat_minor": 4
}
